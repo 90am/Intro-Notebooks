{
 "cells": [
  {
   "cell_type": "markdown",
   "metadata": {},
   "source": [
    "## Preface\n",
    "\n",
    "If you never used a Jupuyter notebook before, you need to execute the different code blocks as you read along, in the order they arrive.\n",
    "\n",
    "You execute a code block by selecting it and either press the run button above or by pressing shift+enter.\n",
    "\n",
    "Try executing the import statements first!"
   ]
  },
  {
   "cell_type": "code",
   "execution_count": 5,
   "metadata": {},
   "outputs": [],
   "source": [
    "import pandas as pd\n",
    "import altair as alt\n",
    "from sklearn import datasets\n",
    "import numpy as np"
   ]
  },
  {
   "cell_type": "markdown",
   "metadata": {},
   "source": [
    "# An introduction to K-means clustering"
   ]
  },
  {
   "cell_type": "markdown",
   "metadata": {},
   "source": [
    "In this notebook, you will be introduced to one of the simplest existing clustering algorithms, namely __K-means__. \n",
    "\n",
    "The goal of K-means clustering is to partition a dataset of __n__ observations into __k__ clusters, in which each observation belongs to the cluster with the nearest mean.\n",
    "\n",
    "The basic algorithm proceeds by alternating between 2 steps:\n",
    "1. __Assign__ observations to the nearest cluster\n",
    "2. __Update__ the cluster centers (means)\n",
    "\n",
    "The algorithm alternates between these two steps until changes to the cluster centers (also known as centroids) are no longer observed.\n",
    "\n",
    "However, before iterating over the 2 steps, you first need to compute a set of initial centroids, which can be done in a number of different ways. One way is simply to generate random centroids.\n",
    "\n",
    "In the following, we will implement a basic version of K-means step-by-step and observe how we can cluster a random 2D dataset."
   ]
  },
  {
   "cell_type": "markdown",
   "metadata": {},
   "source": [
    "## Data!\n",
    "\n",
    "First, let's create a random dataset with two dimensions (or features) named __x__ and __y__."
   ]
  },
  {
   "cell_type": "code",
   "execution_count": 11,
   "metadata": {},
   "outputs": [
    {
     "data": {
      "text/html": [
       "<div>\n",
       "<style scoped>\n",
       "    .dataframe tbody tr th:only-of-type {\n",
       "        vertical-align: middle;\n",
       "    }\n",
       "\n",
       "    .dataframe tbody tr th {\n",
       "        vertical-align: top;\n",
       "    }\n",
       "\n",
       "    .dataframe thead th {\n",
       "        text-align: right;\n",
       "    }\n",
       "</style>\n",
       "<table border=\"1\" class=\"dataframe\">\n",
       "  <thead>\n",
       "    <tr style=\"text-align: right;\">\n",
       "      <th></th>\n",
       "      <th>x</th>\n",
       "      <th>y</th>\n",
       "    </tr>\n",
       "  </thead>\n",
       "  <tbody>\n",
       "    <tr>\n",
       "      <th>0</th>\n",
       "      <td>4.992708</td>\n",
       "      <td>3.791876</td>\n",
       "    </tr>\n",
       "    <tr>\n",
       "      <th>1</th>\n",
       "      <td>-2.814758</td>\n",
       "      <td>6.847707</td>\n",
       "    </tr>\n",
       "    <tr>\n",
       "      <th>2</th>\n",
       "      <td>-0.319240</td>\n",
       "      <td>8.420426</td>\n",
       "    </tr>\n",
       "    <tr>\n",
       "      <th>3</th>\n",
       "      <td>3.544806</td>\n",
       "      <td>4.600660</td>\n",
       "    </tr>\n",
       "    <tr>\n",
       "      <th>4</th>\n",
       "      <td>3.167779</td>\n",
       "      <td>5.836951</td>\n",
       "    </tr>\n",
       "  </tbody>\n",
       "</table>\n",
       "</div>"
      ],
      "text/plain": [
       "          x         y\n",
       "0  4.992708  3.791876\n",
       "1 -2.814758  6.847707\n",
       "2 -0.319240  8.420426\n",
       "3  3.544806  4.600660\n",
       "4  3.167779  5.836951"
      ]
     },
     "execution_count": 11,
     "metadata": {},
     "output_type": "execute_result"
    }
   ],
   "source": [
    "blobs = datasets.make_blobs(n_samples = 200, centers=3)\n",
    "df = pd.DataFrame(blobs[0], columns=['x','y'])\n",
    "df.head()"
   ]
  },
  {
   "cell_type": "markdown",
   "metadata": {},
   "source": [
    "For illustrative purposes, we are using the function _make_blobs_ to create a random dataset with __200 data points__ and __3 clusters__ (which we want to find with our K-means algorithm).\n",
    "\n",
    "You can visualize the data in a scatterplot like this."
   ]
  },
  {
   "cell_type": "code",
   "execution_count": 12,
   "metadata": {},
   "outputs": [
    {
     "data": {
      "application/vnd.vegalite.v3+json": {
       "$schema": "https://vega.github.io/schema/vega-lite/v3.4.0.json",
       "config": {
        "mark": {
         "tooltip": null
        },
        "view": {
         "height": 300,
         "width": 400
        }
       },
       "data": {
        "name": "data-1c39c48540e29bed3a3a9763894d2635"
       },
       "datasets": {
        "data-1c39c48540e29bed3a3a9763894d2635": [
         {
          "x": 4.992707579235362,
          "y": 3.791876490998789
         },
         {
          "x": -2.8147582943307947,
          "y": 6.847707350345154
         },
         {
          "x": -0.31924021835713745,
          "y": 8.420426153167801
         },
         {
          "x": 3.5448060416622496,
          "y": 4.600659600448479
         },
         {
          "x": 3.167779390955606,
          "y": 5.836950936611197
         },
         {
          "x": -1.9326422182032195,
          "y": 1.1835171768524946
         },
         {
          "x": -2.4935993310958966,
          "y": 1.0197688808777028
         },
         {
          "x": -1.1136453649393845,
          "y": 7.236293772654496
         },
         {
          "x": 3.501300650618791,
          "y": 5.469438089357613
         },
         {
          "x": -2.456450598541372,
          "y": 0.38410015471477976
         },
         {
          "x": 2.256958180581394,
          "y": 3.594119053616607
         },
         {
          "x": -2.8701274709765494,
          "y": 4.547105897872415
         },
         {
          "x": 5.106456068506325,
          "y": 3.2166796804820335
         },
         {
          "x": 2.2054923623827056,
          "y": 1.8389756446328742
         },
         {
          "x": 4.5341639754109115,
          "y": 3.544615950873698
         },
         {
          "x": -2.3283665514134553,
          "y": 7.32166361471136
         },
         {
          "x": -2.199916685657372,
          "y": 2.079918188462342
         },
         {
          "x": -1.1788839841237861,
          "y": 5.945218231004108
         },
         {
          "x": -3.771803388106772,
          "y": 2.676124657554846
         },
         {
          "x": 4.268850417711615,
          "y": 4.363553789714579
         },
         {
          "x": -3.5793065285229395,
          "y": 0.23002389233112952
         },
         {
          "x": -4.762762737605848,
          "y": 1.352013156174695
         },
         {
          "x": -3.936947285848084,
          "y": 0.4567860777642546
         },
         {
          "x": 1.638653000267773,
          "y": 5.726953409475891
         },
         {
          "x": 3.2253787540690295,
          "y": 5.7599848301763545
         },
         {
          "x": 4.053879797440727,
          "y": 3.3430958502511956
         },
         {
          "x": 3.11379604121127,
          "y": 4.972486009733003
         },
         {
          "x": 4.221767773621107,
          "y": 4.044011481934876
         },
         {
          "x": -3.105505175073226,
          "y": 7.609060624926846
         },
         {
          "x": -4.118264224296733,
          "y": 1.9093160883826634
         },
         {
          "x": -0.5304380603864569,
          "y": 5.868739404280083
         },
         {
          "x": 3.3982126832177686,
          "y": 4.39455856150984
         },
         {
          "x": -5.576291332677907,
          "y": 1.1712186221605565
         },
         {
          "x": -1.8452626611925687,
          "y": 6.918389285398843
         },
         {
          "x": 2.5300492815432154,
          "y": 6.058869242303884
         },
         {
          "x": -2.217995294984081,
          "y": 9.668304920050215
         },
         {
          "x": -2.1827880309001646,
          "y": 0.7799323960267874
         },
         {
          "x": -1.3970292330453886,
          "y": 6.4633740422413375
         },
         {
          "x": -4.962756084371339,
          "y": 3.6236474782483126
         },
         {
          "x": 2.723957501495625,
          "y": 4.401801555195944
         },
         {
          "x": 3.3743403208328493,
          "y": 3.250638130799155
         },
         {
          "x": -2.028318885793513,
          "y": 7.371730875864139
         },
         {
          "x": -2.860189852433501,
          "y": 1.3108726962574497
         },
         {
          "x": -2.3599173722128004,
          "y": 7.069353659571515
         },
         {
          "x": -2.515740370372252,
          "y": 5.944419292132111
         },
         {
          "x": -4.235831378201481,
          "y": 2.5923856473031686
         },
         {
          "x": -4.044152475439131,
          "y": 2.019205088128461
         },
         {
          "x": -2.0848179908811764,
          "y": -0.19641349566426025
         },
         {
          "x": 2.567911154087418,
          "y": 3.349403918680985
         },
         {
          "x": 3.277734026857692,
          "y": 4.574087268233279
         },
         {
          "x": -4.635790385145341,
          "y": 3.5286494034188864
         },
         {
          "x": 2.7372010085085923,
          "y": 6.355415250627647
         },
         {
          "x": 4.417215243699945,
          "y": 4.7366157773836495
         },
         {
          "x": -2.226644542674664,
          "y": 5.753151681758661
         },
         {
          "x": -1.8730132401233526,
          "y": 5.935580438310806
         },
         {
          "x": -0.895270518227884,
          "y": 8.779081736874453
         },
         {
          "x": 3.8233638008699486,
          "y": 4.0681943706382135
         },
         {
          "x": -3.2720237795453757,
          "y": 7.663737852273004
         },
         {
          "x": -4.823035906214971,
          "y": 1.0962257434401197
         },
         {
          "x": -2.481989638711916,
          "y": 6.929263012282426
         },
         {
          "x": -1.4026413382135083,
          "y": 5.888188220273449
         },
         {
          "x": 6.2381544704343135,
          "y": 4.966981855881707
         },
         {
          "x": 2.592839222261643,
          "y": 5.452306283845808
         },
         {
          "x": -1.5758523465992094,
          "y": 6.399712064924706
         },
         {
          "x": -3.4996035975131687,
          "y": 0.5399859979712982
         },
         {
          "x": 3.4181538239383076,
          "y": 6.003337317999659
         },
         {
          "x": -3.4561027756629983,
          "y": 0.8019641402948852
         },
         {
          "x": 3.4078259176319734,
          "y": 4.583306466656472
         },
         {
          "x": -1.9121565940567238,
          "y": 6.462527536247741
         },
         {
          "x": -5.179792710223506,
          "y": 0.73201100932493
         },
         {
          "x": -2.400998435830731,
          "y": 9.608886871311777
         },
         {
          "x": -5.761329008955272,
          "y": 1.2719543473348034
         },
         {
          "x": -3.4517281990453563,
          "y": 1.6351480580498623
         },
         {
          "x": -1.8728219284251428,
          "y": 2.8973174484071507
         },
         {
          "x": 2.7475733756097096,
          "y": 5.470031862960572
         },
         {
          "x": -1.7969606901360047,
          "y": 5.226466259286503
         },
         {
          "x": 2.641054767664989,
          "y": 4.898036048021307
         },
         {
          "x": -1.9802399679213891,
          "y": 7.362187578343192
         },
         {
          "x": -2.0615680207201628,
          "y": 6.294027492312322
         },
         {
          "x": 0.4448464745512313,
          "y": 5.840801176922427
         },
         {
          "x": -3.663735721551454,
          "y": -1.0546010787721838
         },
         {
          "x": -2.9923406933740013,
          "y": 7.576933076596086
         },
         {
          "x": -1.6442952425204436,
          "y": 7.116421767346106
         },
         {
          "x": -3.065549325901965,
          "y": 1.0997831864523122
         },
         {
          "x": -3.3693158950593998,
          "y": 0.5240187624575787
         },
         {
          "x": -2.9919533811843007,
          "y": 6.813186391664465
         },
         {
          "x": -2.712658334707362,
          "y": 6.084036627943635
         },
         {
          "x": -3.088670770221576,
          "y": 8.896725323201487
         },
         {
          "x": -0.6519723715490886,
          "y": 6.049277329469999
         },
         {
          "x": -5.35645229653163,
          "y": 0.9259749056549482
         },
         {
          "x": -4.855190666212232,
          "y": 0.27565620186956863
         },
         {
          "x": 2.0050720631537353,
          "y": 4.85484781870868
         },
         {
          "x": -4.303877150959868,
          "y": -0.04448082517756258
         },
         {
          "x": -3.3032673890215754,
          "y": 7.054759786371678
         },
         {
          "x": -4.272520159658217,
          "y": 1.0900679256287964
         },
         {
          "x": 1.2518199627757425,
          "y": 4.186225623963568
         },
         {
          "x": -1.3732034556442607,
          "y": 7.363306225067966
         },
         {
          "x": 4.286278133605195,
          "y": 4.934371763863798
         },
         {
          "x": -3.9829362550751424,
          "y": -0.0015729677189937341
         },
         {
          "x": -5.101738854640758,
          "y": 2.987845125276605
         },
         {
          "x": -1.512168958586073,
          "y": 8.800314292040316
         },
         {
          "x": 4.635676643488491,
          "y": 4.0286393529193445
         },
         {
          "x": 2.6079773113132703,
          "y": 4.290073818440699
         },
         {
          "x": 3.7407300502442222,
          "y": 4.071370795090676
         },
         {
          "x": 3.8404352936570962,
          "y": 4.727263967015658
         },
         {
          "x": -3.5404842469817552,
          "y": 7.50977116799304
         },
         {
          "x": -2.2369748773543217,
          "y": -0.8506590272986996
         },
         {
          "x": 5.975328515736325,
          "y": 4.292806240160595
         },
         {
          "x": -3.671900984565747,
          "y": 0.1143214323416244
         },
         {
          "x": -3.7148388543395288,
          "y": 1.4363018565892711
         },
         {
          "x": -2.0136160051932417,
          "y": 6.732135020246781
         },
         {
          "x": 3.2966485061398165,
          "y": 4.461894622503893
         },
         {
          "x": -2.9350336980536724,
          "y": 0.8629035415036439
         },
         {
          "x": -2.212524709820998,
          "y": 2.074427305561648
         },
         {
          "x": 3.351320181411543,
          "y": 4.469792992704232
         },
         {
          "x": -1.9489351635804752,
          "y": 6.486146482262974
         },
         {
          "x": -2.4205682245072215,
          "y": 7.094248324062588
         },
         {
          "x": 1.5393311970108603,
          "y": 3.637416313602655
         },
         {
          "x": -0.4450898868139055,
          "y": 6.593895369211095
         },
         {
          "x": -5.039391511868977,
          "y": 2.3858940334276713
         },
         {
          "x": 2.56100753471331,
          "y": 4.208633540715855
         },
         {
          "x": 5.150562832186297,
          "y": 3.557286272881358
         },
         {
          "x": -4.83587262549219,
          "y": 2.506354740935046
         },
         {
          "x": -4.267779549584369,
          "y": 1.0800204776352187
         },
         {
          "x": -1.3743733033734233,
          "y": 7.974064295420261
         },
         {
          "x": -1.8130281928419998,
          "y": 7.435636767816887
         },
         {
          "x": -3.734718898419015,
          "y": 1.9235968264526
         },
         {
          "x": -3.8011698468708217,
          "y": 1.5934556531142814
         },
         {
          "x": -2.8794867102191177,
          "y": 5.9313647557706375
         },
         {
          "x": -2.8091118897893206,
          "y": 2.236811495178256
         },
         {
          "x": 2.9176677980388197,
          "y": 4.924567190993635
         },
         {
          "x": -6.095771435841543,
          "y": 0.6855789758036193
         },
         {
          "x": -6.538956115613873,
          "y": 0.07203720627850418
         },
         {
          "x": 4.198782677349853,
          "y": 6.607703173491531
         },
         {
          "x": -2.8194319885761696,
          "y": 7.405218787061833
         },
         {
          "x": -4.60806053611309,
          "y": 2.4476000489835057
         },
         {
          "x": -3.708763799470766,
          "y": 7.139230284783846
         },
         {
          "x": -1.820735014083239,
          "y": 1.5723109297499445
         },
         {
          "x": -2.4503278010408316,
          "y": 6.05654537286997
         },
         {
          "x": 3.878471510014597,
          "y": 4.441760607343602
         },
         {
          "x": -2.5030612427925245,
          "y": 6.8787341893846135
         },
         {
          "x": -0.3860446911109443,
          "y": 6.421406825352623
         },
         {
          "x": -1.4028829921690344,
          "y": 0.5960812165874665
         },
         {
          "x": -4.3214972190088305,
          "y": 0.45557685279762306
         },
         {
          "x": -1.9499965386132838,
          "y": 6.772171399377534
         },
         {
          "x": -3.8065198640531026,
          "y": 0.7172739396272998
         },
         {
          "x": 3.1955225765119035,
          "y": 4.275058810769702
         },
         {
          "x": 4.239401714848933,
          "y": 4.71494637067984
         },
         {
          "x": 3.6564409425329507,
          "y": 5.9078610654112484
         },
         {
          "x": -3.969503194428266,
          "y": 0.35046048128549023
         },
         {
          "x": -4.366690232189434,
          "y": 1.8770595042303855
         },
         {
          "x": -1.7255805513132565,
          "y": 8.119474145623638
         },
         {
          "x": 5.195853660717081,
          "y": 3.3991028994994004
         },
         {
          "x": 2.3092025088353765,
          "y": 5.017560404617329
         },
         {
          "x": -3.993414756175995,
          "y": 1.728382412630089
         },
         {
          "x": -1.896809014730024,
          "y": 6.970883551267119
         },
         {
          "x": 3.2154310458008917,
          "y": 4.317012282312302
         },
         {
          "x": 3.8912856951039725,
          "y": 5.177315709285384
         },
         {
          "x": 2.334437687410787,
          "y": 5.91436842137857
         },
         {
          "x": -2.7668569597380435,
          "y": 6.149812073289608
         },
         {
          "x": -2.2343928756590334,
          "y": 7.900066675947174
         },
         {
          "x": -4.976582795946947,
          "y": 1.9451860514858275
         },
         {
          "x": 4.268936151342681,
          "y": 6.837270491410566
         },
         {
          "x": 5.191668027813501,
          "y": 4.724318644613157
         },
         {
          "x": -2.327665596533998,
          "y": 8.19413203923181
         },
         {
          "x": -3.5307374303365098,
          "y": 7.171418915921599
         },
         {
          "x": 3.8721907400087767,
          "y": 6.675183618265031
         },
         {
          "x": -0.06401482556326865,
          "y": 8.635863594978094
         },
         {
          "x": -2.1666122188999832,
          "y": 7.136528567380284
         },
         {
          "x": 2.9451127802059633,
          "y": 5.911466625366058
         },
         {
          "x": -2.558861451215659,
          "y": 7.57790476031434
         },
         {
          "x": -0.23616136397077558,
          "y": 8.488330945039158
         },
         {
          "x": -1.396639708698141,
          "y": 7.8948309416834475
         },
         {
          "x": -4.019405759011894,
          "y": 2.1354887998863057
         },
         {
          "x": -4.315839368514983,
          "y": 1.6838248295344886
         },
         {
          "x": -1.6527069717455238,
          "y": 7.566985588095034
         },
         {
          "x": -4.394044395562428,
          "y": 0.39578684278976284
         },
         {
          "x": -2.3894584779190744,
          "y": 1.4478922502386296
         },
         {
          "x": 3.828693232967412,
          "y": 2.5800846503220027
         },
         {
          "x": -2.6407804589703914,
          "y": 7.665410214134602
         },
         {
          "x": 3.63059175622074,
          "y": 5.626538276024883
         },
         {
          "x": 2.656972382257221,
          "y": 5.584072414570967
         },
         {
          "x": -3.3167395096334387,
          "y": 0.06953714775265518
         },
         {
          "x": -4.48186637862007,
          "y": 1.0427421741864698
         },
         {
          "x": 4.633079968330454,
          "y": 6.971747888374574
         },
         {
          "x": -2.4778487191261265,
          "y": 1.1851353215783071
         },
         {
          "x": -3.7493315292728564,
          "y": 7.472911946433689
         },
         {
          "x": -2.513167846425066,
          "y": 0.7282826985297352
         },
         {
          "x": -4.19908156633645,
          "y": 0.9414700445924489
         },
         {
          "x": 4.271072712583194,
          "y": 3.295203753782223
         },
         {
          "x": -2.745415005297165,
          "y": 0.9990173553523058
         },
         {
          "x": -1.558235435775204,
          "y": 7.039615469011263
         },
         {
          "x": 3.653585058375629,
          "y": 4.384695888947945
         },
         {
          "x": -2.938876303400277,
          "y": 0.7158014357588617
         },
         {
          "x": 3.7034618794666656,
          "y": 4.3246000320893465
         },
         {
          "x": -3.7470239327664925,
          "y": 7.033036920110417
         },
         {
          "x": 2.2447838228153953,
          "y": 4.670339840078611
         },
         {
          "x": -2.15901829779679,
          "y": 6.665550767402258
         },
         {
          "x": -1.3743019305364712,
          "y": 7.772607829616678
         },
         {
          "x": -4.6234490131637465,
          "y": 0.8866196130444182
         }
        ]
       },
       "encoding": {
        "x": {
         "field": "x",
         "type": "quantitative"
        },
        "y": {
         "field": "y",
         "type": "quantitative"
        }
       },
       "mark": {
        "size": 60,
        "type": "circle"
       },
       "selection": {
        "selector004": {
         "bind": "scales",
         "encodings": [
          "x",
          "y"
         ],
         "type": "interval"
        }
       }
      },
      "image/png": "[encoded data removed]",
      "text/plain": [
       "<VegaLite 3 object>\n",
       "\n",
       "If you see this message, it means the renderer has not been properly enabled\n",
       "for the frontend that you are using. For more information, see\n",
       "https://altair-viz.github.io/user_guide/troubleshooting.html\n"
      ]
     },
     "execution_count": 12,
     "metadata": {},
     "output_type": "execute_result"
    }
   ],
   "source": [
    "alt.Chart(df).mark_circle(size=60).encode(\n",
    "    x='x',\n",
    "    y='y'\n",
    ").interactive()"
   ]
  },
  {
   "cell_type": "markdown",
   "metadata": {},
   "source": [
    "## Distances!"
   ]
  },
  {
   "cell_type": "markdown",
   "metadata": {},
   "source": [
    "Now let's get started on our algorithm. \n",
    "\n",
    "In order to compute the nearest center, we need to define what we mean by nearest. I.e., we need to create a distance function. \n",
    "\n",
    "In K-means, the distance measurement is the Euclidean distance, which is the \"straight-line\" distance between two points. \n",
    "\n",
    "Thus, in the case of 2D points, such as $(x_1, y_1)$ and $(x_2, y_2)$, the euclidean distance formula becomes $\\sqrt{(x_1 - x_2)^2 + (y_1 - y_2)^2}$.\n",
    "\n",
    "The function below returns the euclidean distance between a point and a centroid. The function also works for points in higher dimensional spaces."
   ]
  },
  {
   "cell_type": "code",
   "execution_count": 19,
   "metadata": {},
   "outputs": [],
   "source": [
    "def euclidean_distance(point, centroid):\n",
    "    return np.sqrt(np.sum((point - centroid)**2))"
   ]
  },
  {
   "cell_type": "markdown",
   "metadata": {},
   "source": [
    "## Random centroids!"
   ]
  },
  {
   "cell_type": "markdown",
   "metadata": {},
   "source": [
    "We also need a function that can compute a set of random centroids, which we need to initialize our algorithm.\n",
    "\n",
    "This function returns __k__ random centroids within the bounds of our data, where __k__ is the number of clusters we aim to compute."
   ]
  },
  {
   "cell_type": "code",
   "execution_count": 14,
   "metadata": {},
   "outputs": [],
   "source": [
    "def random_centroids(k):   \n",
    "    df_min = df[['x', 'y']].min()\n",
    "    df_max = df[['x', 'y']].max()\n",
    "    return pd.DataFrame([np.random.random_sample((2,)) * (df_max - df_min) + df_min for i in range(k)], columns=['x', 'y'])"
   ]
  },
  {
   "cell_type": "markdown",
   "metadata": {},
   "source": [
    "## Init!"
   ]
  },
  {
   "cell_type": "markdown",
   "metadata": {},
   "source": [
    "Now we are ready to initialize things.\n",
    "\n",
    "For this we need to specify a __k__ and compute our random centroids.\n",
    "\n",
    "To make things explicit, we are also generating a set of labels for our centroids."
   ]
  },
  {
   "cell_type": "code",
   "execution_count": 38,
   "metadata": {},
   "outputs": [
    {
     "data": {
      "text/plain": [
       "['c_0', 'c_1', 'c_2', 'c_3', 'c_4']"
      ]
     },
     "execution_count": 38,
     "metadata": {},
     "output_type": "execute_result"
    }
   ],
   "source": [
    "k = 5\n",
    "centroids = random_centroids(k)\n",
    "centroid_labels = []\n",
    "for i in range(k):\n",
    "    label = 'c_%d' % i\n",
    "    centroid_labels.append(label)\n",
    "centroid_labels"
   ]
  },
  {
   "cell_type": "markdown",
   "metadata": {},
   "source": [
    "Now we can also visualize not only our dataset but also the current centroids."
   ]
  },
  {
   "cell_type": "code",
   "execution_count": 39,
   "metadata": {},
   "outputs": [
    {
     "data": {
      "application/vnd.vegalite.v3+json": {
       "$schema": "https://vega.github.io/schema/vega-lite/v3.4.0.json",
       "config": {
        "mark": {
         "tooltip": null
        },
        "view": {
         "height": 300,
         "width": 400
        }
       },
       "datasets": {
        "data-43d329498703c807b7a836aff24e953b": [
         {
          "c_0": 5.838251386291885,
          "c_1": 0,
          "c_2": 0,
          "c_3": 0,
          "c_4": 0,
          "cluster": "c_1",
          "x": 4.992707579235362,
          "y": 3.791876490998789
         },
         {
          "c_0": 3.202199735072937,
          "c_1": 0,
          "c_2": 0,
          "c_3": 0,
          "c_4": 0,
          "cluster": "c_1",
          "x": -2.8147582943307947,
          "y": 6.847707350345154
         },
         {
          "c_0": 4.107858024244118,
          "c_1": 0,
          "c_2": 0,
          "c_3": 0,
          "c_4": 0,
          "cluster": "c_1",
          "x": -0.31924021835713745,
          "y": 8.420426153167801
         },
         {
          "c_0": 4.371857025048672,
          "c_1": 0,
          "c_2": 0,
          "c_3": 0,
          "c_4": 0,
          "cluster": "c_1",
          "x": 3.5448060416622496,
          "y": 4.600659600448479
         },
         {
          "c_0": 4.257881320167558,
          "c_1": 0,
          "c_2": 0,
          "c_3": 0,
          "c_4": 0,
          "cluster": "c_1",
          "x": 3.167779390955606,
          "y": 5.836950936611197
         },
         {
          "c_0": 3.349982000748187,
          "c_1": 0,
          "c_2": 0,
          "c_3": 0,
          "c_4": 0,
          "cluster": "c_1",
          "x": -1.9326422182032195,
          "y": 1.1835171768524946
         },
         {
          "c_0": 3.721226416430385,
          "c_1": 0,
          "c_2": 0,
          "c_3": 0,
          "c_4": 0,
          "cluster": "c_1",
          "x": -2.4935993310958966,
          "y": 1.0197688808777028
         },
         {
          "c_0": 2.9080740877683215,
          "c_1": 0,
          "c_2": 0,
          "c_3": 0,
          "c_4": 0,
          "cluster": "c_1",
          "x": -1.1136453649393845,
          "y": 7.236293772654496
         },
         {
          "c_0": 4.465145320062852,
          "c_1": 0,
          "c_2": 0,
          "c_3": 0,
          "c_4": 0,
          "cluster": "c_1",
          "x": 3.501300650618791,
          "y": 5.469438089357613
         },
         {
          "c_0": 4.284124208065727,
          "c_1": 0,
          "c_2": 0,
          "c_3": 0,
          "c_4": 0,
          "cluster": "c_1",
          "x": -2.456450598541372,
          "y": 0.38410015471477976
         },
         {
          "c_0": 3.1662876131195725,
          "c_1": 0,
          "c_2": 0,
          "c_3": 0,
          "c_4": 0,
          "cluster": "c_1",
          "x": 2.256958180581394,
          "y": 3.594119053616607
         },
         {
          "c_0": 2.0607864211089395,
          "c_1": 0,
          "c_2": 0,
          "c_3": 0,
          "c_4": 0,
          "cluster": "c_1",
          "x": -2.8701274709765494,
          "y": 4.547105897872415
         },
         {
          "c_0": 6.0320301471551545,
          "c_1": 0,
          "c_2": 0,
          "c_3": 0,
          "c_4": 0,
          "cluster": "c_1",
          "x": 5.106456068506325,
          "y": 3.2166796804820335
         },
         {
          "c_0": 3.9269791569819246,
          "c_1": 0,
          "c_2": 0,
          "c_3": 0,
          "c_4": 0,
          "cluster": "c_1",
          "x": 2.2054923623827056,
          "y": 1.8389756446328742
         },
         {
          "c_0": 5.412848175759225,
          "c_1": 0,
          "c_2": 0,
          "c_3": 0,
          "c_4": 0,
          "cluster": "c_1",
          "x": 4.5341639754109115,
          "y": 3.544615950873698
         },
         {
          "c_0": 3.3389240455907,
          "c_1": 0,
          "c_2": 0,
          "c_3": 0,
          "c_4": 0,
          "cluster": "c_1",
          "x": -2.3283665514134553,
          "y": 7.32166361471136
         },
         {
          "c_0": 2.6510046222128887,
          "c_1": 0,
          "c_2": 0,
          "c_3": 0,
          "c_4": 0,
          "cluster": "c_1",
          "x": -2.199916685657372,
          "y": 2.079918188462342
         },
         {
          "c_0": 1.6419033119721649,
          "c_1": 0,
          "c_2": 0,
          "c_3": 0,
          "c_4": 0,
          "cluster": "c_1",
          "x": -1.1788839841237861,
          "y": 5.945218231004108
         },
         {
          "c_0": 3.3904669800046183,
          "c_1": 0,
          "c_2": 0,
          "c_3": 0,
          "c_4": 0,
          "cluster": "c_1",
          "x": -3.771803388106772,
          "y": 2.676124657554846
         },
         {
          "c_0": 5.08835119551003,
          "c_1": 0,
          "c_2": 0,
          "c_3": 0,
          "c_4": 0,
          "cluster": "c_1",
          "x": 4.268850417711615,
          "y": 4.363553789714579
         },
         {
          "c_0": 4.953227463465371,
          "c_1": 0,
          "c_2": 0,
          "c_3": 0,
          "c_4": 0,
          "cluster": "c_1",
          "x": -3.5793065285229395,
          "y": 0.23002389233112952
         },
         {
          "c_0": 4.949390497737472,
          "c_1": 0,
          "c_2": 0,
          "c_3": 0,
          "c_4": 0,
          "cluster": "c_1",
          "x": -4.762762737605848,
          "y": 1.352013156174695
         },
         {
          "c_0": 4.982214377767008,
          "c_1": 0,
          "c_2": 0,
          "c_3": 0,
          "c_4": 0,
          "cluster": "c_1",
          "x": -3.936947285848084,
          "y": 0.4567860777642546
         },
         {
          "c_0": 2.8208621844464186,
          "c_1": 0,
          "c_2": 0,
          "c_3": 0,
          "c_4": 0,
          "cluster": "c_1",
          "x": 1.638653000267773,
          "y": 5.726953409475891
         },
         {
          "c_0": 4.285810747937863,
          "c_1": 0,
          "c_2": 0,
          "c_3": 0,
          "c_4": 0,
          "cluster": "c_1",
          "x": 3.2253787540690295,
          "y": 5.7599848301763545
         },
         {
          "c_0": 4.974889298665634,
          "c_1": 0,
          "c_2": 0,
          "c_3": 0,
          "c_4": 0,
          "cluster": "c_1",
          "x": 4.053879797440727,
          "y": 3.3430958502511956
         },
         {
          "c_0": 3.983287646612388,
          "c_1": 0,
          "c_2": 0,
          "c_3": 0,
          "c_4": 0,
          "cluster": "c_1",
          "x": 3.11379604121127,
          "y": 4.972486009733003
         },
         {
          "c_0": 5.050094295683187,
          "c_1": 0,
          "c_2": 0,
          "c_3": 0,
          "c_4": 0,
          "cluster": "c_1",
          "x": 4.221767773621107,
          "y": 4.044011481934876
         },
         {
          "c_0": 3.9865089138939562,
          "c_1": 0,
          "c_2": 0,
          "c_3": 0,
          "c_4": 0,
          "cluster": "c_1",
          "x": -3.105505175073226,
          "y": 7.609060624926846
         },
         {
          "c_0": 4.099463386469984,
          "c_1": 0,
          "c_2": 0,
          "c_3": 0,
          "c_4": 0,
          "cluster": "c_1",
          "x": -4.118264224296733,
          "y": 1.9093160883826634
         },
         {
          "c_0": 1.5527372373505943,
          "c_1": 0,
          "c_2": 0,
          "c_3": 0,
          "c_4": 0,
          "cluster": "c_1",
          "x": -0.5304380603864569,
          "y": 5.868739404280083
         },
         {
          "c_0": 4.21798594349096,
          "c_1": 0,
          "c_2": 0,
          "c_3": 0,
          "c_4": 0,
          "cluster": "c_1",
          "x": 3.3982126832177686,
          "y": 4.39455856150984
         },
         {
          "c_0": 5.717387443588067,
          "c_1": 0,
          "c_2": 0,
          "c_3": 0,
          "c_4": 0,
          "cluster": "c_1",
          "x": -5.576291332677907,
          "y": 1.1712186221605565
         },
         {
          "c_0": 2.7720371844073393,
          "c_1": 0,
          "c_2": 0,
          "c_3": 0,
          "c_4": 0,
          "cluster": "c_1",
          "x": -1.8452626611925687,
          "y": 6.918389285398843
         },
         {
          "c_0": 3.7633687826573556,
          "c_1": 0,
          "c_2": 0,
          "c_3": 0,
          "c_4": 0,
          "cluster": "c_1",
          "x": 2.5300492815432154,
          "y": 6.058869242303884
         },
         {
          "c_0": 5.505751825927407,
          "c_1": 0,
          "c_2": 0,
          "c_3": 0,
          "c_4": 0,
          "cluster": "c_1",
          "x": -2.217995294984081,
          "y": 9.668304920050215
         },
         {
          "c_0": 3.815114503098689,
          "c_1": 0,
          "c_2": 0,
          "c_3": 0,
          "c_4": 0,
          "cluster": "c_1",
          "x": -2.1827880309001646,
          "y": 0.7799323960267874
         },
         {
          "c_0": 2.1974955951182618,
          "c_1": 0,
          "c_2": 0,
          "c_3": 0,
          "c_4": 0,
          "cluster": "c_1",
          "x": -1.3970292330453886,
          "y": 6.4633740422413375
         },
         {
          "c_0": 4.205302685131195,
          "c_1": 0,
          "c_2": 0,
          "c_3": 0,
          "c_4": 0,
          "cluster": "c_1",
          "x": -4.962756084371339,
          "y": 3.6236474782483126
         },
         {
          "c_0": 3.543902894378919,
          "c_1": 0,
          "c_2": 0,
          "c_3": 0,
          "c_4": 0,
          "cluster": "c_1",
          "x": 2.723957501495625,
          "y": 4.401801555195944
         },
         {
          "c_0": 4.333764622975164,
          "c_1": 0,
          "c_2": 0,
          "c_3": 0,
          "c_4": 0,
          "cluster": "c_1",
          "x": 3.3743403208328493,
          "y": 3.250638130799155
         },
         {
          "c_0": 3.260937665827687,
          "c_1": 0,
          "c_2": 0,
          "c_3": 0,
          "c_4": 0,
          "cluster": "c_1",
          "x": -2.028318885793513,
          "y": 7.371730875864139
         },
         {
          "c_0": 3.6550256521888485,
          "c_1": 0,
          "c_2": 0,
          "c_3": 0,
          "c_4": 0,
          "cluster": "c_1",
          "x": -2.860189852433501,
          "y": 1.3108726962574497
         },
         {
          "c_0": 3.131335300148665,
          "c_1": 0,
          "c_2": 0,
          "c_3": 0,
          "c_4": 0,
          "cluster": "c_1",
          "x": -2.3599173722128004,
          "y": 7.069353659571515
         },
         {
          "c_0": 2.332695687042159,
          "c_1": 0,
          "c_2": 0,
          "c_3": 0,
          "c_4": 0,
          "cluster": "c_1",
          "x": -2.515740370372252,
          "y": 5.944419292132111
         },
         {
          "c_0": 3.8388447160068986,
          "c_1": 0,
          "c_2": 0,
          "c_3": 0,
          "c_4": 0,
          "cluster": "c_1",
          "x": -4.235831378201481,
          "y": 2.5923856473031686
         },
         {
          "c_0": 3.9748342533512036,
          "c_1": 0,
          "c_2": 0,
          "c_3": 0,
          "c_4": 0,
          "cluster": "c_1",
          "x": -4.044152475439131,
          "y": 2.019205088128461
         },
         {
          "c_0": 4.712606492826192,
          "c_1": 0,
          "c_2": 0,
          "c_3": 0,
          "c_4": 0,
          "cluster": "c_1",
          "x": -2.0848179908811764,
          "y": -0.19641349566426025
         },
         {
          "c_0": 3.530126023416189,
          "c_1": 0,
          "c_2": 0,
          "c_3": 0,
          "c_4": 0,
          "cluster": "c_1",
          "x": 2.567911154087418,
          "y": 3.349403918680985
         },
         {
          "c_0": 4.103697716593005,
          "c_1": 0,
          "c_2": 0,
          "c_3": 0,
          "c_4": 0,
          "cluster": "c_1",
          "x": 3.277734026857692,
          "y": 4.574087268233279
         },
         {
          "c_0": 3.9022776431141692,
          "c_1": 0,
          "c_2": 0,
          "c_3": 0,
          "c_4": 0,
          "cluster": "c_1",
          "x": -4.635790385145341,
          "y": 3.5286494034188864
         },
         {
          "c_0": 4.08645269186136,
          "c_1": 0,
          "c_2": 0,
          "c_3": 0,
          "c_4": 0,
          "cluster": "c_1",
          "x": 2.7372010085085923,
          "y": 6.355415250627647
         },
         {
          "c_0": 5.251436986345042,
          "c_1": 0,
          "c_2": 0,
          "c_3": 0,
          "c_4": 0,
          "cluster": "c_1",
          "x": 4.417215243699945,
          "y": 4.7366157773836495
         },
         {
          "c_0": 1.992061030796397,
          "c_1": 0,
          "c_2": 0,
          "c_3": 0,
          "c_4": 0,
          "cluster": "c_1",
          "x": -2.226644542674664,
          "y": 5.753151681758661
         },
         {
          "c_0": 1.9094102277912404,
          "c_1": 0,
          "c_2": 0,
          "c_3": 0,
          "c_4": 0,
          "cluster": "c_1",
          "x": -1.8730132401233526,
          "y": 5.935580438310806
         },
         {
          "c_0": 4.436591398970227,
          "c_1": 0,
          "c_2": 0,
          "c_3": 0,
          "c_4": 0,
          "cluster": "c_1",
          "x": -0.895270518227884,
          "y": 8.779081736874453
         },
         {
          "c_0": 4.650957454001271,
          "c_1": 0,
          "c_2": 0,
          "c_3": 0,
          "c_4": 0,
          "cluster": "c_1",
          "x": 3.8233638008699486,
          "y": 4.0681943706382135
         },
         {
          "c_0": 4.128129444031255,
          "c_1": 0,
          "c_2": 0,
          "c_3": 0,
          "c_4": 0,
          "cluster": "c_1",
          "x": -3.2720237795453757,
          "y": 7.663737852273004
         },
         {
          "c_0": 5.154712532908374,
          "c_1": 0,
          "c_2": 0,
          "c_3": 0,
          "c_4": 0,
          "cluster": "c_1",
          "x": -4.823035906214971,
          "y": 1.0962257434401197
         },
         {
          "c_0": 3.074418233309499,
          "c_1": 0,
          "c_2": 0,
          "c_3": 0,
          "c_4": 0,
          "cluster": "c_1",
          "x": -2.481989638711916,
          "y": 6.929263012282426
         },
         {
          "c_0": 1.6514480210801292,
          "c_1": 0,
          "c_2": 0,
          "c_3": 0,
          "c_4": 0,
          "cluster": "c_1",
          "x": -1.4026413382135083,
          "y": 5.888188220273449
         },
         {
          "c_0": 7.085132357742663,
          "c_1": 0,
          "c_2": 0,
          "c_3": 0,
          "c_4": 0,
          "cluster": "c_1",
          "x": 6.2381544704343135,
          "y": 4.966981855881707
         },
         {
          "c_0": 3.588041085356559,
          "c_1": 0,
          "c_2": 0,
          "c_3": 0,
          "c_4": 0,
          "cluster": "c_1",
          "x": 2.592839222261643,
          "y": 5.452306283845808
         },
         {
          "c_0": 2.191261312466952,
          "c_1": 0,
          "c_2": 0,
          "c_3": 0,
          "c_4": 0,
          "cluster": "c_1",
          "x": -1.5758523465992094,
          "y": 6.399712064924706
         },
         {
          "c_0": 4.652648336869357,
          "c_1": 0,
          "c_2": 0,
          "c_3": 0,
          "c_4": 0,
          "cluster": "c_1",
          "x": -3.4996035975131687,
          "y": 0.5399859979712982
         },
         {
          "c_0": 4.551223007164092,
          "c_1": 0,
          "c_2": 0,
          "c_3": 0,
          "c_4": 0,
          "cluster": "c_1",
          "x": 3.4181538239383076,
          "y": 6.003337317999659
         },
         {
          "c_0": 4.414951761650086,
          "c_1": 0,
          "c_2": 0,
          "c_3": 0,
          "c_4": 0,
          "cluster": "c_1",
          "x": -3.4561027756629983,
          "y": 0.8019641402948852
         },
         {
          "c_0": 4.234102687047362,
          "c_1": 0,
          "c_2": 0,
          "c_3": 0,
          "c_4": 0,
          "cluster": "c_1",
          "x": 3.4078259176319734,
          "y": 4.583306466656472
         },
         {
          "c_0": 2.3844911058934195,
          "c_1": 0,
          "c_2": 0,
          "c_3": 0,
          "c_4": 0,
          "cluster": "c_1",
          "x": -1.9121565940567238,
          "y": 6.462527536247741
         },
         {
          "c_0": 5.661514085720206,
          "c_1": 0,
          "c_2": 0,
          "c_3": 0,
          "c_4": 0,
          "cluster": "c_1",
          "x": -5.179792710223506,
          "y": 0.73201100932493
         },
         {
          "c_0": 5.498124639148353,
          "c_1": 0,
          "c_2": 0,
          "c_3": 0,
          "c_4": 0,
          "cluster": "c_1",
          "x": -2.400998435830731,
          "y": 9.608886871311777
         },
         {
          "c_0": 5.818439712653431,
          "c_1": 0,
          "c_2": 0,
          "c_3": 0,
          "c_4": 0,
          "cluster": "c_1",
          "x": -5.761329008955272,
          "y": 1.2719543473348034
         },
         {
          "c_0": 3.776512526319478,
          "c_1": 0,
          "c_2": 0,
          "c_3": 0,
          "c_4": 0,
          "cluster": "c_1",
          "x": -3.4517281990453563,
          "y": 1.6351480580498623
         },
         {
          "c_0": 1.7888457383197687,
          "c_1": 0,
          "c_2": 0,
          "c_3": 0,
          "c_4": 0,
          "cluster": "c_1",
          "x": -1.8728219284251428,
          "y": 2.8973174484071507
         },
         {
          "c_0": 3.7408041098715126,
          "c_1": 0,
          "c_2": 0,
          "c_3": 0,
          "c_4": 0,
          "cluster": "c_1",
          "x": 2.7475733756097096,
          "y": 5.470031862960572
         },
         {
          "c_0": 1.3174887443852732,
          "c_1": 0,
          "c_2": 0,
          "c_3": 0,
          "c_4": 0,
          "cluster": "c_1",
          "x": -1.7969606901360047,
          "y": 5.226466259286503
         },
         {
          "c_0": 3.5047215234384206,
          "c_1": 0,
          "c_2": 0,
          "c_3": 0,
          "c_4": 0,
          "cluster": "c_1",
          "x": 2.641054767664989,
          "y": 4.898036048021307
         },
         {
          "c_0": 3.2345123777778317,
          "c_1": 0,
          "c_2": 0,
          "c_3": 0,
          "c_4": 0,
          "cluster": "c_1",
          "x": -1.9802399679213891,
          "y": 7.362187578343192
         },
         {
          "c_0": 2.312747762592356,
          "c_1": 0,
          "c_2": 0,
          "c_3": 0,
          "c_4": 0,
          "cluster": "c_1",
          "x": -2.0615680207201628,
          "y": 6.294027492312322
         },
         {
          "c_0": 1.9599655894550962,
          "c_1": 0,
          "c_2": 0,
          "c_3": 0,
          "c_4": 0,
          "cluster": "c_1",
          "x": 0.4448464745512313,
          "y": 5.840801176922427
         },
         {
          "c_0": 6.101269835223941,
          "c_1": 0,
          "c_2": 0,
          "c_3": 0,
          "c_4": 0,
          "cluster": "c_1",
          "x": -3.663735721551454,
          "y": -1.0546010787721838
         },
         {
          "c_0": 3.896003241385446,
          "c_1": 0,
          "c_2": 0,
          "c_3": 0,
          "c_4": 0,
          "cluster": "c_1",
          "x": -2.9923406933740013,
          "y": 7.576933076596086
         },
         {
          "c_0": 2.893346814765923,
          "c_1": 0,
          "c_2": 0,
          "c_3": 0,
          "c_4": 0,
          "cluster": "c_1",
          "x": -1.6442952425204436,
          "y": 7.116421767346106
         },
         {
          "c_0": 3.9451576820125323,
          "c_1": 0,
          "c_2": 0,
          "c_3": 0,
          "c_4": 0,
          "cluster": "c_1",
          "x": -3.065549325901965,
          "y": 1.0997831864523122
         },
         {
          "c_0": 4.592106105633959,
          "c_1": 0,
          "c_2": 0,
          "c_3": 0,
          "c_4": 0,
          "cluster": "c_1",
          "x": -3.3693158950593998,
          "y": 0.5240187624575787
         },
         {
          "c_0": 3.2895086027718983,
          "c_1": 0,
          "c_2": 0,
          "c_3": 0,
          "c_4": 0,
          "cluster": "c_1",
          "x": -2.9919533811843007,
          "y": 6.813186391664465
         },
         {
          "c_0": 2.571950292603744,
          "c_1": 0,
          "c_2": 0,
          "c_3": 0,
          "c_4": 0,
          "cluster": "c_1",
          "x": -2.712658334707362,
          "y": 6.084036627943635
         },
         {
          "c_0": 5.08767873995355,
          "c_1": 0,
          "c_2": 0,
          "c_3": 0,
          "c_4": 0,
          "cluster": "c_1",
          "x": -3.088670770221576,
          "y": 8.896725323201487
         },
         {
          "c_0": 1.7143404351940807,
          "c_1": 0,
          "c_2": 0,
          "c_3": 0,
          "c_4": 0,
          "cluster": "c_1",
          "x": -0.6519723715490886,
          "y": 6.049277329469999
         },
         {
          "c_0": 5.679903607807841,
          "c_1": 0,
          "c_2": 0,
          "c_3": 0,
          "c_4": 0,
          "cluster": "c_1",
          "x": -5.35645229653163,
          "y": 0.9259749056549482
         },
         {
          "c_0": 5.7298806633875214,
          "c_1": 0,
          "c_2": 0,
          "c_3": 0,
          "c_4": 0,
          "cluster": "c_1",
          "x": -4.855190666212232,
          "y": 0.27565620186956863
         },
         {
          "c_0": 2.87050992089064,
          "c_1": 0,
          "c_2": 0,
          "c_3": 0,
          "c_4": 0,
          "cluster": "c_1",
          "x": 2.0050720631537353,
          "y": 4.85484781870868
         },
         {
          "c_0": 5.602888891464162,
          "c_1": 0,
          "c_2": 0,
          "c_3": 0,
          "c_4": 0,
          "cluster": "c_1",
          "x": -4.303877150959868,
          "y": -0.04448082517756258
         },
         {
          "c_0": 3.6772533529709337,
          "c_1": 0,
          "c_2": 0,
          "c_3": 0,
          "c_4": 0,
          "cluster": "c_1",
          "x": -3.3032673890215754,
          "y": 7.054759786371678
         },
         {
          "c_0": 4.744058519633901,
          "c_1": 0,
          "c_2": 0,
          "c_3": 0,
          "c_4": 0,
          "cluster": "c_1",
          "x": -4.272520159658217,
          "y": 1.0900679256287964
         },
         {
          "c_0": 2.077214834326887,
          "c_1": 0,
          "c_2": 0,
          "c_3": 0,
          "c_4": 0,
          "cluster": "c_1",
          "x": 1.2518199627757425,
          "y": 4.186225623963568
         },
         {
          "c_0": 3.070512585346537,
          "c_1": 0,
          "c_2": 0,
          "c_3": 0,
          "c_4": 0,
          "cluster": "c_1",
          "x": -1.3732034556442607,
          "y": 7.363306225067966
         },
         {
          "c_0": 5.139855767757697,
          "c_1": 0,
          "c_2": 0,
          "c_3": 0,
          "c_4": 0,
          "cluster": "c_1",
          "x": 4.286278133605195,
          "y": 4.934371763863798
         },
         {
          "c_0": 5.374392745192464,
          "c_1": 0,
          "c_2": 0,
          "c_3": 0,
          "c_4": 0,
          "cluster": "c_1",
          "x": -3.9829362550751424,
          "y": -0.0015729677189937341
         },
         {
          "c_0": 4.491629187456649,
          "c_1": 0,
          "c_2": 0,
          "c_3": 0,
          "c_4": 0,
          "cluster": "c_1",
          "x": -5.101738854640758,
          "y": 2.987845125276605
         },
         {
          "c_0": 4.510683494333064,
          "c_1": 0,
          "c_2": 0,
          "c_3": 0,
          "c_4": 0,
          "cluster": "c_1",
          "x": -1.512168958586073,
          "y": 8.800314292040316
         },
         {
          "c_0": 5.46419466244844,
          "c_1": 0,
          "c_2": 0,
          "c_3": 0,
          "c_4": 0,
          "cluster": "c_1",
          "x": 4.635676643488491,
          "y": 4.0286393529193445
         },
         {
          "c_0": 3.4278478839588478,
          "c_1": 0,
          "c_2": 0,
          "c_3": 0,
          "c_4": 0,
          "cluster": "c_1",
          "x": 2.6079773113132703,
          "y": 4.290073818440699
         },
         {
          "c_0": 4.568280763111089,
          "c_1": 0,
          "c_2": 0,
          "c_3": 0,
          "c_4": 0,
          "cluster": "c_1",
          "x": 3.7407300502442222,
          "y": 4.071370795090676
         },
         {
          "c_0": 4.675700500098514,
          "c_1": 0,
          "c_2": 0,
          "c_3": 0,
          "c_4": 0,
          "cluster": "c_1",
          "x": 3.8404352936570962,
          "y": 4.727263967015658
         },
         {
          "c_0": 4.175109451741597,
          "c_1": 0,
          "c_2": 0,
          "c_3": 0,
          "c_4": 0,
          "cluster": "c_1",
          "x": -3.5404842469817552,
          "y": 7.50977116799304
         },
         {
          "c_0": 5.383760535020269,
          "c_1": 0,
          "c_2": 0,
          "c_3": 0,
          "c_4": 0,
          "cluster": "c_1",
          "x": -2.2369748773543217,
          "y": -0.8506590272986996
         },
         {
          "c_0": 6.794974749088831,
          "c_1": 0,
          "c_2": 0,
          "c_3": 0,
          "c_4": 0,
          "cluster": "c_1",
          "x": 5.975328515736325,
          "y": 4.292806240160595
         },
         {
          "c_0": 5.100912758507565,
          "c_1": 0,
          "c_2": 0,
          "c_3": 0,
          "c_4": 0,
          "cluster": "c_1",
          "x": -3.671900984565747,
          "y": 0.1143214323416244
         },
         {
          "c_0": 4.102793764167921,
          "c_1": 0,
          "c_2": 0,
          "c_3": 0,
          "c_4": 0,
          "cluster": "c_1",
          "x": -3.7148388543395288,
          "y": 1.4363018565892711
         },
         {
          "c_0": 2.67082670585816,
          "c_1": 0,
          "c_2": 0,
          "c_3": 0,
          "c_4": 0,
          "cluster": "c_1",
          "x": -2.0136160051932417,
          "y": 6.732135020246781
         },
         {
          "c_0": 4.117821132052267,
          "c_1": 0,
          "c_2": 0,
          "c_3": 0,
          "c_4": 0,
          "cluster": "c_1",
          "x": 3.2966485061398165,
          "y": 4.461894622503893
         },
         {
          "c_0": 4.072798225614576,
          "c_1": 0,
          "c_2": 0,
          "c_3": 0,
          "c_4": 0,
          "cluster": "c_1",
          "x": -2.9350336980536724,
          "y": 0.8629035415036439
         },
         {
          "c_0": 2.6622694148144155,
          "c_1": 0,
          "c_2": 0,
          "c_3": 0,
          "c_4": 0,
          "cluster": "c_1",
          "x": -2.212524709820998,
          "y": 2.074427305561648
         },
         {
          "c_0": 4.172702636617722,
          "c_1": 0,
          "c_2": 0,
          "c_3": 0,
          "c_4": 0,
          "cluster": "c_1",
          "x": 3.351320181411543,
          "y": 4.469792992704232
         },
         {
          "c_0": 2.422436684382784,
          "c_1": 0,
          "c_2": 0,
          "c_3": 0,
          "c_4": 0,
          "cluster": "c_1",
          "x": -1.9489351635804752,
          "y": 6.486146482262974
         },
         {
          "c_0": 3.183104711201915,
          "c_1": 0,
          "c_2": 0,
          "c_3": 0,
          "c_4": 0,
          "cluster": "c_1",
          "x": -2.4205682245072215,
          "y": 7.094248324062588
         },
         {
          "c_0": 2.462100384431633,
          "c_1": 0,
          "c_2": 0,
          "c_3": 0,
          "c_4": 0,
          "cluster": "c_1",
          "x": 1.5393311970108603,
          "y": 3.637416313602655
         },
         {
          "c_0": 2.281679457774055,
          "c_1": 0,
          "c_2": 0,
          "c_3": 0,
          "c_4": 0,
          "cluster": "c_1",
          "x": -0.4450898868139055,
          "y": 6.593895369211095
         },
         {
          "c_0": 4.651733848362403,
          "c_1": 0,
          "c_2": 0,
          "c_3": 0,
          "c_4": 0,
          "cluster": "c_1",
          "x": -5.039391511868977,
          "y": 2.3858940334276713
         },
         {
          "c_0": 3.383142181545927,
          "c_1": 0,
          "c_2": 0,
          "c_3": 0,
          "c_4": 0,
          "cluster": "c_1",
          "x": 2.56100753471331,
          "y": 4.208633540715855
         },
         {
          "c_0": 6.021522529382718,
          "c_1": 0,
          "c_2": 0,
          "c_3": 0,
          "c_4": 0,
          "cluster": "c_1",
          "x": 5.150562832186297,
          "y": 3.557286272881358
         },
         {
          "c_0": 4.416485583518877,
          "c_1": 0,
          "c_2": 0,
          "c_3": 0,
          "c_4": 0,
          "cluster": "c_1",
          "x": -4.83587262549219,
          "y": 2.506354740935046
         },
         {
          "c_0": 4.7475094042855135,
          "c_1": 0,
          "c_2": 0,
          "c_3": 0,
          "c_4": 0,
          "cluster": "c_1",
          "x": -4.267779549584369,
          "y": 1.0800204776352187
         },
         {
          "c_0": 3.6730850839370723,
          "c_1": 0,
          "c_2": 0,
          "c_3": 0,
          "c_4": 0,
          "cluster": "c_1",
          "x": -1.3743733033734233,
          "y": 7.974064295420261
         },
         {
          "c_0": 3.248188131927761,
          "c_1": 0,
          "c_2": 0,
          "c_3": 0,
          "c_4": 0,
          "cluster": "c_1",
          "x": -1.8130281928419998,
          "y": 7.435636767816887
         },
         {
          "c_0": 3.7885241776656673,
          "c_1": 0,
          "c_2": 0,
          "c_3": 0,
          "c_4": 0,
          "cluster": "c_1",
          "x": -3.734718898419015,
          "y": 1.9235968264526
         },
         {
          "c_0": 4.056026160750681,
          "c_1": 0,
          "c_2": 0,
          "c_3": 0,
          "c_4": 0,
          "cluster": "c_1",
          "x": -3.8011698468708217,
          "y": 1.5934556531142814
         },
         {
          "c_0": 2.601187172042293,
          "c_1": 0,
          "c_2": 0,
          "c_3": 0,
          "c_4": 0,
          "cluster": "c_1",
          "x": -2.8794867102191177,
          "y": 5.9313647557706375
         },
         {
          "c_0": 2.8974690862136967,
          "c_1": 0,
          "c_2": 0,
          "c_3": 0,
          "c_4": 0,
          "cluster": "c_1",
          "x": -2.8091118897893206,
          "y": 2.236811495178256
         },
         {
          "c_0": 3.782087073951071,
          "c_1": 0,
          "c_2": 0,
          "c_3": 0,
          "c_4": 0,
          "cluster": "c_1",
          "x": 2.9176677980388197,
          "y": 4.924567190993635
         },
         {
          "c_0": 6.420062536768246,
          "c_1": 0,
          "c_2": 0,
          "c_3": 0,
          "c_4": 0,
          "cluster": "c_1",
          "x": -6.095771435841543,
          "y": 0.6855789758036193
         },
         {
          "c_0": 7.138272947719155,
          "c_1": 0,
          "c_2": 0,
          "c_3": 0,
          "c_4": 0,
          "cluster": "c_1",
          "x": -6.538956115613873,
          "y": 0.07203720627850418
         },
         {
          "c_0": 5.505543820786781,
          "c_1": 0,
          "c_2": 0,
          "c_3": 0,
          "c_4": 0,
          "cluster": "c_1",
          "x": 4.198782677349853,
          "y": 6.607703173491531
         },
         {
          "c_0": 3.657352433768121,
          "c_1": 0,
          "c_2": 0,
          "c_3": 0,
          "c_4": 0,
          "cluster": "c_1",
          "x": -2.8194319885761696,
          "y": 7.405218787061833
         },
         {
          "c_0": 4.236338025505414,
          "c_1": 0,
          "c_2": 0,
          "c_3": 0,
          "c_4": 0,
          "cluster": "c_1",
          "x": -4.60806053611309,
          "y": 2.4476000489835057
         },
         {
          "c_0": 4.020722447910155,
          "c_1": 0,
          "c_2": 0,
          "c_3": 0,
          "c_4": 0,
          "cluster": "c_1",
          "x": -3.708763799470766,
          "y": 7.139230284783846
         },
         {
          "c_0": 2.946189946403094,
          "c_1": 0,
          "c_2": 0,
          "c_3": 0,
          "c_4": 0,
          "cluster": "c_1",
          "x": -1.820735014083239,
          "y": 1.5723109297499445
         },
         {
          "c_0": 2.3654798375246795,
          "c_1": 0,
          "c_2": 0,
          "c_3": 0,
          "c_4": 0,
          "cluster": "c_1",
          "x": -2.4503278010408316,
          "y": 6.05654537286997
         },
         {
          "c_0": 4.698966396269791,
          "c_1": 0,
          "c_2": 0,
          "c_3": 0,
          "c_4": 0,
          "cluster": "c_1",
          "x": 3.878471510014597,
          "y": 4.441760607343602
         },
         {
          "c_0": 3.043642766851256,
          "c_1": 0,
          "c_2": 0,
          "c_3": 0,
          "c_4": 0,
          "cluster": "c_1",
          "x": -2.5030612427925245,
          "y": 6.8787341893846135
         },
         {
          "c_0": 2.122981296186472,
          "c_1": 0,
          "c_2": 0,
          "c_3": 0,
          "c_4": 0,
          "cluster": "c_1",
          "x": -0.3860446911109443,
          "y": 6.421406825352623
         },
         {
          "c_0": 3.79220488085843,
          "c_1": 0,
          "c_2": 0,
          "c_3": 0,
          "c_4": 0,
          "cluster": "c_1",
          "x": -1.4028829921690344,
          "y": 0.5960812165874665
         },
         {
          "c_0": 5.2323415751820725,
          "c_1": 0,
          "c_2": 0,
          "c_3": 0,
          "c_4": 0,
          "cluster": "c_1",
          "x": -4.3214972190088305,
          "y": 0.45557685279762306
         },
         {
          "c_0": 2.6792379616590574,
          "c_1": 0,
          "c_2": 0,
          "c_3": 0,
          "c_4": 0,
          "cluster": "c_1",
          "x": -1.9499965386132838,
          "y": 6.772171399377534
         },
         {
          "c_0": 4.6978099774183395,
          "c_1": 0,
          "c_2": 0,
          "c_3": 0,
          "c_4": 0,
          "cluster": "c_1",
          "x": -3.8065198640531026,
          "y": 0.7172739396272998
         },
         {
          "c_0": 4.0155595430543265,
          "c_1": 0,
          "c_2": 0,
          "c_3": 0,
          "c_4": 0,
          "cluster": "c_1",
          "x": 3.1955225765119035,
          "y": 4.275058810769702
         },
         {
          "c_0": 5.072506425278433,
          "c_1": 0,
          "c_2": 0,
          "c_3": 0,
          "c_4": 0,
          "cluster": "c_1",
          "x": 4.239401714848933,
          "y": 4.71494637067984
         },
         {
          "c_0": 4.741523554375287,
          "c_1": 0,
          "c_2": 0,
          "c_3": 0,
          "c_4": 0,
          "cluster": "c_1",
          "x": 3.6564409425329507,
          "y": 5.9078610654112484
         },
         {
          "c_0": 5.085690493190655,
          "c_1": 0,
          "c_2": 0,
          "c_3": 0,
          "c_4": 0,
          "cluster": "c_1",
          "x": -3.969503194428266,
          "y": 0.35046048128549023
         },
         {
          "c_0": 4.320229995241264,
          "c_1": 0,
          "c_2": 0,
          "c_3": 0,
          "c_4": 0,
          "cluster": "c_1",
          "x": -4.366690232189434,
          "y": 1.8770595042303855
         },
         {
          "c_0": 3.88352529700734,
          "c_1": 0,
          "c_2": 0,
          "c_3": 0,
          "c_4": 0,
          "cluster": "c_1",
          "x": -1.7255805513132565,
          "y": 8.119474145623638
         },
         {
          "c_0": 6.08894069113701,
          "c_1": 0,
          "c_2": 0,
          "c_3": 0,
          "c_4": 0,
          "cluster": "c_1",
          "x": 5.195853660717081,
          "y": 3.3991028994994004
         },
         {
          "c_0": 3.2005270543282025,
          "c_1": 0,
          "c_2": 0,
          "c_3": 0,
          "c_4": 0,
          "cluster": "c_1",
          "x": 2.3092025088353765,
          "y": 5.017560404617329
         },
         {
          "c_0": 4.112290993542419,
          "c_1": 0,
          "c_2": 0,
          "c_3": 0,
          "c_4": 0,
          "cluster": "c_1",
          "x": -3.993414756175995,
          "y": 1.728382412630089
         },
         {
          "c_0": 2.8400224398944522,
          "c_1": 0,
          "c_2": 0,
          "c_3": 0,
          "c_4": 0,
          "cluster": "c_1",
          "x": -1.896809014730024,
          "y": 6.970883551267119
         },
         {
          "c_0": 4.034975448190684,
          "c_1": 0,
          "c_2": 0,
          "c_3": 0,
          "c_4": 0,
          "cluster": "c_1",
          "x": 3.2154310458008917,
          "y": 4.317012282312302
         },
         {
          "c_0": 4.784033403909077,
          "c_1": 0,
          "c_2": 0,
          "c_3": 0,
          "c_4": 0,
          "cluster": "c_1",
          "x": 3.8912856951039725,
          "y": 5.177315709285384
         },
         {
          "c_0": 3.523610964461521,
          "c_1": 0,
          "c_2": 0,
          "c_3": 0,
          "c_4": 0,
          "cluster": "c_1",
          "x": 2.334437687410787,
          "y": 5.91436842137857
         },
         {
          "c_0": 2.6563935086629784,
          "c_1": 0,
          "c_2": 0,
          "c_3": 0,
          "c_4": 0,
          "cluster": "c_1",
          "x": -2.7668569597380435,
          "y": 6.149812073289608
         },
         {
          "c_0": 3.828025139270662,
          "c_1": 0,
          "c_2": 0,
          "c_3": 0,
          "c_4": 0,
          "cluster": "c_1",
          "x": -2.2343928756590334,
          "y": 7.900066675947174
         },
         {
          "c_0": 4.799150491192863,
          "c_1": 0,
          "c_2": 0,
          "c_3": 0,
          "c_4": 0,
          "cluster": "c_1",
          "x": -4.976582795946947,
          "y": 1.9451860514858275
         },
         {
          "c_0": 5.666786565339934,
          "c_1": 0,
          "c_2": 0,
          "c_3": 0,
          "c_4": 0,
          "cluster": "c_1",
          "x": 4.268936151342681,
          "y": 6.837270491410566
         },
         {
          "c_0": 6.023201526467545,
          "c_1": 0,
          "c_2": 0,
          "c_3": 0,
          "c_4": 0,
          "cluster": "c_1",
          "x": 5.191668027813501,
          "y": 4.724318644613157
         },
         {
          "c_0": 4.135799681637004,
          "c_1": 0,
          "c_2": 0,
          "c_3": 0,
          "c_4": 0,
          "cluster": "c_1",
          "x": -2.327665596533998,
          "y": 8.19413203923181
         },
         {
          "c_0": 3.917932958363836,
          "c_1": 0,
          "c_2": 0,
          "c_3": 0,
          "c_4": 0,
          "cluster": "c_1",
          "x": -3.5307374303365098,
          "y": 7.171418915921599
         },
         {
          "c_0": 5.2392767921178125,
          "c_1": 0,
          "c_2": 0,
          "c_3": 0,
          "c_4": 0,
          "cluster": "c_1",
          "x": 3.8721907400087767,
          "y": 6.675183618265031
         },
         {
          "c_0": 4.35869124232832,
          "c_1": 0,
          "c_2": 0,
          "c_3": 0,
          "c_4": 0,
          "cluster": "c_1",
          "x": -0.06401482556326865,
          "y": 8.635863594978094
         },
         {
          "c_0": 3.1012658551961483,
          "c_1": 0,
          "c_2": 0,
          "c_3": 0,
          "c_4": 0,
          "cluster": "c_1",
          "x": -2.1666122188999832,
          "y": 7.136528567380284
         },
         {
          "c_0": 4.078193380169167,
          "c_1": 0,
          "c_2": 0,
          "c_3": 0,
          "c_4": 0,
          "cluster": "c_1",
          "x": 2.9451127802059633,
          "y": 5.911466625366058
         },
         {
          "c_0": 3.6727691730946894,
          "c_1": 0,
          "c_2": 0,
          "c_3": 0,
          "c_4": 0,
          "cluster": "c_1",
          "x": -2.558861451215659,
          "y": 7.57790476031434
         },
         {
          "c_0": 4.186031634020386,
          "c_1": 0,
          "c_2": 0,
          "c_3": 0,
          "c_4": 0,
          "cluster": "c_1",
          "x": -0.23616136397077558,
          "y": 8.488330945039158
         },
         {
          "c_0": 3.598285520662579,
          "c_1": 0,
          "c_2": 0,
          "c_3": 0,
          "c_4": 0,
          "cluster": "c_1",
          "x": -1.396639708698141,
          "y": 7.8948309416834475
         },
         {
          "c_0": 3.8875917251750067,
          "c_1": 0,
          "c_2": 0,
          "c_3": 0,
          "c_4": 0,
          "cluster": "c_1",
          "x": -4.019405759011894,
          "y": 2.1354887998863057
         },
         {
          "c_0": 4.392791480445503,
          "c_1": 0,
          "c_2": 0,
          "c_3": 0,
          "c_4": 0,
          "cluster": "c_1",
          "x": -4.315839368514983,
          "y": 1.6838248295344886
         },
         {
          "c_0": 3.3297888014300874,
          "c_1": 0,
          "c_2": 0,
          "c_3": 0,
          "c_4": 0,
          "cluster": "c_1",
          "x": -1.6527069717455238,
          "y": 7.566985588095034
         },
         {
          "c_0": 5.3253391253165825,
          "c_1": 0,
          "c_2": 0,
          "c_3": 0,
          "c_4": 0,
          "cluster": "c_1",
          "x": -4.394044395562428,
          "y": 0.39578684278976284
         },
         {
          "c_0": 3.293530672807066,
          "c_1": 0,
          "c_2": 0,
          "c_3": 0,
          "c_4": 0,
          "cluster": "c_1",
          "x": -2.3894584779190744,
          "y": 1.4478922502386296
         },
         {
          "c_0": 4.971285977516095,
          "c_1": 0,
          "c_2": 0,
          "c_3": 0,
          "c_4": 0,
          "cluster": "c_1",
          "x": 3.828693232967412,
          "y": 2.5800846503220027
         },
         {
          "c_0": 3.7887598087179617,
          "c_1": 0,
          "c_2": 0,
          "c_3": 0,
          "c_4": 0,
          "cluster": "c_1",
          "x": -2.6407804589703914,
          "y": 7.665410214134602
         },
         {
          "c_0": 4.631422574440367,
          "c_1": 0,
          "c_2": 0,
          "c_3": 0,
          "c_4": 0,
          "cluster": "c_1",
          "x": 3.63059175622074,
          "y": 5.626538276024883
         },
         {
          "c_0": 3.6912733368530044,
          "c_1": 0,
          "c_2": 0,
          "c_3": 0,
          "c_4": 0,
          "cluster": "c_1",
          "x": 2.656972382257221,
          "y": 5.584072414570967
         },
         {
          "c_0": 4.949754631478991,
          "c_1": 0,
          "c_2": 0,
          "c_3": 0,
          "c_4": 0,
          "cluster": "c_1",
          "x": -3.3167395096334387,
          "y": 0.06953714775265518
         },
         {
          "c_0": 4.930094830314688,
          "c_1": 0,
          "c_2": 0,
          "c_3": 0,
          "c_4": 0,
          "cluster": "c_1",
          "x": -4.48186637862007,
          "y": 1.0427421741864698
         },
         {
          "c_0": 6.053080174157193,
          "c_1": 0,
          "c_2": 0,
          "c_3": 0,
          "c_4": 0,
          "cluster": "c_1",
          "x": 4.633079968330454,
          "y": 6.971747888374574
         },
         {
          "c_0": 3.566964432615596,
          "c_1": 0,
          "c_2": 0,
          "c_3": 0,
          "c_4": 0,
          "cluster": "c_1",
          "x": -2.4778487191261265,
          "y": 1.1851353215783071
         },
         {
          "c_0": 4.28714737049154,
          "c_1": 0,
          "c_2": 0,
          "c_3": 0,
          "c_4": 0,
          "cluster": "c_1",
          "x": -3.7493315292728564,
          "y": 7.472911946433689
         },
         {
          "c_0": 3.9919702433013198,
          "c_1": 0,
          "c_2": 0,
          "c_3": 0,
          "c_4": 0,
          "cluster": "c_1",
          "x": -2.513167846425066,
          "y": 0.7282826985297352
         },
         {
          "c_0": 4.795121341079686,
          "c_1": 0,
          "c_2": 0,
          "c_3": 0,
          "c_4": 0,
          "cluster": "c_1",
          "x": -4.19908156633645,
          "y": 0.9414700445924489
         },
         {
          "c_0": 5.197276966381872,
          "c_1": 0,
          "c_2": 0,
          "c_3": 0,
          "c_4": 0,
          "cluster": "c_1",
          "x": 4.271072712583194,
          "y": 3.295203753782223
         },
         {
          "c_0": 3.859073321781168,
          "c_1": 0,
          "c_2": 0,
          "c_3": 0,
          "c_4": 0,
          "cluster": "c_1",
          "x": -2.745415005297165,
          "y": 0.9990173553523058
         },
         {
          "c_0": 2.7958504302729326,
          "c_1": 0,
          "c_2": 0,
          "c_3": 0,
          "c_4": 0,
          "cluster": "c_1",
          "x": -1.558235435775204,
          "y": 7.039615469011263
         },
         {
          "c_0": 4.473237926335074,
          "c_1": 0,
          "c_2": 0,
          "c_3": 0,
          "c_4": 0,
          "cluster": "c_1",
          "x": 3.653585058375629,
          "y": 4.384695888947945
         },
         {
          "c_0": 4.201130499730039,
          "c_1": 0,
          "c_2": 0,
          "c_3": 0,
          "c_4": 0,
          "cluster": "c_1",
          "x": -2.938876303400277,
          "y": 0.7158014357588617
         },
         {
          "c_0": 4.5229596915080625,
          "c_1": 0,
          "c_2": 0,
          "c_3": 0,
          "c_4": 0,
          "cluster": "c_1",
          "x": 3.7034618794666656,
          "y": 4.3246000320893465
         },
         {
          "c_0": 3.975699599756462,
          "c_1": 0,
          "c_2": 0,
          "c_3": 0,
          "c_4": 0,
          "cluster": "c_1",
          "x": -3.7470239327664925,
          "y": 7.033036920110417
         },
         {
          "c_0": 3.0816635266312153,
          "c_1": 0,
          "c_2": 0,
          "c_3": 0,
          "c_4": 0,
          "cluster": "c_1",
          "x": 2.2447838228153953,
          "y": 4.670339840078611
         },
         {
          "c_0": 2.6810478409498617,
          "c_1": 0,
          "c_2": 0,
          "c_3": 0,
          "c_4": 0,
          "cluster": "c_1",
          "x": -2.15901829779679,
          "y": 6.665550767402258
         },
         {
          "c_0": 3.4740628111530047,
          "c_1": 0,
          "c_2": 0,
          "c_3": 0,
          "c_4": 0,
          "cluster": "c_1",
          "x": -1.3743019305364712,
          "y": 7.772607829616678
         },
         {
          "c_0": 5.13983013329165,
          "c_1": 0,
          "c_2": 0,
          "c_3": 0,
          "c_4": 0,
          "cluster": "c_1",
          "x": -4.6234490131637465,
          "y": 0.8866196130444182
         }
        ],
        "data-6ae30e1b1e8aecb09a82518d2ca84655": [
         {
          "x": -5.026367649951281,
          "y": 5.225530243840591
         },
         {
          "x": 0.052237739847592835,
          "y": 3.824317078386269
         },
         {
          "x": 4.036779016744157,
          "y": 0.5029876137663731
         },
         {
          "x": -4.109857525590817,
          "y": 0.9609540654788118
         },
         {
          "x": 4.4536113655952665,
          "y": 3.1047810475931983
         }
        ]
       },
       "layer": [
        {
         "data": {
          "name": "data-43d329498703c807b7a836aff24e953b"
         },
         "encoding": {
          "x": {
           "field": "x",
           "type": "quantitative"
          },
          "y": {
           "field": "y",
           "type": "quantitative"
          }
         },
         "mark": {
          "size": 60,
          "type": "circle"
         },
         "selection": {
          "selector025": {
           "bind": "scales",
           "encodings": [
            "x",
            "y"
           ],
           "type": "interval"
          }
         }
        },
        {
         "data": {
          "name": "data-6ae30e1b1e8aecb09a82518d2ca84655"
         },
         "encoding": {
          "x": {
           "field": "x",
           "type": "quantitative"
          },
          "y": {
           "field": "y",
           "type": "quantitative"
          }
         },
         "mark": {
          "color": "black",
          "opacity": 1,
          "size": 100,
          "type": "point"
         },
         "selection": {
          "selector026": {
           "bind": "scales",
           "encodings": [
            "x",
            "y"
           ],
           "type": "interval"
          }
         }
        }
       ]
      },
      "image/png": "[encoded data removed]",
      "text/plain": [
       "<VegaLite 3 object>\n",
       "\n",
       "If you see this message, it means the renderer has not been properly enabled\n",
       "for the frontend that you are using. For more information, see\n",
       "https://altair-viz.github.io/user_guide/troubleshooting.html\n"
      ]
     },
     "execution_count": 39,
     "metadata": {},
     "output_type": "execute_result"
    }
   ],
   "source": [
    "data_marks = alt.Chart(df).mark_circle(size=60).encode(\n",
    "        x='x',\n",
    "        y='y',\n",
    "    ).interactive()\n",
    "\n",
    "centroid_marks = alt.Chart(centroids).mark_point(size=100, opacity=1, color='black').encode(\n",
    "        x='x',\n",
    "        y='y',\n",
    "    ).interactive()\n",
    "\n",
    "data_marks + centroid_marks"
   ]
  },
  {
   "cell_type": "markdown",
   "metadata": {},
   "source": [
    "## Assign!"
   ]
  },
  {
   "cell_type": "markdown",
   "metadata": {},
   "source": [
    "Next, we need to assign observations to their nearest centroid. \n",
    "\n",
    "For this, we first need to create a function that calculates the distances between all points and centroids using the Euclidean distance function defined above. \n",
    "\n",
    "Calling this function, will populate three new columns in our dataframe with the respective distances."
   ]
  },
  {
   "cell_type": "code",
   "execution_count": 20,
   "metadata": {},
   "outputs": [],
   "source": [
    "def calc_distances():\n",
    "    for i in range(k):\n",
    "        df[centroid_labels[i]] = df[['x', 'y']].apply(euclidean_distance, centroid=centroids.iloc[i], axis=1)  "
   ]
  },
  {
   "cell_type": "code",
   "execution_count": 40,
   "metadata": {},
   "outputs": [
    {
     "data": {
      "text/html": [
       "<div>\n",
       "<style scoped>\n",
       "    .dataframe tbody tr th:only-of-type {\n",
       "        vertical-align: middle;\n",
       "    }\n",
       "\n",
       "    .dataframe tbody tr th {\n",
       "        vertical-align: top;\n",
       "    }\n",
       "\n",
       "    .dataframe thead th {\n",
       "        text-align: right;\n",
       "    }\n",
       "</style>\n",
       "<table border=\"1\" class=\"dataframe\">\n",
       "  <thead>\n",
       "    <tr style=\"text-align: right;\">\n",
       "      <th></th>\n",
       "      <th>x</th>\n",
       "      <th>y</th>\n",
       "      <th>c_0</th>\n",
       "      <th>c_1</th>\n",
       "      <th>c_2</th>\n",
       "      <th>cluster</th>\n",
       "      <th>c_3</th>\n",
       "      <th>c_4</th>\n",
       "    </tr>\n",
       "  </thead>\n",
       "  <tbody>\n",
       "    <tr>\n",
       "      <th>0</th>\n",
       "      <td>4.992708</td>\n",
       "      <td>3.791876</td>\n",
       "      <td>10.121128</td>\n",
       "      <td>4.940576</td>\n",
       "      <td>3.424995</td>\n",
       "      <td>c_1</td>\n",
       "      <td>9.532618</td>\n",
       "      <td>0.873341</td>\n",
       "    </tr>\n",
       "    <tr>\n",
       "      <th>1</th>\n",
       "      <td>-2.814758</td>\n",
       "      <td>6.847707</td>\n",
       "      <td>2.742749</td>\n",
       "      <td>4.166600</td>\n",
       "      <td>9.338042</td>\n",
       "      <td>c_1</td>\n",
       "      <td>6.027532</td>\n",
       "      <td>8.175494</td>\n",
       "    </tr>\n",
       "    <tr>\n",
       "      <th>2</th>\n",
       "      <td>-0.319240</td>\n",
       "      <td>8.420426</td>\n",
       "      <td>5.688973</td>\n",
       "      <td>4.611097</td>\n",
       "      <td>9.036633</td>\n",
       "      <td>c_1</td>\n",
       "      <td>8.367347</td>\n",
       "      <td>7.143962</td>\n",
       "    </tr>\n",
       "    <tr>\n",
       "      <th>3</th>\n",
       "      <td>3.544806</td>\n",
       "      <td>4.600660</td>\n",
       "      <td>8.593921</td>\n",
       "      <td>3.577812</td>\n",
       "      <td>4.127100</td>\n",
       "      <td>c_1</td>\n",
       "      <td>8.475927</td>\n",
       "      <td>1.750308</td>\n",
       "    </tr>\n",
       "    <tr>\n",
       "      <th>4</th>\n",
       "      <td>3.167779</td>\n",
       "      <td>5.836951</td>\n",
       "      <td>8.216926</td>\n",
       "      <td>3.709083</td>\n",
       "      <td>5.404288</td>\n",
       "      <td>c_1</td>\n",
       "      <td>8.760100</td>\n",
       "      <td>3.019622</td>\n",
       "    </tr>\n",
       "  </tbody>\n",
       "</table>\n",
       "</div>"
      ],
      "text/plain": [
       "          x         y        c_0       c_1       c_2 cluster       c_3  \\\n",
       "0  4.992708  3.791876  10.121128  4.940576  3.424995     c_1  9.532618   \n",
       "1 -2.814758  6.847707   2.742749  4.166600  9.338042     c_1  6.027532   \n",
       "2 -0.319240  8.420426   5.688973  4.611097  9.036633     c_1  8.367347   \n",
       "3  3.544806  4.600660   8.593921  3.577812  4.127100     c_1  8.475927   \n",
       "4  3.167779  5.836951   8.216926  3.709083  5.404288     c_1  8.760100   \n",
       "\n",
       "        c_4  \n",
       "0  0.873341  \n",
       "1  8.175494  \n",
       "2  7.143962  \n",
       "3  1.750308  \n",
       "4  3.019622  "
      ]
     },
     "execution_count": 40,
     "metadata": {},
     "output_type": "execute_result"
    }
   ],
   "source": [
    "calc_distances()\n",
    "df.head()"
   ]
  },
  {
   "cell_type": "markdown",
   "metadata": {},
   "source": [
    "We can now define a function that will assign the observations to the centroid with the shortest distance.\n",
    "\n",
    "This function will also populate a new column with the assigned cluster."
   ]
  },
  {
   "cell_type": "code",
   "execution_count": 22,
   "metadata": {},
   "outputs": [],
   "source": [
    "def assign():\n",
    "    df['cluster'] = df[centroid_labels].idxmin(axis=1)"
   ]
  },
  {
   "cell_type": "code",
   "execution_count": 41,
   "metadata": {},
   "outputs": [
    {
     "data": {
      "text/html": [
       "<div>\n",
       "<style scoped>\n",
       "    .dataframe tbody tr th:only-of-type {\n",
       "        vertical-align: middle;\n",
       "    }\n",
       "\n",
       "    .dataframe tbody tr th {\n",
       "        vertical-align: top;\n",
       "    }\n",
       "\n",
       "    .dataframe thead th {\n",
       "        text-align: right;\n",
       "    }\n",
       "</style>\n",
       "<table border=\"1\" class=\"dataframe\">\n",
       "  <thead>\n",
       "    <tr style=\"text-align: right;\">\n",
       "      <th></th>\n",
       "      <th>x</th>\n",
       "      <th>y</th>\n",
       "      <th>c_0</th>\n",
       "      <th>c_1</th>\n",
       "      <th>c_2</th>\n",
       "      <th>cluster</th>\n",
       "      <th>c_3</th>\n",
       "      <th>c_4</th>\n",
       "    </tr>\n",
       "  </thead>\n",
       "  <tbody>\n",
       "    <tr>\n",
       "      <th>0</th>\n",
       "      <td>4.992708</td>\n",
       "      <td>3.791876</td>\n",
       "      <td>10.121128</td>\n",
       "      <td>4.940576</td>\n",
       "      <td>3.424995</td>\n",
       "      <td>c_4</td>\n",
       "      <td>9.532618</td>\n",
       "      <td>0.873341</td>\n",
       "    </tr>\n",
       "    <tr>\n",
       "      <th>1</th>\n",
       "      <td>-2.814758</td>\n",
       "      <td>6.847707</td>\n",
       "      <td>2.742749</td>\n",
       "      <td>4.166600</td>\n",
       "      <td>9.338042</td>\n",
       "      <td>c_0</td>\n",
       "      <td>6.027532</td>\n",
       "      <td>8.175494</td>\n",
       "    </tr>\n",
       "    <tr>\n",
       "      <th>2</th>\n",
       "      <td>-0.319240</td>\n",
       "      <td>8.420426</td>\n",
       "      <td>5.688973</td>\n",
       "      <td>4.611097</td>\n",
       "      <td>9.036633</td>\n",
       "      <td>c_1</td>\n",
       "      <td>8.367347</td>\n",
       "      <td>7.143962</td>\n",
       "    </tr>\n",
       "    <tr>\n",
       "      <th>3</th>\n",
       "      <td>3.544806</td>\n",
       "      <td>4.600660</td>\n",
       "      <td>8.593921</td>\n",
       "      <td>3.577812</td>\n",
       "      <td>4.127100</td>\n",
       "      <td>c_4</td>\n",
       "      <td>8.475927</td>\n",
       "      <td>1.750308</td>\n",
       "    </tr>\n",
       "    <tr>\n",
       "      <th>4</th>\n",
       "      <td>3.167779</td>\n",
       "      <td>5.836951</td>\n",
       "      <td>8.216926</td>\n",
       "      <td>3.709083</td>\n",
       "      <td>5.404288</td>\n",
       "      <td>c_4</td>\n",
       "      <td>8.760100</td>\n",
       "      <td>3.019622</td>\n",
       "    </tr>\n",
       "  </tbody>\n",
       "</table>\n",
       "</div>"
      ],
      "text/plain": [
       "          x         y        c_0       c_1       c_2 cluster       c_3  \\\n",
       "0  4.992708  3.791876  10.121128  4.940576  3.424995     c_4  9.532618   \n",
       "1 -2.814758  6.847707   2.742749  4.166600  9.338042     c_0  6.027532   \n",
       "2 -0.319240  8.420426   5.688973  4.611097  9.036633     c_1  8.367347   \n",
       "3  3.544806  4.600660   8.593921  3.577812  4.127100     c_4  8.475927   \n",
       "4  3.167779  5.836951   8.216926  3.709083  5.404288     c_4  8.760100   \n",
       "\n",
       "        c_4  \n",
       "0  0.873341  \n",
       "1  8.175494  \n",
       "2  7.143962  \n",
       "3  1.750308  \n",
       "4  3.019622  "
      ]
     },
     "execution_count": 41,
     "metadata": {},
     "output_type": "execute_result"
    }
   ],
   "source": [
    "assign()\n",
    "df.head()"
   ]
  },
  {
   "cell_type": "markdown",
   "metadata": {},
   "source": [
    "By updating our code for the scatter plot, we can color data points based on their current cluster assignment."
   ]
  },
  {
   "cell_type": "code",
   "execution_count": 24,
   "metadata": {},
   "outputs": [],
   "source": [
    "def plot_result():\n",
    "    data_marks = alt.Chart(df).mark_circle(size=60, opacity=0.5).encode(\n",
    "        x='x',\n",
    "        y='y',\n",
    "        tooltip=['x', 'y', 'cluster'],\n",
    "        color=alt.Color('cluster', scale=alt.Scale(scheme='category10'))\n",
    "    ).interactive()\n",
    "\n",
    "    centroid_marks = alt.Chart(centroids).mark_point(size=100, opacity=1, color='black').encode(\n",
    "        x='x',\n",
    "        y='y',\n",
    "    ).interactive()\n",
    "\n",
    "    return data_marks + centroid_marks"
   ]
  },
  {
   "cell_type": "code",
   "execution_count": 42,
   "metadata": {},
   "outputs": [
    {
     "data": {
      "application/vnd.vegalite.v3+json": {
       "$schema": "https://vega.github.io/schema/vega-lite/v3.4.0.json",
       "config": {
        "mark": {
         "tooltip": null
        },
        "view": {
         "height": 300,
         "width": 400
        }
       },
       "datasets": {
        "data-13ee3c48211ef91a87c73b624fcbe523": [
         {
          "c_0": 10.121127977213744,
          "c_1": 4.940576345489487,
          "c_2": 3.4249948121668154,
          "c_3": 9.532618384626081,
          "c_4": 0.8733412139077217,
          "cluster": "c_4",
          "x": 4.992707579235362,
          "y": 3.791876490998789
         },
         {
          "c_0": 2.742749442937794,
          "c_1": 4.166599932387344,
          "c_2": 9.338042196348468,
          "c_3": 6.02753235210687,
          "c_4": 8.1754935521451,
          "cluster": "c_0",
          "x": -2.8147582943307947,
          "y": 6.847707350345154
         },
         {
          "c_0": 5.688972537172404,
          "c_1": 4.61109688693711,
          "c_2": 9.036633034586028,
          "c_3": 8.367347452861669,
          "c_4": 7.143962145116406,
          "cluster": "c_1",
          "x": -0.31924021835713745,
          "y": 8.420426153167801
         },
         {
          "c_0": 8.593921210529055,
          "c_1": 3.577812328001907,
          "c_2": 4.127099843552397,
          "c_3": 8.475926539861012,
          "c_4": 1.7503084761553902,
          "cluster": "c_4",
          "x": 3.5448060416622496,
          "y": 4.600659600448479
         },
         {
          "c_0": 8.216926493011313,
          "c_1": 3.709082747400253,
          "c_2": 5.40428765695114,
          "c_3": 8.760099575711006,
          "c_4": 3.019621858687335,
          "cluster": "c_4",
          "x": 3.167779390955606,
          "y": 5.836950936611197
         },
         {
          "c_0": 5.090089064127194,
          "c_1": 3.3035696704947193,
          "c_2": 6.008087080467031,
          "c_3": 2.1885613615494552,
          "c_4": 6.6689946541883325,
          "cluster": "c_3",
          "x": -1.9326422182032195,
          "y": 1.1835171768524946
         },
         {
          "c_0": 4.909515658309788,
          "c_1": 3.7877139522327545,
          "c_2": 6.55079416895199,
          "c_3": 1.6173279611081932,
          "c_4": 7.253344897326458,
          "cluster": "c_3",
          "x": -2.4935993310958966,
          "y": 1.0197688808777028
         },
         {
          "c_0": 4.39915510620356,
          "c_1": 3.6056716955731365,
          "c_2": 8.477280409468653,
          "c_3": 6.953932394846194,
          "c_4": 6.932802095908031,
          "cluster": "c_1",
          "x": -1.1136453649393845,
          "y": 7.236293772654496
         },
         {
          "c_0": 8.531155706095888,
          "c_1": 3.8213162788752344,
          "c_2": 4.995234469680953,
          "c_3": 8.84625101253931,
          "c_4": 2.5492152955419516,
          "cluster": "c_4",
          "x": 3.501300650618791,
          "y": 5.469438089357613
         },
         {
          "c_0": 5.481233342872767,
          "c_1": 4.257770503571618,
          "c_2": 6.494317906042235,
          "c_3": 1.7511467387911406,
          "c_4": 7.426376025295353,
          "cluster": "c_3",
          "x": -2.456450598541372,
          "y": 0.38410015471477976
         },
         {
          "c_0": 7.463801821142662,
          "c_1": 2.216705517744136,
          "c_2": 3.5669112390511906,
          "c_3": 6.889840353093522,
          "c_4": 2.250497033850646,
          "cluster": "c_1",
          "x": 2.256958180581394,
          "y": 3.594119053616607
         },
         {
          "c_0": 2.260449358562879,
          "c_1": 3.0104222466307626,
          "c_2": 8.003764734545811,
          "c_3": 3.7943926488034805,
          "c_4": 7.464412335880385,
          "cluster": "c_0",
          "x": -2.8701274709765494,
          "y": 4.547105897872415
         },
         {
          "c_0": 10.330033741244169,
          "c_1": 5.090613530909776,
          "c_2": 2.9169048027013353,
          "c_3": 9.488347291015513,
          "c_4": 0.6623650882718821,
          "cluster": "c_4",
          "x": 5.106456068506325,
          "y": 3.2166796804820335
         },
         {
          "c_0": 7.985521353763338,
          "c_1": 2.9288369838635298,
          "c_2": 2.2668204227642095,
          "c_3": 6.376093325931434,
          "c_4": 2.579981079537016,
          "cluster": "c_2",
          "x": 2.2054923623827056,
          "y": 1.8389756446328742
         },
         {
          "c_0": 9.70717455389832,
          "c_1": 4.490645332439714,
          "c_2": 3.082027699129616,
          "c_3": 9.021885415356506,
          "c_4": 0.4471503830836757,
          "cluster": "c_4",
          "x": 4.5341639754109115,
          "y": 3.544615950873698
         },
         {
          "c_0": 3.416575044717936,
          "c_1": 4.230686656645187,
          "c_2": 9.327884031745873,
          "c_3": 6.605477731456941,
          "c_4": 7.986070563904318,
          "cluster": "c_0",
          "x": -2.3283665514134553,
          "y": 7.32166361471136
         },
         {
          "c_0": 4.228912420055415,
          "c_1": 2.8487062051902488,
          "c_2": 6.432968468892466,
          "c_3": 2.2135841345135208,
          "c_4": 6.7319966881179925,
          "cluster": "c_3",
          "x": -2.199916685657372,
          "y": 2.079918188462342
         },
         {
          "c_0": 3.914215292708981,
          "c_1": 2.4523218382606182,
          "c_2": 7.537971519568286,
          "c_3": 5.782170455159496,
          "c_4": 6.308176222769149,
          "cluster": "c_1",
          "x": -1.1788839841237861,
          "y": 5.945218231004108
         },
         {
          "c_0": 2.8413729657477953,
          "c_1": 3.992697882828253,
          "c_2": 8.105336747133535,
          "c_3": 1.7481678294124208,
          "c_4": 8.236576605067173,
          "cluster": "c_3",
          "x": -3.771803388106772,
          "y": 2.676124657554846
         },
         {
          "c_0": 9.335099481680652,
          "c_1": 4.250952682160526,
          "c_2": 3.867535175537819,
          "c_3": 9.043253379317013,
          "c_4": 1.2722599672121435,
          "cluster": "c_4",
          "x": 4.268850417711615,
          "y": 4.363553789714579
         },
         {
          "c_0": 5.200872003531795,
          "c_1": 5.109506559390767,
          "c_2": 7.620975542937151,
          "c_3": 0.9031850743382663,
          "c_4": 8.53182270065283,
          "cluster": "c_3",
          "x": -3.5793065285229395,
          "y": 0.23002389233112952
         },
         {
          "c_0": 3.8824762946156324,
          "c_1": 5.412625636570443,
          "c_2": 8.84040606862665,
          "c_3": 0.7610600687805684,
          "c_4": 9.381564202804553,
          "cluster": "c_3",
          "x": -4.762762737605848,
          "y": 1.352013156174695
         },
         {
          "c_0": 4.891600724835362,
          "c_1": 5.220523173915132,
          "c_2": 7.973860152434346,
          "c_3": 0.532994663053989,
          "c_4": 8.79848576992372,
          "cluster": "c_3",
          "x": -3.936947285848084,
          "y": 0.4567860777642546
         },
         {
          "c_0": 6.683855583335276,
          "c_1": 2.477244111280963,
          "c_2": 5.7481150845858915,
          "c_3": 7.467270117846789,
          "c_4": 3.8470480233483824,
          "cluster": "c_1",
          "x": 1.638653000267773,
          "y": 5.726953409475891
         },
         {
          "c_0": 8.269036244999622,
          "c_1": 3.7169387325397674,
          "c_2": 5.319247138422087,
          "c_3": 8.765636745779027,
          "c_4": 2.9255191804294265,
          "cluster": "c_4",
          "x": 3.2253787540690295,
          "y": 5.7599848301763545
         },
         {
          "c_0": 9.273319413890441,
          "c_1": 4.030473052571626,
          "c_2": 2.840159719390683,
          "c_3": 8.504187589782859,
          "c_4": 0.46538078145235806,
          "cluster": "c_4",
          "x": 4.053879797440727,
          "y": 3.3430958502511956
         },
         {
          "c_0": 8.144095794091339,
          "c_1": 3.269775394053657,
          "c_2": 4.563804715878169,
          "c_3": 8.262781577225935,
          "c_4": 2.298570627380382,
          "cluster": "c_4",
          "x": 3.11379604121127,
          "y": 4.972486009733003
         },
         {
          "c_0": 9.323303888508066,
          "c_1": 4.175313920352568,
          "c_2": 3.545852630201925,
          "c_3": 8.883761768509606,
          "c_4": 0.9674219658107509,
          "cluster": "c_4",
          "x": 4.221767773621107,
          "y": 4.044011481934876
         },
         {
          "c_0": 3.0611974331878415,
          "c_1": 4.929059142454387,
          "c_2": 10.075142535797088,
          "c_3": 6.72354404088842,
          "c_4": 8.79936232838454,
          "cluster": "c_0",
          "x": -3.105505175073226,
          "y": 7.609060624926846
         },
         {
          "c_0": 3.4383030925945235,
          "c_1": 4.5891519286951565,
          "c_2": 8.275414795752734,
          "c_3": 0.9483992825120745,
          "c_4": 8.654836081479912,
          "cluster": "c_3",
          "x": -4.118264224296733,
          "y": 1.9093160883826634
         },
         {
          "c_0": 4.541706826557369,
          "c_1": 2.125834832434416,
          "c_2": 7.0463298324045684,
          "c_3": 6.074421835832327,
          "c_4": 5.699141556245818,
          "cluster": "c_1",
          "x": -0.5304380603864569,
          "y": 5.868739404280083
         },
         {
          "c_0": 8.465463231675768,
          "c_1": 3.3942191547889213,
          "c_2": 3.9436140028702513,
          "c_3": 8.255952888405039,
          "c_4": 1.666551053574163,
          "cluster": "c_4",
          "x": 3.3982126832177686,
          "y": 4.39455856150984
         },
         {
          "c_0": 4.091437251445194,
          "c_1": 6.222481091870993,
          "c_2": 9.636267650056071,
          "c_3": 1.4814315017456956,
          "c_4": 10.214578395111197,
          "cluster": "c_3",
          "x": -5.576291332677907,
          "y": 1.1712186221605565
         },
         {
          "c_0": 3.603498395183643,
          "c_1": 3.629571681914442,
          "c_2": 8.703780380350219,
          "c_3": 6.373336983041345,
          "c_4": 7.363383855049354,
          "cluster": "c_0",
          "x": -1.8452626611925687,
          "y": 6.918389285398843
         },
         {
          "c_0": 7.6022293262526945,
          "c_1": 3.3365810958867663,
          "c_2": 5.756566265167051,
          "c_3": 8.371206696619566,
          "c_4": 3.525156472177045,
          "cluster": "c_1",
          "x": 2.5300492815432154,
          "y": 6.058869242303884
         },
         {
          "c_0": 5.255968236939179,
          "c_1": 6.269461852978855,
          "c_2": 11.09618146100367,
          "c_3": 8.910505126209266,
          "c_4": 9.358962605855409,
          "cluster": "c_0",
          "x": -2.217995294984081,
          "y": 9.668304920050215
         },
         {
          "c_0": 5.277242203496976,
          "c_1": 3.7767205734726588,
          "c_2": 6.225729890748905,
          "c_3": 1.9355530688096578,
          "c_4": 7.031836047754177,
          "cluster": "c_3",
          "x": -2.1827880309001646,
          "y": 0.7799323960267874
         },
         {
          "c_0": 3.834625746232369,
          "c_1": 3.0108132484746237,
          "c_2": 8.065511668346248,
          "c_3": 6.134823790909586,
          "c_4": 6.746120538365872,
          "cluster": "c_1",
          "x": -1.3970292330453886,
          "y": 6.4633740422413375
         },
         {
          "c_0": 1.6031452915993292,
          "c_1": 5.019007007902415,
          "c_2": 9.525237531211404,
          "c_3": 2.7959563948631216,
          "c_4": 9.430652062590973,
          "cluster": "c_0",
          "x": -4.962756084371339,
          "y": 3.6236474782483126
         },
         {
          "c_0": 7.793976450159875,
          "c_1": 2.7334181542048706,
          "c_2": 4.11390939141652,
          "c_3": 7.651173718582343,
          "c_4": 2.1619354029981808,
          "cluster": "c_4",
          "x": 2.723957501495625,
          "y": 4.401801555195944
         },
         {
          "c_0": 8.629721505851117,
          "c_1": 3.3712717323724535,
          "c_2": 2.826377255355553,
          "c_3": 7.826612966245011,
          "c_4": 1.089082309462379,
          "cluster": "c_4",
          "x": 3.3743403208328493,
          "y": 3.250638130799155
         },
         {
          "c_0": 3.687068421546608,
          "c_1": 4.112524835552421,
          "c_2": 9.163244325454839,
          "c_3": 6.740242015057285,
          "c_4": 7.760301580534768,
          "cluster": "c_0",
          "x": -2.028318885793513,
          "y": 7.371730875864139
         },
         {
          "c_0": 4.47402167689302,
          "c_1": 3.847029651865862,
          "c_2": 6.944123982830186,
          "c_3": 1.297733540254091,
          "c_4": 7.530590642826845,
          "cluster": "c_3",
          "x": -2.860189852433501,
          "y": 1.3108726962574497
         },
         {
          "c_0": 3.241857780972088,
          "c_1": 4.043359333261084,
          "c_2": 9.167054474584388,
          "c_3": 6.35411961970473,
          "c_4": 7.883020351146188,
          "cluster": "c_0",
          "x": -2.3599173722128004,
          "y": 7.069353659571515
         },
         {
          "c_0": 2.6115226977225148,
          "c_1": 3.3300668118370096,
          "c_2": 8.517317008827286,
          "c_3": 5.232220864014129,
          "c_4": 7.525650070225263,
          "cluster": "c_0",
          "x": -2.515740370372252,
          "y": 5.944419292132111
         },
         {
          "c_0": 2.7492540921541426,
          "c_1": 4.461523485543545,
          "c_2": 8.532389283729971,
          "c_3": 1.6362879996246065,
          "c_4": 8.704536991934742,
          "cluster": "c_3",
          "x": -4.235831378201481,
          "y": 2.5923856473031686
         },
         {
          "c_0": 3.3533964354359225,
          "c_1": 4.4764765266076525,
          "c_2": 8.22194436924263,
          "c_3": 1.0602888194046298,
          "c_4": 8.566823533945325,
          "cluster": "c_3",
          "x": -4.044152475439131,
          "y": 2.019205088128461
         },
         {
          "c_0": 6.168483469308425,
          "c_1": 4.553381330983094,
          "c_2": 6.161421251273138,
          "c_3": 2.33244180821801,
          "c_4": 7.32454393543146,
          "cluster": "c_3",
          "x": -2.0848179908811764,
          "y": -0.19641349566426025
         },
         {
          "c_0": 7.822590398418438,
          "c_1": 2.5601084423075355,
          "c_2": 3.203070180128673,
          "c_3": 7.09205803984662,
          "c_4": 1.9015008905440924,
          "cluster": "c_4",
          "x": 2.567911154087418,
          "y": 3.349403918680985
         },
         {
          "c_0": 8.32961479356937,
          "c_1": 3.311492357699042,
          "c_2": 4.141256052609196,
          "c_3": 8.22382152570539,
          "c_4": 1.8819001795441215,
          "cluster": "c_4",
          "x": 3.277734026857692,
          "y": 4.574087268233279
         },
         {
          "c_0": 1.7412510405951123,
          "c_1": 4.697342554545642,
          "c_2": 9.185210356652329,
          "c_3": 2.6210045252227996,
          "c_4": 9.099279563209208,
          "cluster": "c_0",
          "x": -4.635790385145341,
          "y": 3.5286494034188864
         },
         {
          "c_0": 7.845357763874291,
          "c_1": 3.68991676214822,
          "c_2": 5.994982255535637,
          "c_3": 8.716789664059867,
          "c_4": 3.675960722838563,
          "cluster": "c_4",
          "x": 2.7372010085085923,
          "y": 6.355415250627647
         },
         {
          "c_0": 9.456230497654598,
          "c_1": 4.459295631075543,
          "c_2": 4.250686903378529,
          "c_3": 9.325587990873506,
          "c_4": 1.632240565308709,
          "cluster": "c_4",
          "x": 4.417215243699945,
          "y": 4.7366157773836495
         },
         {
          "c_0": 2.849005766784154,
          "c_1": 2.985583257047203,
          "c_2": 8.17280229942705,
          "c_3": 5.148946409946624,
          "c_4": 7.186075842619899,
          "cluster": "c_0",
          "x": -2.226644542674664,
          "y": 5.753151681758661
         },
         {
          "c_0": 3.232308047301252,
          "c_1": 2.8572756798809125,
          "c_2": 8.027372503915764,
          "c_3": 5.454390883197138,
          "c_4": 6.931060820117759,
          "cluster": "c_1",
          "x": -1.8730132401233526,
          "y": 5.935580438310806
         },
         {
          "c_0": 5.449191841491403,
          "c_1": 5.044548019409148,
          "c_2": 9.634253813864465,
          "c_3": 8.453205895643901,
          "c_4": 7.797962921139675,
          "cluster": "c_1",
          "x": -0.895270518227884,
          "y": 8.779081736874453
         },
         {
          "c_0": 8.925086726472497,
          "c_1": 3.779003559378865,
          "c_2": 3.571588620433667,
          "c_3": 8.520031861948581,
          "c_4": 1.151250287236808,
          "cluster": "c_4",
          "x": 3.8233638008699486,
          "y": 4.0681943706382135
         },
         {
          "c_0": 3.003760769010821,
          "c_1": 5.078569338728168,
          "c_2": 10.232054646713067,
          "c_3": 6.75494455036632,
          "c_4": 8.970480786600492,
          "cluster": "c_0",
          "x": -3.2720237795453757,
          "y": 7.663737852273004
         },
         {
          "c_0": 4.134307614950591,
          "c_1": 5.586660492261941,
          "c_2": 8.87965381912989,
          "c_3": 0.7258938141685449,
          "c_4": 9.49160044541624,
          "cluster": "c_3",
          "x": -4.823035906214971,
          "y": 1.0962257434401197
         },
         {
          "c_0": 3.0621177002755573,
          "c_1": 4.00786697117792,
          "c_2": 9.153762083478533,
          "c_3": 6.186328922844925,
          "c_4": 7.92017825488669,
          "cluster": "c_0",
          "x": -2.481989638711916,
          "y": 6.929263012282426
         },
         {
          "c_0": 3.6838170389028186,
          "c_1": 2.525121229187741,
          "c_2": 7.6542589040515185,
          "c_3": 5.621979713710514,
          "c_4": 6.484061321409248,
          "cluster": "c_1",
          "x": -1.4026413382135083,
          "y": 5.888188220273449
         },
         {
          "c_0": 11.267488889258889,
          "c_1": 6.290568224849119,
          "c_2": 4.977278220247327,
          "c_3": 11.096378279752376,
          "c_4": 2.579221964744206,
          "cluster": "c_4",
          "x": 6.2381544704343135,
          "y": 4.966981855881707
         },
         {
          "c_0": 7.622580975883241,
          "c_1": 3.0174500402719597,
          "c_2": 5.155649079222429,
          "c_3": 8.068357233235407,
          "c_4": 2.995554657196106,
          "cluster": "c_4",
          "x": 2.592839222261643,
          "y": 5.452306283845808
         },
         {
          "c_0": 3.6448263069220794,
          "c_1": 3.046856850308801,
          "c_2": 8.140822444549087,
          "c_3": 6.00010590103983,
          "c_4": 6.871026347325647,
          "cluster": "c_1",
          "x": -1.5758523465992094,
          "y": 6.399712064924706
         },
         {
          "c_0": 4.9280151533671335,
          "c_1": 4.837603490527562,
          "c_2": 7.53647343184555,
          "c_3": 0.7413662863896698,
          "c_4": 8.356542460609944,
          "cluster": "c_3",
          "x": -3.4996035975131687,
          "y": 0.5399859979712982
         },
         {
          "c_0": 8.480266904266296,
          "c_1": 4.0096783274703425,
          "c_2": 5.535028816368825,
          "c_3": 9.060716513827261,
          "c_4": 3.0779539914181435,
          "cluster": "c_4",
          "x": 3.4181538239383076,
          "y": 6.003337317999659
         },
         {
          "c_0": 4.694003498918821,
          "c_1": 4.630666307904591,
          "c_2": 7.498844212170414,
          "c_3": 0.6728098315000869,
          "c_4": 8.2381152883994,
          "cluster": "c_3",
          "x": -3.4561027756629983,
          "y": 0.8019641402948852
         },
         {
          "c_0": 8.458609372434891,
          "c_1": 3.440354183858557,
          "c_2": 4.128508682579365,
          "c_3": 8.34487874512408,
          "c_4": 1.8109954770755268,
          "cluster": "c_4",
          "x": 3.4078259176319734,
          "y": 4.583306466656472
         },
         {
          "c_0": 3.3508913444154693,
          "c_1": 3.289224759581659,
          "c_2": 8.42056714177282,
          "c_3": 5.9242889901434,
          "c_4": 7.1970454492245475,
          "cluster": "c_1",
          "x": -1.9121565940567238,
          "y": 6.462527536247741
         },
         {
          "c_0": 4.496137715871451,
          "c_1": 6.077540576189087,
          "c_2": 9.219416799020037,
          "c_3": 1.0941554835927412,
          "c_4": 9.921316028758751,
          "cluster": "c_3",
          "x": -5.179792710223506,
          "y": 0.73201100932493
         },
         {
          "c_0": 5.109440168359692,
          "c_1": 6.283280625826214,
          "c_2": 11.151788189229903,
          "c_3": 8.815154065747105,
          "c_4": 9.449289290519964,
          "cluster": "c_0",
          "x": -2.400998435830731,
          "y": 9.608886871311777
         },
         {
          "c_0": 4.021309558919897,
          "c_1": 6.349182140531709,
          "c_2": 9.828236399304327,
          "c_3": 1.680499698208988,
          "c_4": 10.37806632127598,
          "cluster": "c_3",
          "x": -5.761329008955272,
          "y": 1.2719543473348034
         },
         {
          "c_0": 3.9205017077400597,
          "c_1": 4.131614490792021,
          "c_2": 7.573607303823707,
          "c_3": 0.9421633351378493,
          "c_4": 8.040784461495438,
          "cluster": "c_3",
          "x": -3.4517281990453563,
          "y": 1.6351480580498623
         },
         {
          "c_0": 3.919875691724905,
          "c_1": 2.1366288962736975,
          "c_2": 6.376221348745417,
          "c_3": 2.958687447793711,
          "c_4": 6.329834071180473,
          "cluster": "c_1",
          "x": -1.8728219284251428,
          "y": 2.8973174484071507
         },
         {
          "c_0": 7.777785038856021,
          "c_1": 3.1580391608679617,
          "c_2": 5.131625449951121,
          "c_3": 8.207078721962086,
          "c_4": 2.916329378323029,
          "cluster": "c_4",
          "x": 2.7475733756097096,
          "y": 5.470031862960572
         },
         {
          "c_0": 3.2294070954632303,
          "c_1": 2.3206803224384434,
          "c_2": 7.506248695741097,
          "c_3": 4.8522248553605785,
          "c_4": 6.600848366793977,
          "cluster": "c_1",
          "x": -1.7969606901360047,
          "y": 5.226466259286503
         },
         {
          "c_0": 7.674413266071865,
          "c_1": 2.8026498228054506,
          "c_2": 4.611344372188479,
          "c_3": 7.815077179944745,
          "c_4": 2.549730361677681,
          "cluster": "c_4",
          "x": 2.641054767664989,
          "y": 4.898036048021307
         },
         {
          "c_0": 3.7207792759464455,
          "c_1": 4.080133981506403,
          "c_2": 9.124315953312678,
          "c_3": 6.746188659395165,
          "c_4": 7.71491758542285,
          "cluster": "c_0",
          "x": -1.9802399679213891,
          "y": 7.362187578343192
         },
         {
          "c_0": 3.1514636617737852,
          "c_1": 3.2507913378228728,
          "c_2": 8.409873926775557,
          "c_3": 5.712894369035804,
          "c_4": 7.253885532666136,
          "cluster": "c_0",
          "x": -2.0615680207201628,
          "y": 6.294027492312322
         },
         {
          "c_0": 5.505700892461484,
          "c_1": 2.054348981603362,
          "c_2": 6.433835016743689,
          "c_3": 6.6751956046227265,
          "c_4": 4.8534525958086805,
          "cluster": "c_1",
          "x": 0.4448464745512313,
          "y": 5.840801176922427
         },
         {
          "c_0": 6.426259814352101,
          "c_1": 6.13288685286729,
          "c_2": 7.8564629299597595,
          "c_3": 2.0643369888552567,
          "c_4": 9.120952987837244,
          "cluster": "c_3",
          "x": -3.663735721551454,
          "y": -1.0546010787721838
         },
         {
          "c_0": 3.1090771849495145,
          "c_1": 4.83234773852817,
          "c_2": 9.972423392047727,
          "c_3": 6.709696129172484,
          "c_4": 8.685755340497643,
          "cluster": "c_0",
          "x": -2.9923406933740013,
          "y": 7.576933076596086
         },
         {
          "c_0": 3.8747754157847685,
          "c_1": 3.70353580289619,
          "c_2": 8.718492762112824,
          "c_3": 6.63089586710805,
          "c_4": 7.29915928485472,
          "cluster": "c_1",
          "x": -1.6442952425204436,
          "y": 7.116421767346106
         },
         {
          "c_0": 4.56799707546706,
          "c_1": 4.140492859026812,
          "c_2": 7.12735805487082,
          "c_3": 1.053495676672499,
          "c_4": 7.781888840618108,
          "cluster": "c_3",
          "x": -3.065549325901965,
          "y": 1.0997831864523122
         },
         {
          "c_0": 4.984980514301591,
          "c_1": 4.753840368656378,
          "c_2": 7.406124772906395,
          "c_3": 0.8598339174377728,
          "c_4": 8.237628596742654,
          "cluster": "c_3",
          "x": -3.3693158950593998,
          "y": 0.5240187624575787
         },
         {
          "c_0": 2.580599438247949,
          "c_1": 4.26619729422181,
          "c_2": 9.445723251200816,
          "c_3": 5.958047740303329,
          "c_4": 8.317974789239447,
          "cluster": "c_0",
          "x": -2.9919533811843007,
          "y": 6.813186391664465
         },
         {
          "c_0": 2.4678500779002293,
          "c_1": 3.5708518235487094,
          "c_2": 8.758025614247648,
          "c_3": 5.310192135962363,
          "c_4": 7.760888172788262,
          "cluster": "c_0",
          "x": -2.712658334707362,
          "y": 6.084036627943635
         },
         {
          "c_0": 4.151185675013572,
          "c_1": 5.966123672091816,
          "c_2": 11.010307325472937,
          "c_3": 8.001205399453191,
          "c_4": 9.509607684232485,
          "cluster": "c_0",
          "x": -3.088670770221576,
          "y": 8.896725323201487
         },
         {
          "c_0": 4.451279963425164,
          "c_1": 2.3337437734027056,
          "c_2": 7.262624814193671,
          "c_3": 6.152073095909713,
          "c_4": 5.893814015642098,
          "cluster": "c_1",
          "x": -0.6519723715490886,
          "y": 6.049277329469999
         },
         {
          "c_0": 4.31220732108612,
          "c_1": 6.1363112095020735,
          "c_2": 9.402750276052428,
          "c_3": 1.2470854279314478,
          "c_4": 10.049106689608307,
          "cluster": "c_3",
          "x": -5.35645229653163,
          "y": 0.9259749056549482
         },
         {
          "c_0": 4.952832986396831,
          "c_1": 6.056058749477515,
          "c_2": 8.894875176946023,
          "c_3": 1.012499211049557,
          "c_4": 9.729221071600447,
          "cluster": "c_3",
          "x": -4.855190666212232,
          "y": 0.27565620186956863
         },
         {
          "c_0": 7.041203725168873,
          "c_1": 2.208066009210779,
          "c_2": 4.802761745977846,
          "c_3": 7.249467045014151,
          "c_4": 3.0096641704621176,
          "cluster": "c_1",
          "x": 2.0050720631537353,
          "y": 4.85484781870868
         },
         {
          "c_0": 5.319305329524404,
          "c_1": 5.826090812932321,
          "c_2": 8.358604369121613,
          "c_3": 1.0239838545492512,
          "c_4": 9.306527572670843,
          "cluster": "c_3",
          "x": -4.303877150959868,
          "y": -0.04448082517756258
         },
         {
          "c_0": 2.5129972599436927,
          "c_1": 4.657807935010137,
          "c_2": 9.838800731822944,
          "c_3": 6.146955003283936,
          "c_4": 8.704682650770685,
          "cluster": "c_0",
          "x": -3.3032673890215754,
          "y": 7.054759786371678
         },
         {
          "c_0": 4.203609713564144,
          "c_1": 5.116605253358213,
          "c_2": 8.33001297091053,
          "c_3": 0.20767648255056423,
          "c_4": 8.955693181425893,
          "cluster": "c_3",
          "x": -4.272520159658217,
          "y": 1.0900679256287964
         },
         {
          "c_0": 6.363630551304559,
          "c_1": 1.2529865541685261,
          "c_2": 4.617601019148584,
          "c_3": 6.256993056990509,
          "c_4": 3.379495607177187,
          "cluster": "c_1",
          "x": 1.2518199627757425,
          "y": 4.186225623963568
         },
         {
          "c_0": 4.232693560426921,
          "c_1": 3.8152754529831903,
          "c_2": 8.736811878489826,
          "c_3": 6.962714174368424,
          "c_4": 7.217119068451283,
          "cluster": "c_1",
          "x": -1.3732034556442607,
          "y": 7.363306225067966
         },
         {
          "c_0": 9.31719618503628,
          "c_1": 4.377135988374321,
          "c_2": 4.438402335869193,
          "c_3": 9.288871955919184,
          "c_4": 1.8372268775499143,
          "cluster": "c_4",
          "x": 4.286278133605195,
          "y": 4.934371763863798
         },
         {
          "c_0": 5.330230488460109,
          "c_1": 5.560581247872207,
          "c_2": 8.035571816706048,
          "c_3": 0.9708590518432026,
          "c_4": 8.990259786251213,
          "cluster": "c_3",
          "x": -3.9829362550751424,
          "y": -0.0015729677189937341
         },
         {
          "c_0": 2.238954110369184,
          "c_1": 5.22141360791049,
          "c_2": 9.47032342310073,
          "c_3": 2.256571722592947,
          "c_4": 9.556065709343606,
          "cluster": "c_0",
          "x": -5.101738854640758,
          "y": 2.987845125276605
         },
         {
          "c_0": 5.012850828985055,
          "c_1": 5.216120837211975,
          "c_2": 9.981806131102624,
          "c_3": 8.258544342251945,
          "c_4": 8.248007869479242,
          "cluster": "c_0",
          "x": -1.512168958586073,
          "y": 8.800314292040316
         },
         {
          "c_0": 9.735894809064153,
          "c_1": 4.587990821185157,
          "c_2": 3.5761569530869823,
          "c_3": 9.267958832737271,
          "c_4": 0.9416272796252432,
          "cluster": "c_4",
          "x": 4.635676643488491,
          "y": 4.0286393529193445
         },
         {
          "c_0": 7.691443408841242,
          "c_1": 2.597832576988304,
          "c_2": 4.047653176233952,
          "c_3": 7.497489128067021,
          "c_4": 2.193463930624058,
          "cluster": "c_4",
          "x": 2.6079773113132703,
          "y": 4.290073818440699
         },
         {
          "c_0": 8.842742002224876,
          "c_1": 3.6967568303571885,
          "c_2": 3.5806428919013737,
          "c_3": 8.444312732111763,
          "c_4": 1.2010393456268917,
          "cluster": "c_4",
          "x": 3.7407300502442222,
          "y": 4.071370795090676
         },
         {
          "c_0": 8.880791841013005,
          "c_1": 3.894323277589291,
          "c_2": 4.228836904660284,
          "c_3": 8.797286296705332,
          "c_4": 1.7344842804174252,
          "cluster": "c_4",
          "x": 3.8404352936570962,
          "y": 4.727263967015658
         },
         {
          "c_0": 2.724996529684603,
          "c_1": 5.146865368478788,
          "c_2": 10.320365029570976,
          "c_3": 6.57352199148804,
          "c_4": 9.127403936708586,
          "cluster": "c_0",
          "x": -3.5404842469817552,
          "y": 7.50977116799304
         },
         {
          "c_0": 6.685864798103861,
          "c_1": 5.205371840270572,
          "c_2": 6.41812645190032,
          "c_3": 2.6056921176509413,
          "c_4": 7.772351668601152,
          "cluster": "c_3",
          "x": -2.2369748773543217,
          "y": -0.8506590272986996
         },
         {
          "c_0": 11.041163552323015,
          "c_1": 5.941589554497869,
          "c_2": 4.25684147943136,
          "c_3": 10.621309542712307,
          "c_4": 1.9305509429197212,
          "cluster": "c_4",
          "x": 5.975328515736325,
          "y": 4.292806240160595
         },
         {
          "c_0": 5.287630420366508,
          "c_1": 5.256736338484672,
          "c_2": 7.7184719189214235,
          "c_3": 0.9532013152107225,
          "c_4": 8.658337003320542,
          "cluster": "c_3",
          "x": -3.671900984565747,
          "y": 0.1143214323416244
         },
         {
          "c_0": 4.009782980719787,
          "c_1": 4.460211067427931,
          "c_2": 7.807602390949482,
          "c_3": 0.618057661671406,
          "c_4": 8.337109919292532,
          "cluster": "c_3",
          "x": -3.7148388543395288,
          "y": 1.4363018565892711
         },
         {
          "c_0": 3.368461136080126,
          "c_1": 3.5669534450151072,
          "c_2": 8.683867648297415,
          "c_3": 6.140094309089664,
          "c_4": 7.415033830563537,
          "cluster": "c_0",
          "x": -2.0136160051932417,
          "y": 6.732135020246781
         },
         {
          "c_0": 8.357974473323527,
          "c_1": 3.3064643269202154,
          "c_2": 4.027497719001031,
          "c_3": 8.192247334027785,
          "c_4": 1.7833452591593746,
          "cluster": "c_4",
          "x": 3.2966485061398165,
          "y": 4.461894622503893
         },
         {
          "c_0": 4.837994361541052,
          "c_1": 4.206395223957486,
          "c_2": 6.9810967623472795,
          "c_3": 1.1789083641237055,
          "c_4": 7.721275194480129,
          "cluster": "c_3",
          "x": -2.9350336980536724,
          "y": 0.8629035415036439
         },
         {
          "c_0": 4.224590136255968,
          "c_1": 2.8620382894827037,
          "c_2": 6.44385131515391,
          "c_3": 2.19993056030812,
          "c_4": 6.7452945828692,
          "cluster": "c_3",
          "x": -2.212524709820998,
          "y": 2.074427305561648
         },
         {
          "c_0": 8.411705664876765,
          "c_1": 3.3616341431214916,
          "c_2": 4.025592966173539,
          "c_3": 8.245066609353827,
          "c_4": 1.754509465641312,
          "cluster": "c_4",
          "x": 3.351320181411543,
          "y": 4.469792992704232
         },
         {
          "c_0": 3.325619342129312,
          "c_1": 3.330169479884971,
          "c_2": 8.463271488863446,
          "c_3": 5.932734335626834,
          "c_4": 7.240596264192601,
          "cluster": "c_0",
          "x": -1.9489351635804752,
          "y": 6.486146482262974
         },
         {
          "c_0": 3.2066022374147334,
          "c_1": 4.099660923637347,
          "c_2": 9.227245046339203,
          "c_3": 6.361681916374962,
          "c_4": 7.947967928156334,
          "cluster": "c_0",
          "x": -2.4205682245072215,
          "y": 7.094248324062588
         },
         {
          "c_0": 6.755035692312497,
          "c_1": 1.4987924626893807,
          "c_2": 4.007728644338083,
          "c_3": 6.251142566699475,
          "c_4": 2.9625545104860636,
          "cluster": "c_1",
          "x": 1.5393311970108603,
          "y": 3.637416313602655
         },
         {
          "c_0": 4.781268561725772,
          "c_1": 2.8138760948643284,
          "c_2": 7.562162796053614,
          "c_3": 6.720159936900286,
          "c_4": 6.014249139308605,
          "cluster": "c_1",
          "x": -0.4450898868139055,
          "y": 6.593895369211095
         },
         {
          "c_0": 2.839666076930085,
          "c_1": 5.29091195288712,
          "c_2": 9.269423285710245,
          "c_3": 1.7013192951072595,
          "c_4": 9.520183935758816,
          "cluster": "c_3",
          "x": -5.039391511868977,
          "y": 2.3858940334276713
         },
         {
          "c_0": 7.655216593780348,
          "c_1": 2.538035663037086,
          "c_2": 3.988698184006006,
          "c_3": 7.419424682996812,
          "c_4": 2.190990549327441,
          "cluster": "c_4",
          "x": 2.56100753471331,
          "y": 4.208633540715855
         },
         {
          "c_0": 10.31275675970799,
          "c_1": 5.10531333007672,
          "c_2": 3.2510390164703415,
          "c_3": 9.61750103373681,
          "c_4": 0.8309646958183458,
          "cluster": "c_4",
          "x": 5.150562832186297,
          "y": 3.557286272881358
         },
         {
          "c_0": 2.7258400118028376,
          "c_1": 5.0626719888495755,
          "c_2": 9.09601159908558,
          "c_3": 1.7074428754676936,
          "c_4": 9.308739273670234,
          "cluster": "c_3",
          "x": -4.83587262549219,
          "y": 2.506354740935046
         },
         {
          "c_0": 4.214345397297474,
          "c_1": 5.11797940733302,
          "c_2": 8.324581665619313,
          "c_3": 0.19777809829710524,
          "c_4": 8.953340988761372,
          "cluster": "c_3",
          "x": -4.267779549584369,
          "y": 1.0800204776352187
         },
         {
          "c_0": 4.570722277729154,
          "c_1": 4.388122723206533,
          "c_2": 9.2248336686721,
          "c_3": 7.527721370196276,
          "c_4": 7.594427210086575,
          "cluster": "c_1",
          "x": -1.3743733033734233,
          "y": 7.974064295420261
         },
         {
          "c_0": 3.900015553037956,
          "c_1": 4.064584468174039,
          "c_2": 9.070935380790864,
          "c_3": 6.870002989790562,
          "c_4": 7.617550959774739,
          "cluster": "c_0",
          "x": -1.8130281928419998,
          "y": 7.435636767816887
         },
         {
          "c_0": 3.545577638438961,
          "c_1": 4.23718987729159,
          "c_2": 7.900272804185594,
          "c_3": 1.0331553972426326,
          "c_4": 8.273085801370835,
          "cluster": "c_3",
          "x": -3.734718898419015,
          "y": 1.9235968264526
         },
         {
          "c_0": 3.8331547698042243,
          "c_1": 4.452582703122492,
          "c_2": 7.9134419144568575,
          "c_3": 0.7038084550180743,
          "c_4": 8.391991260343397,
          "cluster": "c_3",
          "x": -3.8011698468708217,
          "y": 1.5934556531142814
         },
         {
          "c_0": 2.259933655578584,
          "c_1": 3.610354299219097,
          "c_2": 8.792156163410727,
          "c_3": 5.120429159112123,
          "c_4": 7.859001390052476,
          "cluster": "c_0",
          "x": -2.8794867102191177,
          "y": 5.9313647557706375
         },
         {
          "c_0": 3.7213791616250482,
          "c_1": 3.2722309942514625,
          "c_2": 7.062037068432304,
          "c_3": 1.8220184933133667,
          "c_4": 7.314404981146689,
          "cluster": "c_3",
          "x": -2.8091118897893206,
          "y": 2.236811495178256
         },
         {
          "c_0": 7.949734458338985,
          "c_1": 3.0694038067152873,
          "c_2": 4.561006015955839,
          "c_3": 8.068230362539806,
          "c_4": 2.3813324527310877,
          "cluster": "c_4",
          "x": 2.9176677980388197,
          "y": 4.924567190993635
         },
         {
          "c_0": 4.664202179733094,
          "c_1": 6.90287575586885,
          "c_2": 10.134195492474245,
          "c_3": 2.0049153346066637,
          "c_4": 10.823216534626004,
          "cluster": "c_3",
          "x": -6.095771435841543,
          "y": 0.6855789758036193
         },
         {
          "c_0": 5.370885807262748,
          "c_1": 7.5844209191538186,
          "c_2": 10.584511884990535,
          "c_3": 2.586637420015132,
          "c_4": 11.403248442262795,
          "cluster": "c_3",
          "x": -6.538956115613873,
          "y": 0.07203720627850418
         },
         {
          "c_0": 9.3281188118915,
          "c_1": 4.99410383083401,
          "c_2": 6.10686476444338,
          "c_3": 10.045858724408003,
          "c_4": 3.512178964754071,
          "cluster": "c_4",
          "x": 4.198782677349853,
          "y": 6.607703173491531
         },
         {
          "c_0": 3.1018715574470743,
          "c_1": 4.590135518298014,
          "c_2": 9.728742185867976,
          "c_3": 6.572194904932372,
          "c_4": 8.449315024468161,
          "cluster": "c_0",
          "x": -2.8194319885761696,
          "y": 7.405218787061833
         },
         {
          "c_0": 2.809248477615742,
          "c_1": 4.859396032427249,
          "c_2": 8.860855964174466,
          "c_3": 1.5679038618372283,
          "c_4": 9.08547106754209,
          "cluster": "c_3",
          "x": -4.60806053611309,
          "y": 2.4476000489835057
         },
         {
          "c_0": 2.3234301697075583,
          "c_1": 5.013360364536358,
          "c_2": 10.199664225181715,
          "c_3": 6.191282033566471,
          "c_4": 9.105006808495805,
          "cluster": "c_0",
          "x": -3.708763799470766,
          "y": 7.139230284783846
         },
         {
          "c_0": 4.8602563670023855,
          "c_1": 2.9290883616687045,
          "c_2": 5.954319690396704,
          "c_3": 2.3693541500126556,
          "c_4": 6.458783720970016,
          "cluster": "c_3",
          "x": -1.820735014083239,
          "y": 1.5723109297499445
         },
         {
          "c_0": 2.7067632788720712,
          "c_1": 3.3534575359076464,
          "c_2": 8.539587732967691,
          "c_3": 5.359019469886752,
          "c_4": 7.508481114618893,
          "cluster": "c_0",
          "x": -2.4503278010408316,
          "y": 6.05654537286997
         },
         {
          "c_0": 8.939264808022886,
          "c_1": 3.875732366329968,
          "c_2": 3.941953064360388,
          "c_3": 8.713748617155836,
          "c_4": 1.4554381459435972,
          "cluster": "c_4",
          "x": 3.878471510014597,
          "y": 4.441760607343602
         },
         {
          "c_0": 3.016646898457086,
          "c_1": 3.9823381045111037,
          "c_2": 9.133436101312832,
          "c_3": 6.1320401082599725,
          "c_4": 7.914418241205748,
          "cluster": "c_0",
          "x": -2.5030612427925245,
          "y": 6.8787341893846135
         },
         {
          "c_0": 4.791943025595112,
          "c_1": 2.633812188270964,
          "c_2": 7.3884406686958215,
          "c_3": 6.6093363032191474,
          "c_4": 5.867050135878457,
          "cluster": "c_1",
          "x": -0.3860446911109443,
          "y": 6.421406825352623
         },
         {
          "c_0": 5.878897801554151,
          "c_1": 3.541028540431221,
          "c_2": 5.440458545940748,
          "c_3": 2.731454433164164,
          "c_4": 6.371193059750527,
          "cluster": "c_3",
          "x": -1.4028829921690344,
          "y": 0.5960812165874665
         },
         {
          "c_0": 4.821752552458421,
          "c_1": 5.520685482602849,
          "c_2": 8.358410699015021,
          "c_3": 0.5479028079207828,
          "c_4": 9.166286791133857,
          "cluster": "c_3",
          "x": -4.3214972190088305,
          "y": 0.45557685279762306
         },
         {
          "c_0": 3.443277229424844,
          "c_1": 3.563535772744623,
          "c_2": 8.668572367350652,
          "c_3": 6.199616632088837,
          "c_4": 7.379427225957517,
          "cluster": "c_0",
          "x": -1.9499965386132838,
          "y": 6.772171399377534
         },
         {
          "c_0": 4.670375094704875,
          "c_1": 4.954162624679435,
          "c_2": 7.846225587055634,
          "c_3": 0.38909348573598307,
          "c_4": 8.598253201761388,
          "cluster": "c_3",
          "x": -3.8065198640531026,
          "y": 0.7172739396272998
         },
         {
          "c_0": 8.27664635230325,
          "c_1": 3.175438186095865,
          "c_2": 3.864742360558381,
          "c_3": 8.021961649058037,
          "c_4": 1.7182367253095956,
          "cluster": "c_4",
          "x": 3.1955225765119035,
          "y": 4.275058810769702
         },
         {
          "c_0": 9.27982638917356,
          "c_1": 4.280836681052008,
          "c_2": 4.216829677343786,
          "c_3": 9.154375352342566,
          "c_4": 1.6243516066860573,
          "cluster": "c_4",
          "x": 4.239401714848933,
          "y": 4.71494637067984
         },
         {
          "c_0": 8.709577510062317,
          "c_1": 4.163104163015302,
          "c_2": 5.418239020105174,
          "c_3": 9.208000910184692,
          "c_4": 2.914230304848296,
          "cluster": "c_4",
          "x": 3.6564409425329507,
          "y": 5.9078610654112484
         },
         {
          "c_0": 4.988313108369101,
          "c_1": 5.314327784362822,
          "c_2": 8.007734971331082,
          "c_3": 0.626419791048539,
          "c_4": 8.862005454369006,
          "cluster": "c_3",
          "x": -3.969503194428266,
          "y": 0.35046048128549023
         },
         {
          "c_0": 3.412833220292292,
          "c_1": 4.828947761382259,
          "c_2": 8.51506717401195,
          "c_3": 0.9514264102330693,
          "c_4": 8.905336628332503,
          "cluster": "c_3",
          "x": -4.366690232189434,
          "y": 1.8770595042303855
         },
         {
          "c_0": 4.389772975587976,
          "c_1": 4.648549462856688,
          "c_2": 9.550688712419955,
          "c_3": 7.545143234419533,
          "c_4": 7.957987158410207,
          "cluster": "c_0",
          "x": -1.7255805513132565,
          "y": 8.119474145623638
         },
         {
          "c_0": 10.384105419747991,
          "c_1": 5.161161869128743,
          "c_2": 3.1194451074762406,
          "c_3": 9.619814469095123,
          "c_4": 0.7984666412425723,
          "cluster": "c_4",
          "x": 5.195853660717081,
          "y": 3.3991028994994004
         },
         {
          "c_0": 7.338517630183078,
          "c_1": 2.5529824919194106,
          "c_2": 4.8338274767072615,
          "c_3": 7.593443666499832,
          "c_4": 2.873536882242493,
          "cluster": "c_1",
          "x": 2.3092025088353765,
          "y": 5.017560404617329
         },
         {
          "c_0": 3.646509925133765,
          "c_1": 4.5563413219051485,
          "c_2": 8.123152371076628,
          "c_3": 0.776212075763019,
          "c_4": 8.558429967243663,
          "cluster": "c_3",
          "x": -3.993414756175995,
          "y": 1.728382412630089
         },
         {
          "c_0": 3.583349748354555,
          "c_1": 3.7013056912105182,
          "c_2": 8.777308516031114,
          "c_3": 6.404438783810091,
          "c_4": 7.4346881290182285,
          "cluster": "c_0",
          "x": -1.896809014730024,
          "y": 6.970883551267119
         },
         {
          "c_0": 8.29172181321357,
          "c_1": 3.2013341679367797,
          "c_2": 3.901460836872453,
          "c_3": 8.057479718183444,
          "c_4": 1.7327997780340065,
          "cluster": "c_4",
          "x": 3.2154310458008917,
          "y": 4.317012282312302
         },
         {
          "c_0": 8.917783683400126,
          "c_1": 4.07049069498667,
          "c_2": 4.676591862799263,
          "c_3": 9.044114016830695,
          "c_4": 2.147465967974586,
          "cluster": "c_4",
          "x": 3.8912856951039725,
          "y": 5.177315709285384
         },
         {
          "c_0": 7.392966471543866,
          "c_1": 3.0946326465351857,
          "c_2": 5.672830708433854,
          "c_3": 8.128053553806668,
          "c_4": 3.519187163144938,
          "cluster": "c_1",
          "x": 2.334437687410787,
          "y": 5.91436842137857
         },
         {
          "c_0": 2.4412467018794968,
          "c_1": 3.6544797025776883,
          "c_2": 8.841724321485758,
          "c_3": 5.359841223870637,
          "c_4": 7.836285904980454,
          "cluster": "c_0",
          "x": -2.7668569597380435,
          "y": 6.149812073289608
         },
         {
          "c_0": 3.8662990400316493,
          "c_1": 4.673372909771922,
          "c_2": 9.697647939383106,
          "c_3": 7.188090947804207,
          "c_4": 8.22946930175535,
          "cluster": "c_0",
          "x": -2.2343928756590334,
          "y": 7.900066675947174
         },
         {
          "c_0": 3.280721955912122,
          "c_1": 5.3684419897665645,
          "c_2": 9.128013338083962,
          "c_3": 1.3114592241290695,
          "c_4": 9.501222157142843,
          "cluster": "c_3",
          "x": -4.976582795946947,
          "y": 1.9451860514858275
         },
         {
          "c_0": 9.434001239346266,
          "c_1": 5.182512302210189,
          "c_2": 6.338535833231631,
          "c_3": 10.234025513857981,
          "c_4": 3.7370553090591687,
          "cluster": "c_4",
          "x": 4.268936151342681,
          "y": 6.837270491410566
         },
         {
          "c_0": 10.230320922594467,
          "c_1": 5.217638019647605,
          "c_2": 4.376460247720605,
          "c_3": 10.034006706003167,
          "c_4": 1.7797836005553884,
          "cluster": "c_4",
          "x": 5.191668027813501,
          "y": 4.724318644613157
         },
         {
          "c_0": 4.011930880850096,
          "c_1": 4.975864013671369,
          "c_2": 9.98297840370565,
          "c_3": 7.449501437813192,
          "c_4": 8.478632599257857,
          "cluster": "c_0",
          "x": -2.327665596533998,
          "y": 8.19413203923181
         },
         {
          "c_0": 2.454260067302998,
          "c_1": 4.903142031492478,
          "c_2": 10.086390891116606,
          "c_3": 6.237407614010223,
          "c_4": 8.960321938815579,
          "cluster": "c_0",
          "x": -3.5307374303365098,
          "y": 7.171418915921599
         },
         {
          "c_0": 9.015865811196877,
          "c_1": 4.766495667850831,
          "c_2": 6.1743900766624655,
          "c_3": 9.816593803162933,
          "c_4": 3.6174334078898283,
          "cluster": "c_4",
          "x": 3.8721907400087767,
          "y": 6.675183618265031
         },
         {
          "c_0": 6.021239002032092,
          "c_1": 4.812950710353424,
          "c_2": 9.108248012811082,
          "c_3": 8.676005961233837,
          "c_4": 7.1415558913326,
          "cluster": "c_1",
          "x": -0.06401482556326865,
          "y": 8.635863594978094
         },
         {
          "c_0": 3.4394935263783983,
          "c_1": 3.986733009276903,
          "c_2": 9.082176413489197,
          "c_3": 6.474096288325621,
          "c_4": 7.751280434355118,
          "cluster": "c_0",
          "x": -2.1666122188999832,
          "y": 7.136528567380284
         },
         {
          "c_0": 8.000938005501617,
          "c_1": 3.5672004752447517,
          "c_2": 5.517552028835956,
          "c_3": 8.618595049152484,
          "c_4": 3.1863853995710723,
          "cluster": "c_4",
          "x": 2.9451127802059633,
          "y": 5.911466625366058
         },
         {
          "c_0": 3.4091425177827075,
          "c_1": 4.572445677259962,
          "c_2": 9.672482918729173,
          "c_3": 6.796294970100365,
          "c_4": 8.317668588962915,
          "cluster": "c_0",
          "x": -2.558861451215659,
          "y": 7.57790476031434
         },
         {
          "c_0": 5.795855819289245,
          "c_1": 4.672921932946631,
          "c_2": 9.0566951817673,
          "c_3": 8.465631969291454,
          "c_4": 7.13978835493544,
          "cluster": "c_1",
          "x": -0.23616136397077558,
          "y": 8.488330945039158
         },
         {
          "c_0": 4.505562244938817,
          "c_1": 4.320686169140141,
          "c_2": 9.173951538484339,
          "c_3": 7.445817581452638,
          "c_4": 7.561085611216498,
          "cluster": "c_1",
          "x": -1.396639708698141,
          "y": 7.8948309416834475
         },
         {
          "c_0": 3.2499735960710994,
          "c_1": 4.407995205993976,
          "c_2": 8.219925380671443,
          "c_3": 1.1780124636042397,
          "c_4": 8.528279231788256,
          "cluster": "c_3",
          "x": -4.019405759011894,
          "y": 2.1354887998863057
         },
         {
          "c_0": 3.612274585416505,
          "c_1": 4.8643401085857185,
          "c_2": 8.435674864521037,
          "c_3": 0.7516453027464975,
          "c_4": 8.883827032964257,
          "cluster": "c_3",
          "x": -4.315839368514983,
          "y": 1.6838248295344886
         },
         {
          "c_0": 4.106580024888036,
          "c_1": 4.112712492158303,
          "c_2": 9.07029868276342,
          "c_3": 7.048208376748054,
          "c_4": 7.562961919659491,
          "cluster": "c_0",
          "x": -1.6527069717455238,
          "y": 7.566985588095034
         },
         {
          "c_0": 4.8709602767868,
          "c_1": 5.61464552790875,
          "c_2": 8.431504931789748,
          "c_3": 0.6325947886809647,
          "c_4": 9.253089325712011,
          "cluster": "c_3",
          "x": -4.394044395562428,
          "y": 0.39578684278976284
         },
         {
          "c_0": 4.606933773373851,
          "c_1": 3.407238674306892,
          "c_2": 6.495334718845699,
          "c_3": 1.787982572344324,
          "c_4": 7.040801472134721,
          "cluster": "c_3",
          "x": -2.3894584779190744,
          "y": 1.4478922502386296
         },
         {
          "c_0": 9.24177935402397,
          "c_1": 3.976145171716138,
          "c_2": 2.0874941419506214,
          "c_3": 8.1019856823485,
          "c_4": 0.8159834445602785,
          "cluster": "c_4",
          "x": 3.828693232967412,
          "y": 2.5800846503220027
         },
         {
          "c_0": 3.4123365184597483,
          "c_1": 4.691091930100903,
          "c_2": 9.79234895507563,
          "c_3": 6.863520938768855,
          "c_4": 8.433844541795407,
          "cluster": "c_0",
          "x": -2.6407804589703914,
          "y": 7.665410214134602
         },
         {
          "c_0": 8.666242184591113,
          "c_1": 4.006571940164284,
          "c_2": 5.1396263949183245,
          "c_3": 9.03782225483517,
          "c_4": 2.652662963243248,
          "cluster": "c_4",
          "x": 3.63059175622074,
          "y": 5.626538276024883
         },
         {
          "c_0": 7.691701147257985,
          "c_1": 3.143466462458178,
          "c_2": 5.265101053307679,
          "c_3": 8.195316361889837,
          "c_4": 3.06182908060206,
          "cluster": "c_4",
          "x": 2.656972382257221,
          "y": 5.584072414570967
         },
         {
          "c_0": 5.432043186966863,
          "c_1": 5.044638741774255,
          "c_2": 7.366282238976867,
          "c_3": 1.1931723716398104,
          "c_4": 8.342125523851024,
          "cluster": "c_3",
          "x": -3.3167395096334387,
          "y": 0.06953714775265518
         },
         {
          "c_0": 4.2180798558256525,
          "c_1": 5.319328820892683,
          "c_2": 8.535728109391398,
          "c_3": 0.38089353034426277,
          "c_4": 9.17031988715814,
          "cluster": "c_3",
          "x": -4.48186637862007,
          "y": 1.0427421741864698
         },
         {
          "c_0": 9.816017744096152,
          "c_1": 5.557916536429408,
          "c_2": 6.49618613612725,
          "c_3": 10.60983498476655,
          "c_4": 3.8711292315124806,
          "cluster": "c_4",
          "x": 4.633079968330454,
          "y": 6.971747888374574
         },
         {
          "c_0": 4.777001137598466,
          "c_1": 3.6560385440186667,
          "c_2": 6.550244272715595,
          "c_3": 1.6473342040899446,
          "c_4": 7.192369471842582,
          "cluster": "c_3",
          "x": -2.4778487191261265,
          "y": 1.1851353215783071
         },
         {
          "c_0": 2.584868617680142,
          "c_1": 5.269171986096388,
          "c_2": 10.450041274459412,
          "c_3": 6.521930269280053,
          "c_4": 9.293483721719884,
          "cluster": "c_0",
          "x": -3.7493315292728564,
          "y": 7.472911946433689
         },
         {
          "c_0": 5.151835472552353,
          "c_1": 4.020787821227651,
          "c_2": 6.5538203961932675,
          "c_3": 1.6135531898739441,
          "c_4": 7.360961689354185,
          "cluster": "c_3",
          "x": -2.513167846425066,
          "y": 0.7282826985297352
         },
         {
          "c_0": 4.36320685447353,
          "c_1": 5.136586693845145,
          "c_2": 8.247524864229511,
          "c_3": 0.09132664735376338,
          "c_4": 8.9190251412363,
          "cluster": "c_3",
          "x": -4.19908156633645,
          "y": 0.9414700445924489
         },
         {
          "c_0": 9.495712593223653,
          "c_1": 4.251885397967653,
          "c_2": 2.8020286416228743,
          "c_3": 8.6999260493687,
          "c_4": 0.2637824233640546,
          "cluster": "c_4",
          "x": 4.271072712583194,
          "y": 3.295203753782223
         },
         {
          "c_0": 4.802723827549549,
          "c_1": 3.9760758804871656,
          "c_2": 6.800308908950449,
          "c_3": 1.3649733349854447,
          "c_4": 7.500681396804203,
          "cluster": "c_3",
          "x": -2.745415005297165,
          "y": 0.9990173553523058
         },
         {
          "c_0": 3.9139297718774135,
          "c_1": 3.5960766941426945,
          "c_2": 8.604167039398058,
          "c_3": 6.59248813029118,
          "c_4": 7.185069511641819,
          "cluster": "c_1",
          "x": -1.558235435775204,
          "y": 7.039615469011263
         },
         {
          "c_0": 8.720583778117115,
          "c_1": 3.644684749055204,
          "c_2": 3.900576462953039,
          "c_3": 8.484871762632324,
          "c_4": 1.5093787110475745,
          "cluster": "c_4",
          "x": 3.653585058375629,
          "y": 4.384695888947945
         },
         {
          "c_0": 4.969433976256006,
          "c_1": 4.3138883527710705,
          "c_2": 6.978900835252669,
          "c_3": 1.1963681852094938,
          "c_4": 7.768918684219272,
          "cluster": "c_3",
          "x": -2.938876303400277,
          "y": 0.7158014357588617
         },
         {
          "c_0": 8.77619501031875,
          "c_1": 3.685338621009325,
          "c_2": 3.836120669358985,
          "c_3": 8.506590052079806,
          "c_4": 1.432020463008898,
          "cluster": "c_4",
          "x": 3.7034618794666656,
          "y": 4.3246000320893465
         },
         {
          "c_0": 2.2144526934346973,
          "c_1": 4.972954079786844,
          "c_2": 10.160173832179005,
          "c_3": 6.08291364475881,
          "c_4": 9.092943060236486,
          "cluster": "c_0",
          "x": -3.7470239327664925,
          "y": 7.033036920110417
         },
         {
          "c_0": 7.29231651290222,
          "c_1": 2.3501091121986213,
          "c_2": 4.536305914862153,
          "c_3": 7.358057453681459,
          "c_4": 2.7073775958427646,
          "cluster": "c_1",
          "x": 2.2447838228153953,
          "y": 4.670339840078611
         },
         {
          "c_0": 3.208637002775414,
          "c_1": 3.600314172349149,
          "c_2": 8.73871208962874,
          "c_3": 6.028946609839554,
          "c_4": 7.5103896079152666,
          "cluster": "c_0",
          "x": -2.15901829779679,
          "y": 6.665550767402258
         },
         {
          "c_0": 4.452548511458102,
          "c_1": 4.1980966267382485,
          "c_2": 9.06240448781243,
          "c_3": 7.340428558069801,
          "c_4": 7.466805224070384,
          "cluster": "c_1",
          "x": -1.3743019305364712,
          "y": 7.772607829616678
         },
         {
          "c_0": 4.357578328602569,
          "c_1": 5.521966407916809,
          "c_2": 8.668720957608025,
          "c_3": 0.5189429900539131,
          "c_4": 9.344156744691103,
          "cluster": "c_3",
          "x": -4.6234490131637465,
          "y": 0.8866196130444182
         }
        ],
        "data-6ae30e1b1e8aecb09a82518d2ca84655": [
         {
          "x": -5.026367649951281,
          "y": 5.225530243840591
         },
         {
          "x": 0.052237739847592835,
          "y": 3.824317078386269
         },
         {
          "x": 4.036779016744157,
          "y": 0.5029876137663731
         },
         {
          "x": -4.109857525590817,
          "y": 0.9609540654788118
         },
         {
          "x": 4.4536113655952665,
          "y": 3.1047810475931983
         }
        ]
       },
       "layer": [
        {
         "data": {
          "name": "data-13ee3c48211ef91a87c73b624fcbe523"
         },
         "encoding": {
          "color": {
           "field": "cluster",
           "scale": {
            "scheme": "category10"
           },
           "type": "nominal"
          },
          "tooltip": [
           {
            "field": "x",
            "type": "quantitative"
           },
           {
            "field": "y",
            "type": "quantitative"
           },
           {
            "field": "cluster",
            "type": "nominal"
           }
          ],
          "x": {
           "field": "x",
           "type": "quantitative"
          },
          "y": {
           "field": "y",
           "type": "quantitative"
          }
         },
         "mark": {
          "opacity": 0.5,
          "size": 60,
          "type": "circle"
         },
         "selection": {
          "selector027": {
           "bind": "scales",
           "encodings": [
            "x",
            "y"
           ],
           "type": "interval"
          }
         }
        },
        {
         "data": {
          "name": "data-6ae30e1b1e8aecb09a82518d2ca84655"
         },
         "encoding": {
          "x": {
           "field": "x",
           "type": "quantitative"
          },
          "y": {
           "field": "y",
           "type": "quantitative"
          }
         },
         "mark": {
          "color": "black",
          "opacity": 1,
          "size": 100,
          "type": "point"
         },
         "selection": {
          "selector028": {
           "bind": "scales",
           "encodings": [
            "x",
            "y"
           ],
           "type": "interval"
          }
         }
        }
       ]
      },
      "image/png": "[encoded data removed]",
      "text/plain": [
       "<VegaLite 3 object>\n",
       "\n",
       "If you see this message, it means the renderer has not been properly enabled\n",
       "for the frontend that you are using. For more information, see\n",
       "https://altair-viz.github.io/user_guide/troubleshooting.html\n"
      ]
     },
     "execution_count": 42,
     "metadata": {},
     "output_type": "execute_result"
    }
   ],
   "source": [
    "plot_result()"
   ]
  },
  {
   "cell_type": "markdown",
   "metadata": {},
   "source": [
    "## Update!"
   ]
  },
  {
   "cell_type": "markdown",
   "metadata": {},
   "source": [
    "As you have probably observed by now, the centroids are not located in the middle of the assigned data points.\n",
    "\n",
    "Thus, to update the centroids, we are simply calculating the mean of the assigned data points along each feature."
   ]
  },
  {
   "cell_type": "code",
   "execution_count": 26,
   "metadata": {},
   "outputs": [],
   "source": [
    "def update_centroids():\n",
    "    for i in range(k):\n",
    "        centroids.iloc[i] = df[df['cluster']==centroid_labels[i]][['x', 'y']].mean()"
   ]
  },
  {
   "cell_type": "code",
   "execution_count": 46,
   "metadata": {},
   "outputs": [
    {
     "data": {
      "application/vnd.vegalite.v3+json": {
       "$schema": "https://vega.github.io/schema/vega-lite/v3.4.0.json",
       "config": {
        "mark": {
         "tooltip": null
        },
        "view": {
         "height": 300,
         "width": 400
        }
       },
       "datasets": {
        "data-13ee3c48211ef91a87c73b624fcbe523": [
         {
          "c_0": 10.121127977213744,
          "c_1": 4.940576345489487,
          "c_2": 3.4249948121668154,
          "c_3": 9.532618384626081,
          "c_4": 0.8733412139077217,
          "cluster": "c_4",
          "x": 4.992707579235362,
          "y": 3.791876490998789
         },
         {
          "c_0": 2.742749442937794,
          "c_1": 4.166599932387344,
          "c_2": 9.338042196348468,
          "c_3": 6.02753235210687,
          "c_4": 8.1754935521451,
          "cluster": "c_0",
          "x": -2.8147582943307947,
          "y": 6.847707350345154
         },
         {
          "c_0": 5.688972537172404,
          "c_1": 4.61109688693711,
          "c_2": 9.036633034586028,
          "c_3": 8.367347452861669,
          "c_4": 7.143962145116406,
          "cluster": "c_1",
          "x": -0.31924021835713745,
          "y": 8.420426153167801
         },
         {
          "c_0": 8.593921210529055,
          "c_1": 3.577812328001907,
          "c_2": 4.127099843552397,
          "c_3": 8.475926539861012,
          "c_4": 1.7503084761553902,
          "cluster": "c_4",
          "x": 3.5448060416622496,
          "y": 4.600659600448479
         },
         {
          "c_0": 8.216926493011313,
          "c_1": 3.709082747400253,
          "c_2": 5.40428765695114,
          "c_3": 8.760099575711006,
          "c_4": 3.019621858687335,
          "cluster": "c_4",
          "x": 3.167779390955606,
          "y": 5.836950936611197
         },
         {
          "c_0": 5.090089064127194,
          "c_1": 3.3035696704947193,
          "c_2": 6.008087080467031,
          "c_3": 2.1885613615494552,
          "c_4": 6.6689946541883325,
          "cluster": "c_3",
          "x": -1.9326422182032195,
          "y": 1.1835171768524946
         },
         {
          "c_0": 4.909515658309788,
          "c_1": 3.7877139522327545,
          "c_2": 6.55079416895199,
          "c_3": 1.6173279611081932,
          "c_4": 7.253344897326458,
          "cluster": "c_3",
          "x": -2.4935993310958966,
          "y": 1.0197688808777028
         },
         {
          "c_0": 4.39915510620356,
          "c_1": 3.6056716955731365,
          "c_2": 8.477280409468653,
          "c_3": 6.953932394846194,
          "c_4": 6.932802095908031,
          "cluster": "c_1",
          "x": -1.1136453649393845,
          "y": 7.236293772654496
         },
         {
          "c_0": 8.531155706095888,
          "c_1": 3.8213162788752344,
          "c_2": 4.995234469680953,
          "c_3": 8.84625101253931,
          "c_4": 2.5492152955419516,
          "cluster": "c_4",
          "x": 3.501300650618791,
          "y": 5.469438089357613
         },
         {
          "c_0": 5.481233342872767,
          "c_1": 4.257770503571618,
          "c_2": 6.494317906042235,
          "c_3": 1.7511467387911406,
          "c_4": 7.426376025295353,
          "cluster": "c_3",
          "x": -2.456450598541372,
          "y": 0.38410015471477976
         },
         {
          "c_0": 7.463801821142662,
          "c_1": 2.216705517744136,
          "c_2": 3.5669112390511906,
          "c_3": 6.889840353093522,
          "c_4": 2.250497033850646,
          "cluster": "c_1",
          "x": 2.256958180581394,
          "y": 3.594119053616607
         },
         {
          "c_0": 2.260449358562879,
          "c_1": 3.0104222466307626,
          "c_2": 8.003764734545811,
          "c_3": 3.7943926488034805,
          "c_4": 7.464412335880385,
          "cluster": "c_0",
          "x": -2.8701274709765494,
          "y": 4.547105897872415
         },
         {
          "c_0": 10.330033741244169,
          "c_1": 5.090613530909776,
          "c_2": 2.9169048027013353,
          "c_3": 9.488347291015513,
          "c_4": 0.6623650882718821,
          "cluster": "c_4",
          "x": 5.106456068506325,
          "y": 3.2166796804820335
         },
         {
          "c_0": 7.985521353763338,
          "c_1": 2.9288369838635298,
          "c_2": 2.2668204227642095,
          "c_3": 6.376093325931434,
          "c_4": 2.579981079537016,
          "cluster": "c_2",
          "x": 2.2054923623827056,
          "y": 1.8389756446328742
         },
         {
          "c_0": 9.70717455389832,
          "c_1": 4.490645332439714,
          "c_2": 3.082027699129616,
          "c_3": 9.021885415356506,
          "c_4": 0.4471503830836757,
          "cluster": "c_4",
          "x": 4.5341639754109115,
          "y": 3.544615950873698
         },
         {
          "c_0": 3.416575044717936,
          "c_1": 4.230686656645187,
          "c_2": 9.327884031745873,
          "c_3": 6.605477731456941,
          "c_4": 7.986070563904318,
          "cluster": "c_0",
          "x": -2.3283665514134553,
          "y": 7.32166361471136
         },
         {
          "c_0": 4.228912420055415,
          "c_1": 2.8487062051902488,
          "c_2": 6.432968468892466,
          "c_3": 2.2135841345135208,
          "c_4": 6.7319966881179925,
          "cluster": "c_3",
          "x": -2.199916685657372,
          "y": 2.079918188462342
         },
         {
          "c_0": 3.914215292708981,
          "c_1": 2.4523218382606182,
          "c_2": 7.537971519568286,
          "c_3": 5.782170455159496,
          "c_4": 6.308176222769149,
          "cluster": "c_1",
          "x": -1.1788839841237861,
          "y": 5.945218231004108
         },
         {
          "c_0": 2.8413729657477953,
          "c_1": 3.992697882828253,
          "c_2": 8.105336747133535,
          "c_3": 1.7481678294124208,
          "c_4": 8.236576605067173,
          "cluster": "c_3",
          "x": -3.771803388106772,
          "y": 2.676124657554846
         },
         {
          "c_0": 9.335099481680652,
          "c_1": 4.250952682160526,
          "c_2": 3.867535175537819,
          "c_3": 9.043253379317013,
          "c_4": 1.2722599672121435,
          "cluster": "c_4",
          "x": 4.268850417711615,
          "y": 4.363553789714579
         },
         {
          "c_0": 5.200872003531795,
          "c_1": 5.109506559390767,
          "c_2": 7.620975542937151,
          "c_3": 0.9031850743382663,
          "c_4": 8.53182270065283,
          "cluster": "c_3",
          "x": -3.5793065285229395,
          "y": 0.23002389233112952
         },
         {
          "c_0": 3.8824762946156324,
          "c_1": 5.412625636570443,
          "c_2": 8.84040606862665,
          "c_3": 0.7610600687805684,
          "c_4": 9.381564202804553,
          "cluster": "c_3",
          "x": -4.762762737605848,
          "y": 1.352013156174695
         },
         {
          "c_0": 4.891600724835362,
          "c_1": 5.220523173915132,
          "c_2": 7.973860152434346,
          "c_3": 0.532994663053989,
          "c_4": 8.79848576992372,
          "cluster": "c_3",
          "x": -3.936947285848084,
          "y": 0.4567860777642546
         },
         {
          "c_0": 6.683855583335276,
          "c_1": 2.477244111280963,
          "c_2": 5.7481150845858915,
          "c_3": 7.467270117846789,
          "c_4": 3.8470480233483824,
          "cluster": "c_1",
          "x": 1.638653000267773,
          "y": 5.726953409475891
         },
         {
          "c_0": 8.269036244999622,
          "c_1": 3.7169387325397674,
          "c_2": 5.319247138422087,
          "c_3": 8.765636745779027,
          "c_4": 2.9255191804294265,
          "cluster": "c_4",
          "x": 3.2253787540690295,
          "y": 5.7599848301763545
         },
         {
          "c_0": 9.273319413890441,
          "c_1": 4.030473052571626,
          "c_2": 2.840159719390683,
          "c_3": 8.504187589782859,
          "c_4": 0.46538078145235806,
          "cluster": "c_4",
          "x": 4.053879797440727,
          "y": 3.3430958502511956
         },
         {
          "c_0": 8.144095794091339,
          "c_1": 3.269775394053657,
          "c_2": 4.563804715878169,
          "c_3": 8.262781577225935,
          "c_4": 2.298570627380382,
          "cluster": "c_4",
          "x": 3.11379604121127,
          "y": 4.972486009733003
         },
         {
          "c_0": 9.323303888508066,
          "c_1": 4.175313920352568,
          "c_2": 3.545852630201925,
          "c_3": 8.883761768509606,
          "c_4": 0.9674219658107509,
          "cluster": "c_4",
          "x": 4.221767773621107,
          "y": 4.044011481934876
         },
         {
          "c_0": 3.0611974331878415,
          "c_1": 4.929059142454387,
          "c_2": 10.075142535797088,
          "c_3": 6.72354404088842,
          "c_4": 8.79936232838454,
          "cluster": "c_0",
          "x": -3.105505175073226,
          "y": 7.609060624926846
         },
         {
          "c_0": 3.4383030925945235,
          "c_1": 4.5891519286951565,
          "c_2": 8.275414795752734,
          "c_3": 0.9483992825120745,
          "c_4": 8.654836081479912,
          "cluster": "c_3",
          "x": -4.118264224296733,
          "y": 1.9093160883826634
         },
         {
          "c_0": 4.541706826557369,
          "c_1": 2.125834832434416,
          "c_2": 7.0463298324045684,
          "c_3": 6.074421835832327,
          "c_4": 5.699141556245818,
          "cluster": "c_1",
          "x": -0.5304380603864569,
          "y": 5.868739404280083
         },
         {
          "c_0": 8.465463231675768,
          "c_1": 3.3942191547889213,
          "c_2": 3.9436140028702513,
          "c_3": 8.255952888405039,
          "c_4": 1.666551053574163,
          "cluster": "c_4",
          "x": 3.3982126832177686,
          "y": 4.39455856150984
         },
         {
          "c_0": 4.091437251445194,
          "c_1": 6.222481091870993,
          "c_2": 9.636267650056071,
          "c_3": 1.4814315017456956,
          "c_4": 10.214578395111197,
          "cluster": "c_3",
          "x": -5.576291332677907,
          "y": 1.1712186221605565
         },
         {
          "c_0": 3.603498395183643,
          "c_1": 3.629571681914442,
          "c_2": 8.703780380350219,
          "c_3": 6.373336983041345,
          "c_4": 7.363383855049354,
          "cluster": "c_0",
          "x": -1.8452626611925687,
          "y": 6.918389285398843
         },
         {
          "c_0": 7.6022293262526945,
          "c_1": 3.3365810958867663,
          "c_2": 5.756566265167051,
          "c_3": 8.371206696619566,
          "c_4": 3.525156472177045,
          "cluster": "c_1",
          "x": 2.5300492815432154,
          "y": 6.058869242303884
         },
         {
          "c_0": 5.255968236939179,
          "c_1": 6.269461852978855,
          "c_2": 11.09618146100367,
          "c_3": 8.910505126209266,
          "c_4": 9.358962605855409,
          "cluster": "c_0",
          "x": -2.217995294984081,
          "y": 9.668304920050215
         },
         {
          "c_0": 5.277242203496976,
          "c_1": 3.7767205734726588,
          "c_2": 6.225729890748905,
          "c_3": 1.9355530688096578,
          "c_4": 7.031836047754177,
          "cluster": "c_3",
          "x": -2.1827880309001646,
          "y": 0.7799323960267874
         },
         {
          "c_0": 3.834625746232369,
          "c_1": 3.0108132484746237,
          "c_2": 8.065511668346248,
          "c_3": 6.134823790909586,
          "c_4": 6.746120538365872,
          "cluster": "c_1",
          "x": -1.3970292330453886,
          "y": 6.4633740422413375
         },
         {
          "c_0": 1.6031452915993292,
          "c_1": 5.019007007902415,
          "c_2": 9.525237531211404,
          "c_3": 2.7959563948631216,
          "c_4": 9.430652062590973,
          "cluster": "c_0",
          "x": -4.962756084371339,
          "y": 3.6236474782483126
         },
         {
          "c_0": 7.793976450159875,
          "c_1": 2.7334181542048706,
          "c_2": 4.11390939141652,
          "c_3": 7.651173718582343,
          "c_4": 2.1619354029981808,
          "cluster": "c_4",
          "x": 2.723957501495625,
          "y": 4.401801555195944
         },
         {
          "c_0": 8.629721505851117,
          "c_1": 3.3712717323724535,
          "c_2": 2.826377255355553,
          "c_3": 7.826612966245011,
          "c_4": 1.089082309462379,
          "cluster": "c_4",
          "x": 3.3743403208328493,
          "y": 3.250638130799155
         },
         {
          "c_0": 3.687068421546608,
          "c_1": 4.112524835552421,
          "c_2": 9.163244325454839,
          "c_3": 6.740242015057285,
          "c_4": 7.760301580534768,
          "cluster": "c_0",
          "x": -2.028318885793513,
          "y": 7.371730875864139
         },
         {
          "c_0": 4.47402167689302,
          "c_1": 3.847029651865862,
          "c_2": 6.944123982830186,
          "c_3": 1.297733540254091,
          "c_4": 7.530590642826845,
          "cluster": "c_3",
          "x": -2.860189852433501,
          "y": 1.3108726962574497
         },
         {
          "c_0": 3.241857780972088,
          "c_1": 4.043359333261084,
          "c_2": 9.167054474584388,
          "c_3": 6.35411961970473,
          "c_4": 7.883020351146188,
          "cluster": "c_0",
          "x": -2.3599173722128004,
          "y": 7.069353659571515
         },
         {
          "c_0": 2.6115226977225148,
          "c_1": 3.3300668118370096,
          "c_2": 8.517317008827286,
          "c_3": 5.232220864014129,
          "c_4": 7.525650070225263,
          "cluster": "c_0",
          "x": -2.515740370372252,
          "y": 5.944419292132111
         },
         {
          "c_0": 2.7492540921541426,
          "c_1": 4.461523485543545,
          "c_2": 8.532389283729971,
          "c_3": 1.6362879996246065,
          "c_4": 8.704536991934742,
          "cluster": "c_3",
          "x": -4.235831378201481,
          "y": 2.5923856473031686
         },
         {
          "c_0": 3.3533964354359225,
          "c_1": 4.4764765266076525,
          "c_2": 8.22194436924263,
          "c_3": 1.0602888194046298,
          "c_4": 8.566823533945325,
          "cluster": "c_3",
          "x": -4.044152475439131,
          "y": 2.019205088128461
         },
         {
          "c_0": 6.168483469308425,
          "c_1": 4.553381330983094,
          "c_2": 6.161421251273138,
          "c_3": 2.33244180821801,
          "c_4": 7.32454393543146,
          "cluster": "c_3",
          "x": -2.0848179908811764,
          "y": -0.19641349566426025
         },
         {
          "c_0": 7.822590398418438,
          "c_1": 2.5601084423075355,
          "c_2": 3.203070180128673,
          "c_3": 7.09205803984662,
          "c_4": 1.9015008905440924,
          "cluster": "c_4",
          "x": 2.567911154087418,
          "y": 3.349403918680985
         },
         {
          "c_0": 8.32961479356937,
          "c_1": 3.311492357699042,
          "c_2": 4.141256052609196,
          "c_3": 8.22382152570539,
          "c_4": 1.8819001795441215,
          "cluster": "c_4",
          "x": 3.277734026857692,
          "y": 4.574087268233279
         },
         {
          "c_0": 1.7412510405951123,
          "c_1": 4.697342554545642,
          "c_2": 9.185210356652329,
          "c_3": 2.6210045252227996,
          "c_4": 9.099279563209208,
          "cluster": "c_0",
          "x": -4.635790385145341,
          "y": 3.5286494034188864
         },
         {
          "c_0": 7.845357763874291,
          "c_1": 3.68991676214822,
          "c_2": 5.994982255535637,
          "c_3": 8.716789664059867,
          "c_4": 3.675960722838563,
          "cluster": "c_4",
          "x": 2.7372010085085923,
          "y": 6.355415250627647
         },
         {
          "c_0": 9.456230497654598,
          "c_1": 4.459295631075543,
          "c_2": 4.250686903378529,
          "c_3": 9.325587990873506,
          "c_4": 1.632240565308709,
          "cluster": "c_4",
          "x": 4.417215243699945,
          "y": 4.7366157773836495
         },
         {
          "c_0": 2.849005766784154,
          "c_1": 2.985583257047203,
          "c_2": 8.17280229942705,
          "c_3": 5.148946409946624,
          "c_4": 7.186075842619899,
          "cluster": "c_0",
          "x": -2.226644542674664,
          "y": 5.753151681758661
         },
         {
          "c_0": 3.232308047301252,
          "c_1": 2.8572756798809125,
          "c_2": 8.027372503915764,
          "c_3": 5.454390883197138,
          "c_4": 6.931060820117759,
          "cluster": "c_1",
          "x": -1.8730132401233526,
          "y": 5.935580438310806
         },
         {
          "c_0": 5.449191841491403,
          "c_1": 5.044548019409148,
          "c_2": 9.634253813864465,
          "c_3": 8.453205895643901,
          "c_4": 7.797962921139675,
          "cluster": "c_1",
          "x": -0.895270518227884,
          "y": 8.779081736874453
         },
         {
          "c_0": 8.925086726472497,
          "c_1": 3.779003559378865,
          "c_2": 3.571588620433667,
          "c_3": 8.520031861948581,
          "c_4": 1.151250287236808,
          "cluster": "c_4",
          "x": 3.8233638008699486,
          "y": 4.0681943706382135
         },
         {
          "c_0": 3.003760769010821,
          "c_1": 5.078569338728168,
          "c_2": 10.232054646713067,
          "c_3": 6.75494455036632,
          "c_4": 8.970480786600492,
          "cluster": "c_0",
          "x": -3.2720237795453757,
          "y": 7.663737852273004
         },
         {
          "c_0": 4.134307614950591,
          "c_1": 5.586660492261941,
          "c_2": 8.87965381912989,
          "c_3": 0.7258938141685449,
          "c_4": 9.49160044541624,
          "cluster": "c_3",
          "x": -4.823035906214971,
          "y": 1.0962257434401197
         },
         {
          "c_0": 3.0621177002755573,
          "c_1": 4.00786697117792,
          "c_2": 9.153762083478533,
          "c_3": 6.186328922844925,
          "c_4": 7.92017825488669,
          "cluster": "c_0",
          "x": -2.481989638711916,
          "y": 6.929263012282426
         },
         {
          "c_0": 3.6838170389028186,
          "c_1": 2.525121229187741,
          "c_2": 7.6542589040515185,
          "c_3": 5.621979713710514,
          "c_4": 6.484061321409248,
          "cluster": "c_1",
          "x": -1.4026413382135083,
          "y": 5.888188220273449
         },
         {
          "c_0": 11.267488889258889,
          "c_1": 6.290568224849119,
          "c_2": 4.977278220247327,
          "c_3": 11.096378279752376,
          "c_4": 2.579221964744206,
          "cluster": "c_4",
          "x": 6.2381544704343135,
          "y": 4.966981855881707
         },
         {
          "c_0": 7.622580975883241,
          "c_1": 3.0174500402719597,
          "c_2": 5.155649079222429,
          "c_3": 8.068357233235407,
          "c_4": 2.995554657196106,
          "cluster": "c_4",
          "x": 2.592839222261643,
          "y": 5.452306283845808
         },
         {
          "c_0": 3.6448263069220794,
          "c_1": 3.046856850308801,
          "c_2": 8.140822444549087,
          "c_3": 6.00010590103983,
          "c_4": 6.871026347325647,
          "cluster": "c_1",
          "x": -1.5758523465992094,
          "y": 6.399712064924706
         },
         {
          "c_0": 4.9280151533671335,
          "c_1": 4.837603490527562,
          "c_2": 7.53647343184555,
          "c_3": 0.7413662863896698,
          "c_4": 8.356542460609944,
          "cluster": "c_3",
          "x": -3.4996035975131687,
          "y": 0.5399859979712982
         },
         {
          "c_0": 8.480266904266296,
          "c_1": 4.0096783274703425,
          "c_2": 5.535028816368825,
          "c_3": 9.060716513827261,
          "c_4": 3.0779539914181435,
          "cluster": "c_4",
          "x": 3.4181538239383076,
          "y": 6.003337317999659
         },
         {
          "c_0": 4.694003498918821,
          "c_1": 4.630666307904591,
          "c_2": 7.498844212170414,
          "c_3": 0.6728098315000869,
          "c_4": 8.2381152883994,
          "cluster": "c_3",
          "x": -3.4561027756629983,
          "y": 0.8019641402948852
         },
         {
          "c_0": 8.458609372434891,
          "c_1": 3.440354183858557,
          "c_2": 4.128508682579365,
          "c_3": 8.34487874512408,
          "c_4": 1.8109954770755268,
          "cluster": "c_4",
          "x": 3.4078259176319734,
          "y": 4.583306466656472
         },
         {
          "c_0": 3.3508913444154693,
          "c_1": 3.289224759581659,
          "c_2": 8.42056714177282,
          "c_3": 5.9242889901434,
          "c_4": 7.1970454492245475,
          "cluster": "c_1",
          "x": -1.9121565940567238,
          "y": 6.462527536247741
         },
         {
          "c_0": 4.496137715871451,
          "c_1": 6.077540576189087,
          "c_2": 9.219416799020037,
          "c_3": 1.0941554835927412,
          "c_4": 9.921316028758751,
          "cluster": "c_3",
          "x": -5.179792710223506,
          "y": 0.73201100932493
         },
         {
          "c_0": 5.109440168359692,
          "c_1": 6.283280625826214,
          "c_2": 11.151788189229903,
          "c_3": 8.815154065747105,
          "c_4": 9.449289290519964,
          "cluster": "c_0",
          "x": -2.400998435830731,
          "y": 9.608886871311777
         },
         {
          "c_0": 4.021309558919897,
          "c_1": 6.349182140531709,
          "c_2": 9.828236399304327,
          "c_3": 1.680499698208988,
          "c_4": 10.37806632127598,
          "cluster": "c_3",
          "x": -5.761329008955272,
          "y": 1.2719543473348034
         },
         {
          "c_0": 3.9205017077400597,
          "c_1": 4.131614490792021,
          "c_2": 7.573607303823707,
          "c_3": 0.9421633351378493,
          "c_4": 8.040784461495438,
          "cluster": "c_3",
          "x": -3.4517281990453563,
          "y": 1.6351480580498623
         },
         {
          "c_0": 3.919875691724905,
          "c_1": 2.1366288962736975,
          "c_2": 6.376221348745417,
          "c_3": 2.958687447793711,
          "c_4": 6.329834071180473,
          "cluster": "c_1",
          "x": -1.8728219284251428,
          "y": 2.8973174484071507
         },
         {
          "c_0": 7.777785038856021,
          "c_1": 3.1580391608679617,
          "c_2": 5.131625449951121,
          "c_3": 8.207078721962086,
          "c_4": 2.916329378323029,
          "cluster": "c_4",
          "x": 2.7475733756097096,
          "y": 5.470031862960572
         },
         {
          "c_0": 3.2294070954632303,
          "c_1": 2.3206803224384434,
          "c_2": 7.506248695741097,
          "c_3": 4.8522248553605785,
          "c_4": 6.600848366793977,
          "cluster": "c_1",
          "x": -1.7969606901360047,
          "y": 5.226466259286503
         },
         {
          "c_0": 7.674413266071865,
          "c_1": 2.8026498228054506,
          "c_2": 4.611344372188479,
          "c_3": 7.815077179944745,
          "c_4": 2.549730361677681,
          "cluster": "c_4",
          "x": 2.641054767664989,
          "y": 4.898036048021307
         },
         {
          "c_0": 3.7207792759464455,
          "c_1": 4.080133981506403,
          "c_2": 9.124315953312678,
          "c_3": 6.746188659395165,
          "c_4": 7.71491758542285,
          "cluster": "c_0",
          "x": -1.9802399679213891,
          "y": 7.362187578343192
         },
         {
          "c_0": 3.1514636617737852,
          "c_1": 3.2507913378228728,
          "c_2": 8.409873926775557,
          "c_3": 5.712894369035804,
          "c_4": 7.253885532666136,
          "cluster": "c_0",
          "x": -2.0615680207201628,
          "y": 6.294027492312322
         },
         {
          "c_0": 5.505700892461484,
          "c_1": 2.054348981603362,
          "c_2": 6.433835016743689,
          "c_3": 6.6751956046227265,
          "c_4": 4.8534525958086805,
          "cluster": "c_1",
          "x": 0.4448464745512313,
          "y": 5.840801176922427
         },
         {
          "c_0": 6.426259814352101,
          "c_1": 6.13288685286729,
          "c_2": 7.8564629299597595,
          "c_3": 2.0643369888552567,
          "c_4": 9.120952987837244,
          "cluster": "c_3",
          "x": -3.663735721551454,
          "y": -1.0546010787721838
         },
         {
          "c_0": 3.1090771849495145,
          "c_1": 4.83234773852817,
          "c_2": 9.972423392047727,
          "c_3": 6.709696129172484,
          "c_4": 8.685755340497643,
          "cluster": "c_0",
          "x": -2.9923406933740013,
          "y": 7.576933076596086
         },
         {
          "c_0": 3.8747754157847685,
          "c_1": 3.70353580289619,
          "c_2": 8.718492762112824,
          "c_3": 6.63089586710805,
          "c_4": 7.29915928485472,
          "cluster": "c_1",
          "x": -1.6442952425204436,
          "y": 7.116421767346106
         },
         {
          "c_0": 4.56799707546706,
          "c_1": 4.140492859026812,
          "c_2": 7.12735805487082,
          "c_3": 1.053495676672499,
          "c_4": 7.781888840618108,
          "cluster": "c_3",
          "x": -3.065549325901965,
          "y": 1.0997831864523122
         },
         {
          "c_0": 4.984980514301591,
          "c_1": 4.753840368656378,
          "c_2": 7.406124772906395,
          "c_3": 0.8598339174377728,
          "c_4": 8.237628596742654,
          "cluster": "c_3",
          "x": -3.3693158950593998,
          "y": 0.5240187624575787
         },
         {
          "c_0": 2.580599438247949,
          "c_1": 4.26619729422181,
          "c_2": 9.445723251200816,
          "c_3": 5.958047740303329,
          "c_4": 8.317974789239447,
          "cluster": "c_0",
          "x": -2.9919533811843007,
          "y": 6.813186391664465
         },
         {
          "c_0": 2.4678500779002293,
          "c_1": 3.5708518235487094,
          "c_2": 8.758025614247648,
          "c_3": 5.310192135962363,
          "c_4": 7.760888172788262,
          "cluster": "c_0",
          "x": -2.712658334707362,
          "y": 6.084036627943635
         },
         {
          "c_0": 4.151185675013572,
          "c_1": 5.966123672091816,
          "c_2": 11.010307325472937,
          "c_3": 8.001205399453191,
          "c_4": 9.509607684232485,
          "cluster": "c_0",
          "x": -3.088670770221576,
          "y": 8.896725323201487
         },
         {
          "c_0": 4.451279963425164,
          "c_1": 2.3337437734027056,
          "c_2": 7.262624814193671,
          "c_3": 6.152073095909713,
          "c_4": 5.893814015642098,
          "cluster": "c_1",
          "x": -0.6519723715490886,
          "y": 6.049277329469999
         },
         {
          "c_0": 4.31220732108612,
          "c_1": 6.1363112095020735,
          "c_2": 9.402750276052428,
          "c_3": 1.2470854279314478,
          "c_4": 10.049106689608307,
          "cluster": "c_3",
          "x": -5.35645229653163,
          "y": 0.9259749056549482
         },
         {
          "c_0": 4.952832986396831,
          "c_1": 6.056058749477515,
          "c_2": 8.894875176946023,
          "c_3": 1.012499211049557,
          "c_4": 9.729221071600447,
          "cluster": "c_3",
          "x": -4.855190666212232,
          "y": 0.27565620186956863
         },
         {
          "c_0": 7.041203725168873,
          "c_1": 2.208066009210779,
          "c_2": 4.802761745977846,
          "c_3": 7.249467045014151,
          "c_4": 3.0096641704621176,
          "cluster": "c_1",
          "x": 2.0050720631537353,
          "y": 4.85484781870868
         },
         {
          "c_0": 5.319305329524404,
          "c_1": 5.826090812932321,
          "c_2": 8.358604369121613,
          "c_3": 1.0239838545492512,
          "c_4": 9.306527572670843,
          "cluster": "c_3",
          "x": -4.303877150959868,
          "y": -0.04448082517756258
         },
         {
          "c_0": 2.5129972599436927,
          "c_1": 4.657807935010137,
          "c_2": 9.838800731822944,
          "c_3": 6.146955003283936,
          "c_4": 8.704682650770685,
          "cluster": "c_0",
          "x": -3.3032673890215754,
          "y": 7.054759786371678
         },
         {
          "c_0": 4.203609713564144,
          "c_1": 5.116605253358213,
          "c_2": 8.33001297091053,
          "c_3": 0.20767648255056423,
          "c_4": 8.955693181425893,
          "cluster": "c_3",
          "x": -4.272520159658217,
          "y": 1.0900679256287964
         },
         {
          "c_0": 6.363630551304559,
          "c_1": 1.2529865541685261,
          "c_2": 4.617601019148584,
          "c_3": 6.256993056990509,
          "c_4": 3.379495607177187,
          "cluster": "c_1",
          "x": 1.2518199627757425,
          "y": 4.186225623963568
         },
         {
          "c_0": 4.232693560426921,
          "c_1": 3.8152754529831903,
          "c_2": 8.736811878489826,
          "c_3": 6.962714174368424,
          "c_4": 7.217119068451283,
          "cluster": "c_1",
          "x": -1.3732034556442607,
          "y": 7.363306225067966
         },
         {
          "c_0": 9.31719618503628,
          "c_1": 4.377135988374321,
          "c_2": 4.438402335869193,
          "c_3": 9.288871955919184,
          "c_4": 1.8372268775499143,
          "cluster": "c_4",
          "x": 4.286278133605195,
          "y": 4.934371763863798
         },
         {
          "c_0": 5.330230488460109,
          "c_1": 5.560581247872207,
          "c_2": 8.035571816706048,
          "c_3": 0.9708590518432026,
          "c_4": 8.990259786251213,
          "cluster": "c_3",
          "x": -3.9829362550751424,
          "y": -0.0015729677189937341
         },
         {
          "c_0": 2.238954110369184,
          "c_1": 5.22141360791049,
          "c_2": 9.47032342310073,
          "c_3": 2.256571722592947,
          "c_4": 9.556065709343606,
          "cluster": "c_0",
          "x": -5.101738854640758,
          "y": 2.987845125276605
         },
         {
          "c_0": 5.012850828985055,
          "c_1": 5.216120837211975,
          "c_2": 9.981806131102624,
          "c_3": 8.258544342251945,
          "c_4": 8.248007869479242,
          "cluster": "c_0",
          "x": -1.512168958586073,
          "y": 8.800314292040316
         },
         {
          "c_0": 9.735894809064153,
          "c_1": 4.587990821185157,
          "c_2": 3.5761569530869823,
          "c_3": 9.267958832737271,
          "c_4": 0.9416272796252432,
          "cluster": "c_4",
          "x": 4.635676643488491,
          "y": 4.0286393529193445
         },
         {
          "c_0": 7.691443408841242,
          "c_1": 2.597832576988304,
          "c_2": 4.047653176233952,
          "c_3": 7.497489128067021,
          "c_4": 2.193463930624058,
          "cluster": "c_4",
          "x": 2.6079773113132703,
          "y": 4.290073818440699
         },
         {
          "c_0": 8.842742002224876,
          "c_1": 3.6967568303571885,
          "c_2": 3.5806428919013737,
          "c_3": 8.444312732111763,
          "c_4": 1.2010393456268917,
          "cluster": "c_4",
          "x": 3.7407300502442222,
          "y": 4.071370795090676
         },
         {
          "c_0": 8.880791841013005,
          "c_1": 3.894323277589291,
          "c_2": 4.228836904660284,
          "c_3": 8.797286296705332,
          "c_4": 1.7344842804174252,
          "cluster": "c_4",
          "x": 3.8404352936570962,
          "y": 4.727263967015658
         },
         {
          "c_0": 2.724996529684603,
          "c_1": 5.146865368478788,
          "c_2": 10.320365029570976,
          "c_3": 6.57352199148804,
          "c_4": 9.127403936708586,
          "cluster": "c_0",
          "x": -3.5404842469817552,
          "y": 7.50977116799304
         },
         {
          "c_0": 6.685864798103861,
          "c_1": 5.205371840270572,
          "c_2": 6.41812645190032,
          "c_3": 2.6056921176509413,
          "c_4": 7.772351668601152,
          "cluster": "c_3",
          "x": -2.2369748773543217,
          "y": -0.8506590272986996
         },
         {
          "c_0": 11.041163552323015,
          "c_1": 5.941589554497869,
          "c_2": 4.25684147943136,
          "c_3": 10.621309542712307,
          "c_4": 1.9305509429197212,
          "cluster": "c_4",
          "x": 5.975328515736325,
          "y": 4.292806240160595
         },
         {
          "c_0": 5.287630420366508,
          "c_1": 5.256736338484672,
          "c_2": 7.7184719189214235,
          "c_3": 0.9532013152107225,
          "c_4": 8.658337003320542,
          "cluster": "c_3",
          "x": -3.671900984565747,
          "y": 0.1143214323416244
         },
         {
          "c_0": 4.009782980719787,
          "c_1": 4.460211067427931,
          "c_2": 7.807602390949482,
          "c_3": 0.618057661671406,
          "c_4": 8.337109919292532,
          "cluster": "c_3",
          "x": -3.7148388543395288,
          "y": 1.4363018565892711
         },
         {
          "c_0": 3.368461136080126,
          "c_1": 3.5669534450151072,
          "c_2": 8.683867648297415,
          "c_3": 6.140094309089664,
          "c_4": 7.415033830563537,
          "cluster": "c_0",
          "x": -2.0136160051932417,
          "y": 6.732135020246781
         },
         {
          "c_0": 8.357974473323527,
          "c_1": 3.3064643269202154,
          "c_2": 4.027497719001031,
          "c_3": 8.192247334027785,
          "c_4": 1.7833452591593746,
          "cluster": "c_4",
          "x": 3.2966485061398165,
          "y": 4.461894622503893
         },
         {
          "c_0": 4.837994361541052,
          "c_1": 4.206395223957486,
          "c_2": 6.9810967623472795,
          "c_3": 1.1789083641237055,
          "c_4": 7.721275194480129,
          "cluster": "c_3",
          "x": -2.9350336980536724,
          "y": 0.8629035415036439
         },
         {
          "c_0": 4.224590136255968,
          "c_1": 2.8620382894827037,
          "c_2": 6.44385131515391,
          "c_3": 2.19993056030812,
          "c_4": 6.7452945828692,
          "cluster": "c_3",
          "x": -2.212524709820998,
          "y": 2.074427305561648
         },
         {
          "c_0": 8.411705664876765,
          "c_1": 3.3616341431214916,
          "c_2": 4.025592966173539,
          "c_3": 8.245066609353827,
          "c_4": 1.754509465641312,
          "cluster": "c_4",
          "x": 3.351320181411543,
          "y": 4.469792992704232
         },
         {
          "c_0": 3.325619342129312,
          "c_1": 3.330169479884971,
          "c_2": 8.463271488863446,
          "c_3": 5.932734335626834,
          "c_4": 7.240596264192601,
          "cluster": "c_0",
          "x": -1.9489351635804752,
          "y": 6.486146482262974
         },
         {
          "c_0": 3.2066022374147334,
          "c_1": 4.099660923637347,
          "c_2": 9.227245046339203,
          "c_3": 6.361681916374962,
          "c_4": 7.947967928156334,
          "cluster": "c_0",
          "x": -2.4205682245072215,
          "y": 7.094248324062588
         },
         {
          "c_0": 6.755035692312497,
          "c_1": 1.4987924626893807,
          "c_2": 4.007728644338083,
          "c_3": 6.251142566699475,
          "c_4": 2.9625545104860636,
          "cluster": "c_1",
          "x": 1.5393311970108603,
          "y": 3.637416313602655
         },
         {
          "c_0": 4.781268561725772,
          "c_1": 2.8138760948643284,
          "c_2": 7.562162796053614,
          "c_3": 6.720159936900286,
          "c_4": 6.014249139308605,
          "cluster": "c_1",
          "x": -0.4450898868139055,
          "y": 6.593895369211095
         },
         {
          "c_0": 2.839666076930085,
          "c_1": 5.29091195288712,
          "c_2": 9.269423285710245,
          "c_3": 1.7013192951072595,
          "c_4": 9.520183935758816,
          "cluster": "c_3",
          "x": -5.039391511868977,
          "y": 2.3858940334276713
         },
         {
          "c_0": 7.655216593780348,
          "c_1": 2.538035663037086,
          "c_2": 3.988698184006006,
          "c_3": 7.419424682996812,
          "c_4": 2.190990549327441,
          "cluster": "c_4",
          "x": 2.56100753471331,
          "y": 4.208633540715855
         },
         {
          "c_0": 10.31275675970799,
          "c_1": 5.10531333007672,
          "c_2": 3.2510390164703415,
          "c_3": 9.61750103373681,
          "c_4": 0.8309646958183458,
          "cluster": "c_4",
          "x": 5.150562832186297,
          "y": 3.557286272881358
         },
         {
          "c_0": 2.7258400118028376,
          "c_1": 5.0626719888495755,
          "c_2": 9.09601159908558,
          "c_3": 1.7074428754676936,
          "c_4": 9.308739273670234,
          "cluster": "c_3",
          "x": -4.83587262549219,
          "y": 2.506354740935046
         },
         {
          "c_0": 4.214345397297474,
          "c_1": 5.11797940733302,
          "c_2": 8.324581665619313,
          "c_3": 0.19777809829710524,
          "c_4": 8.953340988761372,
          "cluster": "c_3",
          "x": -4.267779549584369,
          "y": 1.0800204776352187
         },
         {
          "c_0": 4.570722277729154,
          "c_1": 4.388122723206533,
          "c_2": 9.2248336686721,
          "c_3": 7.527721370196276,
          "c_4": 7.594427210086575,
          "cluster": "c_1",
          "x": -1.3743733033734233,
          "y": 7.974064295420261
         },
         {
          "c_0": 3.900015553037956,
          "c_1": 4.064584468174039,
          "c_2": 9.070935380790864,
          "c_3": 6.870002989790562,
          "c_4": 7.617550959774739,
          "cluster": "c_0",
          "x": -1.8130281928419998,
          "y": 7.435636767816887
         },
         {
          "c_0": 3.545577638438961,
          "c_1": 4.23718987729159,
          "c_2": 7.900272804185594,
          "c_3": 1.0331553972426326,
          "c_4": 8.273085801370835,
          "cluster": "c_3",
          "x": -3.734718898419015,
          "y": 1.9235968264526
         },
         {
          "c_0": 3.8331547698042243,
          "c_1": 4.452582703122492,
          "c_2": 7.9134419144568575,
          "c_3": 0.7038084550180743,
          "c_4": 8.391991260343397,
          "cluster": "c_3",
          "x": -3.8011698468708217,
          "y": 1.5934556531142814
         },
         {
          "c_0": 2.259933655578584,
          "c_1": 3.610354299219097,
          "c_2": 8.792156163410727,
          "c_3": 5.120429159112123,
          "c_4": 7.859001390052476,
          "cluster": "c_0",
          "x": -2.8794867102191177,
          "y": 5.9313647557706375
         },
         {
          "c_0": 3.7213791616250482,
          "c_1": 3.2722309942514625,
          "c_2": 7.062037068432304,
          "c_3": 1.8220184933133667,
          "c_4": 7.314404981146689,
          "cluster": "c_3",
          "x": -2.8091118897893206,
          "y": 2.236811495178256
         },
         {
          "c_0": 7.949734458338985,
          "c_1": 3.0694038067152873,
          "c_2": 4.561006015955839,
          "c_3": 8.068230362539806,
          "c_4": 2.3813324527310877,
          "cluster": "c_4",
          "x": 2.9176677980388197,
          "y": 4.924567190993635
         },
         {
          "c_0": 4.664202179733094,
          "c_1": 6.90287575586885,
          "c_2": 10.134195492474245,
          "c_3": 2.0049153346066637,
          "c_4": 10.823216534626004,
          "cluster": "c_3",
          "x": -6.095771435841543,
          "y": 0.6855789758036193
         },
         {
          "c_0": 5.370885807262748,
          "c_1": 7.5844209191538186,
          "c_2": 10.584511884990535,
          "c_3": 2.586637420015132,
          "c_4": 11.403248442262795,
          "cluster": "c_3",
          "x": -6.538956115613873,
          "y": 0.07203720627850418
         },
         {
          "c_0": 9.3281188118915,
          "c_1": 4.99410383083401,
          "c_2": 6.10686476444338,
          "c_3": 10.045858724408003,
          "c_4": 3.512178964754071,
          "cluster": "c_4",
          "x": 4.198782677349853,
          "y": 6.607703173491531
         },
         {
          "c_0": 3.1018715574470743,
          "c_1": 4.590135518298014,
          "c_2": 9.728742185867976,
          "c_3": 6.572194904932372,
          "c_4": 8.449315024468161,
          "cluster": "c_0",
          "x": -2.8194319885761696,
          "y": 7.405218787061833
         },
         {
          "c_0": 2.809248477615742,
          "c_1": 4.859396032427249,
          "c_2": 8.860855964174466,
          "c_3": 1.5679038618372283,
          "c_4": 9.08547106754209,
          "cluster": "c_3",
          "x": -4.60806053611309,
          "y": 2.4476000489835057
         },
         {
          "c_0": 2.3234301697075583,
          "c_1": 5.013360364536358,
          "c_2": 10.199664225181715,
          "c_3": 6.191282033566471,
          "c_4": 9.105006808495805,
          "cluster": "c_0",
          "x": -3.708763799470766,
          "y": 7.139230284783846
         },
         {
          "c_0": 4.8602563670023855,
          "c_1": 2.9290883616687045,
          "c_2": 5.954319690396704,
          "c_3": 2.3693541500126556,
          "c_4": 6.458783720970016,
          "cluster": "c_3",
          "x": -1.820735014083239,
          "y": 1.5723109297499445
         },
         {
          "c_0": 2.7067632788720712,
          "c_1": 3.3534575359076464,
          "c_2": 8.539587732967691,
          "c_3": 5.359019469886752,
          "c_4": 7.508481114618893,
          "cluster": "c_0",
          "x": -2.4503278010408316,
          "y": 6.05654537286997
         },
         {
          "c_0": 8.939264808022886,
          "c_1": 3.875732366329968,
          "c_2": 3.941953064360388,
          "c_3": 8.713748617155836,
          "c_4": 1.4554381459435972,
          "cluster": "c_4",
          "x": 3.878471510014597,
          "y": 4.441760607343602
         },
         {
          "c_0": 3.016646898457086,
          "c_1": 3.9823381045111037,
          "c_2": 9.133436101312832,
          "c_3": 6.1320401082599725,
          "c_4": 7.914418241205748,
          "cluster": "c_0",
          "x": -2.5030612427925245,
          "y": 6.8787341893846135
         },
         {
          "c_0": 4.791943025595112,
          "c_1": 2.633812188270964,
          "c_2": 7.3884406686958215,
          "c_3": 6.6093363032191474,
          "c_4": 5.867050135878457,
          "cluster": "c_1",
          "x": -0.3860446911109443,
          "y": 6.421406825352623
         },
         {
          "c_0": 5.878897801554151,
          "c_1": 3.541028540431221,
          "c_2": 5.440458545940748,
          "c_3": 2.731454433164164,
          "c_4": 6.371193059750527,
          "cluster": "c_3",
          "x": -1.4028829921690344,
          "y": 0.5960812165874665
         },
         {
          "c_0": 4.821752552458421,
          "c_1": 5.520685482602849,
          "c_2": 8.358410699015021,
          "c_3": 0.5479028079207828,
          "c_4": 9.166286791133857,
          "cluster": "c_3",
          "x": -4.3214972190088305,
          "y": 0.45557685279762306
         },
         {
          "c_0": 3.443277229424844,
          "c_1": 3.563535772744623,
          "c_2": 8.668572367350652,
          "c_3": 6.199616632088837,
          "c_4": 7.379427225957517,
          "cluster": "c_0",
          "x": -1.9499965386132838,
          "y": 6.772171399377534
         },
         {
          "c_0": 4.670375094704875,
          "c_1": 4.954162624679435,
          "c_2": 7.846225587055634,
          "c_3": 0.38909348573598307,
          "c_4": 8.598253201761388,
          "cluster": "c_3",
          "x": -3.8065198640531026,
          "y": 0.7172739396272998
         },
         {
          "c_0": 8.27664635230325,
          "c_1": 3.175438186095865,
          "c_2": 3.864742360558381,
          "c_3": 8.021961649058037,
          "c_4": 1.7182367253095956,
          "cluster": "c_4",
          "x": 3.1955225765119035,
          "y": 4.275058810769702
         },
         {
          "c_0": 9.27982638917356,
          "c_1": 4.280836681052008,
          "c_2": 4.216829677343786,
          "c_3": 9.154375352342566,
          "c_4": 1.6243516066860573,
          "cluster": "c_4",
          "x": 4.239401714848933,
          "y": 4.71494637067984
         },
         {
          "c_0": 8.709577510062317,
          "c_1": 4.163104163015302,
          "c_2": 5.418239020105174,
          "c_3": 9.208000910184692,
          "c_4": 2.914230304848296,
          "cluster": "c_4",
          "x": 3.6564409425329507,
          "y": 5.9078610654112484
         },
         {
          "c_0": 4.988313108369101,
          "c_1": 5.314327784362822,
          "c_2": 8.007734971331082,
          "c_3": 0.626419791048539,
          "c_4": 8.862005454369006,
          "cluster": "c_3",
          "x": -3.969503194428266,
          "y": 0.35046048128549023
         },
         {
          "c_0": 3.412833220292292,
          "c_1": 4.828947761382259,
          "c_2": 8.51506717401195,
          "c_3": 0.9514264102330693,
          "c_4": 8.905336628332503,
          "cluster": "c_3",
          "x": -4.366690232189434,
          "y": 1.8770595042303855
         },
         {
          "c_0": 4.389772975587976,
          "c_1": 4.648549462856688,
          "c_2": 9.550688712419955,
          "c_3": 7.545143234419533,
          "c_4": 7.957987158410207,
          "cluster": "c_0",
          "x": -1.7255805513132565,
          "y": 8.119474145623638
         },
         {
          "c_0": 10.384105419747991,
          "c_1": 5.161161869128743,
          "c_2": 3.1194451074762406,
          "c_3": 9.619814469095123,
          "c_4": 0.7984666412425723,
          "cluster": "c_4",
          "x": 5.195853660717081,
          "y": 3.3991028994994004
         },
         {
          "c_0": 7.338517630183078,
          "c_1": 2.5529824919194106,
          "c_2": 4.8338274767072615,
          "c_3": 7.593443666499832,
          "c_4": 2.873536882242493,
          "cluster": "c_1",
          "x": 2.3092025088353765,
          "y": 5.017560404617329
         },
         {
          "c_0": 3.646509925133765,
          "c_1": 4.5563413219051485,
          "c_2": 8.123152371076628,
          "c_3": 0.776212075763019,
          "c_4": 8.558429967243663,
          "cluster": "c_3",
          "x": -3.993414756175995,
          "y": 1.728382412630089
         },
         {
          "c_0": 3.583349748354555,
          "c_1": 3.7013056912105182,
          "c_2": 8.777308516031114,
          "c_3": 6.404438783810091,
          "c_4": 7.4346881290182285,
          "cluster": "c_0",
          "x": -1.896809014730024,
          "y": 6.970883551267119
         },
         {
          "c_0": 8.29172181321357,
          "c_1": 3.2013341679367797,
          "c_2": 3.901460836872453,
          "c_3": 8.057479718183444,
          "c_4": 1.7327997780340065,
          "cluster": "c_4",
          "x": 3.2154310458008917,
          "y": 4.317012282312302
         },
         {
          "c_0": 8.917783683400126,
          "c_1": 4.07049069498667,
          "c_2": 4.676591862799263,
          "c_3": 9.044114016830695,
          "c_4": 2.147465967974586,
          "cluster": "c_4",
          "x": 3.8912856951039725,
          "y": 5.177315709285384
         },
         {
          "c_0": 7.392966471543866,
          "c_1": 3.0946326465351857,
          "c_2": 5.672830708433854,
          "c_3": 8.128053553806668,
          "c_4": 3.519187163144938,
          "cluster": "c_1",
          "x": 2.334437687410787,
          "y": 5.91436842137857
         },
         {
          "c_0": 2.4412467018794968,
          "c_1": 3.6544797025776883,
          "c_2": 8.841724321485758,
          "c_3": 5.359841223870637,
          "c_4": 7.836285904980454,
          "cluster": "c_0",
          "x": -2.7668569597380435,
          "y": 6.149812073289608
         },
         {
          "c_0": 3.8662990400316493,
          "c_1": 4.673372909771922,
          "c_2": 9.697647939383106,
          "c_3": 7.188090947804207,
          "c_4": 8.22946930175535,
          "cluster": "c_0",
          "x": -2.2343928756590334,
          "y": 7.900066675947174
         },
         {
          "c_0": 3.280721955912122,
          "c_1": 5.3684419897665645,
          "c_2": 9.128013338083962,
          "c_3": 1.3114592241290695,
          "c_4": 9.501222157142843,
          "cluster": "c_3",
          "x": -4.976582795946947,
          "y": 1.9451860514858275
         },
         {
          "c_0": 9.434001239346266,
          "c_1": 5.182512302210189,
          "c_2": 6.338535833231631,
          "c_3": 10.234025513857981,
          "c_4": 3.7370553090591687,
          "cluster": "c_4",
          "x": 4.268936151342681,
          "y": 6.837270491410566
         },
         {
          "c_0": 10.230320922594467,
          "c_1": 5.217638019647605,
          "c_2": 4.376460247720605,
          "c_3": 10.034006706003167,
          "c_4": 1.7797836005553884,
          "cluster": "c_4",
          "x": 5.191668027813501,
          "y": 4.724318644613157
         },
         {
          "c_0": 4.011930880850096,
          "c_1": 4.975864013671369,
          "c_2": 9.98297840370565,
          "c_3": 7.449501437813192,
          "c_4": 8.478632599257857,
          "cluster": "c_0",
          "x": -2.327665596533998,
          "y": 8.19413203923181
         },
         {
          "c_0": 2.454260067302998,
          "c_1": 4.903142031492478,
          "c_2": 10.086390891116606,
          "c_3": 6.237407614010223,
          "c_4": 8.960321938815579,
          "cluster": "c_0",
          "x": -3.5307374303365098,
          "y": 7.171418915921599
         },
         {
          "c_0": 9.015865811196877,
          "c_1": 4.766495667850831,
          "c_2": 6.1743900766624655,
          "c_3": 9.816593803162933,
          "c_4": 3.6174334078898283,
          "cluster": "c_4",
          "x": 3.8721907400087767,
          "y": 6.675183618265031
         },
         {
          "c_0": 6.021239002032092,
          "c_1": 4.812950710353424,
          "c_2": 9.108248012811082,
          "c_3": 8.676005961233837,
          "c_4": 7.1415558913326,
          "cluster": "c_1",
          "x": -0.06401482556326865,
          "y": 8.635863594978094
         },
         {
          "c_0": 3.4394935263783983,
          "c_1": 3.986733009276903,
          "c_2": 9.082176413489197,
          "c_3": 6.474096288325621,
          "c_4": 7.751280434355118,
          "cluster": "c_0",
          "x": -2.1666122188999832,
          "y": 7.136528567380284
         },
         {
          "c_0": 8.000938005501617,
          "c_1": 3.5672004752447517,
          "c_2": 5.517552028835956,
          "c_3": 8.618595049152484,
          "c_4": 3.1863853995710723,
          "cluster": "c_4",
          "x": 2.9451127802059633,
          "y": 5.911466625366058
         },
         {
          "c_0": 3.4091425177827075,
          "c_1": 4.572445677259962,
          "c_2": 9.672482918729173,
          "c_3": 6.796294970100365,
          "c_4": 8.317668588962915,
          "cluster": "c_0",
          "x": -2.558861451215659,
          "y": 7.57790476031434
         },
         {
          "c_0": 5.795855819289245,
          "c_1": 4.672921932946631,
          "c_2": 9.0566951817673,
          "c_3": 8.465631969291454,
          "c_4": 7.13978835493544,
          "cluster": "c_1",
          "x": -0.23616136397077558,
          "y": 8.488330945039158
         },
         {
          "c_0": 4.505562244938817,
          "c_1": 4.320686169140141,
          "c_2": 9.173951538484339,
          "c_3": 7.445817581452638,
          "c_4": 7.561085611216498,
          "cluster": "c_1",
          "x": -1.396639708698141,
          "y": 7.8948309416834475
         },
         {
          "c_0": 3.2499735960710994,
          "c_1": 4.407995205993976,
          "c_2": 8.219925380671443,
          "c_3": 1.1780124636042397,
          "c_4": 8.528279231788256,
          "cluster": "c_3",
          "x": -4.019405759011894,
          "y": 2.1354887998863057
         },
         {
          "c_0": 3.612274585416505,
          "c_1": 4.8643401085857185,
          "c_2": 8.435674864521037,
          "c_3": 0.7516453027464975,
          "c_4": 8.883827032964257,
          "cluster": "c_3",
          "x": -4.315839368514983,
          "y": 1.6838248295344886
         },
         {
          "c_0": 4.106580024888036,
          "c_1": 4.112712492158303,
          "c_2": 9.07029868276342,
          "c_3": 7.048208376748054,
          "c_4": 7.562961919659491,
          "cluster": "c_0",
          "x": -1.6527069717455238,
          "y": 7.566985588095034
         },
         {
          "c_0": 4.8709602767868,
          "c_1": 5.61464552790875,
          "c_2": 8.431504931789748,
          "c_3": 0.6325947886809647,
          "c_4": 9.253089325712011,
          "cluster": "c_3",
          "x": -4.394044395562428,
          "y": 0.39578684278976284
         },
         {
          "c_0": 4.606933773373851,
          "c_1": 3.407238674306892,
          "c_2": 6.495334718845699,
          "c_3": 1.787982572344324,
          "c_4": 7.040801472134721,
          "cluster": "c_3",
          "x": -2.3894584779190744,
          "y": 1.4478922502386296
         },
         {
          "c_0": 9.24177935402397,
          "c_1": 3.976145171716138,
          "c_2": 2.0874941419506214,
          "c_3": 8.1019856823485,
          "c_4": 0.8159834445602785,
          "cluster": "c_4",
          "x": 3.828693232967412,
          "y": 2.5800846503220027
         },
         {
          "c_0": 3.4123365184597483,
          "c_1": 4.691091930100903,
          "c_2": 9.79234895507563,
          "c_3": 6.863520938768855,
          "c_4": 8.433844541795407,
          "cluster": "c_0",
          "x": -2.6407804589703914,
          "y": 7.665410214134602
         },
         {
          "c_0": 8.666242184591113,
          "c_1": 4.006571940164284,
          "c_2": 5.1396263949183245,
          "c_3": 9.03782225483517,
          "c_4": 2.652662963243248,
          "cluster": "c_4",
          "x": 3.63059175622074,
          "y": 5.626538276024883
         },
         {
          "c_0": 7.691701147257985,
          "c_1": 3.143466462458178,
          "c_2": 5.265101053307679,
          "c_3": 8.195316361889837,
          "c_4": 3.06182908060206,
          "cluster": "c_4",
          "x": 2.656972382257221,
          "y": 5.584072414570967
         },
         {
          "c_0": 5.432043186966863,
          "c_1": 5.044638741774255,
          "c_2": 7.366282238976867,
          "c_3": 1.1931723716398104,
          "c_4": 8.342125523851024,
          "cluster": "c_3",
          "x": -3.3167395096334387,
          "y": 0.06953714775265518
         },
         {
          "c_0": 4.2180798558256525,
          "c_1": 5.319328820892683,
          "c_2": 8.535728109391398,
          "c_3": 0.38089353034426277,
          "c_4": 9.17031988715814,
          "cluster": "c_3",
          "x": -4.48186637862007,
          "y": 1.0427421741864698
         },
         {
          "c_0": 9.816017744096152,
          "c_1": 5.557916536429408,
          "c_2": 6.49618613612725,
          "c_3": 10.60983498476655,
          "c_4": 3.8711292315124806,
          "cluster": "c_4",
          "x": 4.633079968330454,
          "y": 6.971747888374574
         },
         {
          "c_0": 4.777001137598466,
          "c_1": 3.6560385440186667,
          "c_2": 6.550244272715595,
          "c_3": 1.6473342040899446,
          "c_4": 7.192369471842582,
          "cluster": "c_3",
          "x": -2.4778487191261265,
          "y": 1.1851353215783071
         },
         {
          "c_0": 2.584868617680142,
          "c_1": 5.269171986096388,
          "c_2": 10.450041274459412,
          "c_3": 6.521930269280053,
          "c_4": 9.293483721719884,
          "cluster": "c_0",
          "x": -3.7493315292728564,
          "y": 7.472911946433689
         },
         {
          "c_0": 5.151835472552353,
          "c_1": 4.020787821227651,
          "c_2": 6.5538203961932675,
          "c_3": 1.6135531898739441,
          "c_4": 7.360961689354185,
          "cluster": "c_3",
          "x": -2.513167846425066,
          "y": 0.7282826985297352
         },
         {
          "c_0": 4.36320685447353,
          "c_1": 5.136586693845145,
          "c_2": 8.247524864229511,
          "c_3": 0.09132664735376338,
          "c_4": 8.9190251412363,
          "cluster": "c_3",
          "x": -4.19908156633645,
          "y": 0.9414700445924489
         },
         {
          "c_0": 9.495712593223653,
          "c_1": 4.251885397967653,
          "c_2": 2.8020286416228743,
          "c_3": 8.6999260493687,
          "c_4": 0.2637824233640546,
          "cluster": "c_4",
          "x": 4.271072712583194,
          "y": 3.295203753782223
         },
         {
          "c_0": 4.802723827549549,
          "c_1": 3.9760758804871656,
          "c_2": 6.800308908950449,
          "c_3": 1.3649733349854447,
          "c_4": 7.500681396804203,
          "cluster": "c_3",
          "x": -2.745415005297165,
          "y": 0.9990173553523058
         },
         {
          "c_0": 3.9139297718774135,
          "c_1": 3.5960766941426945,
          "c_2": 8.604167039398058,
          "c_3": 6.59248813029118,
          "c_4": 7.185069511641819,
          "cluster": "c_1",
          "x": -1.558235435775204,
          "y": 7.039615469011263
         },
         {
          "c_0": 8.720583778117115,
          "c_1": 3.644684749055204,
          "c_2": 3.900576462953039,
          "c_3": 8.484871762632324,
          "c_4": 1.5093787110475745,
          "cluster": "c_4",
          "x": 3.653585058375629,
          "y": 4.384695888947945
         },
         {
          "c_0": 4.969433976256006,
          "c_1": 4.3138883527710705,
          "c_2": 6.978900835252669,
          "c_3": 1.1963681852094938,
          "c_4": 7.768918684219272,
          "cluster": "c_3",
          "x": -2.938876303400277,
          "y": 0.7158014357588617
         },
         {
          "c_0": 8.77619501031875,
          "c_1": 3.685338621009325,
          "c_2": 3.836120669358985,
          "c_3": 8.506590052079806,
          "c_4": 1.432020463008898,
          "cluster": "c_4",
          "x": 3.7034618794666656,
          "y": 4.3246000320893465
         },
         {
          "c_0": 2.2144526934346973,
          "c_1": 4.972954079786844,
          "c_2": 10.160173832179005,
          "c_3": 6.08291364475881,
          "c_4": 9.092943060236486,
          "cluster": "c_0",
          "x": -3.7470239327664925,
          "y": 7.033036920110417
         },
         {
          "c_0": 7.29231651290222,
          "c_1": 2.3501091121986213,
          "c_2": 4.536305914862153,
          "c_3": 7.358057453681459,
          "c_4": 2.7073775958427646,
          "cluster": "c_1",
          "x": 2.2447838228153953,
          "y": 4.670339840078611
         },
         {
          "c_0": 3.208637002775414,
          "c_1": 3.600314172349149,
          "c_2": 8.73871208962874,
          "c_3": 6.028946609839554,
          "c_4": 7.5103896079152666,
          "cluster": "c_0",
          "x": -2.15901829779679,
          "y": 6.665550767402258
         },
         {
          "c_0": 4.452548511458102,
          "c_1": 4.1980966267382485,
          "c_2": 9.06240448781243,
          "c_3": 7.340428558069801,
          "c_4": 7.466805224070384,
          "cluster": "c_1",
          "x": -1.3743019305364712,
          "y": 7.772607829616678
         },
         {
          "c_0": 4.357578328602569,
          "c_1": 5.521966407916809,
          "c_2": 8.668720957608025,
          "c_3": 0.5189429900539131,
          "c_4": 9.344156744691103,
          "cluster": "c_3",
          "x": -4.6234490131637465,
          "y": 0.8866196130444182
         }
        ],
        "data-e842fb92ae7b8595cf7770ce9a6794b4": [
         {
          "x": -2.687809969079204,
          "y": 6.944591796472868
         },
         {
          "x": -0.2368827743407392,
          "y": 6.253759006198107
         },
         {
          "x": 2.2054923623827056,
          "y": 1.8389756446328742
         },
         {
          "x": -3.7595564709804727,
          "y": 1.077833001623526
         },
         {
          "x": 3.774302020373465,
          "y": 4.712194747979374
         }
        ]
       },
       "layer": [
        {
         "data": {
          "name": "data-13ee3c48211ef91a87c73b624fcbe523"
         },
         "encoding": {
          "color": {
           "field": "cluster",
           "scale": {
            "scheme": "category10"
           },
           "type": "nominal"
          },
          "tooltip": [
           {
            "field": "x",
            "type": "quantitative"
           },
           {
            "field": "y",
            "type": "quantitative"
           },
           {
            "field": "cluster",
            "type": "nominal"
           }
          ],
          "x": {
           "field": "x",
           "type": "quantitative"
          },
          "y": {
           "field": "y",
           "type": "quantitative"
          }
         },
         "mark": {
          "opacity": 0.5,
          "size": 60,
          "type": "circle"
         },
         "selection": {
          "selector035": {
           "bind": "scales",
           "encodings": [
            "x",
            "y"
           ],
           "type": "interval"
          }
         }
        },
        {
         "data": {
          "name": "data-e842fb92ae7b8595cf7770ce9a6794b4"
         },
         "encoding": {
          "x": {
           "field": "x",
           "type": "quantitative"
          },
          "y": {
           "field": "y",
           "type": "quantitative"
          }
         },
         "mark": {
          "color": "black",
          "opacity": 1,
          "size": 100,
          "type": "point"
         },
         "selection": {
          "selector036": {
           "bind": "scales",
           "encodings": [
            "x",
            "y"
           ],
           "type": "interval"
          }
         }
        }
       ]
      },
      "image/png": "[encoded data removed]",
      "text/plain": [
       "<VegaLite 3 object>\n",
       "\n",
       "If you see this message, it means the renderer has not been properly enabled\n",
       "for the frontend that you are using. For more information, see\n",
       "https://altair-viz.github.io/user_guide/troubleshooting.html\n"
      ]
     },
     "execution_count": 46,
     "metadata": {},
     "output_type": "execute_result"
    }
   ],
   "source": [
    "update_centroids()\n",
    "plot_result()"
   ]
  },
  {
   "cell_type": "markdown",
   "metadata": {},
   "source": [
    "## Iterate until convergence!"
   ]
  },
  {
   "cell_type": "markdown",
   "metadata": {},
   "source": [
    "Finally, all that is left is to iterate until the clusters no longer change. \n",
    "\n",
    "We simply define a function that does the assigment and centroid updates in one go. "
   ]
  },
  {
   "cell_type": "code",
   "execution_count": 28,
   "metadata": {},
   "outputs": [],
   "source": [
    "def iterate():\n",
    "    calc_distances()\n",
    "    assign()\n",
    "    update_centroids()"
   ]
  },
  {
   "cell_type": "markdown",
   "metadata": {},
   "source": [
    "Try executing the code block below until you think the result is stable."
   ]
  },
  {
   "cell_type": "code",
   "execution_count": 37,
   "metadata": {},
   "outputs": [
    {
     "data": {
      "application/vnd.vegalite.v3+json": {
       "$schema": "https://vega.github.io/schema/vega-lite/v3.4.0.json",
       "config": {
        "mark": {
         "tooltip": null
        },
        "view": {
         "height": 300,
         "width": 400
        }
       },
       "datasets": {
        "data-43d329498703c807b7a836aff24e953b": [
         {
          "c_0": 5.838251386291885,
          "c_1": 0,
          "c_2": 0,
          "c_3": 0,
          "c_4": 0,
          "cluster": "c_1",
          "x": 4.992707579235362,
          "y": 3.791876490998789
         },
         {
          "c_0": 3.202199735072937,
          "c_1": 0,
          "c_2": 0,
          "c_3": 0,
          "c_4": 0,
          "cluster": "c_1",
          "x": -2.8147582943307947,
          "y": 6.847707350345154
         },
         {
          "c_0": 4.107858024244118,
          "c_1": 0,
          "c_2": 0,
          "c_3": 0,
          "c_4": 0,
          "cluster": "c_1",
          "x": -0.31924021835713745,
          "y": 8.420426153167801
         },
         {
          "c_0": 4.371857025048672,
          "c_1": 0,
          "c_2": 0,
          "c_3": 0,
          "c_4": 0,
          "cluster": "c_1",
          "x": 3.5448060416622496,
          "y": 4.600659600448479
         },
         {
          "c_0": 4.257881320167558,
          "c_1": 0,
          "c_2": 0,
          "c_3": 0,
          "c_4": 0,
          "cluster": "c_1",
          "x": 3.167779390955606,
          "y": 5.836950936611197
         },
         {
          "c_0": 3.349982000748187,
          "c_1": 0,
          "c_2": 0,
          "c_3": 0,
          "c_4": 0,
          "cluster": "c_1",
          "x": -1.9326422182032195,
          "y": 1.1835171768524946
         },
         {
          "c_0": 3.721226416430385,
          "c_1": 0,
          "c_2": 0,
          "c_3": 0,
          "c_4": 0,
          "cluster": "c_1",
          "x": -2.4935993310958966,
          "y": 1.0197688808777028
         },
         {
          "c_0": 2.9080740877683215,
          "c_1": 0,
          "c_2": 0,
          "c_3": 0,
          "c_4": 0,
          "cluster": "c_1",
          "x": -1.1136453649393845,
          "y": 7.236293772654496
         },
         {
          "c_0": 4.465145320062852,
          "c_1": 0,
          "c_2": 0,
          "c_3": 0,
          "c_4": 0,
          "cluster": "c_1",
          "x": 3.501300650618791,
          "y": 5.469438089357613
         },
         {
          "c_0": 4.284124208065727,
          "c_1": 0,
          "c_2": 0,
          "c_3": 0,
          "c_4": 0,
          "cluster": "c_1",
          "x": -2.456450598541372,
          "y": 0.38410015471477976
         },
         {
          "c_0": 3.1662876131195725,
          "c_1": 0,
          "c_2": 0,
          "c_3": 0,
          "c_4": 0,
          "cluster": "c_1",
          "x": 2.256958180581394,
          "y": 3.594119053616607
         },
         {
          "c_0": 2.0607864211089395,
          "c_1": 0,
          "c_2": 0,
          "c_3": 0,
          "c_4": 0,
          "cluster": "c_1",
          "x": -2.8701274709765494,
          "y": 4.547105897872415
         },
         {
          "c_0": 6.0320301471551545,
          "c_1": 0,
          "c_2": 0,
          "c_3": 0,
          "c_4": 0,
          "cluster": "c_1",
          "x": 5.106456068506325,
          "y": 3.2166796804820335
         },
         {
          "c_0": 3.9269791569819246,
          "c_1": 0,
          "c_2": 0,
          "c_3": 0,
          "c_4": 0,
          "cluster": "c_1",
          "x": 2.2054923623827056,
          "y": 1.8389756446328742
         },
         {
          "c_0": 5.412848175759225,
          "c_1": 0,
          "c_2": 0,
          "c_3": 0,
          "c_4": 0,
          "cluster": "c_1",
          "x": 4.5341639754109115,
          "y": 3.544615950873698
         },
         {
          "c_0": 3.3389240455907,
          "c_1": 0,
          "c_2": 0,
          "c_3": 0,
          "c_4": 0,
          "cluster": "c_1",
          "x": -2.3283665514134553,
          "y": 7.32166361471136
         },
         {
          "c_0": 2.6510046222128887,
          "c_1": 0,
          "c_2": 0,
          "c_3": 0,
          "c_4": 0,
          "cluster": "c_1",
          "x": -2.199916685657372,
          "y": 2.079918188462342
         },
         {
          "c_0": 1.6419033119721649,
          "c_1": 0,
          "c_2": 0,
          "c_3": 0,
          "c_4": 0,
          "cluster": "c_1",
          "x": -1.1788839841237861,
          "y": 5.945218231004108
         },
         {
          "c_0": 3.3904669800046183,
          "c_1": 0,
          "c_2": 0,
          "c_3": 0,
          "c_4": 0,
          "cluster": "c_1",
          "x": -3.771803388106772,
          "y": 2.676124657554846
         },
         {
          "c_0": 5.08835119551003,
          "c_1": 0,
          "c_2": 0,
          "c_3": 0,
          "c_4": 0,
          "cluster": "c_1",
          "x": 4.268850417711615,
          "y": 4.363553789714579
         },
         {
          "c_0": 4.953227463465371,
          "c_1": 0,
          "c_2": 0,
          "c_3": 0,
          "c_4": 0,
          "cluster": "c_1",
          "x": -3.5793065285229395,
          "y": 0.23002389233112952
         },
         {
          "c_0": 4.949390497737472,
          "c_1": 0,
          "c_2": 0,
          "c_3": 0,
          "c_4": 0,
          "cluster": "c_1",
          "x": -4.762762737605848,
          "y": 1.352013156174695
         },
         {
          "c_0": 4.982214377767008,
          "c_1": 0,
          "c_2": 0,
          "c_3": 0,
          "c_4": 0,
          "cluster": "c_1",
          "x": -3.936947285848084,
          "y": 0.4567860777642546
         },
         {
          "c_0": 2.8208621844464186,
          "c_1": 0,
          "c_2": 0,
          "c_3": 0,
          "c_4": 0,
          "cluster": "c_1",
          "x": 1.638653000267773,
          "y": 5.726953409475891
         },
         {
          "c_0": 4.285810747937863,
          "c_1": 0,
          "c_2": 0,
          "c_3": 0,
          "c_4": 0,
          "cluster": "c_1",
          "x": 3.2253787540690295,
          "y": 5.7599848301763545
         },
         {
          "c_0": 4.974889298665634,
          "c_1": 0,
          "c_2": 0,
          "c_3": 0,
          "c_4": 0,
          "cluster": "c_1",
          "x": 4.053879797440727,
          "y": 3.3430958502511956
         },
         {
          "c_0": 3.983287646612388,
          "c_1": 0,
          "c_2": 0,
          "c_3": 0,
          "c_4": 0,
          "cluster": "c_1",
          "x": 3.11379604121127,
          "y": 4.972486009733003
         },
         {
          "c_0": 5.050094295683187,
          "c_1": 0,
          "c_2": 0,
          "c_3": 0,
          "c_4": 0,
          "cluster": "c_1",
          "x": 4.221767773621107,
          "y": 4.044011481934876
         },
         {
          "c_0": 3.9865089138939562,
          "c_1": 0,
          "c_2": 0,
          "c_3": 0,
          "c_4": 0,
          "cluster": "c_1",
          "x": -3.105505175073226,
          "y": 7.609060624926846
         },
         {
          "c_0": 4.099463386469984,
          "c_1": 0,
          "c_2": 0,
          "c_3": 0,
          "c_4": 0,
          "cluster": "c_1",
          "x": -4.118264224296733,
          "y": 1.9093160883826634
         },
         {
          "c_0": 1.5527372373505943,
          "c_1": 0,
          "c_2": 0,
          "c_3": 0,
          "c_4": 0,
          "cluster": "c_1",
          "x": -0.5304380603864569,
          "y": 5.868739404280083
         },
         {
          "c_0": 4.21798594349096,
          "c_1": 0,
          "c_2": 0,
          "c_3": 0,
          "c_4": 0,
          "cluster": "c_1",
          "x": 3.3982126832177686,
          "y": 4.39455856150984
         },
         {
          "c_0": 5.717387443588067,
          "c_1": 0,
          "c_2": 0,
          "c_3": 0,
          "c_4": 0,
          "cluster": "c_1",
          "x": -5.576291332677907,
          "y": 1.1712186221605565
         },
         {
          "c_0": 2.7720371844073393,
          "c_1": 0,
          "c_2": 0,
          "c_3": 0,
          "c_4": 0,
          "cluster": "c_1",
          "x": -1.8452626611925687,
          "y": 6.918389285398843
         },
         {
          "c_0": 3.7633687826573556,
          "c_1": 0,
          "c_2": 0,
          "c_3": 0,
          "c_4": 0,
          "cluster": "c_1",
          "x": 2.5300492815432154,
          "y": 6.058869242303884
         },
         {
          "c_0": 5.505751825927407,
          "c_1": 0,
          "c_2": 0,
          "c_3": 0,
          "c_4": 0,
          "cluster": "c_1",
          "x": -2.217995294984081,
          "y": 9.668304920050215
         },
         {
          "c_0": 3.815114503098689,
          "c_1": 0,
          "c_2": 0,
          "c_3": 0,
          "c_4": 0,
          "cluster": "c_1",
          "x": -2.1827880309001646,
          "y": 0.7799323960267874
         },
         {
          "c_0": 2.1974955951182618,
          "c_1": 0,
          "c_2": 0,
          "c_3": 0,
          "c_4": 0,
          "cluster": "c_1",
          "x": -1.3970292330453886,
          "y": 6.4633740422413375
         },
         {
          "c_0": 4.205302685131195,
          "c_1": 0,
          "c_2": 0,
          "c_3": 0,
          "c_4": 0,
          "cluster": "c_1",
          "x": -4.962756084371339,
          "y": 3.6236474782483126
         },
         {
          "c_0": 3.543902894378919,
          "c_1": 0,
          "c_2": 0,
          "c_3": 0,
          "c_4": 0,
          "cluster": "c_1",
          "x": 2.723957501495625,
          "y": 4.401801555195944
         },
         {
          "c_0": 4.333764622975164,
          "c_1": 0,
          "c_2": 0,
          "c_3": 0,
          "c_4": 0,
          "cluster": "c_1",
          "x": 3.3743403208328493,
          "y": 3.250638130799155
         },
         {
          "c_0": 3.260937665827687,
          "c_1": 0,
          "c_2": 0,
          "c_3": 0,
          "c_4": 0,
          "cluster": "c_1",
          "x": -2.028318885793513,
          "y": 7.371730875864139
         },
         {
          "c_0": 3.6550256521888485,
          "c_1": 0,
          "c_2": 0,
          "c_3": 0,
          "c_4": 0,
          "cluster": "c_1",
          "x": -2.860189852433501,
          "y": 1.3108726962574497
         },
         {
          "c_0": 3.131335300148665,
          "c_1": 0,
          "c_2": 0,
          "c_3": 0,
          "c_4": 0,
          "cluster": "c_1",
          "x": -2.3599173722128004,
          "y": 7.069353659571515
         },
         {
          "c_0": 2.332695687042159,
          "c_1": 0,
          "c_2": 0,
          "c_3": 0,
          "c_4": 0,
          "cluster": "c_1",
          "x": -2.515740370372252,
          "y": 5.944419292132111
         },
         {
          "c_0": 3.8388447160068986,
          "c_1": 0,
          "c_2": 0,
          "c_3": 0,
          "c_4": 0,
          "cluster": "c_1",
          "x": -4.235831378201481,
          "y": 2.5923856473031686
         },
         {
          "c_0": 3.9748342533512036,
          "c_1": 0,
          "c_2": 0,
          "c_3": 0,
          "c_4": 0,
          "cluster": "c_1",
          "x": -4.044152475439131,
          "y": 2.019205088128461
         },
         {
          "c_0": 4.712606492826192,
          "c_1": 0,
          "c_2": 0,
          "c_3": 0,
          "c_4": 0,
          "cluster": "c_1",
          "x": -2.0848179908811764,
          "y": -0.19641349566426025
         },
         {
          "c_0": 3.530126023416189,
          "c_1": 0,
          "c_2": 0,
          "c_3": 0,
          "c_4": 0,
          "cluster": "c_1",
          "x": 2.567911154087418,
          "y": 3.349403918680985
         },
         {
          "c_0": 4.103697716593005,
          "c_1": 0,
          "c_2": 0,
          "c_3": 0,
          "c_4": 0,
          "cluster": "c_1",
          "x": 3.277734026857692,
          "y": 4.574087268233279
         },
         {
          "c_0": 3.9022776431141692,
          "c_1": 0,
          "c_2": 0,
          "c_3": 0,
          "c_4": 0,
          "cluster": "c_1",
          "x": -4.635790385145341,
          "y": 3.5286494034188864
         },
         {
          "c_0": 4.08645269186136,
          "c_1": 0,
          "c_2": 0,
          "c_3": 0,
          "c_4": 0,
          "cluster": "c_1",
          "x": 2.7372010085085923,
          "y": 6.355415250627647
         },
         {
          "c_0": 5.251436986345042,
          "c_1": 0,
          "c_2": 0,
          "c_3": 0,
          "c_4": 0,
          "cluster": "c_1",
          "x": 4.417215243699945,
          "y": 4.7366157773836495
         },
         {
          "c_0": 1.992061030796397,
          "c_1": 0,
          "c_2": 0,
          "c_3": 0,
          "c_4": 0,
          "cluster": "c_1",
          "x": -2.226644542674664,
          "y": 5.753151681758661
         },
         {
          "c_0": 1.9094102277912404,
          "c_1": 0,
          "c_2": 0,
          "c_3": 0,
          "c_4": 0,
          "cluster": "c_1",
          "x": -1.8730132401233526,
          "y": 5.935580438310806
         },
         {
          "c_0": 4.436591398970227,
          "c_1": 0,
          "c_2": 0,
          "c_3": 0,
          "c_4": 0,
          "cluster": "c_1",
          "x": -0.895270518227884,
          "y": 8.779081736874453
         },
         {
          "c_0": 4.650957454001271,
          "c_1": 0,
          "c_2": 0,
          "c_3": 0,
          "c_4": 0,
          "cluster": "c_1",
          "x": 3.8233638008699486,
          "y": 4.0681943706382135
         },
         {
          "c_0": 4.128129444031255,
          "c_1": 0,
          "c_2": 0,
          "c_3": 0,
          "c_4": 0,
          "cluster": "c_1",
          "x": -3.2720237795453757,
          "y": 7.663737852273004
         },
         {
          "c_0": 5.154712532908374,
          "c_1": 0,
          "c_2": 0,
          "c_3": 0,
          "c_4": 0,
          "cluster": "c_1",
          "x": -4.823035906214971,
          "y": 1.0962257434401197
         },
         {
          "c_0": 3.074418233309499,
          "c_1": 0,
          "c_2": 0,
          "c_3": 0,
          "c_4": 0,
          "cluster": "c_1",
          "x": -2.481989638711916,
          "y": 6.929263012282426
         },
         {
          "c_0": 1.6514480210801292,
          "c_1": 0,
          "c_2": 0,
          "c_3": 0,
          "c_4": 0,
          "cluster": "c_1",
          "x": -1.4026413382135083,
          "y": 5.888188220273449
         },
         {
          "c_0": 7.085132357742663,
          "c_1": 0,
          "c_2": 0,
          "c_3": 0,
          "c_4": 0,
          "cluster": "c_1",
          "x": 6.2381544704343135,
          "y": 4.966981855881707
         },
         {
          "c_0": 3.588041085356559,
          "c_1": 0,
          "c_2": 0,
          "c_3": 0,
          "c_4": 0,
          "cluster": "c_1",
          "x": 2.592839222261643,
          "y": 5.452306283845808
         },
         {
          "c_0": 2.191261312466952,
          "c_1": 0,
          "c_2": 0,
          "c_3": 0,
          "c_4": 0,
          "cluster": "c_1",
          "x": -1.5758523465992094,
          "y": 6.399712064924706
         },
         {
          "c_0": 4.652648336869357,
          "c_1": 0,
          "c_2": 0,
          "c_3": 0,
          "c_4": 0,
          "cluster": "c_1",
          "x": -3.4996035975131687,
          "y": 0.5399859979712982
         },
         {
          "c_0": 4.551223007164092,
          "c_1": 0,
          "c_2": 0,
          "c_3": 0,
          "c_4": 0,
          "cluster": "c_1",
          "x": 3.4181538239383076,
          "y": 6.003337317999659
         },
         {
          "c_0": 4.414951761650086,
          "c_1": 0,
          "c_2": 0,
          "c_3": 0,
          "c_4": 0,
          "cluster": "c_1",
          "x": -3.4561027756629983,
          "y": 0.8019641402948852
         },
         {
          "c_0": 4.234102687047362,
          "c_1": 0,
          "c_2": 0,
          "c_3": 0,
          "c_4": 0,
          "cluster": "c_1",
          "x": 3.4078259176319734,
          "y": 4.583306466656472
         },
         {
          "c_0": 2.3844911058934195,
          "c_1": 0,
          "c_2": 0,
          "c_3": 0,
          "c_4": 0,
          "cluster": "c_1",
          "x": -1.9121565940567238,
          "y": 6.462527536247741
         },
         {
          "c_0": 5.661514085720206,
          "c_1": 0,
          "c_2": 0,
          "c_3": 0,
          "c_4": 0,
          "cluster": "c_1",
          "x": -5.179792710223506,
          "y": 0.73201100932493
         },
         {
          "c_0": 5.498124639148353,
          "c_1": 0,
          "c_2": 0,
          "c_3": 0,
          "c_4": 0,
          "cluster": "c_1",
          "x": -2.400998435830731,
          "y": 9.608886871311777
         },
         {
          "c_0": 5.818439712653431,
          "c_1": 0,
          "c_2": 0,
          "c_3": 0,
          "c_4": 0,
          "cluster": "c_1",
          "x": -5.761329008955272,
          "y": 1.2719543473348034
         },
         {
          "c_0": 3.776512526319478,
          "c_1": 0,
          "c_2": 0,
          "c_3": 0,
          "c_4": 0,
          "cluster": "c_1",
          "x": -3.4517281990453563,
          "y": 1.6351480580498623
         },
         {
          "c_0": 1.7888457383197687,
          "c_1": 0,
          "c_2": 0,
          "c_3": 0,
          "c_4": 0,
          "cluster": "c_1",
          "x": -1.8728219284251428,
          "y": 2.8973174484071507
         },
         {
          "c_0": 3.7408041098715126,
          "c_1": 0,
          "c_2": 0,
          "c_3": 0,
          "c_4": 0,
          "cluster": "c_1",
          "x": 2.7475733756097096,
          "y": 5.470031862960572
         },
         {
          "c_0": 1.3174887443852732,
          "c_1": 0,
          "c_2": 0,
          "c_3": 0,
          "c_4": 0,
          "cluster": "c_1",
          "x": -1.7969606901360047,
          "y": 5.226466259286503
         },
         {
          "c_0": 3.5047215234384206,
          "c_1": 0,
          "c_2": 0,
          "c_3": 0,
          "c_4": 0,
          "cluster": "c_1",
          "x": 2.641054767664989,
          "y": 4.898036048021307
         },
         {
          "c_0": 3.2345123777778317,
          "c_1": 0,
          "c_2": 0,
          "c_3": 0,
          "c_4": 0,
          "cluster": "c_1",
          "x": -1.9802399679213891,
          "y": 7.362187578343192
         },
         {
          "c_0": 2.312747762592356,
          "c_1": 0,
          "c_2": 0,
          "c_3": 0,
          "c_4": 0,
          "cluster": "c_1",
          "x": -2.0615680207201628,
          "y": 6.294027492312322
         },
         {
          "c_0": 1.9599655894550962,
          "c_1": 0,
          "c_2": 0,
          "c_3": 0,
          "c_4": 0,
          "cluster": "c_1",
          "x": 0.4448464745512313,
          "y": 5.840801176922427
         },
         {
          "c_0": 6.101269835223941,
          "c_1": 0,
          "c_2": 0,
          "c_3": 0,
          "c_4": 0,
          "cluster": "c_1",
          "x": -3.663735721551454,
          "y": -1.0546010787721838
         },
         {
          "c_0": 3.896003241385446,
          "c_1": 0,
          "c_2": 0,
          "c_3": 0,
          "c_4": 0,
          "cluster": "c_1",
          "x": -2.9923406933740013,
          "y": 7.576933076596086
         },
         {
          "c_0": 2.893346814765923,
          "c_1": 0,
          "c_2": 0,
          "c_3": 0,
          "c_4": 0,
          "cluster": "c_1",
          "x": -1.6442952425204436,
          "y": 7.116421767346106
         },
         {
          "c_0": 3.9451576820125323,
          "c_1": 0,
          "c_2": 0,
          "c_3": 0,
          "c_4": 0,
          "cluster": "c_1",
          "x": -3.065549325901965,
          "y": 1.0997831864523122
         },
         {
          "c_0": 4.592106105633959,
          "c_1": 0,
          "c_2": 0,
          "c_3": 0,
          "c_4": 0,
          "cluster": "c_1",
          "x": -3.3693158950593998,
          "y": 0.5240187624575787
         },
         {
          "c_0": 3.2895086027718983,
          "c_1": 0,
          "c_2": 0,
          "c_3": 0,
          "c_4": 0,
          "cluster": "c_1",
          "x": -2.9919533811843007,
          "y": 6.813186391664465
         },
         {
          "c_0": 2.571950292603744,
          "c_1": 0,
          "c_2": 0,
          "c_3": 0,
          "c_4": 0,
          "cluster": "c_1",
          "x": -2.712658334707362,
          "y": 6.084036627943635
         },
         {
          "c_0": 5.08767873995355,
          "c_1": 0,
          "c_2": 0,
          "c_3": 0,
          "c_4": 0,
          "cluster": "c_1",
          "x": -3.088670770221576,
          "y": 8.896725323201487
         },
         {
          "c_0": 1.7143404351940807,
          "c_1": 0,
          "c_2": 0,
          "c_3": 0,
          "c_4": 0,
          "cluster": "c_1",
          "x": -0.6519723715490886,
          "y": 6.049277329469999
         },
         {
          "c_0": 5.679903607807841,
          "c_1": 0,
          "c_2": 0,
          "c_3": 0,
          "c_4": 0,
          "cluster": "c_1",
          "x": -5.35645229653163,
          "y": 0.9259749056549482
         },
         {
          "c_0": 5.7298806633875214,
          "c_1": 0,
          "c_2": 0,
          "c_3": 0,
          "c_4": 0,
          "cluster": "c_1",
          "x": -4.855190666212232,
          "y": 0.27565620186956863
         },
         {
          "c_0": 2.87050992089064,
          "c_1": 0,
          "c_2": 0,
          "c_3": 0,
          "c_4": 0,
          "cluster": "c_1",
          "x": 2.0050720631537353,
          "y": 4.85484781870868
         },
         {
          "c_0": 5.602888891464162,
          "c_1": 0,
          "c_2": 0,
          "c_3": 0,
          "c_4": 0,
          "cluster": "c_1",
          "x": -4.303877150959868,
          "y": -0.04448082517756258
         },
         {
          "c_0": 3.6772533529709337,
          "c_1": 0,
          "c_2": 0,
          "c_3": 0,
          "c_4": 0,
          "cluster": "c_1",
          "x": -3.3032673890215754,
          "y": 7.054759786371678
         },
         {
          "c_0": 4.744058519633901,
          "c_1": 0,
          "c_2": 0,
          "c_3": 0,
          "c_4": 0,
          "cluster": "c_1",
          "x": -4.272520159658217,
          "y": 1.0900679256287964
         },
         {
          "c_0": 2.077214834326887,
          "c_1": 0,
          "c_2": 0,
          "c_3": 0,
          "c_4": 0,
          "cluster": "c_1",
          "x": 1.2518199627757425,
          "y": 4.186225623963568
         },
         {
          "c_0": 3.070512585346537,
          "c_1": 0,
          "c_2": 0,
          "c_3": 0,
          "c_4": 0,
          "cluster": "c_1",
          "x": -1.3732034556442607,
          "y": 7.363306225067966
         },
         {
          "c_0": 5.139855767757697,
          "c_1": 0,
          "c_2": 0,
          "c_3": 0,
          "c_4": 0,
          "cluster": "c_1",
          "x": 4.286278133605195,
          "y": 4.934371763863798
         },
         {
          "c_0": 5.374392745192464,
          "c_1": 0,
          "c_2": 0,
          "c_3": 0,
          "c_4": 0,
          "cluster": "c_1",
          "x": -3.9829362550751424,
          "y": -0.0015729677189937341
         },
         {
          "c_0": 4.491629187456649,
          "c_1": 0,
          "c_2": 0,
          "c_3": 0,
          "c_4": 0,
          "cluster": "c_1",
          "x": -5.101738854640758,
          "y": 2.987845125276605
         },
         {
          "c_0": 4.510683494333064,
          "c_1": 0,
          "c_2": 0,
          "c_3": 0,
          "c_4": 0,
          "cluster": "c_1",
          "x": -1.512168958586073,
          "y": 8.800314292040316
         },
         {
          "c_0": 5.46419466244844,
          "c_1": 0,
          "c_2": 0,
          "c_3": 0,
          "c_4": 0,
          "cluster": "c_1",
          "x": 4.635676643488491,
          "y": 4.0286393529193445
         },
         {
          "c_0": 3.4278478839588478,
          "c_1": 0,
          "c_2": 0,
          "c_3": 0,
          "c_4": 0,
          "cluster": "c_1",
          "x": 2.6079773113132703,
          "y": 4.290073818440699
         },
         {
          "c_0": 4.568280763111089,
          "c_1": 0,
          "c_2": 0,
          "c_3": 0,
          "c_4": 0,
          "cluster": "c_1",
          "x": 3.7407300502442222,
          "y": 4.071370795090676
         },
         {
          "c_0": 4.675700500098514,
          "c_1": 0,
          "c_2": 0,
          "c_3": 0,
          "c_4": 0,
          "cluster": "c_1",
          "x": 3.8404352936570962,
          "y": 4.727263967015658
         },
         {
          "c_0": 4.175109451741597,
          "c_1": 0,
          "c_2": 0,
          "c_3": 0,
          "c_4": 0,
          "cluster": "c_1",
          "x": -3.5404842469817552,
          "y": 7.50977116799304
         },
         {
          "c_0": 5.383760535020269,
          "c_1": 0,
          "c_2": 0,
          "c_3": 0,
          "c_4": 0,
          "cluster": "c_1",
          "x": -2.2369748773543217,
          "y": -0.8506590272986996
         },
         {
          "c_0": 6.794974749088831,
          "c_1": 0,
          "c_2": 0,
          "c_3": 0,
          "c_4": 0,
          "cluster": "c_1",
          "x": 5.975328515736325,
          "y": 4.292806240160595
         },
         {
          "c_0": 5.100912758507565,
          "c_1": 0,
          "c_2": 0,
          "c_3": 0,
          "c_4": 0,
          "cluster": "c_1",
          "x": -3.671900984565747,
          "y": 0.1143214323416244
         },
         {
          "c_0": 4.102793764167921,
          "c_1": 0,
          "c_2": 0,
          "c_3": 0,
          "c_4": 0,
          "cluster": "c_1",
          "x": -3.7148388543395288,
          "y": 1.4363018565892711
         },
         {
          "c_0": 2.67082670585816,
          "c_1": 0,
          "c_2": 0,
          "c_3": 0,
          "c_4": 0,
          "cluster": "c_1",
          "x": -2.0136160051932417,
          "y": 6.732135020246781
         },
         {
          "c_0": 4.117821132052267,
          "c_1": 0,
          "c_2": 0,
          "c_3": 0,
          "c_4": 0,
          "cluster": "c_1",
          "x": 3.2966485061398165,
          "y": 4.461894622503893
         },
         {
          "c_0": 4.072798225614576,
          "c_1": 0,
          "c_2": 0,
          "c_3": 0,
          "c_4": 0,
          "cluster": "c_1",
          "x": -2.9350336980536724,
          "y": 0.8629035415036439
         },
         {
          "c_0": 2.6622694148144155,
          "c_1": 0,
          "c_2": 0,
          "c_3": 0,
          "c_4": 0,
          "cluster": "c_1",
          "x": -2.212524709820998,
          "y": 2.074427305561648
         },
         {
          "c_0": 4.172702636617722,
          "c_1": 0,
          "c_2": 0,
          "c_3": 0,
          "c_4": 0,
          "cluster": "c_1",
          "x": 3.351320181411543,
          "y": 4.469792992704232
         },
         {
          "c_0": 2.422436684382784,
          "c_1": 0,
          "c_2": 0,
          "c_3": 0,
          "c_4": 0,
          "cluster": "c_1",
          "x": -1.9489351635804752,
          "y": 6.486146482262974
         },
         {
          "c_0": 3.183104711201915,
          "c_1": 0,
          "c_2": 0,
          "c_3": 0,
          "c_4": 0,
          "cluster": "c_1",
          "x": -2.4205682245072215,
          "y": 7.094248324062588
         },
         {
          "c_0": 2.462100384431633,
          "c_1": 0,
          "c_2": 0,
          "c_3": 0,
          "c_4": 0,
          "cluster": "c_1",
          "x": 1.5393311970108603,
          "y": 3.637416313602655
         },
         {
          "c_0": 2.281679457774055,
          "c_1": 0,
          "c_2": 0,
          "c_3": 0,
          "c_4": 0,
          "cluster": "c_1",
          "x": -0.4450898868139055,
          "y": 6.593895369211095
         },
         {
          "c_0": 4.651733848362403,
          "c_1": 0,
          "c_2": 0,
          "c_3": 0,
          "c_4": 0,
          "cluster": "c_1",
          "x": -5.039391511868977,
          "y": 2.3858940334276713
         },
         {
          "c_0": 3.383142181545927,
          "c_1": 0,
          "c_2": 0,
          "c_3": 0,
          "c_4": 0,
          "cluster": "c_1",
          "x": 2.56100753471331,
          "y": 4.208633540715855
         },
         {
          "c_0": 6.021522529382718,
          "c_1": 0,
          "c_2": 0,
          "c_3": 0,
          "c_4": 0,
          "cluster": "c_1",
          "x": 5.150562832186297,
          "y": 3.557286272881358
         },
         {
          "c_0": 4.416485583518877,
          "c_1": 0,
          "c_2": 0,
          "c_3": 0,
          "c_4": 0,
          "cluster": "c_1",
          "x": -4.83587262549219,
          "y": 2.506354740935046
         },
         {
          "c_0": 4.7475094042855135,
          "c_1": 0,
          "c_2": 0,
          "c_3": 0,
          "c_4": 0,
          "cluster": "c_1",
          "x": -4.267779549584369,
          "y": 1.0800204776352187
         },
         {
          "c_0": 3.6730850839370723,
          "c_1": 0,
          "c_2": 0,
          "c_3": 0,
          "c_4": 0,
          "cluster": "c_1",
          "x": -1.3743733033734233,
          "y": 7.974064295420261
         },
         {
          "c_0": 3.248188131927761,
          "c_1": 0,
          "c_2": 0,
          "c_3": 0,
          "c_4": 0,
          "cluster": "c_1",
          "x": -1.8130281928419998,
          "y": 7.435636767816887
         },
         {
          "c_0": 3.7885241776656673,
          "c_1": 0,
          "c_2": 0,
          "c_3": 0,
          "c_4": 0,
          "cluster": "c_1",
          "x": -3.734718898419015,
          "y": 1.9235968264526
         },
         {
          "c_0": 4.056026160750681,
          "c_1": 0,
          "c_2": 0,
          "c_3": 0,
          "c_4": 0,
          "cluster": "c_1",
          "x": -3.8011698468708217,
          "y": 1.5934556531142814
         },
         {
          "c_0": 2.601187172042293,
          "c_1": 0,
          "c_2": 0,
          "c_3": 0,
          "c_4": 0,
          "cluster": "c_1",
          "x": -2.8794867102191177,
          "y": 5.9313647557706375
         },
         {
          "c_0": 2.8974690862136967,
          "c_1": 0,
          "c_2": 0,
          "c_3": 0,
          "c_4": 0,
          "cluster": "c_1",
          "x": -2.8091118897893206,
          "y": 2.236811495178256
         },
         {
          "c_0": 3.782087073951071,
          "c_1": 0,
          "c_2": 0,
          "c_3": 0,
          "c_4": 0,
          "cluster": "c_1",
          "x": 2.9176677980388197,
          "y": 4.924567190993635
         },
         {
          "c_0": 6.420062536768246,
          "c_1": 0,
          "c_2": 0,
          "c_3": 0,
          "c_4": 0,
          "cluster": "c_1",
          "x": -6.095771435841543,
          "y": 0.6855789758036193
         },
         {
          "c_0": 7.138272947719155,
          "c_1": 0,
          "c_2": 0,
          "c_3": 0,
          "c_4": 0,
          "cluster": "c_1",
          "x": -6.538956115613873,
          "y": 0.07203720627850418
         },
         {
          "c_0": 5.505543820786781,
          "c_1": 0,
          "c_2": 0,
          "c_3": 0,
          "c_4": 0,
          "cluster": "c_1",
          "x": 4.198782677349853,
          "y": 6.607703173491531
         },
         {
          "c_0": 3.657352433768121,
          "c_1": 0,
          "c_2": 0,
          "c_3": 0,
          "c_4": 0,
          "cluster": "c_1",
          "x": -2.8194319885761696,
          "y": 7.405218787061833
         },
         {
          "c_0": 4.236338025505414,
          "c_1": 0,
          "c_2": 0,
          "c_3": 0,
          "c_4": 0,
          "cluster": "c_1",
          "x": -4.60806053611309,
          "y": 2.4476000489835057
         },
         {
          "c_0": 4.020722447910155,
          "c_1": 0,
          "c_2": 0,
          "c_3": 0,
          "c_4": 0,
          "cluster": "c_1",
          "x": -3.708763799470766,
          "y": 7.139230284783846
         },
         {
          "c_0": 2.946189946403094,
          "c_1": 0,
          "c_2": 0,
          "c_3": 0,
          "c_4": 0,
          "cluster": "c_1",
          "x": -1.820735014083239,
          "y": 1.5723109297499445
         },
         {
          "c_0": 2.3654798375246795,
          "c_1": 0,
          "c_2": 0,
          "c_3": 0,
          "c_4": 0,
          "cluster": "c_1",
          "x": -2.4503278010408316,
          "y": 6.05654537286997
         },
         {
          "c_0": 4.698966396269791,
          "c_1": 0,
          "c_2": 0,
          "c_3": 0,
          "c_4": 0,
          "cluster": "c_1",
          "x": 3.878471510014597,
          "y": 4.441760607343602
         },
         {
          "c_0": 3.043642766851256,
          "c_1": 0,
          "c_2": 0,
          "c_3": 0,
          "c_4": 0,
          "cluster": "c_1",
          "x": -2.5030612427925245,
          "y": 6.8787341893846135
         },
         {
          "c_0": 2.122981296186472,
          "c_1": 0,
          "c_2": 0,
          "c_3": 0,
          "c_4": 0,
          "cluster": "c_1",
          "x": -0.3860446911109443,
          "y": 6.421406825352623
         },
         {
          "c_0": 3.79220488085843,
          "c_1": 0,
          "c_2": 0,
          "c_3": 0,
          "c_4": 0,
          "cluster": "c_1",
          "x": -1.4028829921690344,
          "y": 0.5960812165874665
         },
         {
          "c_0": 5.2323415751820725,
          "c_1": 0,
          "c_2": 0,
          "c_3": 0,
          "c_4": 0,
          "cluster": "c_1",
          "x": -4.3214972190088305,
          "y": 0.45557685279762306
         },
         {
          "c_0": 2.6792379616590574,
          "c_1": 0,
          "c_2": 0,
          "c_3": 0,
          "c_4": 0,
          "cluster": "c_1",
          "x": -1.9499965386132838,
          "y": 6.772171399377534
         },
         {
          "c_0": 4.6978099774183395,
          "c_1": 0,
          "c_2": 0,
          "c_3": 0,
          "c_4": 0,
          "cluster": "c_1",
          "x": -3.8065198640531026,
          "y": 0.7172739396272998
         },
         {
          "c_0": 4.0155595430543265,
          "c_1": 0,
          "c_2": 0,
          "c_3": 0,
          "c_4": 0,
          "cluster": "c_1",
          "x": 3.1955225765119035,
          "y": 4.275058810769702
         },
         {
          "c_0": 5.072506425278433,
          "c_1": 0,
          "c_2": 0,
          "c_3": 0,
          "c_4": 0,
          "cluster": "c_1",
          "x": 4.239401714848933,
          "y": 4.71494637067984
         },
         {
          "c_0": 4.741523554375287,
          "c_1": 0,
          "c_2": 0,
          "c_3": 0,
          "c_4": 0,
          "cluster": "c_1",
          "x": 3.6564409425329507,
          "y": 5.9078610654112484
         },
         {
          "c_0": 5.085690493190655,
          "c_1": 0,
          "c_2": 0,
          "c_3": 0,
          "c_4": 0,
          "cluster": "c_1",
          "x": -3.969503194428266,
          "y": 0.35046048128549023
         },
         {
          "c_0": 4.320229995241264,
          "c_1": 0,
          "c_2": 0,
          "c_3": 0,
          "c_4": 0,
          "cluster": "c_1",
          "x": -4.366690232189434,
          "y": 1.8770595042303855
         },
         {
          "c_0": 3.88352529700734,
          "c_1": 0,
          "c_2": 0,
          "c_3": 0,
          "c_4": 0,
          "cluster": "c_1",
          "x": -1.7255805513132565,
          "y": 8.119474145623638
         },
         {
          "c_0": 6.08894069113701,
          "c_1": 0,
          "c_2": 0,
          "c_3": 0,
          "c_4": 0,
          "cluster": "c_1",
          "x": 5.195853660717081,
          "y": 3.3991028994994004
         },
         {
          "c_0": 3.2005270543282025,
          "c_1": 0,
          "c_2": 0,
          "c_3": 0,
          "c_4": 0,
          "cluster": "c_1",
          "x": 2.3092025088353765,
          "y": 5.017560404617329
         },
         {
          "c_0": 4.112290993542419,
          "c_1": 0,
          "c_2": 0,
          "c_3": 0,
          "c_4": 0,
          "cluster": "c_1",
          "x": -3.993414756175995,
          "y": 1.728382412630089
         },
         {
          "c_0": 2.8400224398944522,
          "c_1": 0,
          "c_2": 0,
          "c_3": 0,
          "c_4": 0,
          "cluster": "c_1",
          "x": -1.896809014730024,
          "y": 6.970883551267119
         },
         {
          "c_0": 4.034975448190684,
          "c_1": 0,
          "c_2": 0,
          "c_3": 0,
          "c_4": 0,
          "cluster": "c_1",
          "x": 3.2154310458008917,
          "y": 4.317012282312302
         },
         {
          "c_0": 4.784033403909077,
          "c_1": 0,
          "c_2": 0,
          "c_3": 0,
          "c_4": 0,
          "cluster": "c_1",
          "x": 3.8912856951039725,
          "y": 5.177315709285384
         },
         {
          "c_0": 3.523610964461521,
          "c_1": 0,
          "c_2": 0,
          "c_3": 0,
          "c_4": 0,
          "cluster": "c_1",
          "x": 2.334437687410787,
          "y": 5.91436842137857
         },
         {
          "c_0": 2.6563935086629784,
          "c_1": 0,
          "c_2": 0,
          "c_3": 0,
          "c_4": 0,
          "cluster": "c_1",
          "x": -2.7668569597380435,
          "y": 6.149812073289608
         },
         {
          "c_0": 3.828025139270662,
          "c_1": 0,
          "c_2": 0,
          "c_3": 0,
          "c_4": 0,
          "cluster": "c_1",
          "x": -2.2343928756590334,
          "y": 7.900066675947174
         },
         {
          "c_0": 4.799150491192863,
          "c_1": 0,
          "c_2": 0,
          "c_3": 0,
          "c_4": 0,
          "cluster": "c_1",
          "x": -4.976582795946947,
          "y": 1.9451860514858275
         },
         {
          "c_0": 5.666786565339934,
          "c_1": 0,
          "c_2": 0,
          "c_3": 0,
          "c_4": 0,
          "cluster": "c_1",
          "x": 4.268936151342681,
          "y": 6.837270491410566
         },
         {
          "c_0": 6.023201526467545,
          "c_1": 0,
          "c_2": 0,
          "c_3": 0,
          "c_4": 0,
          "cluster": "c_1",
          "x": 5.191668027813501,
          "y": 4.724318644613157
         },
         {
          "c_0": 4.135799681637004,
          "c_1": 0,
          "c_2": 0,
          "c_3": 0,
          "c_4": 0,
          "cluster": "c_1",
          "x": -2.327665596533998,
          "y": 8.19413203923181
         },
         {
          "c_0": 3.917932958363836,
          "c_1": 0,
          "c_2": 0,
          "c_3": 0,
          "c_4": 0,
          "cluster": "c_1",
          "x": -3.5307374303365098,
          "y": 7.171418915921599
         },
         {
          "c_0": 5.2392767921178125,
          "c_1": 0,
          "c_2": 0,
          "c_3": 0,
          "c_4": 0,
          "cluster": "c_1",
          "x": 3.8721907400087767,
          "y": 6.675183618265031
         },
         {
          "c_0": 4.35869124232832,
          "c_1": 0,
          "c_2": 0,
          "c_3": 0,
          "c_4": 0,
          "cluster": "c_1",
          "x": -0.06401482556326865,
          "y": 8.635863594978094
         },
         {
          "c_0": 3.1012658551961483,
          "c_1": 0,
          "c_2": 0,
          "c_3": 0,
          "c_4": 0,
          "cluster": "c_1",
          "x": -2.1666122188999832,
          "y": 7.136528567380284
         },
         {
          "c_0": 4.078193380169167,
          "c_1": 0,
          "c_2": 0,
          "c_3": 0,
          "c_4": 0,
          "cluster": "c_1",
          "x": 2.9451127802059633,
          "y": 5.911466625366058
         },
         {
          "c_0": 3.6727691730946894,
          "c_1": 0,
          "c_2": 0,
          "c_3": 0,
          "c_4": 0,
          "cluster": "c_1",
          "x": -2.558861451215659,
          "y": 7.57790476031434
         },
         {
          "c_0": 4.186031634020386,
          "c_1": 0,
          "c_2": 0,
          "c_3": 0,
          "c_4": 0,
          "cluster": "c_1",
          "x": -0.23616136397077558,
          "y": 8.488330945039158
         },
         {
          "c_0": 3.598285520662579,
          "c_1": 0,
          "c_2": 0,
          "c_3": 0,
          "c_4": 0,
          "cluster": "c_1",
          "x": -1.396639708698141,
          "y": 7.8948309416834475
         },
         {
          "c_0": 3.8875917251750067,
          "c_1": 0,
          "c_2": 0,
          "c_3": 0,
          "c_4": 0,
          "cluster": "c_1",
          "x": -4.019405759011894,
          "y": 2.1354887998863057
         },
         {
          "c_0": 4.392791480445503,
          "c_1": 0,
          "c_2": 0,
          "c_3": 0,
          "c_4": 0,
          "cluster": "c_1",
          "x": -4.315839368514983,
          "y": 1.6838248295344886
         },
         {
          "c_0": 3.3297888014300874,
          "c_1": 0,
          "c_2": 0,
          "c_3": 0,
          "c_4": 0,
          "cluster": "c_1",
          "x": -1.6527069717455238,
          "y": 7.566985588095034
         },
         {
          "c_0": 5.3253391253165825,
          "c_1": 0,
          "c_2": 0,
          "c_3": 0,
          "c_4": 0,
          "cluster": "c_1",
          "x": -4.394044395562428,
          "y": 0.39578684278976284
         },
         {
          "c_0": 3.293530672807066,
          "c_1": 0,
          "c_2": 0,
          "c_3": 0,
          "c_4": 0,
          "cluster": "c_1",
          "x": -2.3894584779190744,
          "y": 1.4478922502386296
         },
         {
          "c_0": 4.971285977516095,
          "c_1": 0,
          "c_2": 0,
          "c_3": 0,
          "c_4": 0,
          "cluster": "c_1",
          "x": 3.828693232967412,
          "y": 2.5800846503220027
         },
         {
          "c_0": 3.7887598087179617,
          "c_1": 0,
          "c_2": 0,
          "c_3": 0,
          "c_4": 0,
          "cluster": "c_1",
          "x": -2.6407804589703914,
          "y": 7.665410214134602
         },
         {
          "c_0": 4.631422574440367,
          "c_1": 0,
          "c_2": 0,
          "c_3": 0,
          "c_4": 0,
          "cluster": "c_1",
          "x": 3.63059175622074,
          "y": 5.626538276024883
         },
         {
          "c_0": 3.6912733368530044,
          "c_1": 0,
          "c_2": 0,
          "c_3": 0,
          "c_4": 0,
          "cluster": "c_1",
          "x": 2.656972382257221,
          "y": 5.584072414570967
         },
         {
          "c_0": 4.949754631478991,
          "c_1": 0,
          "c_2": 0,
          "c_3": 0,
          "c_4": 0,
          "cluster": "c_1",
          "x": -3.3167395096334387,
          "y": 0.06953714775265518
         },
         {
          "c_0": 4.930094830314688,
          "c_1": 0,
          "c_2": 0,
          "c_3": 0,
          "c_4": 0,
          "cluster": "c_1",
          "x": -4.48186637862007,
          "y": 1.0427421741864698
         },
         {
          "c_0": 6.053080174157193,
          "c_1": 0,
          "c_2": 0,
          "c_3": 0,
          "c_4": 0,
          "cluster": "c_1",
          "x": 4.633079968330454,
          "y": 6.971747888374574
         },
         {
          "c_0": 3.566964432615596,
          "c_1": 0,
          "c_2": 0,
          "c_3": 0,
          "c_4": 0,
          "cluster": "c_1",
          "x": -2.4778487191261265,
          "y": 1.1851353215783071
         },
         {
          "c_0": 4.28714737049154,
          "c_1": 0,
          "c_2": 0,
          "c_3": 0,
          "c_4": 0,
          "cluster": "c_1",
          "x": -3.7493315292728564,
          "y": 7.472911946433689
         },
         {
          "c_0": 3.9919702433013198,
          "c_1": 0,
          "c_2": 0,
          "c_3": 0,
          "c_4": 0,
          "cluster": "c_1",
          "x": -2.513167846425066,
          "y": 0.7282826985297352
         },
         {
          "c_0": 4.795121341079686,
          "c_1": 0,
          "c_2": 0,
          "c_3": 0,
          "c_4": 0,
          "cluster": "c_1",
          "x": -4.19908156633645,
          "y": 0.9414700445924489
         },
         {
          "c_0": 5.197276966381872,
          "c_1": 0,
          "c_2": 0,
          "c_3": 0,
          "c_4": 0,
          "cluster": "c_1",
          "x": 4.271072712583194,
          "y": 3.295203753782223
         },
         {
          "c_0": 3.859073321781168,
          "c_1": 0,
          "c_2": 0,
          "c_3": 0,
          "c_4": 0,
          "cluster": "c_1",
          "x": -2.745415005297165,
          "y": 0.9990173553523058
         },
         {
          "c_0": 2.7958504302729326,
          "c_1": 0,
          "c_2": 0,
          "c_3": 0,
          "c_4": 0,
          "cluster": "c_1",
          "x": -1.558235435775204,
          "y": 7.039615469011263
         },
         {
          "c_0": 4.473237926335074,
          "c_1": 0,
          "c_2": 0,
          "c_3": 0,
          "c_4": 0,
          "cluster": "c_1",
          "x": 3.653585058375629,
          "y": 4.384695888947945
         },
         {
          "c_0": 4.201130499730039,
          "c_1": 0,
          "c_2": 0,
          "c_3": 0,
          "c_4": 0,
          "cluster": "c_1",
          "x": -2.938876303400277,
          "y": 0.7158014357588617
         },
         {
          "c_0": 4.5229596915080625,
          "c_1": 0,
          "c_2": 0,
          "c_3": 0,
          "c_4": 0,
          "cluster": "c_1",
          "x": 3.7034618794666656,
          "y": 4.3246000320893465
         },
         {
          "c_0": 3.975699599756462,
          "c_1": 0,
          "c_2": 0,
          "c_3": 0,
          "c_4": 0,
          "cluster": "c_1",
          "x": -3.7470239327664925,
          "y": 7.033036920110417
         },
         {
          "c_0": 3.0816635266312153,
          "c_1": 0,
          "c_2": 0,
          "c_3": 0,
          "c_4": 0,
          "cluster": "c_1",
          "x": 2.2447838228153953,
          "y": 4.670339840078611
         },
         {
          "c_0": 2.6810478409498617,
          "c_1": 0,
          "c_2": 0,
          "c_3": 0,
          "c_4": 0,
          "cluster": "c_1",
          "x": -2.15901829779679,
          "y": 6.665550767402258
         },
         {
          "c_0": 3.4740628111530047,
          "c_1": 0,
          "c_2": 0,
          "c_3": 0,
          "c_4": 0,
          "cluster": "c_1",
          "x": -1.3743019305364712,
          "y": 7.772607829616678
         },
         {
          "c_0": 5.13983013329165,
          "c_1": 0,
          "c_2": 0,
          "c_3": 0,
          "c_4": 0,
          "cluster": "c_1",
          "x": -4.6234490131637465,
          "y": 0.8866196130444182
         }
        ],
        "data-89828897f697a09daf5dc3543c78fd41": [
         {
          "x": null,
          "y": null
         },
         {
          "x": -0.8194598212894628,
          "y": 4.343138096605079
         },
         {
          "x": null,
          "y": null
         },
         {
          "x": null,
          "y": null
         },
         {
          "x": null,
          "y": null
         }
        ]
       },
       "layer": [
        {
         "data": {
          "name": "data-43d329498703c807b7a836aff24e953b"
         },
         "encoding": {
          "color": {
           "field": "cluster",
           "scale": {
            "scheme": "category10"
           },
           "type": "nominal"
          },
          "tooltip": [
           {
            "field": "x",
            "type": "quantitative"
           },
           {
            "field": "y",
            "type": "quantitative"
           },
           {
            "field": "cluster",
            "type": "nominal"
           }
          ],
          "x": {
           "field": "x",
           "type": "quantitative"
          },
          "y": {
           "field": "y",
           "type": "quantitative"
          }
         },
         "mark": {
          "opacity": 0.5,
          "size": 60,
          "type": "circle"
         },
         "selection": {
          "selector023": {
           "bind": "scales",
           "encodings": [
            "x",
            "y"
           ],
           "type": "interval"
          }
         }
        },
        {
         "data": {
          "name": "data-89828897f697a09daf5dc3543c78fd41"
         },
         "encoding": {
          "x": {
           "field": "x",
           "type": "quantitative"
          },
          "y": {
           "field": "y",
           "type": "quantitative"
          }
         },
         "mark": {
          "color": "black",
          "opacity": 1,
          "size": 100,
          "type": "point"
         },
         "selection": {
          "selector024": {
           "bind": "scales",
           "encodings": [
            "x",
            "y"
           ],
           "type": "interval"
          }
         }
        }
       ]
      },
      "image/png": "[encoded data removed]",
      "text/plain": [
       "<VegaLite 3 object>\n",
       "\n",
       "If you see this message, it means the renderer has not been properly enabled\n",
       "for the frontend that you are using. For more information, see\n",
       "https://altair-viz.github.io/user_guide/troubleshooting.html\n"
      ]
     },
     "execution_count": 37,
     "metadata": {},
     "output_type": "execute_result"
    }
   ],
   "source": [
    "iterate()\n",
    "plot_result()"
   ]
  },
  {
   "cell_type": "markdown",
   "metadata": {},
   "source": [
    "Congratulations, you are now able to K-means clustering.\n",
    "\n",
    "Tip: You can play around with different datasets and k to see how the algorithm behaves."
   ]
  },
  {
   "cell_type": "markdown",
   "metadata": {},
   "source": [
    "## Epilogue\n",
    "\n",
    "There are several challenges with K-means in practice. Just to name a few: you need to provide k, the method does not guarantee a global optimum, and the algorithm relies on proper initialization.\n",
    "\n",
    "Still, due to it's simplicity and speed, the algorithm is still very useful in multiple scenarios.\n",
    "\n",
    "For more information on drawbacks and merrits of different clustering approaches, see https://scikit-learn.org/stable/modules/clustering.html.\n",
    "\n",
    "Scikit-learn also have handy more methods for generating different types of random data, and most importantly, proper implementations of not only multiple clustering algorithms but ML algorithms in general."
   ]
  },
  {
   "cell_type": "code",
   "execution_count": null,
   "metadata": {},
   "outputs": [],
   "source": []
  }
 ],
 "metadata": {
  "kernelspec": {
   "display_name": "Python 3",
   "language": "python",
   "name": "python3"
  },
  "language_info": {
   "codemirror_mode": {
    "name": "ipython",
    "version": 3
   },
   "file_extension": ".py",
   "mimetype": "text/x-python",
   "name": "python",
   "nbconvert_exporter": "python",
   "pygments_lexer": "ipython3",
   "version": "3.7.4"
  }
 },
 "nbformat": 4,
 "nbformat_minor": 4
}
