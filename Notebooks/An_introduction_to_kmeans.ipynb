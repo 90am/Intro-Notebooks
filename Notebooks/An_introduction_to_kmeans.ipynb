{
 "cells": [
  {
   "cell_type": "markdown",
   "metadata": {},
   "source": [
    "## Preface\n",
    "\n",
    "If you never used a Jupuyter notebook before, you need to execute the different code blocks as you read along, in the order they arrive.\n",
    "\n",
    "You execute a code block by selecting it and either press the run button above or by pressing shift+enter.\n",
    "\n",
    "Try executing the import statements first!"
   ]
  },
  {
   "cell_type": "code",
   "execution_count": 14,
   "metadata": {},
   "outputs": [],
   "source": [
    "import pandas as pd\n",
    "import altair as alt\n",
    "from sklearn import datasets\n",
    "import numpy as np"
   ]
  },
  {
   "cell_type": "markdown",
   "metadata": {},
   "source": [
    "In Jupyter Notebook, you need to run the following command in order to enable rendering of the visualizations."
   ]
  },
  {
   "cell_type": "code",
   "execution_count": 36,
   "metadata": {},
   "outputs": [
    {
     "data": {
      "text/plain": [
       "RendererRegistry.enable('notebook')"
      ]
     },
     "execution_count": 36,
     "metadata": {},
     "output_type": "execute_result"
    }
   ],
   "source": [
    "alt.renderers.enable('notebook')"
   ]
  },
  {
   "cell_type": "markdown",
   "metadata": {},
   "source": [
    "If you are using JupyterLab, you should use '*jupyterlab*' instead of '_notebook_' as input to the command."
   ]
  },
  {
   "cell_type": "markdown",
   "metadata": {},
   "source": [
    "# An introduction to K-means clustering"
   ]
  },
  {
   "cell_type": "markdown",
   "metadata": {},
   "source": [
    "In this notebook, you will be introduced to one of the simplest existing clustering algorithms, namely __K-means__. \n",
    "\n",
    "The goal of K-means clustering is to partition a dataset of **n** observations into __k__ clusters, in which each observation belongs to the cluster with the nearest mean.\n",
    "\n",
    "The basic algorithm proceeds by alternating between 2 steps:\n",
    "1. __Assign__ observations to the nearest cluster\n",
    "2. __Update__ the cluster centers (means)\n",
    "\n",
    "The algorithm alternates between these two steps until changes to the cluster centers (also known as centroids) are no longer observed.\n",
    "\n",
    "However, before iterating over the 2 steps, you first need to compute a set of initial centroids, which can be done in a number of different ways. One way is simply to generate random centroids.\n",
    "\n",
    "In the following, we will implement a basic version of K-means step-by-step and observe how we can cluster a random 2D dataset."
   ]
  },
  {
   "cell_type": "markdown",
   "metadata": {},
   "source": [
    "## Data!\n",
    "\n",
    "First, let's create a random dataset with two dimensions (or features) named **x** and __y__."
   ]
  },
  {
   "cell_type": "code",
   "execution_count": 15,
   "metadata": {},
   "outputs": [
    {
     "data": {
      "text/html": [
       "<div>\n",
       "<style scoped>\n",
       "    .dataframe tbody tr th:only-of-type {\n",
       "        vertical-align: middle;\n",
       "    }\n",
       "\n",
       "    .dataframe tbody tr th {\n",
       "        vertical-align: top;\n",
       "    }\n",
       "\n",
       "    .dataframe thead th {\n",
       "        text-align: right;\n",
       "    }\n",
       "</style>\n",
       "<table border=\"1\" class=\"dataframe\">\n",
       "  <thead>\n",
       "    <tr style=\"text-align: right;\">\n",
       "      <th></th>\n",
       "      <th>x</th>\n",
       "      <th>y</th>\n",
       "    </tr>\n",
       "  </thead>\n",
       "  <tbody>\n",
       "    <tr>\n",
       "      <th>0</th>\n",
       "      <td>3.118429</td>\n",
       "      <td>-1.404464</td>\n",
       "    </tr>\n",
       "    <tr>\n",
       "      <th>1</th>\n",
       "      <td>4.449018</td>\n",
       "      <td>-0.329828</td>\n",
       "    </tr>\n",
       "    <tr>\n",
       "      <th>2</th>\n",
       "      <td>10.996789</td>\n",
       "      <td>3.830886</td>\n",
       "    </tr>\n",
       "    <tr>\n",
       "      <th>3</th>\n",
       "      <td>1.716792</td>\n",
       "      <td>-1.090666</td>\n",
       "    </tr>\n",
       "    <tr>\n",
       "      <th>4</th>\n",
       "      <td>6.694589</td>\n",
       "      <td>-9.325980</td>\n",
       "    </tr>\n",
       "  </tbody>\n",
       "</table>\n",
       "</div>"
      ],
      "text/plain": [
       "           x         y\n",
       "0   3.118429 -1.404464\n",
       "1   4.449018 -0.329828\n",
       "2  10.996789  3.830886\n",
       "3   1.716792 -1.090666\n",
       "4   6.694589 -9.325980"
      ]
     },
     "execution_count": 15,
     "metadata": {},
     "output_type": "execute_result"
    }
   ],
   "source": [
    "blobs = datasets.make_blobs(n_samples = 200, centers=3)\n",
    "df = pd.DataFrame(blobs[0], columns=['x','y'])\n",
    "df.head()"
   ]
  },
  {
   "cell_type": "markdown",
   "metadata": {},
   "source": [
    "For illustrative purposes, we are using the function _make_blobs_ to create a random dataset with **200 data points** and __3 clusters__ (which we want to find with our K-means algorithm).\n",
    "\n",
    "You can visualize the data in a scatterplot like this."
   ]
  },
  {
   "cell_type": "code",
   "execution_count": 18,
   "metadata": {},
   "outputs": [
    {
     "data": {
      "application/vnd.vegalite.v3+json": {
       "$schema": "https://vega.github.io/schema/vega-lite/v3.4.0.json",
       "config": {
        "mark": {
         "tooltip": null
        },
        "view": {
         "height": 300,
         "width": 400
        }
       },
       "data": {
        "name": "data-9459577aa271c4be77d3534a17e09e4a"
       },
       "datasets": {
        "data-9459577aa271c4be77d3534a17e09e4a": [
         {
          "x": 3.1184292356694483,
          "y": -1.4044640550960652
         },
         {
          "x": 4.449018261006421,
          "y": -0.32982840997319396
         },
         {
          "x": 10.996788690994826,
          "y": 3.830886112620622
         },
         {
          "x": 1.7167919163480028,
          "y": -1.0906660699163058
         },
         {
          "x": 6.694588932640962,
          "y": -9.325980352317348
         },
         {
          "x": 10.861699075124056,
          "y": 3.207366507503612
         },
         {
          "x": 7.6375883868995365,
          "y": -8.258724840630354
         },
         {
          "x": 2.550804822807194,
          "y": -2.4651230689777144
         },
         {
          "x": 2.940503087068767,
          "y": -0.43795301137341647
         },
         {
          "x": 9.725776709618689,
          "y": 2.1233410169360227
         },
         {
          "x": 10.859138914976187,
          "y": 0.16891584160040196
         },
         {
          "x": 9.173952810116084,
          "y": 1.3654373168562168
         },
         {
          "x": 7.225359968474287,
          "y": -8.815428925357283
         },
         {
          "x": 8.813458714534855,
          "y": 3.275086956661234
         },
         {
          "x": 11.537689594681805,
          "y": 2.2577851202644847
         },
         {
          "x": 7.59905872988705,
          "y": -10.13619737176903
         },
         {
          "x": 10.206400779712279,
          "y": 1.7624959482729325
         },
         {
          "x": 10.125994741621861,
          "y": 2.3397165531547506
         },
         {
          "x": 4.514696695265249,
          "y": -9.203802841990255
         },
         {
          "x": 6.407998599672391,
          "y": -8.928390757964191
         },
         {
          "x": 3.8782979253276157,
          "y": -0.1354043355205059
         },
         {
          "x": 7.809142492170106,
          "y": -10.712839677445668
         },
         {
          "x": 1.260732306947813,
          "y": -2.196124509566161
         },
         {
          "x": 6.416993027291973,
          "y": -8.786540522060523
         },
         {
          "x": 4.00219603644745,
          "y": 1.2448525456197235
         },
         {
          "x": 10.581961396836107,
          "y": 1.2964843562498922
         },
         {
          "x": 7.010543685496742,
          "y": -8.297550717349386
         },
         {
          "x": 7.74587580387531,
          "y": -8.870546060517132
         },
         {
          "x": 3.3908538682632092,
          "y": 0.20774956984495163
         },
         {
          "x": 7.450413364707344,
          "y": -8.456898373963794
         },
         {
          "x": 4.124096104314129,
          "y": -2.2120483661401185
         },
         {
          "x": 10.825234248421078,
          "y": 3.2798486522589445
         },
         {
          "x": 2.6750246726329827,
          "y": -0.39418170143032993
         },
         {
          "x": 9.540095979421103,
          "y": 2.838863852070127
         },
         {
          "x": 7.88837865859423,
          "y": -9.32286588725596
         },
         {
          "x": 3.2772946262392884,
          "y": -1.908470357406583
         },
         {
          "x": 8.987708156523619,
          "y": 5.5403531943947355
         },
         {
          "x": 9.006711803433014,
          "y": 0.6851579374084029
         },
         {
          "x": 7.4243605133514645,
          "y": -9.642279996538333
         },
         {
          "x": 11.018066838828814,
          "y": 1.7712746590963921
         },
         {
          "x": 7.047510826111793,
          "y": -9.74340961263524
         },
         {
          "x": 7.160048702278247,
          "y": -10.512177284713708
         },
         {
          "x": 3.632548394013589,
          "y": -0.18345010561667574
         },
         {
          "x": 2.6755108428828875,
          "y": -0.9970471583256093
         },
         {
          "x": 3.866921213259231,
          "y": -0.09342193360610374
         },
         {
          "x": 4.674961511060727,
          "y": 0.10432608430042656
         },
         {
          "x": 5.990554802159361,
          "y": -7.371251115671033
         },
         {
          "x": 6.265364693269934,
          "y": -7.911306961643049
         },
         {
          "x": 9.53875129839647,
          "y": 1.4637700923077275
         },
         {
          "x": 8.453508858075862,
          "y": -9.610961398501017
         },
         {
          "x": 1.0247075702232746,
          "y": -1.654400210110937
         },
         {
          "x": 2.798826138486089,
          "y": -1.0961674281208702
         },
         {
          "x": 2.4496533957547175,
          "y": -0.263876649322904
         },
         {
          "x": 8.806730437184834,
          "y": 3.1155119423833124
         },
         {
          "x": 1.60563624582479,
          "y": -0.9146054874976681
         },
         {
          "x": 3.353889745518,
          "y": -0.7436010189958306
         },
         {
          "x": 2.1580076846380534,
          "y": -2.4499129681920406
         },
         {
          "x": 3.8580414977404085,
          "y": -0.6807315007837443
         },
         {
          "x": 9.044298891614968,
          "y": 3.246955413422378
         },
         {
          "x": 7.362783008104983,
          "y": -10.972384261844251
         },
         {
          "x": 4.351318265907579,
          "y": -0.5122637529899967
         },
         {
          "x": 9.369472337415111,
          "y": -9.247642749749424
         },
         {
          "x": 9.508894083416926,
          "y": 2.2932637015727506
         },
         {
          "x": 7.803367239976834,
          "y": -8.585912467943672
         },
         {
          "x": 3.277109952097115,
          "y": -1.8644741098247284
         },
         {
          "x": 1.5482895496682854,
          "y": -1.1187422487658287
         },
         {
          "x": 2.1191623657092253,
          "y": -1.4838648969624775
         },
         {
          "x": 7.194896928383701,
          "y": -7.866424582876226
         },
         {
          "x": 10.590085660925835,
          "y": 4.039456860007604
         },
         {
          "x": 2.1790460502715097,
          "y": -0.45610056311624647
         },
         {
          "x": 6.940340017587297,
          "y": -10.834203628034174
         },
         {
          "x": 3.560528146383494,
          "y": -0.9952856782184543
         },
         {
          "x": 3.078408479045014,
          "y": -1.1383314461945517
         },
         {
          "x": 1.3900126306656566,
          "y": 0.2657493453323958
         },
         {
          "x": 3.964243930567099,
          "y": -0.6180135543502945
         },
         {
          "x": 7.54373014544233,
          "y": -9.085985050356284
         },
         {
          "x": 9.635702798220894,
          "y": 1.7595292880162596
         },
         {
          "x": 7.758456513027645,
          "y": -9.894453491590584
         },
         {
          "x": 7.89577695806855,
          "y": -9.34514257764723
         },
         {
          "x": 7.786486516912291,
          "y": 1.9025876991248742
         },
         {
          "x": 6.427932649721693,
          "y": -9.831251231605329
         },
         {
          "x": 9.452105103678706,
          "y": 2.509622692683785
         },
         {
          "x": 2.4073661963418544,
          "y": -1.954674162240043
         },
         {
          "x": 7.634176633767193,
          "y": -10.632878169330166
         },
         {
          "x": 9.222319019562855,
          "y": 3.0585690714684093
         },
         {
          "x": 8.128345441230831,
          "y": 1.7055932755127845
         },
         {
          "x": 8.778270993357765,
          "y": 3.7459177564436104
         },
         {
          "x": 10.240837479684103,
          "y": 2.2782295248842255
         },
         {
          "x": 3.2081977703022555,
          "y": -1.6077751481316036
         },
         {
          "x": 9.157631574744888,
          "y": 0.4559697024585483
         },
         {
          "x": 6.218619601261139,
          "y": -9.899686037869493
         },
         {
          "x": 7.387626841793464,
          "y": -7.83391546603102
         },
         {
          "x": 8.885563634531522,
          "y": 3.2307161043773305
         },
         {
          "x": 6.7710832264937,
          "y": -9.724165193751913
         },
         {
          "x": 4.194710182849511,
          "y": 0.38298901825113174
         },
         {
          "x": 10.19341454095769,
          "y": 3.2131545051407118
         },
         {
          "x": 7.911735937396738,
          "y": -9.19052288301965
         },
         {
          "x": 12.095626718281206,
          "y": 3.8082668296256053
         },
         {
          "x": 10.26417077147162,
          "y": 2.1255986628660892
         },
         {
          "x": 7.665478907293002,
          "y": -10.1020399000725
         },
         {
          "x": 8.311248009985068,
          "y": 0.8537782250901029
         },
         {
          "x": 6.175458477541515,
          "y": -8.443793750107993
         },
         {
          "x": 8.092240210853337,
          "y": -7.471393893669992
         },
         {
          "x": 8.770413097707907,
          "y": 3.724012912253034
         },
         {
          "x": 5.51908023699478,
          "y": -8.059351311190447
         },
         {
          "x": 4.3101115489396555,
          "y": -1.5311594263840003
         },
         {
          "x": 8.130591722648056,
          "y": -9.977937889646324
         },
         {
          "x": 6.594485719178524,
          "y": -7.507357222832605
         },
         {
          "x": 5.989888818245406,
          "y": -8.580009621224944
         },
         {
          "x": 7.887906089075845,
          "y": 4.368166348331357
         },
         {
          "x": 8.61174286504456,
          "y": 2.0613060300501607
         },
         {
          "x": 9.44428824434386,
          "y": 0.18183500145437748
         },
         {
          "x": 8.104293220610504,
          "y": 3.210948178719395
         },
         {
          "x": 5.981435828118322,
          "y": -9.295971980003932
         },
         {
          "x": 2.1003083998712286,
          "y": -1.8617221093079421
         },
         {
          "x": 8.468703866352568,
          "y": 2.5579487621759016
         },
         {
          "x": 9.18079731072357,
          "y": 1.3901698101611513
         },
         {
          "x": 9.9524862775329,
          "y": 2.7634433515287795
         },
         {
          "x": 2.2617613167343062,
          "y": -0.10494321851310917
         },
         {
          "x": 3.308298424479892,
          "y": -1.3603644134169293
         },
         {
          "x": 3.160778871428765,
          "y": -1.2024191725668976
         },
         {
          "x": 7.32157079128833,
          "y": -10.966818157650778
         },
         {
          "x": 2.652502220350179,
          "y": -0.5936527334629889
         },
         {
          "x": 6.04102876034977,
          "y": -8.93718401298916
         },
         {
          "x": 8.941315004673461,
          "y": 0.7819913828033587
         },
         {
          "x": 10.043122686243615,
          "y": 2.781315929053096
         },
         {
          "x": 4.339897870860586,
          "y": -1.3991117020038213
         },
         {
          "x": 7.5953025554715765,
          "y": -9.56641607378144
         },
         {
          "x": 9.160251717630127,
          "y": 1.8031519827565368
         },
         {
          "x": 1.8998976518940673,
          "y": 0.5421997056172665
         },
         {
          "x": 1.6036409103782105,
          "y": -0.1652823691113734
         },
         {
          "x": 6.311508602220996,
          "y": -7.1671196943049456
         },
         {
          "x": 6.652014968909176,
          "y": -7.807502893821182
         },
         {
          "x": 2.718488973461807,
          "y": -0.5897074945309543
         },
         {
          "x": 9.083870655832985,
          "y": 2.4876861186805916
         },
         {
          "x": 1.3013857757728586,
          "y": -0.8909396079868098
         },
         {
          "x": 1.573624289789848,
          "y": -2.762814310118575
         },
         {
          "x": 3.6222976801954774,
          "y": -0.48942803505844346
         },
         {
          "x": 9.216352593939122,
          "y": 1.4149452616569058
         },
         {
          "x": 9.722579322016236,
          "y": 1.5915659878623394
         },
         {
          "x": 6.1255903967970085,
          "y": -9.218611873471827
         },
         {
          "x": 3.4523879144931895,
          "y": -0.2134645962156263
         },
         {
          "x": 2.8178378727920954,
          "y": -2.2115466598706535
         },
         {
          "x": 5.89380619234881,
          "y": -8.917053870115367
         },
         {
          "x": 7.790118564675714,
          "y": -9.40612150001545
         },
         {
          "x": 6.510749968937679,
          "y": -9.335086964396591
         },
         {
          "x": 8.178982272727657,
          "y": -0.21917220979430452
         },
         {
          "x": 7.450801634008632,
          "y": -6.97400855971598
         },
         {
          "x": 9.023620353691621,
          "y": 2.3415108099900364
         },
         {
          "x": 9.662135450565465,
          "y": 4.088226556961257
         },
         {
          "x": 9.614912742376006,
          "y": 3.0157376113480314
         },
         {
          "x": 2.2790737156465677,
          "y": -1.6455588260614444
         },
         {
          "x": 6.832118737142073,
          "y": -9.482142586593403
         },
         {
          "x": 3.6019653406165886,
          "y": -1.6927064084821364
         },
         {
          "x": 1.4782209163464268,
          "y": -0.817416996984387
         },
         {
          "x": 9.253579292756303,
          "y": 3.022989372537978
         },
         {
          "x": 10.527476230748617,
          "y": 4.069597576535264
         },
         {
          "x": 5.4135997881350875,
          "y": -9.263255327376733
         },
         {
          "x": 8.7377696378861,
          "y": -8.788937871835321
         },
         {
          "x": 7.6689884879889405,
          "y": -9.019019342763745
         },
         {
          "x": 10.769985363636707,
          "y": 1.7666374452026807
         },
         {
          "x": 2.8679566857916656,
          "y": -0.9433732820812278
         },
         {
          "x": 1.1113925273268717,
          "y": -2.181424819244159
         },
         {
          "x": 1.271830882283903,
          "y": -1.1326134544656408
         },
         {
          "x": 3.476458192805591,
          "y": -0.7529377551930778
         },
         {
          "x": 6.024725114391347,
          "y": -9.313497554457825
         },
         {
          "x": 4.035066601200981,
          "y": -1.98658251679815
         },
         {
          "x": 1.7209058522631384,
          "y": -1.441586125748839
         },
         {
          "x": 7.383991148863304,
          "y": -9.406015258933895
         },
         {
          "x": 3.6429963556237057,
          "y": -2.5171064592042676
         },
         {
          "x": 9.115463066748692,
          "y": 4.0264734383877245
         },
         {
          "x": 6.124291515823368,
          "y": -9.486028528891996
         },
         {
          "x": 9.252476981947112,
          "y": 2.924052675403543
         },
         {
          "x": 7.058334139744647,
          "y": -8.32986171780171
         },
         {
          "x": 7.011945827064147,
          "y": -6.770693243725228
         },
         {
          "x": 7.425850501606944,
          "y": -9.945052677600938
         },
         {
          "x": 4.276699691849821,
          "y": -1.61638656878842
         },
         {
          "x": 8.787080209150151,
          "y": 3.180391552006896
         },
         {
          "x": 7.013246021509598,
          "y": -7.976814350497841
         },
         {
          "x": 10.415435917116989,
          "y": 1.9603256817990788
         },
         {
          "x": 4.438466167175794,
          "y": -1.3437917828449766
         },
         {
          "x": 7.6426652813319444,
          "y": -8.789719941680783
         },
         {
          "x": 9.654019479864784,
          "y": 1.89300335673759
         },
         {
          "x": 10.630024254630046,
          "y": 2.927661892635763
         },
         {
          "x": 10.432050152882123,
          "y": 3.2486642687624268
         },
         {
          "x": 1.3617954112751927,
          "y": -3.2096043409870414
         },
         {
          "x": 8.050321215459274,
          "y": -7.2725180584265985
         },
         {
          "x": 10.287375804367706,
          "y": 1.0746135246416386
         },
         {
          "x": 6.9100065032984155,
          "y": -8.224062992250005
         },
         {
          "x": 2.970630246615425,
          "y": -1.0592145982601764
         },
         {
          "x": 9.088216882512624,
          "y": 2.7239611800607113
         },
         {
          "x": 10.160610371933668,
          "y": 1.9093895954776934
         },
         {
          "x": 10.213964695943538,
          "y": 3.9557951293026763
         },
         {
          "x": 7.063528291483956,
          "y": -10.144731825242818
         },
         {
          "x": 8.592119191782176,
          "y": -8.584418213042088
         },
         {
          "x": 2.872226924994261,
          "y": -3.035094351354702
         },
         {
          "x": 7.034443564850889,
          "y": -8.984932049706774
         },
         {
          "x": 3.831018296193718,
          "y": -2.3017026478794747
         },
         {
          "x": 9.875108478943737,
          "y": -0.15586682630229198
         },
         {
          "x": 4.213847173176068,
          "y": -2.354086649745567
         }
        ]
       },
       "encoding": {
        "x": {
         "field": "x",
         "type": "quantitative"
        },
        "y": {
         "field": "y",
         "type": "quantitative"
        }
       },
       "mark": {
        "size": 60,
        "type": "circle"
       },
       "selection": {
        "selector004": {
         "bind": "scales",
         "encodings": [
          "x",
          "y"
         ],
         "type": "interval"
        }
       }
      },
      "image/png": "[encoded data removed]",
      "text/plain": [
       "<VegaLite 3 object>\n",
       "\n",
       "If you see this message, it means the renderer has not been properly enabled\n",
       "for the frontend that you are using. For more information, see\n",
       "https://altair-viz.github.io/user_guide/troubleshooting.html\n"
      ]
     },
     "execution_count": 18,
     "metadata": {},
     "output_type": "execute_result"
    }
   ],
   "source": [
    "alt.Chart(df).mark_circle(size=60).encode(\n",
    "    x='x',\n",
    "    y='y'\n",
    ").interactive()"
   ]
  },
  {
   "cell_type": "markdown",
   "metadata": {},
   "source": [
    "## Distances!"
   ]
  },
  {
   "cell_type": "markdown",
   "metadata": {},
   "source": [
    "Now let's get started on our algorithm. \n",
    "\n",
    "In order to compute the nearest center, we need to define what we mean by nearest. I.e., we need to create a distance function. \n",
    "\n",
    "In K-means, the distance measurement is the Euclidean distance, which is the \"straight-line\" distance between two points. \n",
    "\n",
    "Thus, in the case of 2D points, such as $(x_1, y_1)$ and $(x_2, y_2)$, the euclidean distance formula becomes $\\sqrt{(x_1 - x_2)^2 + (y_1 - y_2)^2}$.\n",
    "\n",
    "The function below returns the euclidean distance between a point and a centroid. The function also works for points in higher dimensional spaces."
   ]
  },
  {
   "cell_type": "code",
   "execution_count": 19,
   "metadata": {},
   "outputs": [],
   "source": [
    "def euclidean_distance(point, centroid):\n",
    "    return np.sqrt(np.sum((point - centroid)**2))"
   ]
  },
  {
   "cell_type": "markdown",
   "metadata": {},
   "source": [
    "## Random centroids!"
   ]
  },
  {
   "cell_type": "markdown",
   "metadata": {},
   "source": [
    "We also need a function that can compute a set of random centroids, which we need to initialize our algorithm.\n",
    "\n",
    "This function returns **k** random centroids within the bounds of our data, where __k__ is the number of clusters we aim to compute."
   ]
  },
  {
   "cell_type": "code",
   "execution_count": 20,
   "metadata": {},
   "outputs": [],
   "source": [
    "def random_centroids(k):   \n",
    "    df_min = df[['x', 'y']].min()\n",
    "    df_max = df[['x', 'y']].max()\n",
    "    return pd.DataFrame([np.random.random_sample((2,)) * (df_max - df_min) + df_min for i in range(k)], columns=['x', 'y'])"
   ]
  },
  {
   "cell_type": "markdown",
   "metadata": {},
   "source": [
    "## Init!"
   ]
  },
  {
   "cell_type": "markdown",
   "metadata": {},
   "source": [
    "Now we are ready to initialize things.\n",
    "\n",
    "For this we need to specify a __k__ and compute our random centroids.\n",
    "\n",
    "To make things explicit, we are also generating a set of labels for our centroids."
   ]
  },
  {
   "cell_type": "code",
   "execution_count": 22,
   "metadata": {},
   "outputs": [
    {
     "data": {
      "text/plain": [
       "['c_0', 'c_1', 'c_2']"
      ]
     },
     "execution_count": 22,
     "metadata": {},
     "output_type": "execute_result"
    }
   ],
   "source": [
    "k = 3\n",
    "centroids = random_centroids(k)\n",
    "centroid_labels = []\n",
    "for i in range(k):\n",
    "    label = 'c_%d' % i\n",
    "    centroid_labels.append(label)\n",
    "centroid_labels"
   ]
  },
  {
   "cell_type": "markdown",
   "metadata": {},
   "source": [
    "Now we can also visualize not only our dataset but also the current centroids."
   ]
  },
  {
   "cell_type": "code",
   "execution_count": 23,
   "metadata": {},
   "outputs": [
    {
     "data": {
      "application/vnd.vegalite.v3+json": {
       "$schema": "https://vega.github.io/schema/vega-lite/v3.4.0.json",
       "config": {
        "mark": {
         "tooltip": null
        },
        "view": {
         "height": 300,
         "width": 400
        }
       },
       "datasets": {
        "data-1f973e8fb53dd0885190a9cb0e1e2675": [
         {
          "x": 8.649989568024164,
          "y": 0.1188382169727209
         },
         {
          "x": 9.922427558863793,
          "y": -9.274538367815085
         },
         {
          "x": 3.184580624343055,
          "y": -7.841573600500711
         }
        ],
        "data-9459577aa271c4be77d3534a17e09e4a": [
         {
          "x": 3.1184292356694483,
          "y": -1.4044640550960652
         },
         {
          "x": 4.449018261006421,
          "y": -0.32982840997319396
         },
         {
          "x": 10.996788690994826,
          "y": 3.830886112620622
         },
         {
          "x": 1.7167919163480028,
          "y": -1.0906660699163058
         },
         {
          "x": 6.694588932640962,
          "y": -9.325980352317348
         },
         {
          "x": 10.861699075124056,
          "y": 3.207366507503612
         },
         {
          "x": 7.6375883868995365,
          "y": -8.258724840630354
         },
         {
          "x": 2.550804822807194,
          "y": -2.4651230689777144
         },
         {
          "x": 2.940503087068767,
          "y": -0.43795301137341647
         },
         {
          "x": 9.725776709618689,
          "y": 2.1233410169360227
         },
         {
          "x": 10.859138914976187,
          "y": 0.16891584160040196
         },
         {
          "x": 9.173952810116084,
          "y": 1.3654373168562168
         },
         {
          "x": 7.225359968474287,
          "y": -8.815428925357283
         },
         {
          "x": 8.813458714534855,
          "y": 3.275086956661234
         },
         {
          "x": 11.537689594681805,
          "y": 2.2577851202644847
         },
         {
          "x": 7.59905872988705,
          "y": -10.13619737176903
         },
         {
          "x": 10.206400779712279,
          "y": 1.7624959482729325
         },
         {
          "x": 10.125994741621861,
          "y": 2.3397165531547506
         },
         {
          "x": 4.514696695265249,
          "y": -9.203802841990255
         },
         {
          "x": 6.407998599672391,
          "y": -8.928390757964191
         },
         {
          "x": 3.8782979253276157,
          "y": -0.1354043355205059
         },
         {
          "x": 7.809142492170106,
          "y": -10.712839677445668
         },
         {
          "x": 1.260732306947813,
          "y": -2.196124509566161
         },
         {
          "x": 6.416993027291973,
          "y": -8.786540522060523
         },
         {
          "x": 4.00219603644745,
          "y": 1.2448525456197235
         },
         {
          "x": 10.581961396836107,
          "y": 1.2964843562498922
         },
         {
          "x": 7.010543685496742,
          "y": -8.297550717349386
         },
         {
          "x": 7.74587580387531,
          "y": -8.870546060517132
         },
         {
          "x": 3.3908538682632092,
          "y": 0.20774956984495163
         },
         {
          "x": 7.450413364707344,
          "y": -8.456898373963794
         },
         {
          "x": 4.124096104314129,
          "y": -2.2120483661401185
         },
         {
          "x": 10.825234248421078,
          "y": 3.2798486522589445
         },
         {
          "x": 2.6750246726329827,
          "y": -0.39418170143032993
         },
         {
          "x": 9.540095979421103,
          "y": 2.838863852070127
         },
         {
          "x": 7.88837865859423,
          "y": -9.32286588725596
         },
         {
          "x": 3.2772946262392884,
          "y": -1.908470357406583
         },
         {
          "x": 8.987708156523619,
          "y": 5.5403531943947355
         },
         {
          "x": 9.006711803433014,
          "y": 0.6851579374084029
         },
         {
          "x": 7.4243605133514645,
          "y": -9.642279996538333
         },
         {
          "x": 11.018066838828814,
          "y": 1.7712746590963921
         },
         {
          "x": 7.047510826111793,
          "y": -9.74340961263524
         },
         {
          "x": 7.160048702278247,
          "y": -10.512177284713708
         },
         {
          "x": 3.632548394013589,
          "y": -0.18345010561667574
         },
         {
          "x": 2.6755108428828875,
          "y": -0.9970471583256093
         },
         {
          "x": 3.866921213259231,
          "y": -0.09342193360610374
         },
         {
          "x": 4.674961511060727,
          "y": 0.10432608430042656
         },
         {
          "x": 5.990554802159361,
          "y": -7.371251115671033
         },
         {
          "x": 6.265364693269934,
          "y": -7.911306961643049
         },
         {
          "x": 9.53875129839647,
          "y": 1.4637700923077275
         },
         {
          "x": 8.453508858075862,
          "y": -9.610961398501017
         },
         {
          "x": 1.0247075702232746,
          "y": -1.654400210110937
         },
         {
          "x": 2.798826138486089,
          "y": -1.0961674281208702
         },
         {
          "x": 2.4496533957547175,
          "y": -0.263876649322904
         },
         {
          "x": 8.806730437184834,
          "y": 3.1155119423833124
         },
         {
          "x": 1.60563624582479,
          "y": -0.9146054874976681
         },
         {
          "x": 3.353889745518,
          "y": -0.7436010189958306
         },
         {
          "x": 2.1580076846380534,
          "y": -2.4499129681920406
         },
         {
          "x": 3.8580414977404085,
          "y": -0.6807315007837443
         },
         {
          "x": 9.044298891614968,
          "y": 3.246955413422378
         },
         {
          "x": 7.362783008104983,
          "y": -10.972384261844251
         },
         {
          "x": 4.351318265907579,
          "y": -0.5122637529899967
         },
         {
          "x": 9.369472337415111,
          "y": -9.247642749749424
         },
         {
          "x": 9.508894083416926,
          "y": 2.2932637015727506
         },
         {
          "x": 7.803367239976834,
          "y": -8.585912467943672
         },
         {
          "x": 3.277109952097115,
          "y": -1.8644741098247284
         },
         {
          "x": 1.5482895496682854,
          "y": -1.1187422487658287
         },
         {
          "x": 2.1191623657092253,
          "y": -1.4838648969624775
         },
         {
          "x": 7.194896928383701,
          "y": -7.866424582876226
         },
         {
          "x": 10.590085660925835,
          "y": 4.039456860007604
         },
         {
          "x": 2.1790460502715097,
          "y": -0.45610056311624647
         },
         {
          "x": 6.940340017587297,
          "y": -10.834203628034174
         },
         {
          "x": 3.560528146383494,
          "y": -0.9952856782184543
         },
         {
          "x": 3.078408479045014,
          "y": -1.1383314461945517
         },
         {
          "x": 1.3900126306656566,
          "y": 0.2657493453323958
         },
         {
          "x": 3.964243930567099,
          "y": -0.6180135543502945
         },
         {
          "x": 7.54373014544233,
          "y": -9.085985050356284
         },
         {
          "x": 9.635702798220894,
          "y": 1.7595292880162596
         },
         {
          "x": 7.758456513027645,
          "y": -9.894453491590584
         },
         {
          "x": 7.89577695806855,
          "y": -9.34514257764723
         },
         {
          "x": 7.786486516912291,
          "y": 1.9025876991248742
         },
         {
          "x": 6.427932649721693,
          "y": -9.831251231605329
         },
         {
          "x": 9.452105103678706,
          "y": 2.509622692683785
         },
         {
          "x": 2.4073661963418544,
          "y": -1.954674162240043
         },
         {
          "x": 7.634176633767193,
          "y": -10.632878169330166
         },
         {
          "x": 9.222319019562855,
          "y": 3.0585690714684093
         },
         {
          "x": 8.128345441230831,
          "y": 1.7055932755127845
         },
         {
          "x": 8.778270993357765,
          "y": 3.7459177564436104
         },
         {
          "x": 10.240837479684103,
          "y": 2.2782295248842255
         },
         {
          "x": 3.2081977703022555,
          "y": -1.6077751481316036
         },
         {
          "x": 9.157631574744888,
          "y": 0.4559697024585483
         },
         {
          "x": 6.218619601261139,
          "y": -9.899686037869493
         },
         {
          "x": 7.387626841793464,
          "y": -7.83391546603102
         },
         {
          "x": 8.885563634531522,
          "y": 3.2307161043773305
         },
         {
          "x": 6.7710832264937,
          "y": -9.724165193751913
         },
         {
          "x": 4.194710182849511,
          "y": 0.38298901825113174
         },
         {
          "x": 10.19341454095769,
          "y": 3.2131545051407118
         },
         {
          "x": 7.911735937396738,
          "y": -9.19052288301965
         },
         {
          "x": 12.095626718281206,
          "y": 3.8082668296256053
         },
         {
          "x": 10.26417077147162,
          "y": 2.1255986628660892
         },
         {
          "x": 7.665478907293002,
          "y": -10.1020399000725
         },
         {
          "x": 8.311248009985068,
          "y": 0.8537782250901029
         },
         {
          "x": 6.175458477541515,
          "y": -8.443793750107993
         },
         {
          "x": 8.092240210853337,
          "y": -7.471393893669992
         },
         {
          "x": 8.770413097707907,
          "y": 3.724012912253034
         },
         {
          "x": 5.51908023699478,
          "y": -8.059351311190447
         },
         {
          "x": 4.3101115489396555,
          "y": -1.5311594263840003
         },
         {
          "x": 8.130591722648056,
          "y": -9.977937889646324
         },
         {
          "x": 6.594485719178524,
          "y": -7.507357222832605
         },
         {
          "x": 5.989888818245406,
          "y": -8.580009621224944
         },
         {
          "x": 7.887906089075845,
          "y": 4.368166348331357
         },
         {
          "x": 8.61174286504456,
          "y": 2.0613060300501607
         },
         {
          "x": 9.44428824434386,
          "y": 0.18183500145437748
         },
         {
          "x": 8.104293220610504,
          "y": 3.210948178719395
         },
         {
          "x": 5.981435828118322,
          "y": -9.295971980003932
         },
         {
          "x": 2.1003083998712286,
          "y": -1.8617221093079421
         },
         {
          "x": 8.468703866352568,
          "y": 2.5579487621759016
         },
         {
          "x": 9.18079731072357,
          "y": 1.3901698101611513
         },
         {
          "x": 9.9524862775329,
          "y": 2.7634433515287795
         },
         {
          "x": 2.2617613167343062,
          "y": -0.10494321851310917
         },
         {
          "x": 3.308298424479892,
          "y": -1.3603644134169293
         },
         {
          "x": 3.160778871428765,
          "y": -1.2024191725668976
         },
         {
          "x": 7.32157079128833,
          "y": -10.966818157650778
         },
         {
          "x": 2.652502220350179,
          "y": -0.5936527334629889
         },
         {
          "x": 6.04102876034977,
          "y": -8.93718401298916
         },
         {
          "x": 8.941315004673461,
          "y": 0.7819913828033587
         },
         {
          "x": 10.043122686243615,
          "y": 2.781315929053096
         },
         {
          "x": 4.339897870860586,
          "y": -1.3991117020038213
         },
         {
          "x": 7.5953025554715765,
          "y": -9.56641607378144
         },
         {
          "x": 9.160251717630127,
          "y": 1.8031519827565368
         },
         {
          "x": 1.8998976518940673,
          "y": 0.5421997056172665
         },
         {
          "x": 1.6036409103782105,
          "y": -0.1652823691113734
         },
         {
          "x": 6.311508602220996,
          "y": -7.1671196943049456
         },
         {
          "x": 6.652014968909176,
          "y": -7.807502893821182
         },
         {
          "x": 2.718488973461807,
          "y": -0.5897074945309543
         },
         {
          "x": 9.083870655832985,
          "y": 2.4876861186805916
         },
         {
          "x": 1.3013857757728586,
          "y": -0.8909396079868098
         },
         {
          "x": 1.573624289789848,
          "y": -2.762814310118575
         },
         {
          "x": 3.6222976801954774,
          "y": -0.48942803505844346
         },
         {
          "x": 9.216352593939122,
          "y": 1.4149452616569058
         },
         {
          "x": 9.722579322016236,
          "y": 1.5915659878623394
         },
         {
          "x": 6.1255903967970085,
          "y": -9.218611873471827
         },
         {
          "x": 3.4523879144931895,
          "y": -0.2134645962156263
         },
         {
          "x": 2.8178378727920954,
          "y": -2.2115466598706535
         },
         {
          "x": 5.89380619234881,
          "y": -8.917053870115367
         },
         {
          "x": 7.790118564675714,
          "y": -9.40612150001545
         },
         {
          "x": 6.510749968937679,
          "y": -9.335086964396591
         },
         {
          "x": 8.178982272727657,
          "y": -0.21917220979430452
         },
         {
          "x": 7.450801634008632,
          "y": -6.97400855971598
         },
         {
          "x": 9.023620353691621,
          "y": 2.3415108099900364
         },
         {
          "x": 9.662135450565465,
          "y": 4.088226556961257
         },
         {
          "x": 9.614912742376006,
          "y": 3.0157376113480314
         },
         {
          "x": 2.2790737156465677,
          "y": -1.6455588260614444
         },
         {
          "x": 6.832118737142073,
          "y": -9.482142586593403
         },
         {
          "x": 3.6019653406165886,
          "y": -1.6927064084821364
         },
         {
          "x": 1.4782209163464268,
          "y": -0.817416996984387
         },
         {
          "x": 9.253579292756303,
          "y": 3.022989372537978
         },
         {
          "x": 10.527476230748617,
          "y": 4.069597576535264
         },
         {
          "x": 5.4135997881350875,
          "y": -9.263255327376733
         },
         {
          "x": 8.7377696378861,
          "y": -8.788937871835321
         },
         {
          "x": 7.6689884879889405,
          "y": -9.019019342763745
         },
         {
          "x": 10.769985363636707,
          "y": 1.7666374452026807
         },
         {
          "x": 2.8679566857916656,
          "y": -0.9433732820812278
         },
         {
          "x": 1.1113925273268717,
          "y": -2.181424819244159
         },
         {
          "x": 1.271830882283903,
          "y": -1.1326134544656408
         },
         {
          "x": 3.476458192805591,
          "y": -0.7529377551930778
         },
         {
          "x": 6.024725114391347,
          "y": -9.313497554457825
         },
         {
          "x": 4.035066601200981,
          "y": -1.98658251679815
         },
         {
          "x": 1.7209058522631384,
          "y": -1.441586125748839
         },
         {
          "x": 7.383991148863304,
          "y": -9.406015258933895
         },
         {
          "x": 3.6429963556237057,
          "y": -2.5171064592042676
         },
         {
          "x": 9.115463066748692,
          "y": 4.0264734383877245
         },
         {
          "x": 6.124291515823368,
          "y": -9.486028528891996
         },
         {
          "x": 9.252476981947112,
          "y": 2.924052675403543
         },
         {
          "x": 7.058334139744647,
          "y": -8.32986171780171
         },
         {
          "x": 7.011945827064147,
          "y": -6.770693243725228
         },
         {
          "x": 7.425850501606944,
          "y": -9.945052677600938
         },
         {
          "x": 4.276699691849821,
          "y": -1.61638656878842
         },
         {
          "x": 8.787080209150151,
          "y": 3.180391552006896
         },
         {
          "x": 7.013246021509598,
          "y": -7.976814350497841
         },
         {
          "x": 10.415435917116989,
          "y": 1.9603256817990788
         },
         {
          "x": 4.438466167175794,
          "y": -1.3437917828449766
         },
         {
          "x": 7.6426652813319444,
          "y": -8.789719941680783
         },
         {
          "x": 9.654019479864784,
          "y": 1.89300335673759
         },
         {
          "x": 10.630024254630046,
          "y": 2.927661892635763
         },
         {
          "x": 10.432050152882123,
          "y": 3.2486642687624268
         },
         {
          "x": 1.3617954112751927,
          "y": -3.2096043409870414
         },
         {
          "x": 8.050321215459274,
          "y": -7.2725180584265985
         },
         {
          "x": 10.287375804367706,
          "y": 1.0746135246416386
         },
         {
          "x": 6.9100065032984155,
          "y": -8.224062992250005
         },
         {
          "x": 2.970630246615425,
          "y": -1.0592145982601764
         },
         {
          "x": 9.088216882512624,
          "y": 2.7239611800607113
         },
         {
          "x": 10.160610371933668,
          "y": 1.9093895954776934
         },
         {
          "x": 10.213964695943538,
          "y": 3.9557951293026763
         },
         {
          "x": 7.063528291483956,
          "y": -10.144731825242818
         },
         {
          "x": 8.592119191782176,
          "y": -8.584418213042088
         },
         {
          "x": 2.872226924994261,
          "y": -3.035094351354702
         },
         {
          "x": 7.034443564850889,
          "y": -8.984932049706774
         },
         {
          "x": 3.831018296193718,
          "y": -2.3017026478794747
         },
         {
          "x": 9.875108478943737,
          "y": -0.15586682630229198
         },
         {
          "x": 4.213847173176068,
          "y": -2.354086649745567
         }
        ]
       },
       "layer": [
        {
         "data": {
          "name": "data-9459577aa271c4be77d3534a17e09e4a"
         },
         "encoding": {
          "x": {
           "field": "x",
           "type": "quantitative"
          },
          "y": {
           "field": "y",
           "type": "quantitative"
          }
         },
         "mark": {
          "size": 60,
          "type": "circle"
         },
         "selection": {
          "selector005": {
           "bind": "scales",
           "encodings": [
            "x",
            "y"
           ],
           "type": "interval"
          }
         }
        },
        {
         "data": {
          "name": "data-1f973e8fb53dd0885190a9cb0e1e2675"
         },
         "encoding": {
          "x": {
           "field": "x",
           "type": "quantitative"
          },
          "y": {
           "field": "y",
           "type": "quantitative"
          }
         },
         "mark": {
          "color": "black",
          "opacity": 1,
          "size": 100,
          "type": "point"
         },
         "selection": {
          "selector006": {
           "bind": "scales",
           "encodings": [
            "x",
            "y"
           ],
           "type": "interval"
          }
         }
        }
       ]
      },
      "image/png": "[encoded data removed]",
      "text/plain": [
       "<VegaLite 3 object>\n",
       "\n",
       "If you see this message, it means the renderer has not been properly enabled\n",
       "for the frontend that you are using. For more information, see\n",
       "https://altair-viz.github.io/user_guide/troubleshooting.html\n"
      ]
     },
     "execution_count": 23,
     "metadata": {},
     "output_type": "execute_result"
    }
   ],
   "source": [
    "data_marks = alt.Chart(df).mark_circle(size=60).encode(\n",
    "        x='x',\n",
    "        y='y',\n",
    "    ).interactive()\n",
    "\n",
    "centroid_marks = alt.Chart(centroids).mark_point(size=100, opacity=1, color='black').encode(\n",
    "        x='x',\n",
    "        y='y',\n",
    "    ).interactive()\n",
    "\n",
    "data_marks + centroid_marks"
   ]
  },
  {
   "cell_type": "markdown",
   "metadata": {},
   "source": [
    "## Assign!"
   ]
  },
  {
   "cell_type": "markdown",
   "metadata": {},
   "source": [
    "Next, we need to assign observations to their nearest centroid. \n",
    "\n",
    "For this, we first need to create a function that calculates the distances between all points and centroids using the Euclidean distance function defined above. \n",
    "\n",
    "Calling this function, will populate three new columns in our dataframe with the respective distances."
   ]
  },
  {
   "cell_type": "code",
   "execution_count": 24,
   "metadata": {},
   "outputs": [],
   "source": [
    "def calc_distances():\n",
    "    for i in range(k):\n",
    "        df[centroid_labels[i]] = df[['x', 'y']].apply(euclidean_distance, centroid=centroids.iloc[i], axis=1)  "
   ]
  },
  {
   "cell_type": "code",
   "execution_count": 25,
   "metadata": {},
   "outputs": [
    {
     "data": {
      "text/html": [
       "<div>\n",
       "<style scoped>\n",
       "    .dataframe tbody tr th:only-of-type {\n",
       "        vertical-align: middle;\n",
       "    }\n",
       "\n",
       "    .dataframe tbody tr th {\n",
       "        vertical-align: top;\n",
       "    }\n",
       "\n",
       "    .dataframe thead th {\n",
       "        text-align: right;\n",
       "    }\n",
       "</style>\n",
       "<table border=\"1\" class=\"dataframe\">\n",
       "  <thead>\n",
       "    <tr style=\"text-align: right;\">\n",
       "      <th></th>\n",
       "      <th>x</th>\n",
       "      <th>y</th>\n",
       "      <th>c_0</th>\n",
       "      <th>c_1</th>\n",
       "      <th>c_2</th>\n",
       "    </tr>\n",
       "  </thead>\n",
       "  <tbody>\n",
       "    <tr>\n",
       "      <th>0</th>\n",
       "      <td>3.118429</td>\n",
       "      <td>-1.404464</td>\n",
       "      <td>5.737474</td>\n",
       "      <td>10.403483</td>\n",
       "      <td>6.437449</td>\n",
       "    </tr>\n",
       "    <tr>\n",
       "      <th>1</th>\n",
       "      <td>4.449018</td>\n",
       "      <td>-0.329828</td>\n",
       "      <td>4.224862</td>\n",
       "      <td>10.486470</td>\n",
       "      <td>7.617422</td>\n",
       "    </tr>\n",
       "    <tr>\n",
       "      <th>2</th>\n",
       "      <td>10.996789</td>\n",
       "      <td>3.830886</td>\n",
       "      <td>4.391670</td>\n",
       "      <td>13.149388</td>\n",
       "      <td>14.045530</td>\n",
       "    </tr>\n",
       "    <tr>\n",
       "      <th>3</th>\n",
       "      <td>1.716792</td>\n",
       "      <td>-1.090666</td>\n",
       "      <td>7.037907</td>\n",
       "      <td>11.589142</td>\n",
       "      <td>6.908629</td>\n",
       "    </tr>\n",
       "    <tr>\n",
       "      <th>4</th>\n",
       "      <td>6.694589</td>\n",
       "      <td>-9.325980</td>\n",
       "      <td>9.645112</td>\n",
       "      <td>3.228249</td>\n",
       "      <td>3.810987</td>\n",
       "    </tr>\n",
       "  </tbody>\n",
       "</table>\n",
       "</div>"
      ],
      "text/plain": [
       "           x         y       c_0        c_1        c_2\n",
       "0   3.118429 -1.404464  5.737474  10.403483   6.437449\n",
       "1   4.449018 -0.329828  4.224862  10.486470   7.617422\n",
       "2  10.996789  3.830886  4.391670  13.149388  14.045530\n",
       "3   1.716792 -1.090666  7.037907  11.589142   6.908629\n",
       "4   6.694589 -9.325980  9.645112   3.228249   3.810987"
      ]
     },
     "execution_count": 25,
     "metadata": {},
     "output_type": "execute_result"
    }
   ],
   "source": [
    "calc_distances()\n",
    "df.head()"
   ]
  },
  {
   "cell_type": "markdown",
   "metadata": {},
   "source": [
    "We can now define a function that will assign the observations to the centroid with the shortest distance.\n",
    "\n",
    "This function will also populate a new column with the assigned cluster."
   ]
  },
  {
   "cell_type": "code",
   "execution_count": 26,
   "metadata": {},
   "outputs": [],
   "source": [
    "def assign():\n",
    "    df['cluster'] = df[centroid_labels].idxmin(axis=1)"
   ]
  },
  {
   "cell_type": "code",
   "execution_count": 27,
   "metadata": {},
   "outputs": [
    {
     "data": {
      "text/html": [
       "<div>\n",
       "<style scoped>\n",
       "    .dataframe tbody tr th:only-of-type {\n",
       "        vertical-align: middle;\n",
       "    }\n",
       "\n",
       "    .dataframe tbody tr th {\n",
       "        vertical-align: top;\n",
       "    }\n",
       "\n",
       "    .dataframe thead th {\n",
       "        text-align: right;\n",
       "    }\n",
       "</style>\n",
       "<table border=\"1\" class=\"dataframe\">\n",
       "  <thead>\n",
       "    <tr style=\"text-align: right;\">\n",
       "      <th></th>\n",
       "      <th>x</th>\n",
       "      <th>y</th>\n",
       "      <th>c_0</th>\n",
       "      <th>c_1</th>\n",
       "      <th>c_2</th>\n",
       "      <th>cluster</th>\n",
       "    </tr>\n",
       "  </thead>\n",
       "  <tbody>\n",
       "    <tr>\n",
       "      <th>0</th>\n",
       "      <td>3.118429</td>\n",
       "      <td>-1.404464</td>\n",
       "      <td>5.737474</td>\n",
       "      <td>10.403483</td>\n",
       "      <td>6.437449</td>\n",
       "      <td>c_0</td>\n",
       "    </tr>\n",
       "    <tr>\n",
       "      <th>1</th>\n",
       "      <td>4.449018</td>\n",
       "      <td>-0.329828</td>\n",
       "      <td>4.224862</td>\n",
       "      <td>10.486470</td>\n",
       "      <td>7.617422</td>\n",
       "      <td>c_0</td>\n",
       "    </tr>\n",
       "    <tr>\n",
       "      <th>2</th>\n",
       "      <td>10.996789</td>\n",
       "      <td>3.830886</td>\n",
       "      <td>4.391670</td>\n",
       "      <td>13.149388</td>\n",
       "      <td>14.045530</td>\n",
       "      <td>c_0</td>\n",
       "    </tr>\n",
       "    <tr>\n",
       "      <th>3</th>\n",
       "      <td>1.716792</td>\n",
       "      <td>-1.090666</td>\n",
       "      <td>7.037907</td>\n",
       "      <td>11.589142</td>\n",
       "      <td>6.908629</td>\n",
       "      <td>c_2</td>\n",
       "    </tr>\n",
       "    <tr>\n",
       "      <th>4</th>\n",
       "      <td>6.694589</td>\n",
       "      <td>-9.325980</td>\n",
       "      <td>9.645112</td>\n",
       "      <td>3.228249</td>\n",
       "      <td>3.810987</td>\n",
       "      <td>c_1</td>\n",
       "    </tr>\n",
       "  </tbody>\n",
       "</table>\n",
       "</div>"
      ],
      "text/plain": [
       "           x         y       c_0        c_1        c_2 cluster\n",
       "0   3.118429 -1.404464  5.737474  10.403483   6.437449     c_0\n",
       "1   4.449018 -0.329828  4.224862  10.486470   7.617422     c_0\n",
       "2  10.996789  3.830886  4.391670  13.149388  14.045530     c_0\n",
       "3   1.716792 -1.090666  7.037907  11.589142   6.908629     c_2\n",
       "4   6.694589 -9.325980  9.645112   3.228249   3.810987     c_1"
      ]
     },
     "execution_count": 27,
     "metadata": {},
     "output_type": "execute_result"
    }
   ],
   "source": [
    "assign()\n",
    "df.head()"
   ]
  },
  {
   "cell_type": "markdown",
   "metadata": {},
   "source": [
    "By updating our code for the scatter plot, we can color data points based on their current cluster assignment."
   ]
  },
  {
   "cell_type": "code",
   "execution_count": 28,
   "metadata": {},
   "outputs": [],
   "source": [
    "def plot_result():\n",
    "    data_marks = alt.Chart(df).mark_circle(size=60, opacity=0.5).encode(\n",
    "        x='x',\n",
    "        y='y',\n",
    "        tooltip=['x', 'y', 'cluster'],\n",
    "        color=alt.Color('cluster', scale=alt.Scale(scheme='category10'))\n",
    "    ).interactive()\n",
    "\n",
    "    centroid_marks = alt.Chart(centroids).mark_point(size=100, opacity=1, color='black').encode(\n",
    "        x='x',\n",
    "        y='y',\n",
    "    ).interactive()\n",
    "\n",
    "    return data_marks + centroid_marks"
   ]
  },
  {
   "cell_type": "code",
   "execution_count": 29,
   "metadata": {},
   "outputs": [
    {
     "data": {
      "application/vnd.vegalite.v3+json": {
       "$schema": "https://vega.github.io/schema/vega-lite/v3.4.0.json",
       "config": {
        "mark": {
         "tooltip": null
        },
        "view": {
         "height": 300,
         "width": 400
        }
       },
       "datasets": {
        "data-1f973e8fb53dd0885190a9cb0e1e2675": [
         {
          "x": 8.649989568024164,
          "y": 0.1188382169727209
         },
         {
          "x": 9.922427558863793,
          "y": -9.274538367815085
         },
         {
          "x": 3.184580624343055,
          "y": -7.841573600500711
         }
        ],
        "data-7745ae8f4e2485c759f717750b00859f": [
         {
          "c_0": 5.737474141342176,
          "c_1": 10.40348320851008,
          "c_2": 6.437449441025774,
          "cluster": "c_0",
          "x": 3.1184292356694483,
          "y": -1.4044640550960652
         },
         {
          "c_0": 4.224862324919168,
          "c_1": 10.486469642915456,
          "c_2": 7.617422027459429,
          "cluster": "c_0",
          "x": 4.449018261006421,
          "y": -0.32982840997319396
         },
         {
          "c_0": 4.391670035779086,
          "c_1": 13.149387919391433,
          "c_2": 14.045529916350596,
          "cluster": "c_0",
          "x": 10.996788690994826,
          "y": 3.830886112620622
         },
         {
          "c_0": 7.03790667011227,
          "c_1": 11.589142422372786,
          "c_2": 6.90862910987549,
          "cluster": "c_2",
          "x": 1.7167919163480028,
          "y": -1.0906660699163058
         },
         {
          "c_0": 9.645112205239684,
          "c_1": 3.228248515016405,
          "c_2": 3.810986975726781,
          "cluster": "c_1",
          "x": 6.694588932640962,
          "y": -9.325980352317348
         },
         {
          "c_0": 3.7987716363590103,
          "c_1": 12.517195384660358,
          "c_2": 13.45426420201375,
          "cluster": "c_0",
          "x": 10.861699075124056,
          "y": 3.207366507503612
         },
         {
          "c_0": 8.438514024143014,
          "c_1": 2.500473387931532,
          "c_2": 4.472504140918148,
          "cluster": "c_1",
          "x": 7.6375883868995365,
          "y": -8.258724840630354
         },
         {
          "c_0": 6.62396486128799,
          "c_1": 10.0353853177039,
          "c_2": 5.413676392667587,
          "cluster": "c_2",
          "x": 2.550804822807194,
          "y": -2.4651230689777144
         },
         {
          "c_0": 5.736571480263769,
          "c_1": 11.261994054852346,
          "c_2": 7.407642787820662,
          "cluster": "c_0",
          "x": 2.940503087068767,
          "y": -0.43795301137341647
         },
         {
          "c_0": 2.2749394385523396,
          "c_1": 11.399575694991595,
          "c_2": 11.920015501618677,
          "cluster": "c_0",
          "x": 9.725776709618689,
          "y": 2.1233410169360227
         },
         {
          "c_0": 2.2097168609636166,
          "c_1": 9.489797446204898,
          "c_2": 11.093547045843325,
          "cluster": "c_0",
          "x": 10.859138914976187,
          "y": 0.16891584160040196
         },
         {
          "c_0": 1.3522376991098193,
          "c_1": 10.666269123733448,
          "c_2": 10.983698339450209,
          "cluster": "c_0",
          "x": 9.173952810116084,
          "y": 1.3654373168562168
         },
         {
          "c_0": 9.047137606250454,
          "c_1": 2.7358645922785314,
          "c_2": 4.156475899329759,
          "cluster": "c_1",
          "x": 7.225359968474287,
          "y": -8.815428925357283
         },
         {
          "c_0": 3.160479120109206,
          "c_1": 12.598527996652212,
          "c_2": 12.460514054299741,
          "cluster": "c_0",
          "x": 8.813458714534855,
          "y": 3.275086956661234
         },
         {
          "c_0": 3.5935922555376205,
          "c_1": 11.644894008880746,
          "c_2": 13.106161758541273,
          "cluster": "c_0",
          "x": 11.537689594681805,
          "y": 2.2577851202644847
         },
         {
          "c_0": 10.308744373244854,
          "c_1": 2.4780030174629877,
          "c_2": 4.975230165127734,
          "cluster": "c_1",
          "x": 7.59905872988705,
          "y": -10.13619737176903
         },
         {
          "c_0": 2.2636312856848892,
          "c_1": 11.0406869027549,
          "c_2": 11.897231198561734,
          "cluster": "c_0",
          "x": 10.206400779712279,
          "y": 1.7624959482729325
         },
         {
          "c_0": 2.6666255561307866,
          "c_1": 11.61603878123554,
          "c_2": 12.322414501244435,
          "cluster": "c_0",
          "x": 10.125994741621861,
          "y": 2.3397165531547506
         },
         {
          "c_0": 10.198641255468937,
          "c_1": 5.408193469887147,
          "c_2": 1.9039110453208345,
          "cluster": "c_2",
          "x": 4.514696695265249,
          "y": -9.203802841990255
         },
         {
          "c_0": 9.320883843665735,
          "c_1": 3.5314344220172984,
          "c_2": 3.401704716378727,
          "cluster": "c_2",
          "x": 6.407998599672391,
          "y": -8.928390757964191
         },
         {
          "c_0": 4.778460045713301,
          "c_1": 10.956973755888765,
          "c_2": 7.737330833964052,
          "cluster": "c_0",
          "x": 3.8782979253276157,
          "y": -0.1354043355205059
         },
         {
          "c_0": 10.86426572822132,
          "c_1": 2.556302883148942,
          "c_2": 5.443412656962074,
          "cluster": "c_1",
          "x": 7.809142492170106,
          "y": -10.712839677445668
         },
         {
          "c_0": 7.743395592092265,
          "c_1": 11.186103315530133,
          "c_2": 5.964250815205396,
          "cluster": "c_2",
          "x": 1.260732306947813,
          "y": -2.196124509566161
         },
         {
          "c_0": 9.18106987428738,
          "c_1": 3.539239064064088,
          "c_2": 3.367707295116401,
          "cluster": "c_2",
          "x": 6.416993027291973,
          "y": -8.786540522060523
         },
         {
          "c_0": 4.7822476912519605,
          "c_1": 12.070904128053828,
          "c_2": 9.123137348029552,
          "cluster": "c_0",
          "x": 4.00219603644745,
          "y": 1.2448525456197235
         },
         {
          "c_0": 2.26260150638096,
          "c_1": 10.591577140167967,
          "c_2": 11.756927554177704,
          "cluster": "c_0",
          "x": 10.581961396836107,
          "y": 1.2964843562498922
         },
         {
          "c_0": 8.5745778610679,
          "c_1": 3.071412144460197,
          "c_2": 3.8530388625605796,
          "cluster": "c_1",
          "x": 7.010543685496742,
          "y": -8.297550717349386
         },
         {
          "c_0": 9.034735822751275,
          "c_1": 2.2137270216761977,
          "c_2": 4.675916812593701,
          "cluster": "c_1",
          "x": 7.74587580387531,
          "y": -8.870546060517132
         },
         {
          "c_0": 5.259887217153019,
          "c_1": 11.514132160455636,
          "c_2": 8.051965732156397,
          "cluster": "c_0",
          "x": 3.3908538682632092,
          "y": 0.20774956984495163
         },
         {
          "c_0": 8.659228669153588,
          "c_1": 2.6037260485035865,
          "c_2": 4.309983009897056,
          "cluster": "c_1",
          "x": 7.450413364707344,
          "y": -8.456898373963794
         },
         {
          "c_0": 5.090849036083143,
          "c_1": 9.13780130450312,
          "c_2": 5.707385014295773,
          "cluster": "c_0",
          "x": 4.124096104314129,
          "y": -2.2120483661401185
         },
         {
          "c_0": 3.8371443016367617,
          "c_1": 12.586806321244188,
          "c_2": 13.493169410013136,
          "cluster": "c_0",
          "x": 10.825234248421078,
          "y": 3.2798486522589445
         },
         {
          "c_0": 5.99694880233567,
          "c_1": 11.462355042378979,
          "c_2": 7.46480363882817,
          "cluster": "c_0",
          "x": 2.6750246726329827,
          "y": -0.39418170143032993
         },
         {
          "c_0": 2.86196241750254,
          "c_1": 12.119434424813688,
          "c_2": 12.42836753587979,
          "cluster": "c_0",
          "x": 9.540095979421103,
          "y": 2.838863852070127
         },
         {
          "c_0": 9.472371802730898,
          "c_1": 2.0346229325904903,
          "c_2": 4.931525401518867,
          "cluster": "c_1",
          "x": 7.88837865859423,
          "y": -9.32286588725596
         },
         {
          "c_0": 5.742458619200719,
          "c_1": 9.92052164083191,
          "c_2": 5.933827599396673,
          "cluster": "c_0",
          "x": 3.2772946262392884,
          "y": -1.908470357406583
         },
         {
          "c_0": 5.432023425522877,
          "c_1": 14.844349509532131,
          "c_2": 14.586029408262304,
          "cluster": "c_0",
          "x": 8.987708156523619,
          "y": 5.5403531943947355
         },
         {
          "c_0": 0.6693046981677594,
          "c_1": 10.001704146645539,
          "c_2": 10.324841993275507,
          "cluster": "c_0",
          "x": 9.006711803433014,
          "y": 0.6851579374084029
         },
         {
          "c_0": 9.83776373764867,
          "c_1": 2.524989677082012,
          "c_2": 4.606330104537772,
          "cluster": "c_1",
          "x": 7.4243605133514645,
          "y": -9.642279996538333
         },
         {
          "c_0": 2.8876177301990533,
          "c_1": 11.100018507069686,
          "c_2": 12.400417651618733,
          "cluster": "c_0",
          "x": 11.018066838828814,
          "y": 1.7712746590963921
         },
         {
          "c_0": 9.991589982124367,
          "c_1": 2.912900009350928,
          "c_2": 4.305718286278009,
          "cluster": "c_1",
          "x": 7.047510826111793,
          "y": -9.74340961263524
         },
         {
          "c_0": 10.734915667135763,
          "c_1": 3.026960032100336,
          "c_2": 4.7892035326151845,
          "cluster": "c_1",
          "x": 7.160048702278247,
          "y": -10.512177284713708
         },
         {
          "c_0": 5.026538984692204,
          "c_1": 11.054884246318384,
          "c_2": 7.67121441399981,
          "cluster": "c_0",
          "x": 3.632548394013589,
          "y": -0.18345010561667574
         },
         {
          "c_0": 6.077795341073145,
          "c_1": 11.001575460430157,
          "c_2": 6.8634316679071015,
          "cluster": "c_0",
          "x": 2.6755108428828875,
          "y": -0.9970471583256093
         },
         {
          "c_0": 4.787775815331945,
          "c_1": 10.99827514113733,
          "c_2": 7.778138783313406,
          "cluster": "c_0",
          "x": 3.866921213259231,
          "y": -0.09342193360610374
         },
         {
          "c_0": 3.9750545475051307,
          "c_1": 10.747046028281535,
          "c_2": 8.084463927089796,
          "cluster": "c_0",
          "x": 4.674961511060727,
          "y": 0.10432608430042656
         },
         {
          "c_0": 7.9482093256829955,
          "c_1": 4.368309254057978,
          "c_2": 2.8451176296083536,
          "cluster": "c_2",
          "x": 5.990554802159361,
          "y": -7.371251115671033
         },
         {
          "c_0": 8.376733694164017,
          "c_1": 3.9028846600532994,
          "c_2": 3.0815731730740814,
          "cluster": "c_2",
          "x": 6.265364693269934,
          "y": -7.911306961643049
         },
         {
          "c_0": 1.612060533189282,
          "c_1": 10.745160587799113,
          "c_2": 11.267870526248082,
          "cluster": "c_0",
          "x": 9.53875129839647,
          "y": 1.4637700923077275
         },
         {
          "c_0": 9.731783250086012,
          "c_1": 1.5069514275849807,
          "c_2": 5.55808761283403,
          "cluster": "c_1",
          "x": 8.453508858075862,
          "y": -9.610961398501017
         },
         {
          "c_0": 7.828748307697244,
          "c_1": 11.714773857772578,
          "c_2": 6.553332447897024,
          "cluster": "c_2",
          "x": 1.0247075702232746,
          "y": -1.654400210110937
         },
         {
          "c_0": 5.975981274801074,
          "c_1": 10.845803263181667,
          "c_2": 6.756427380926907,
          "cluster": "c_0",
          "x": 2.798826138486089,
          "y": -1.0961674281208702
         },
         {
          "c_0": 6.212136453591197,
          "c_1": 11.706168386706686,
          "c_2": 7.6132522035730545,
          "cluster": "c_0",
          "x": 2.4496533957547175,
          "y": -0.263876649322904
         },
         {
          "c_0": 3.000770087266173,
          "c_1": 12.44018194226154,
          "c_2": 12.315286927721779,
          "cluster": "c_0",
          "x": 8.806730437184834,
          "y": 3.1155119423833124
         },
         {
          "c_0": 7.119755586977044,
          "c_1": 11.79226422312752,
          "c_2": 7.104643030372135,
          "cluster": "c_2",
          "x": 1.60563624582479,
          "y": -0.9146054874976681
         },
         {
          "c_0": 5.365861977882756,
          "c_1": 10.766734930090589,
          "c_2": 7.099991573678667,
          "cluster": "c_0",
          "x": 3.353889745518,
          "y": -0.7436010189958306
         },
         {
          "c_0": 6.981712642718751,
          "c_1": 10.337394634454643,
          "c_2": 5.488520417609986,
          "cluster": "c_2",
          "x": 2.1580076846380534,
          "y": -2.4499129681920406
         },
         {
          "c_0": 4.858196994961131,
          "c_1": 10.518093684987912,
          "c_2": 7.192441110296005,
          "cluster": "c_0",
          "x": 3.8580414977404085,
          "y": -0.6807315007837443
         },
         {
          "c_0": 3.152871237046432,
          "c_1": 12.55224746688069,
          "c_2": 12.541601726430892,
          "cluster": "c_0",
          "x": 9.044298891614968,
          "y": 3.246955413422378
         },
         {
          "c_0": 11.165666876748288,
          "c_1": 3.0715567561256254,
          "c_2": 5.221048798551516,
          "cluster": "c_1",
          "x": 7.362783008104983,
          "y": -10.972384261844251
         },
         {
          "c_0": 4.344751392212393,
          "c_1": 10.383386498617455,
          "c_2": 7.421594139068848,
          "cluster": "c_0",
          "x": 4.351318265907579,
          "y": -0.5122637529899967
         },
         {
          "c_0": 9.39407372524927,
          "c_1": 0.5536089334525728,
          "c_2": 6.342705728228008,
          "cluster": "c_1",
          "x": 9.369472337415111,
          "y": -9.247642749749424
         },
         {
          "c_0": 2.3379142744421038,
          "c_1": 11.575191344070673,
          "c_2": 11.946207258712807,
          "cluster": "c_0",
          "x": 9.508894083416926,
          "y": 2.2932637015727506
         },
         {
          "c_0": 8.745824938386356,
          "c_1": 2.2281432326165698,
          "c_2": 4.678379008838853,
          "cluster": "c_1",
          "x": 7.803367239976834,
          "y": -8.585912467943672
         },
         {
          "c_0": 5.727247432481952,
          "c_1": 9.953356137622595,
          "c_2": 5.977815654395316,
          "cluster": "c_0",
          "x": 3.277109952097115,
          "y": -1.8644741098247284
         },
         {
          "c_0": 7.208727249653266,
          "c_1": 11.689448136355788,
          "c_2": 6.919097474738289,
          "cluster": "c_2",
          "x": 1.5482895496682854,
          "y": -1.1187422487658287
         },
         {
          "c_0": 6.724608629348949,
          "c_1": 11.026583369482326,
          "c_2": 6.446361456269432,
          "cluster": "c_2",
          "x": 2.1191623657092253,
          "y": -1.4838648969624775
         },
         {
          "c_0": 8.11675529830654,
          "c_1": 3.069561494992724,
          "c_2": 4.01039330113385,
          "cluster": "c_1",
          "x": 7.194896928383701,
          "y": -7.866424582876226
         },
         {
          "c_0": 4.374382630018208,
          "c_1": 13.330725271632238,
          "c_2": 14.00001391607806,
          "cluster": "c_0",
          "x": 10.590085660925835,
          "y": 4.039456860007604
         },
         {
          "c_0": 6.496434761528457,
          "c_1": 11.735621095747366,
          "c_2": 7.4536106529376855,
          "cluster": "c_0",
          "x": 2.1790460502715097,
          "y": -0.45610056311624647
         },
         {
          "c_0": 11.085667649888347,
          "c_1": 3.3653234358335875,
          "c_2": 4.802245631122725,
          "cluster": "c_1",
          "x": 6.940340017587297,
          "y": -10.834203628034174
         },
         {
          "c_0": 5.209979809577446,
          "c_1": 10.441254198261348,
          "c_2": 6.856602282042925,
          "cluster": "c_0",
          "x": 3.560528146383494,
          "y": -0.9952856782184543
         },
         {
          "c_0": 5.71165399801653,
          "c_1": 10.631954676180168,
          "c_2": 6.7040829278659935,
          "cluster": "c_0",
          "x": 3.078408479045014,
          "y": -1.1383314461945517
         },
         {
          "c_0": 7.261463214160995,
          "c_1": 12.799187245937578,
          "c_2": 8.303563068464243,
          "cluster": "c_0",
          "x": 1.3900126306656566,
          "y": 0.2657493453323958
         },
         {
          "c_0": 4.743328231511055,
          "c_1": 10.50882362563167,
          "c_2": 7.265514063809443,
          "cluster": "c_0",
          "x": 3.964243930567099,
          "y": -0.6180135543502945
         },
         {
          "c_0": 9.271061497628656,
          "c_1": 2.3861587830952655,
          "c_2": 4.533292887497089,
          "cluster": "c_1",
          "x": 7.54373014544233,
          "y": -9.085985050356284
         },
         {
          "c_0": 1.9140265836155113,
          "c_1": 11.037792357252838,
          "c_2": 11.567115196892752,
          "cluster": "c_0",
          "x": 9.635702798220894,
          "y": 1.7595292880162596
         },
         {
          "c_0": 10.05290216946997,
          "c_1": 2.251014315348258,
          "c_2": 5.01344756553127,
          "cluster": "c_1",
          "x": 7.758456513027645,
          "y": -9.894453491590584
         },
         {
          "c_0": 9.49398594595291,
          "c_1": 2.0278800783453,
          "c_2": 4.94530995630668,
          "cluster": "c_1",
          "x": 7.89577695806855,
          "y": -9.34514257764723
         },
         {
          "c_0": 1.9817668213888309,
          "c_1": 11.379384484714521,
          "c_2": 10.776187511229768,
          "cluster": "c_0",
          "x": 7.786486516912291,
          "y": 1.9025876991248742
         },
         {
          "c_0": 10.195185970980623,
          "c_1": 3.538562403396271,
          "c_2": 3.8050163516397397,
          "cluster": "c_1",
          "x": 6.427932649721693,
          "y": -9.831251231605329
         },
         {
          "c_0": 2.521753307093975,
          "c_1": 11.793542941441693,
          "c_2": 12.100790379107806,
          "cluster": "c_0",
          "x": 9.452105103678706,
          "y": 2.509622692683785
         },
         {
          "c_0": 6.577978424061817,
          "c_1": 10.490784492616786,
          "c_2": 5.9379834340697695,
          "cluster": "c_2",
          "x": 2.4073661963418544,
          "y": -1.954674162240043
         },
         {
          "c_0": 10.799596342868456,
          "c_1": 2.6610485363077236,
          "c_2": 5.252645604174281,
          "cluster": "c_1",
          "x": 7.634176633767193,
          "y": -10.632878169330166
         },
         {
          "c_0": 2.9949254578323865,
          "c_1": 12.352962846042725,
          "c_2": 12.460633820090914,
          "cluster": "c_0",
          "x": 9.222319019562855,
          "y": 3.0585690714684093
         },
         {
          "c_0": 1.6703006348620177,
          "c_1": 11.125736899173033,
          "c_2": 10.751242064205732,
          "cluster": "c_0",
          "x": 8.128345441230831,
          "y": 1.7055932755127845
         },
         {
          "c_0": 3.6293473393619933,
          "c_1": 13.07063012750863,
          "c_2": 12.86698596764865,
          "cluster": "c_0",
          "x": 8.778270993357765,
          "y": 3.7459177564436104
         },
         {
          "c_0": 2.682120038088629,
          "c_1": 11.55715496392866,
          "c_2": 12.336984076552028,
          "cluster": "c_0",
          "x": 10.240837479684103,
          "y": 2.2782295248842255
         },
         {
          "c_0": 5.709141063444686,
          "c_1": 10.19117951565463,
          "c_2": 6.233843189746013,
          "cluster": "c_0",
          "x": 3.2081977703022555,
          "y": -1.6077751481316036
         },
         {
          "c_0": 0.6093915371034655,
          "c_1": 9.760517414716531,
          "c_2": 10.223823282929937,
          "cluster": "c_0",
          "x": 9.157631574744888,
          "y": 0.4559697024585483
         },
         {
          "c_0": 10.309335000868824,
          "c_1": 3.756195281954228,
          "c_2": 3.6662268503613094,
          "cluster": "c_2",
          "x": 6.218619601261139,
          "y": -9.899686037869493
         },
         {
          "c_0": 8.052319590969187,
          "c_1": 2.9155803916896192,
          "c_2": 4.203053194172988,
          "cluster": "c_1",
          "x": 7.387626841793464,
          "y": -7.83391546603102
         },
         {
          "c_0": 3.1207818134128806,
          "c_1": 12.5481662489732,
          "c_2": 12.453786837392304,
          "cluster": "c_0",
          "x": 8.885563634531522,
          "y": 3.2307161043773305
         },
         {
          "c_0": 10.020728775083185,
          "c_1": 3.183258610883372,
          "c_2": 4.050574283013885,
          "cluster": "c_1",
          "x": 6.7710832264937,
          "y": -9.724165193751913
         },
         {
          "c_0": 4.4631031856521375,
          "c_1": 11.228293795235095,
          "c_2": 8.286361806893218,
          "cluster": "c_0",
          "x": 4.194710182849511,
          "y": 0.38298901825113174
         },
         {
          "c_0": 3.4578828693720363,
          "c_1": 12.490632779556663,
          "c_2": 13.089337888539132,
          "cluster": "c_0",
          "x": 10.19341454095769,
          "y": 3.2131545051407118
         },
         {
          "c_0": 9.338587822213043,
          "c_1": 2.01244612308584,
          "c_2": 4.915858167252186,
          "cluster": "c_1",
          "x": 7.911735937396738,
          "y": -9.19052288301965
         },
         {
          "c_0": 5.048197585187535,
          "c_1": 13.262073232367316,
          "c_2": 14.667158025183204,
          "cluster": "c_0",
          "x": 12.095626718281206,
          "y": 3.8082668296256053
         },
         {
          "c_0": 2.5753967548254053,
          "c_1": 11.405258118151982,
          "c_2": 12.225592810941658,
          "cluster": "c_0",
          "x": 10.26417077147162,
          "y": 2.1255986628660892
         },
         {
          "c_0": 10.268184392802223,
          "c_1": 2.403866885190522,
          "c_2": 5.018780460793594,
          "cluster": "c_1",
          "x": 7.665478907293002,
          "y": -10.1020399000725
         },
         {
          "c_0": 0.8092482058517845,
          "c_1": 10.255666557803233,
          "c_2": 10.09414988267021,
          "cluster": "c_0",
          "x": 8.311248009985068,
          "y": 0.8537782250901029
         },
         {
          "c_0": 8.913022513235216,
          "c_1": 3.8379569977052146,
          "c_2": 3.0509046922750707,
          "cluster": "c_2",
          "x": 6.175458477541515,
          "y": -8.443793750107993
         },
         {
          "c_0": 7.610696935160157,
          "c_1": 2.5692247319877506,
          "c_2": 4.921600921693626,
          "cluster": "c_1",
          "x": 8.092240210853337,
          "y": -7.471393893669992
         },
         {
          "c_0": 3.6071853861412486,
          "c_1": 13.049500860158323,
          "c_2": 12.843843498131259,
          "cluster": "c_0",
          "x": 8.770413097707907,
          "y": 3.724012912253034
         },
         {
          "c_0": 8.757018739142024,
          "c_1": 4.567947812705293,
          "c_2": 2.3446354882463747,
          "cluster": "c_2",
          "x": 5.51908023699478,
          "y": -8.059351311190447
         },
         {
          "c_0": 4.642955248935275,
          "c_1": 9.563368048227003,
          "c_2": 6.4100036592124,
          "cluster": "c_0",
          "x": 4.3101115489396555,
          "y": -1.5311594263840003
         },
         {
          "c_0": 10.110126698957565,
          "c_1": 1.9249536491197305,
          "c_2": 5.387678364610575,
          "cluster": "c_1",
          "x": 8.130591722648056,
          "y": -9.977937889646324
         },
         {
          "c_0": 7.898351281041302,
          "c_1": 3.7680400857089302,
          "c_2": 3.4262447873563384,
          "cluster": "c_2",
          "x": 6.594485719178524,
          "y": -7.507357222832605
         },
         {
          "c_0": 9.09648776787446,
          "c_1": 3.9933984432190734,
          "c_2": 2.9008691489756497,
          "cluster": "c_2",
          "x": 5.989888818245406,
          "y": -8.580009621224944
         },
         {
          "c_0": 4.317124134981742,
          "c_1": 13.793573488512413,
          "c_2": 13.084304339372025,
          "cluster": "c_0",
          "x": 7.887906089075845,
          "y": 4.368166348331357
         },
         {
          "c_0": 1.9428443105742317,
          "c_1": 11.41136550020307,
          "c_2": 11.292524738253865,
          "cluster": "c_0",
          "x": 8.61174286504456,
          "y": 2.0613060300501607
         },
         {
          "c_0": 0.7967929354972016,
          "c_1": 9.46845364899244,
          "c_2": 10.176395485721997,
          "cluster": "c_0",
          "x": 9.44428824434386,
          "y": 0.18183500145437748
         },
         {
          "c_0": 3.1398930744714266,
          "c_1": 12.617170315709826,
          "c_2": 12.0980085018158,
          "cluster": "c_0",
          "x": 8.104293220610504,
          "y": 3.210948178719395
         },
         {
          "c_0": 9.785695177546714,
          "c_1": 3.941050015102022,
          "c_2": 3.152407600102878,
          "cluster": "c_2",
          "x": 5.981435828118322,
          "y": -9.295971980003932
         },
         {
          "c_0": 6.842583036433988,
          "c_1": 10.776613244422682,
          "c_2": 6.077357165206062,
          "cluster": "c_2",
          "x": 2.1003083998712286,
          "y": -1.8617221093079421
         },
         {
          "c_0": 2.445838252491755,
          "c_1": 11.921453948892761,
          "c_2": 11.664991376274399,
          "cluster": "c_0",
          "x": 8.468703866352568,
          "y": 2.5579487621759016
         },
         {
          "c_0": 1.3776940442451913,
          "c_1": 10.690463785371977,
          "c_2": 11.008165194542041,
          "cluster": "c_0",
          "x": 9.18079731072357,
          "y": 1.3901698101611513
         },
         {
          "c_0": 2.9479542052076306,
          "c_1": 12.038019247443705,
          "c_2": 12.58057754967203,
          "cluster": "c_0",
          "x": 9.9524862775329,
          "y": 2.7634433515287795
         },
         {
          "c_0": 6.39214661294983,
          "c_1": 11.948526372545054,
          "c_2": 7.791472591364813,
          "cluster": "c_0",
          "x": 2.2617613167343062,
          "y": -0.10494321851310917
         },
         {
          "c_0": 5.542716364272213,
          "c_1": 10.314109442253367,
          "c_2": 6.482389884973744,
          "cluster": "c_0",
          "x": 3.308298424479892,
          "y": -1.3603644134169293
         },
         {
          "c_0": 5.645985756360921,
          "c_1": 10.529909841712136,
          "c_2": 6.639197093127674,
          "cluster": "c_0",
          "x": 3.160778871428765,
          "y": -1.2024191725668976
         },
         {
          "c_0": 11.164966354746213,
          "c_1": 3.1029448613421127,
          "c_2": 5.184770118664666,
          "cluster": "c_1",
          "x": 7.32157079128833,
          "y": -10.966818157650778
         },
         {
          "c_0": 6.039660407668822,
          "c_1": 11.322967359498255,
          "c_2": 7.267424875623858,
          "cluster": "c_0",
          "x": 2.652502220350179,
          "y": -0.5936527334629889
         },
         {
          "c_0": 9.42434162822766,
          "c_1": 3.896031903594492,
          "c_2": 3.0593558357355795,
          "cluster": "c_2",
          "x": 6.04102876034977,
          "y": -8.93718401298916
         },
         {
          "c_0": 0.7243221875588934,
          "c_1": 10.104274960088118,
          "c_2": 10.368503447795455,
          "cluster": "c_0",
          "x": 8.941315004673461,
          "y": 0.7819913828033587
         },
         {
          "c_0": 3.004930523723402,
          "c_1": 12.05645844106337,
          "c_2": 12.644579121978046,
          "cluster": "c_0",
          "x": 10.043122686243615,
          "y": 2.781315929053096
         },
         {
          "c_0": 4.569580111397469,
          "c_1": 9.653340503991782,
          "c_2": 6.545232864740948,
          "cluster": "c_0",
          "x": 4.339897870860586,
          "y": -1.3991117020038213
         },
         {
          "c_0": 9.74251073240461,
          "c_1": 2.3453578355239113,
          "c_2": 4.735984534536752,
          "cluster": "c_1",
          "x": 7.5953025554715765,
          "y": -9.56641607378144
         },
         {
          "c_0": 1.7599091803071418,
          "c_1": 11.103879300321482,
          "c_2": 11.345896905555046,
          "cluster": "c_0",
          "x": 9.160251717630127,
          "y": 1.8031519827565368
         },
         {
          "c_0": 6.763355367439464,
          "c_1": 12.677907260687782,
          "c_2": 8.481631045269342,
          "cluster": "c_0",
          "x": 1.8998976518940673,
          "y": 0.5421997056172665
         },
         {
          "c_0": 7.052074440371833,
          "c_1": 12.336156457865696,
          "c_2": 7.8373986403841975,
          "cluster": "c_0",
          "x": 1.6036409103782105,
          "y": -0.1652823691113734
         },
         {
          "c_0": 7.652037370029849,
          "c_1": 4.1809029140726945,
          "c_2": 3.1988383282714605,
          "cluster": "c_2",
          "x": 6.311508602220996,
          "y": -7.1671196943049456
         },
         {
          "c_0": 8.174275864158869,
          "c_1": 3.584381618981185,
          "c_2": 3.467601728418408,
          "cluster": "c_2",
          "x": 6.652014968909176,
          "y": -7.807502893821182
         },
         {
          "c_0": 5.973670256097489,
          "c_1": 11.283750193964451,
          "c_2": 7.266828981470127,
          "cluster": "c_0",
          "x": 2.718488973461807,
          "y": -0.5897074945309543
         },
         {
          "c_0": 2.408255214835825,
          "c_1": 11.792077957270257,
          "c_2": 11.895176720920873,
          "cluster": "c_0",
          "x": 9.083870655832985,
          "y": 2.4876861186805916
         },
         {
          "c_0": 7.417656567358067,
          "c_1": 12.025268794983083,
          "c_2": 7.201231542977289,
          "cluster": "c_2",
          "x": 1.3013857757728586,
          "y": -0.8909396079868098
         },
         {
          "c_0": 7.640606444379391,
          "c_1": 10.587967993400968,
          "c_2": 5.328130651690137,
          "cluster": "c_2",
          "x": 1.573624289789848,
          "y": -2.762814310118575
         },
         {
          "c_0": 5.0643532215178695,
          "c_1": 10.810633656118256,
          "c_2": 7.36516399250122,
          "cluster": "c_0",
          "x": 3.6222976801954774,
          "y": -0.48942803505844346
         },
         {
          "c_0": 1.4144470822210067,
          "c_1": 10.712777516631393,
          "c_2": 11.04832179739007,
          "cluster": "c_0",
          "x": 9.216352593939122,
          "y": 1.4149452616569058
         },
         {
          "c_0": 1.8219154391788541,
          "c_1": 10.867941994059544,
          "c_2": 11.477349409350506,
          "cluster": "c_0",
          "x": 9.722579322016236,
          "y": 1.5915659878623394
         },
         {
          "c_0": 9.672671056499091,
          "c_1": 3.7972490316044434,
          "c_2": 3.247425578346166,
          "cluster": "c_2",
          "x": 6.1255903967970085,
          "y": -9.218611873471827
         },
         {
          "c_0": 5.2082135236989675,
          "c_1": 11.133933307420829,
          "c_2": 7.632808639413984,
          "cluster": "c_0",
          "x": 3.4523879144931895,
          "y": -0.2134645962156263
         },
         {
          "c_0": 6.280500542983704,
          "c_1": 10.01803605872569,
          "c_2": 5.641959198544014,
          "cluster": "c_2",
          "x": 2.8178378727920954,
          "y": -2.2115466598706535
         },
         {
          "c_0": 9.446898570951756,
          "c_1": 4.0444511717706115,
          "c_2": 2.9148861021773254,
          "cluster": "c_2",
          "x": 5.89380619234881,
          "y": -8.917053870115367
         },
         {
          "c_0": 9.563693624988561,
          "c_1": 2.1363650828861247,
          "c_2": 4.8640302064974446,
          "cluster": "c_1",
          "x": 7.790118564675714,
          "y": -9.40612150001545
         },
         {
          "c_0": 9.692938016784616,
          "c_1": 3.4122148393898133,
          "c_2": 3.6460916989369068,
          "cluster": "c_1",
          "x": 6.510749968937679,
          "y": -9.335086964396591
         },
         {
          "c_0": 0.5797403908869538,
          "c_1": 9.221673260400106,
          "c_2": 9.112905726848588,
          "cluster": "c_0",
          "x": 8.178982272727657,
          "y": -0.21917220979430452
         },
         {
          "c_0": 7.1935058975906685,
          "c_1": 3.3765917891223745,
          "c_2": 4.3535400312049255,
          "cluster": "c_1",
          "x": 7.450801634008632,
          "y": -6.97400855971598
         },
         {
          "c_0": 2.253857453289537,
          "c_1": 11.650770484961773,
          "c_2": 11.738381194700173,
          "cluster": "c_0",
          "x": 9.023620353691621,
          "y": 2.3415108099900364
         },
         {
          "c_0": 4.096398794207206,
          "c_1": 13.365299787751688,
          "c_2": 13.574934560567755,
          "cluster": "c_0",
          "x": 9.662135450565465,
          "y": 4.088226556961257
         },
         {
          "c_0": 3.0533756456638734,
          "c_1": 12.294122539097835,
          "c_2": 12.61865198423122,
          "cluster": "c_0",
          "x": 9.614912742376006,
          "y": 3.0157376113480314
         },
         {
          "c_0": 6.610723540093312,
          "c_1": 10.799175284303848,
          "c_2": 6.261832147763683,
          "cluster": "c_2",
          "x": 2.2790737156465677,
          "y": -1.6455588260614444
         },
         {
          "c_0": 9.771565214857707,
          "c_1": 3.0972743057833356,
          "c_2": 3.9995000790662107,
          "cluster": "c_1",
          "x": 6.832118737142073,
          "y": -9.482142586593403
         },
         {
          "c_0": 5.363230605755101,
          "c_1": 9.870786114178184,
          "c_2": 6.163016935435203,
          "cluster": "c_0",
          "x": 3.6019653406165886,
          "y": -1.6927064084821364
         },
         {
          "c_0": 7.232623273671137,
          "c_1": 11.951047138326237,
          "c_2": 7.2284465442995645,
          "cluster": "c_2",
          "x": 1.4782209163464268,
          "y": -0.817416996984387
         },
         {
          "c_0": 2.9662121451732406,
          "c_1": 12.315703249422183,
          "c_2": 12.444736776337418,
          "cluster": "c_0",
          "x": 9.253579292756303,
          "y": 3.022989372537978
         },
         {
          "c_0": 4.374180573076429,
          "c_1": 13.357845934006447,
          "c_2": 13.992645021411164,
          "cluster": "c_0",
          "x": 10.527476230748617,
          "y": 4.069597576535264
         },
         {
          "c_0": 9.924610726990462,
          "c_1": 4.508841888234264,
          "c_2": 2.643805092113509,
          "cluster": "c_2",
          "x": 5.4135997881350875,
          "y": -9.263255327376733
         },
         {
          "c_0": 8.908208584727081,
          "c_1": 1.2803211438662505,
          "c_2": 5.633418791705134,
          "cluster": "c_1",
          "x": 8.7377696378861,
          "y": -8.788937871835321
         },
         {
          "c_0": 9.1903647316667,
          "c_1": 2.267879542283608,
          "c_2": 4.636409425784397,
          "cluster": "c_1",
          "x": 7.6689884879889405,
          "y": -9.019019342763745
         },
         {
          "c_0": 2.6850743881632235,
          "c_1": 11.073658725389725,
          "c_2": 12.241571980659808,
          "cluster": "c_0",
          "x": 10.769985363636707,
          "y": 1.7666374452026807
         },
         {
          "c_0": 5.8787921820676985,
          "c_1": 10.916678569270685,
          "c_2": 6.905462935351,
          "cluster": "c_0",
          "x": 2.8679566857916656,
          "y": -0.9433732820812278
         },
         {
          "c_0": 7.881729212412443,
          "c_1": 11.311348201690693,
          "c_2": 6.027884629915342,
          "cluster": "c_2",
          "x": 1.1113925273268717,
          "y": -2.181424819244159
         },
         {
          "c_0": 7.483539061026563,
          "c_1": 11.879552355012178,
          "c_2": 6.976299722405442,
          "cluster": "c_2",
          "x": 1.271830882283903,
          "y": -1.1326134544656408
         },
         {
          "c_0": 5.246467405408767,
          "c_1": 10.684951945104881,
          "c_2": 7.094642391435375,
          "cluster": "c_0",
          "x": 3.476458192805591,
          "y": -0.7529377551930778
         },
         {
          "c_0": 9.790861635040926,
          "c_1": 3.8978971463944947,
          "c_2": 3.198903069895119,
          "cluster": "c_2",
          "x": 6.024725114391347,
          "y": -9.313497554457825
         },
         {
          "c_0": 5.072505343112451,
          "c_1": 9.368848356771732,
          "c_2": 5.916438708130801,
          "cluster": "c_0",
          "x": 4.035066601200981,
          "y": -1.98658251679815
         },
         {
          "c_0": 7.102613974402849,
          "c_1": 11.341080157124908,
          "c_2": 6.565225320992726,
          "cluster": "c_2",
          "x": 1.7209058522631384,
          "y": -1.441586125748839
         },
         {
          "c_0": 9.608620386653234,
          "c_1": 2.5418390154599564,
          "c_2": 4.481353194749618,
          "cluster": "c_1",
          "x": 7.383991148863304,
          "y": -9.406015258933895
         },
         {
          "c_0": 5.658461395546502,
          "c_1": 9.224648623971369,
          "c_2": 5.344164604634768,
          "cluster": "c_2",
          "x": 3.6429963556237057,
          "y": -2.5171064592042676
         },
         {
          "c_0": 3.935260931838947,
          "c_1": 13.325468350503899,
          "c_2": 13.267475534663857,
          "cluster": "c_0",
          "x": 9.115463066748692,
          "y": 4.0264734383877245
         },
         {
          "c_0": 9.931395463715498,
          "c_1": 3.804019648960178,
          "c_2": 3.3684020153476877,
          "cluster": "c_2",
          "x": 6.124291515823368,
          "y": -9.486028528891996
         },
         {
          "c_0": 2.869184421002751,
          "c_1": 12.21697414318311,
          "c_2": 12.3579154924714,
          "cluster": "c_0",
          "x": 9.252476981947112,
          "y": 2.924052675403543
         },
         {
          "c_0": 8.597319209511133,
          "c_1": 3.015865561745432,
          "c_2": 3.9044066877803023,
          "cluster": "c_1",
          "x": 7.058334139744647,
          "y": -8.32986171780171
         },
         {
          "c_0": 7.081583936185823,
          "c_1": 3.839289558833512,
          "c_2": 3.9743564426870233,
          "cluster": "c_1",
          "x": 7.011945827064147,
          "y": -6.770693243725228
         },
         {
          "c_0": 10.138067685304307,
          "c_1": 2.5850505686444256,
          "c_2": 4.73423641145903,
          "cluster": "c_1",
          "x": 7.425850501606944,
          "y": -9.945052677600938
         },
         {
          "c_0": 4.704962210068089,
          "c_1": 9.514280431294502,
          "c_2": 6.320259301437776,
          "cluster": "c_0",
          "x": 4.276699691849821,
          "y": -1.61638656878842
         },
         {
          "c_0": 3.0646211294617176,
          "c_1": 12.506569989896452,
          "c_2": 12.364130273531401,
          "cluster": "c_0",
          "x": 8.787080209150151,
          "y": 3.180391552006896
         },
         {
          "c_0": 8.259450340685497,
          "c_1": 3.185502290440948,
          "c_2": 3.8310532212330632,
          "cluster": "c_1",
          "x": 7.013246021509598,
          "y": -7.976814350497841
         },
         {
          "c_0": 2.5510540752084796,
          "c_1": 11.24567594476296,
          "c_2": 12.180414516977079,
          "cluster": "c_0",
          "x": 10.415435917116989,
          "y": 1.9603256817990788
         },
         {
          "c_0": 4.458274988407528,
          "c_1": 9.642124970178493,
          "c_2": 6.617658007511601,
          "cluster": "c_0",
          "x": 4.438466167175794,
          "y": -1.3437917828449766
         },
         {
          "c_0": 8.965328253035239,
          "c_1": 2.3307434325503404,
          "c_2": 4.557795551927807,
          "cluster": "c_1",
          "x": 7.6426652813319444,
          "y": -8.789719941680783
         },
         {
          "c_0": 2.038562730707,
          "c_1": 11.170766807453141,
          "c_2": 11.6882688043067,
          "cluster": "c_0",
          "x": 9.654019479864784,
          "y": 1.89300335673759
         },
         {
          "c_0": 3.4365721003825445,
          "c_1": 12.222699549608755,
          "c_2": 13.09240481952844,
          "cluster": "c_0",
          "x": 10.630024254630046,
          "y": 2.927661892635763
         },
         {
          "c_0": 3.601603954152348,
          "c_1": 12.533567706966597,
          "c_2": 13.248365580853378,
          "cluster": "c_0",
          "x": 10.432050152882123,
          "y": 3.2486642687624268
         },
         {
          "c_0": 8.012259601891815,
          "c_1": 10.491322486517324,
          "c_2": 4.977718870532812,
          "cluster": "c_2",
          "x": 1.3617954112751927,
          "y": -3.2096043409870414
         },
         {
          "c_0": 7.415642232669588,
          "c_1": 2.7409610504747075,
          "c_2": 4.898903521197501,
          "cluster": "c_1",
          "x": 8.050321215459274,
          "y": -7.2725180584265985
         },
         {
          "c_0": 1.8959272469472246,
          "c_1": 10.355584585866554,
          "c_2": 11.39947771698053,
          "cluster": "c_0",
          "x": 10.287375804367706,
          "y": 1.0746135246416386
         },
         {
          "c_0": 8.522414074215265,
          "c_1": 3.1903258659080924,
          "c_2": 3.7450094945662107,
          "cluster": "c_1",
          "x": 6.9100065032984155,
          "y": -8.224062992250005
         },
         {
          "c_0": 5.8002526442518425,
          "c_1": 10.76192503733405,
          "c_2": 6.785732709103934,
          "cluster": "c_0",
          "x": 2.970630246615425,
          "y": -1.0592145982601764
         },
         {
          "c_0": 2.6417245942702126,
          "c_1": 12.027464356750926,
          "c_2": 12.103034589227095,
          "cluster": "c_0",
          "x": 9.088216882512624,
          "y": 2.7239611800607113
         },
         {
          "c_0": 2.3426586290516704,
          "c_1": 11.186463951605262,
          "c_2": 11.989423434368916,
          "cluster": "c_0",
          "x": 10.160610371933668,
          "y": 1.9093895954776934
         },
         {
          "c_0": 4.1434594903084365,
          "c_1": 13.233545191945089,
          "c_2": 13.73281287184142,
          "cluster": "c_0",
          "x": 10.213964695943538,
          "y": 3.9557951293026763
         },
         {
          "c_0": 10.38545759191312,
          "c_1": 2.9884011903315466,
          "c_2": 4.511183083473232,
          "cluster": "c_1",
          "x": 7.063528291483956,
          "y": -10.144731825242818
         },
         {
          "c_0": 8.703448826013773,
          "c_1": 1.4986614626229846,
          "c_2": 5.45832313780737,
          "cluster": "c_1",
          "x": 8.592119191782176,
          "y": -8.584418213042088
         },
         {
          "c_0": 6.582539920482694,
          "c_1": 9.41466890614628,
          "c_2": 4.816617859657132,
          "cluster": "c_2",
          "x": 2.872226924994261,
          "y": -3.035094351354702
         },
         {
          "c_0": 9.246005729873133,
          "c_1": 2.9024684958088653,
          "c_2": 4.01605692241364,
          "cluster": "c_1",
          "x": 7.034443564850889,
          "y": -8.984932049706774
         },
         {
          "c_0": 5.392726786807075,
          "c_1": 9.25881767735777,
          "c_2": 5.5774592634356575,
          "cluster": "c_0",
          "x": 3.831018296193718,
          "y": -2.3017026478794747
         },
         {
          "c_0": 1.2555394086580822,
          "c_1": 9.118794315989355,
          "c_2": 10.189860234181186,
          "cluster": "c_0",
          "x": 9.875108478943737,
          "y": -0.15586682630229198
         },
         {
          "c_0": 5.078849943028665,
          "c_1": 8.971094805094301,
          "c_2": 5.5831803359066425,
          "cluster": "c_0",
          "x": 4.213847173176068,
          "y": -2.354086649745567
         }
        ]
       },
       "layer": [
        {
         "data": {
          "name": "data-7745ae8f4e2485c759f717750b00859f"
         },
         "encoding": {
          "color": {
           "field": "cluster",
           "scale": {
            "scheme": "category10"
           },
           "type": "nominal"
          },
          "tooltip": [
           {
            "field": "x",
            "type": "quantitative"
           },
           {
            "field": "y",
            "type": "quantitative"
           },
           {
            "field": "cluster",
            "type": "nominal"
           }
          ],
          "x": {
           "field": "x",
           "type": "quantitative"
          },
          "y": {
           "field": "y",
           "type": "quantitative"
          }
         },
         "mark": {
          "opacity": 0.5,
          "size": 60,
          "type": "circle"
         },
         "selection": {
          "selector007": {
           "bind": "scales",
           "encodings": [
            "x",
            "y"
           ],
           "type": "interval"
          }
         }
        },
        {
         "data": {
          "name": "data-1f973e8fb53dd0885190a9cb0e1e2675"
         },
         "encoding": {
          "x": {
           "field": "x",
           "type": "quantitative"
          },
          "y": {
           "field": "y",
           "type": "quantitative"
          }
         },
         "mark": {
          "color": "black",
          "opacity": 1,
          "size": 100,
          "type": "point"
         },
         "selection": {
          "selector008": {
           "bind": "scales",
           "encodings": [
            "x",
            "y"
           ],
           "type": "interval"
          }
         }
        }
       ]
      },
      "image/png": "[encoded data removed]",
      "text/plain": [
       "<VegaLite 3 object>\n",
       "\n",
       "If you see this message, it means the renderer has not been properly enabled\n",
       "for the frontend that you are using. For more information, see\n",
       "https://altair-viz.github.io/user_guide/troubleshooting.html\n"
      ]
     },
     "execution_count": 29,
     "metadata": {},
     "output_type": "execute_result"
    }
   ],
   "source": [
    "plot_result()"
   ]
  },
  {
   "cell_type": "markdown",
   "metadata": {},
   "source": [
    "## Update!"
   ]
  },
  {
   "cell_type": "markdown",
   "metadata": {},
   "source": [
    "As you have probably observed by now, the centroids are not located in the middle of the assigned data points.\n",
    "\n",
    "Thus, to update the centroids, we are simply calculating the mean of the assigned data points along each feature."
   ]
  },
  {
   "cell_type": "code",
   "execution_count": 30,
   "metadata": {},
   "outputs": [],
   "source": [
    "def update_centroids():\n",
    "    for i in range(k):\n",
    "        centroids.iloc[i] = df[df['cluster']==centroid_labels[i]][['x', 'y']].mean()"
   ]
  },
  {
   "cell_type": "code",
   "execution_count": 31,
   "metadata": {},
   "outputs": [
    {
     "data": {
      "application/vnd.vegalite.v3+json": {
       "$schema": "https://vega.github.io/schema/vega-lite/v3.4.0.json",
       "config": {
        "mark": {
         "tooltip": null
        },
        "view": {
         "height": 300,
         "width": 400
        }
       },
       "datasets": {
        "data-7745ae8f4e2485c759f717750b00859f": [
         {
          "c_0": 5.737474141342176,
          "c_1": 10.40348320851008,
          "c_2": 6.437449441025774,
          "cluster": "c_0",
          "x": 3.1184292356694483,
          "y": -1.4044640550960652
         },
         {
          "c_0": 4.224862324919168,
          "c_1": 10.486469642915456,
          "c_2": 7.617422027459429,
          "cluster": "c_0",
          "x": 4.449018261006421,
          "y": -0.32982840997319396
         },
         {
          "c_0": 4.391670035779086,
          "c_1": 13.149387919391433,
          "c_2": 14.045529916350596,
          "cluster": "c_0",
          "x": 10.996788690994826,
          "y": 3.830886112620622
         },
         {
          "c_0": 7.03790667011227,
          "c_1": 11.589142422372786,
          "c_2": 6.90862910987549,
          "cluster": "c_2",
          "x": 1.7167919163480028,
          "y": -1.0906660699163058
         },
         {
          "c_0": 9.645112205239684,
          "c_1": 3.228248515016405,
          "c_2": 3.810986975726781,
          "cluster": "c_1",
          "x": 6.694588932640962,
          "y": -9.325980352317348
         },
         {
          "c_0": 3.7987716363590103,
          "c_1": 12.517195384660358,
          "c_2": 13.45426420201375,
          "cluster": "c_0",
          "x": 10.861699075124056,
          "y": 3.207366507503612
         },
         {
          "c_0": 8.438514024143014,
          "c_1": 2.500473387931532,
          "c_2": 4.472504140918148,
          "cluster": "c_1",
          "x": 7.6375883868995365,
          "y": -8.258724840630354
         },
         {
          "c_0": 6.62396486128799,
          "c_1": 10.0353853177039,
          "c_2": 5.413676392667587,
          "cluster": "c_2",
          "x": 2.550804822807194,
          "y": -2.4651230689777144
         },
         {
          "c_0": 5.736571480263769,
          "c_1": 11.261994054852346,
          "c_2": 7.407642787820662,
          "cluster": "c_0",
          "x": 2.940503087068767,
          "y": -0.43795301137341647
         },
         {
          "c_0": 2.2749394385523396,
          "c_1": 11.399575694991595,
          "c_2": 11.920015501618677,
          "cluster": "c_0",
          "x": 9.725776709618689,
          "y": 2.1233410169360227
         },
         {
          "c_0": 2.2097168609636166,
          "c_1": 9.489797446204898,
          "c_2": 11.093547045843325,
          "cluster": "c_0",
          "x": 10.859138914976187,
          "y": 0.16891584160040196
         },
         {
          "c_0": 1.3522376991098193,
          "c_1": 10.666269123733448,
          "c_2": 10.983698339450209,
          "cluster": "c_0",
          "x": 9.173952810116084,
          "y": 1.3654373168562168
         },
         {
          "c_0": 9.047137606250454,
          "c_1": 2.7358645922785314,
          "c_2": 4.156475899329759,
          "cluster": "c_1",
          "x": 7.225359968474287,
          "y": -8.815428925357283
         },
         {
          "c_0": 3.160479120109206,
          "c_1": 12.598527996652212,
          "c_2": 12.460514054299741,
          "cluster": "c_0",
          "x": 8.813458714534855,
          "y": 3.275086956661234
         },
         {
          "c_0": 3.5935922555376205,
          "c_1": 11.644894008880746,
          "c_2": 13.106161758541273,
          "cluster": "c_0",
          "x": 11.537689594681805,
          "y": 2.2577851202644847
         },
         {
          "c_0": 10.308744373244854,
          "c_1": 2.4780030174629877,
          "c_2": 4.975230165127734,
          "cluster": "c_1",
          "x": 7.59905872988705,
          "y": -10.13619737176903
         },
         {
          "c_0": 2.2636312856848892,
          "c_1": 11.0406869027549,
          "c_2": 11.897231198561734,
          "cluster": "c_0",
          "x": 10.206400779712279,
          "y": 1.7624959482729325
         },
         {
          "c_0": 2.6666255561307866,
          "c_1": 11.61603878123554,
          "c_2": 12.322414501244435,
          "cluster": "c_0",
          "x": 10.125994741621861,
          "y": 2.3397165531547506
         },
         {
          "c_0": 10.198641255468937,
          "c_1": 5.408193469887147,
          "c_2": 1.9039110453208345,
          "cluster": "c_2",
          "x": 4.514696695265249,
          "y": -9.203802841990255
         },
         {
          "c_0": 9.320883843665735,
          "c_1": 3.5314344220172984,
          "c_2": 3.401704716378727,
          "cluster": "c_2",
          "x": 6.407998599672391,
          "y": -8.928390757964191
         },
         {
          "c_0": 4.778460045713301,
          "c_1": 10.956973755888765,
          "c_2": 7.737330833964052,
          "cluster": "c_0",
          "x": 3.8782979253276157,
          "y": -0.1354043355205059
         },
         {
          "c_0": 10.86426572822132,
          "c_1": 2.556302883148942,
          "c_2": 5.443412656962074,
          "cluster": "c_1",
          "x": 7.809142492170106,
          "y": -10.712839677445668
         },
         {
          "c_0": 7.743395592092265,
          "c_1": 11.186103315530133,
          "c_2": 5.964250815205396,
          "cluster": "c_2",
          "x": 1.260732306947813,
          "y": -2.196124509566161
         },
         {
          "c_0": 9.18106987428738,
          "c_1": 3.539239064064088,
          "c_2": 3.367707295116401,
          "cluster": "c_2",
          "x": 6.416993027291973,
          "y": -8.786540522060523
         },
         {
          "c_0": 4.7822476912519605,
          "c_1": 12.070904128053828,
          "c_2": 9.123137348029552,
          "cluster": "c_0",
          "x": 4.00219603644745,
          "y": 1.2448525456197235
         },
         {
          "c_0": 2.26260150638096,
          "c_1": 10.591577140167967,
          "c_2": 11.756927554177704,
          "cluster": "c_0",
          "x": 10.581961396836107,
          "y": 1.2964843562498922
         },
         {
          "c_0": 8.5745778610679,
          "c_1": 3.071412144460197,
          "c_2": 3.8530388625605796,
          "cluster": "c_1",
          "x": 7.010543685496742,
          "y": -8.297550717349386
         },
         {
          "c_0": 9.034735822751275,
          "c_1": 2.2137270216761977,
          "c_2": 4.675916812593701,
          "cluster": "c_1",
          "x": 7.74587580387531,
          "y": -8.870546060517132
         },
         {
          "c_0": 5.259887217153019,
          "c_1": 11.514132160455636,
          "c_2": 8.051965732156397,
          "cluster": "c_0",
          "x": 3.3908538682632092,
          "y": 0.20774956984495163
         },
         {
          "c_0": 8.659228669153588,
          "c_1": 2.6037260485035865,
          "c_2": 4.309983009897056,
          "cluster": "c_1",
          "x": 7.450413364707344,
          "y": -8.456898373963794
         },
         {
          "c_0": 5.090849036083143,
          "c_1": 9.13780130450312,
          "c_2": 5.707385014295773,
          "cluster": "c_0",
          "x": 4.124096104314129,
          "y": -2.2120483661401185
         },
         {
          "c_0": 3.8371443016367617,
          "c_1": 12.586806321244188,
          "c_2": 13.493169410013136,
          "cluster": "c_0",
          "x": 10.825234248421078,
          "y": 3.2798486522589445
         },
         {
          "c_0": 5.99694880233567,
          "c_1": 11.462355042378979,
          "c_2": 7.46480363882817,
          "cluster": "c_0",
          "x": 2.6750246726329827,
          "y": -0.39418170143032993
         },
         {
          "c_0": 2.86196241750254,
          "c_1": 12.119434424813688,
          "c_2": 12.42836753587979,
          "cluster": "c_0",
          "x": 9.540095979421103,
          "y": 2.838863852070127
         },
         {
          "c_0": 9.472371802730898,
          "c_1": 2.0346229325904903,
          "c_2": 4.931525401518867,
          "cluster": "c_1",
          "x": 7.88837865859423,
          "y": -9.32286588725596
         },
         {
          "c_0": 5.742458619200719,
          "c_1": 9.92052164083191,
          "c_2": 5.933827599396673,
          "cluster": "c_0",
          "x": 3.2772946262392884,
          "y": -1.908470357406583
         },
         {
          "c_0": 5.432023425522877,
          "c_1": 14.844349509532131,
          "c_2": 14.586029408262304,
          "cluster": "c_0",
          "x": 8.987708156523619,
          "y": 5.5403531943947355
         },
         {
          "c_0": 0.6693046981677594,
          "c_1": 10.001704146645539,
          "c_2": 10.324841993275507,
          "cluster": "c_0",
          "x": 9.006711803433014,
          "y": 0.6851579374084029
         },
         {
          "c_0": 9.83776373764867,
          "c_1": 2.524989677082012,
          "c_2": 4.606330104537772,
          "cluster": "c_1",
          "x": 7.4243605133514645,
          "y": -9.642279996538333
         },
         {
          "c_0": 2.8876177301990533,
          "c_1": 11.100018507069686,
          "c_2": 12.400417651618733,
          "cluster": "c_0",
          "x": 11.018066838828814,
          "y": 1.7712746590963921
         },
         {
          "c_0": 9.991589982124367,
          "c_1": 2.912900009350928,
          "c_2": 4.305718286278009,
          "cluster": "c_1",
          "x": 7.047510826111793,
          "y": -9.74340961263524
         },
         {
          "c_0": 10.734915667135763,
          "c_1": 3.026960032100336,
          "c_2": 4.7892035326151845,
          "cluster": "c_1",
          "x": 7.160048702278247,
          "y": -10.512177284713708
         },
         {
          "c_0": 5.026538984692204,
          "c_1": 11.054884246318384,
          "c_2": 7.67121441399981,
          "cluster": "c_0",
          "x": 3.632548394013589,
          "y": -0.18345010561667574
         },
         {
          "c_0": 6.077795341073145,
          "c_1": 11.001575460430157,
          "c_2": 6.8634316679071015,
          "cluster": "c_0",
          "x": 2.6755108428828875,
          "y": -0.9970471583256093
         },
         {
          "c_0": 4.787775815331945,
          "c_1": 10.99827514113733,
          "c_2": 7.778138783313406,
          "cluster": "c_0",
          "x": 3.866921213259231,
          "y": -0.09342193360610374
         },
         {
          "c_0": 3.9750545475051307,
          "c_1": 10.747046028281535,
          "c_2": 8.084463927089796,
          "cluster": "c_0",
          "x": 4.674961511060727,
          "y": 0.10432608430042656
         },
         {
          "c_0": 7.9482093256829955,
          "c_1": 4.368309254057978,
          "c_2": 2.8451176296083536,
          "cluster": "c_2",
          "x": 5.990554802159361,
          "y": -7.371251115671033
         },
         {
          "c_0": 8.376733694164017,
          "c_1": 3.9028846600532994,
          "c_2": 3.0815731730740814,
          "cluster": "c_2",
          "x": 6.265364693269934,
          "y": -7.911306961643049
         },
         {
          "c_0": 1.612060533189282,
          "c_1": 10.745160587799113,
          "c_2": 11.267870526248082,
          "cluster": "c_0",
          "x": 9.53875129839647,
          "y": 1.4637700923077275
         },
         {
          "c_0": 9.731783250086012,
          "c_1": 1.5069514275849807,
          "c_2": 5.55808761283403,
          "cluster": "c_1",
          "x": 8.453508858075862,
          "y": -9.610961398501017
         },
         {
          "c_0": 7.828748307697244,
          "c_1": 11.714773857772578,
          "c_2": 6.553332447897024,
          "cluster": "c_2",
          "x": 1.0247075702232746,
          "y": -1.654400210110937
         },
         {
          "c_0": 5.975981274801074,
          "c_1": 10.845803263181667,
          "c_2": 6.756427380926907,
          "cluster": "c_0",
          "x": 2.798826138486089,
          "y": -1.0961674281208702
         },
         {
          "c_0": 6.212136453591197,
          "c_1": 11.706168386706686,
          "c_2": 7.6132522035730545,
          "cluster": "c_0",
          "x": 2.4496533957547175,
          "y": -0.263876649322904
         },
         {
          "c_0": 3.000770087266173,
          "c_1": 12.44018194226154,
          "c_2": 12.315286927721779,
          "cluster": "c_0",
          "x": 8.806730437184834,
          "y": 3.1155119423833124
         },
         {
          "c_0": 7.119755586977044,
          "c_1": 11.79226422312752,
          "c_2": 7.104643030372135,
          "cluster": "c_2",
          "x": 1.60563624582479,
          "y": -0.9146054874976681
         },
         {
          "c_0": 5.365861977882756,
          "c_1": 10.766734930090589,
          "c_2": 7.099991573678667,
          "cluster": "c_0",
          "x": 3.353889745518,
          "y": -0.7436010189958306
         },
         {
          "c_0": 6.981712642718751,
          "c_1": 10.337394634454643,
          "c_2": 5.488520417609986,
          "cluster": "c_2",
          "x": 2.1580076846380534,
          "y": -2.4499129681920406
         },
         {
          "c_0": 4.858196994961131,
          "c_1": 10.518093684987912,
          "c_2": 7.192441110296005,
          "cluster": "c_0",
          "x": 3.8580414977404085,
          "y": -0.6807315007837443
         },
         {
          "c_0": 3.152871237046432,
          "c_1": 12.55224746688069,
          "c_2": 12.541601726430892,
          "cluster": "c_0",
          "x": 9.044298891614968,
          "y": 3.246955413422378
         },
         {
          "c_0": 11.165666876748288,
          "c_1": 3.0715567561256254,
          "c_2": 5.221048798551516,
          "cluster": "c_1",
          "x": 7.362783008104983,
          "y": -10.972384261844251
         },
         {
          "c_0": 4.344751392212393,
          "c_1": 10.383386498617455,
          "c_2": 7.421594139068848,
          "cluster": "c_0",
          "x": 4.351318265907579,
          "y": -0.5122637529899967
         },
         {
          "c_0": 9.39407372524927,
          "c_1": 0.5536089334525728,
          "c_2": 6.342705728228008,
          "cluster": "c_1",
          "x": 9.369472337415111,
          "y": -9.247642749749424
         },
         {
          "c_0": 2.3379142744421038,
          "c_1": 11.575191344070673,
          "c_2": 11.946207258712807,
          "cluster": "c_0",
          "x": 9.508894083416926,
          "y": 2.2932637015727506
         },
         {
          "c_0": 8.745824938386356,
          "c_1": 2.2281432326165698,
          "c_2": 4.678379008838853,
          "cluster": "c_1",
          "x": 7.803367239976834,
          "y": -8.585912467943672
         },
         {
          "c_0": 5.727247432481952,
          "c_1": 9.953356137622595,
          "c_2": 5.977815654395316,
          "cluster": "c_0",
          "x": 3.277109952097115,
          "y": -1.8644741098247284
         },
         {
          "c_0": 7.208727249653266,
          "c_1": 11.689448136355788,
          "c_2": 6.919097474738289,
          "cluster": "c_2",
          "x": 1.5482895496682854,
          "y": -1.1187422487658287
         },
         {
          "c_0": 6.724608629348949,
          "c_1": 11.026583369482326,
          "c_2": 6.446361456269432,
          "cluster": "c_2",
          "x": 2.1191623657092253,
          "y": -1.4838648969624775
         },
         {
          "c_0": 8.11675529830654,
          "c_1": 3.069561494992724,
          "c_2": 4.01039330113385,
          "cluster": "c_1",
          "x": 7.194896928383701,
          "y": -7.866424582876226
         },
         {
          "c_0": 4.374382630018208,
          "c_1": 13.330725271632238,
          "c_2": 14.00001391607806,
          "cluster": "c_0",
          "x": 10.590085660925835,
          "y": 4.039456860007604
         },
         {
          "c_0": 6.496434761528457,
          "c_1": 11.735621095747366,
          "c_2": 7.4536106529376855,
          "cluster": "c_0",
          "x": 2.1790460502715097,
          "y": -0.45610056311624647
         },
         {
          "c_0": 11.085667649888347,
          "c_1": 3.3653234358335875,
          "c_2": 4.802245631122725,
          "cluster": "c_1",
          "x": 6.940340017587297,
          "y": -10.834203628034174
         },
         {
          "c_0": 5.209979809577446,
          "c_1": 10.441254198261348,
          "c_2": 6.856602282042925,
          "cluster": "c_0",
          "x": 3.560528146383494,
          "y": -0.9952856782184543
         },
         {
          "c_0": 5.71165399801653,
          "c_1": 10.631954676180168,
          "c_2": 6.7040829278659935,
          "cluster": "c_0",
          "x": 3.078408479045014,
          "y": -1.1383314461945517
         },
         {
          "c_0": 7.261463214160995,
          "c_1": 12.799187245937578,
          "c_2": 8.303563068464243,
          "cluster": "c_0",
          "x": 1.3900126306656566,
          "y": 0.2657493453323958
         },
         {
          "c_0": 4.743328231511055,
          "c_1": 10.50882362563167,
          "c_2": 7.265514063809443,
          "cluster": "c_0",
          "x": 3.964243930567099,
          "y": -0.6180135543502945
         },
         {
          "c_0": 9.271061497628656,
          "c_1": 2.3861587830952655,
          "c_2": 4.533292887497089,
          "cluster": "c_1",
          "x": 7.54373014544233,
          "y": -9.085985050356284
         },
         {
          "c_0": 1.9140265836155113,
          "c_1": 11.037792357252838,
          "c_2": 11.567115196892752,
          "cluster": "c_0",
          "x": 9.635702798220894,
          "y": 1.7595292880162596
         },
         {
          "c_0": 10.05290216946997,
          "c_1": 2.251014315348258,
          "c_2": 5.01344756553127,
          "cluster": "c_1",
          "x": 7.758456513027645,
          "y": -9.894453491590584
         },
         {
          "c_0": 9.49398594595291,
          "c_1": 2.0278800783453,
          "c_2": 4.94530995630668,
          "cluster": "c_1",
          "x": 7.89577695806855,
          "y": -9.34514257764723
         },
         {
          "c_0": 1.9817668213888309,
          "c_1": 11.379384484714521,
          "c_2": 10.776187511229768,
          "cluster": "c_0",
          "x": 7.786486516912291,
          "y": 1.9025876991248742
         },
         {
          "c_0": 10.195185970980623,
          "c_1": 3.538562403396271,
          "c_2": 3.8050163516397397,
          "cluster": "c_1",
          "x": 6.427932649721693,
          "y": -9.831251231605329
         },
         {
          "c_0": 2.521753307093975,
          "c_1": 11.793542941441693,
          "c_2": 12.100790379107806,
          "cluster": "c_0",
          "x": 9.452105103678706,
          "y": 2.509622692683785
         },
         {
          "c_0": 6.577978424061817,
          "c_1": 10.490784492616786,
          "c_2": 5.9379834340697695,
          "cluster": "c_2",
          "x": 2.4073661963418544,
          "y": -1.954674162240043
         },
         {
          "c_0": 10.799596342868456,
          "c_1": 2.6610485363077236,
          "c_2": 5.252645604174281,
          "cluster": "c_1",
          "x": 7.634176633767193,
          "y": -10.632878169330166
         },
         {
          "c_0": 2.9949254578323865,
          "c_1": 12.352962846042725,
          "c_2": 12.460633820090914,
          "cluster": "c_0",
          "x": 9.222319019562855,
          "y": 3.0585690714684093
         },
         {
          "c_0": 1.6703006348620177,
          "c_1": 11.125736899173033,
          "c_2": 10.751242064205732,
          "cluster": "c_0",
          "x": 8.128345441230831,
          "y": 1.7055932755127845
         },
         {
          "c_0": 3.6293473393619933,
          "c_1": 13.07063012750863,
          "c_2": 12.86698596764865,
          "cluster": "c_0",
          "x": 8.778270993357765,
          "y": 3.7459177564436104
         },
         {
          "c_0": 2.682120038088629,
          "c_1": 11.55715496392866,
          "c_2": 12.336984076552028,
          "cluster": "c_0",
          "x": 10.240837479684103,
          "y": 2.2782295248842255
         },
         {
          "c_0": 5.709141063444686,
          "c_1": 10.19117951565463,
          "c_2": 6.233843189746013,
          "cluster": "c_0",
          "x": 3.2081977703022555,
          "y": -1.6077751481316036
         },
         {
          "c_0": 0.6093915371034655,
          "c_1": 9.760517414716531,
          "c_2": 10.223823282929937,
          "cluster": "c_0",
          "x": 9.157631574744888,
          "y": 0.4559697024585483
         },
         {
          "c_0": 10.309335000868824,
          "c_1": 3.756195281954228,
          "c_2": 3.6662268503613094,
          "cluster": "c_2",
          "x": 6.218619601261139,
          "y": -9.899686037869493
         },
         {
          "c_0": 8.052319590969187,
          "c_1": 2.9155803916896192,
          "c_2": 4.203053194172988,
          "cluster": "c_1",
          "x": 7.387626841793464,
          "y": -7.83391546603102
         },
         {
          "c_0": 3.1207818134128806,
          "c_1": 12.5481662489732,
          "c_2": 12.453786837392304,
          "cluster": "c_0",
          "x": 8.885563634531522,
          "y": 3.2307161043773305
         },
         {
          "c_0": 10.020728775083185,
          "c_1": 3.183258610883372,
          "c_2": 4.050574283013885,
          "cluster": "c_1",
          "x": 6.7710832264937,
          "y": -9.724165193751913
         },
         {
          "c_0": 4.4631031856521375,
          "c_1": 11.228293795235095,
          "c_2": 8.286361806893218,
          "cluster": "c_0",
          "x": 4.194710182849511,
          "y": 0.38298901825113174
         },
         {
          "c_0": 3.4578828693720363,
          "c_1": 12.490632779556663,
          "c_2": 13.089337888539132,
          "cluster": "c_0",
          "x": 10.19341454095769,
          "y": 3.2131545051407118
         },
         {
          "c_0": 9.338587822213043,
          "c_1": 2.01244612308584,
          "c_2": 4.915858167252186,
          "cluster": "c_1",
          "x": 7.911735937396738,
          "y": -9.19052288301965
         },
         {
          "c_0": 5.048197585187535,
          "c_1": 13.262073232367316,
          "c_2": 14.667158025183204,
          "cluster": "c_0",
          "x": 12.095626718281206,
          "y": 3.8082668296256053
         },
         {
          "c_0": 2.5753967548254053,
          "c_1": 11.405258118151982,
          "c_2": 12.225592810941658,
          "cluster": "c_0",
          "x": 10.26417077147162,
          "y": 2.1255986628660892
         },
         {
          "c_0": 10.268184392802223,
          "c_1": 2.403866885190522,
          "c_2": 5.018780460793594,
          "cluster": "c_1",
          "x": 7.665478907293002,
          "y": -10.1020399000725
         },
         {
          "c_0": 0.8092482058517845,
          "c_1": 10.255666557803233,
          "c_2": 10.09414988267021,
          "cluster": "c_0",
          "x": 8.311248009985068,
          "y": 0.8537782250901029
         },
         {
          "c_0": 8.913022513235216,
          "c_1": 3.8379569977052146,
          "c_2": 3.0509046922750707,
          "cluster": "c_2",
          "x": 6.175458477541515,
          "y": -8.443793750107993
         },
         {
          "c_0": 7.610696935160157,
          "c_1": 2.5692247319877506,
          "c_2": 4.921600921693626,
          "cluster": "c_1",
          "x": 8.092240210853337,
          "y": -7.471393893669992
         },
         {
          "c_0": 3.6071853861412486,
          "c_1": 13.049500860158323,
          "c_2": 12.843843498131259,
          "cluster": "c_0",
          "x": 8.770413097707907,
          "y": 3.724012912253034
         },
         {
          "c_0": 8.757018739142024,
          "c_1": 4.567947812705293,
          "c_2": 2.3446354882463747,
          "cluster": "c_2",
          "x": 5.51908023699478,
          "y": -8.059351311190447
         },
         {
          "c_0": 4.642955248935275,
          "c_1": 9.563368048227003,
          "c_2": 6.4100036592124,
          "cluster": "c_0",
          "x": 4.3101115489396555,
          "y": -1.5311594263840003
         },
         {
          "c_0": 10.110126698957565,
          "c_1": 1.9249536491197305,
          "c_2": 5.387678364610575,
          "cluster": "c_1",
          "x": 8.130591722648056,
          "y": -9.977937889646324
         },
         {
          "c_0": 7.898351281041302,
          "c_1": 3.7680400857089302,
          "c_2": 3.4262447873563384,
          "cluster": "c_2",
          "x": 6.594485719178524,
          "y": -7.507357222832605
         },
         {
          "c_0": 9.09648776787446,
          "c_1": 3.9933984432190734,
          "c_2": 2.9008691489756497,
          "cluster": "c_2",
          "x": 5.989888818245406,
          "y": -8.580009621224944
         },
         {
          "c_0": 4.317124134981742,
          "c_1": 13.793573488512413,
          "c_2": 13.084304339372025,
          "cluster": "c_0",
          "x": 7.887906089075845,
          "y": 4.368166348331357
         },
         {
          "c_0": 1.9428443105742317,
          "c_1": 11.41136550020307,
          "c_2": 11.292524738253865,
          "cluster": "c_0",
          "x": 8.61174286504456,
          "y": 2.0613060300501607
         },
         {
          "c_0": 0.7967929354972016,
          "c_1": 9.46845364899244,
          "c_2": 10.176395485721997,
          "cluster": "c_0",
          "x": 9.44428824434386,
          "y": 0.18183500145437748
         },
         {
          "c_0": 3.1398930744714266,
          "c_1": 12.617170315709826,
          "c_2": 12.0980085018158,
          "cluster": "c_0",
          "x": 8.104293220610504,
          "y": 3.210948178719395
         },
         {
          "c_0": 9.785695177546714,
          "c_1": 3.941050015102022,
          "c_2": 3.152407600102878,
          "cluster": "c_2",
          "x": 5.981435828118322,
          "y": -9.295971980003932
         },
         {
          "c_0": 6.842583036433988,
          "c_1": 10.776613244422682,
          "c_2": 6.077357165206062,
          "cluster": "c_2",
          "x": 2.1003083998712286,
          "y": -1.8617221093079421
         },
         {
          "c_0": 2.445838252491755,
          "c_1": 11.921453948892761,
          "c_2": 11.664991376274399,
          "cluster": "c_0",
          "x": 8.468703866352568,
          "y": 2.5579487621759016
         },
         {
          "c_0": 1.3776940442451913,
          "c_1": 10.690463785371977,
          "c_2": 11.008165194542041,
          "cluster": "c_0",
          "x": 9.18079731072357,
          "y": 1.3901698101611513
         },
         {
          "c_0": 2.9479542052076306,
          "c_1": 12.038019247443705,
          "c_2": 12.58057754967203,
          "cluster": "c_0",
          "x": 9.9524862775329,
          "y": 2.7634433515287795
         },
         {
          "c_0": 6.39214661294983,
          "c_1": 11.948526372545054,
          "c_2": 7.791472591364813,
          "cluster": "c_0",
          "x": 2.2617613167343062,
          "y": -0.10494321851310917
         },
         {
          "c_0": 5.542716364272213,
          "c_1": 10.314109442253367,
          "c_2": 6.482389884973744,
          "cluster": "c_0",
          "x": 3.308298424479892,
          "y": -1.3603644134169293
         },
         {
          "c_0": 5.645985756360921,
          "c_1": 10.529909841712136,
          "c_2": 6.639197093127674,
          "cluster": "c_0",
          "x": 3.160778871428765,
          "y": -1.2024191725668976
         },
         {
          "c_0": 11.164966354746213,
          "c_1": 3.1029448613421127,
          "c_2": 5.184770118664666,
          "cluster": "c_1",
          "x": 7.32157079128833,
          "y": -10.966818157650778
         },
         {
          "c_0": 6.039660407668822,
          "c_1": 11.322967359498255,
          "c_2": 7.267424875623858,
          "cluster": "c_0",
          "x": 2.652502220350179,
          "y": -0.5936527334629889
         },
         {
          "c_0": 9.42434162822766,
          "c_1": 3.896031903594492,
          "c_2": 3.0593558357355795,
          "cluster": "c_2",
          "x": 6.04102876034977,
          "y": -8.93718401298916
         },
         {
          "c_0": 0.7243221875588934,
          "c_1": 10.104274960088118,
          "c_2": 10.368503447795455,
          "cluster": "c_0",
          "x": 8.941315004673461,
          "y": 0.7819913828033587
         },
         {
          "c_0": 3.004930523723402,
          "c_1": 12.05645844106337,
          "c_2": 12.644579121978046,
          "cluster": "c_0",
          "x": 10.043122686243615,
          "y": 2.781315929053096
         },
         {
          "c_0": 4.569580111397469,
          "c_1": 9.653340503991782,
          "c_2": 6.545232864740948,
          "cluster": "c_0",
          "x": 4.339897870860586,
          "y": -1.3991117020038213
         },
         {
          "c_0": 9.74251073240461,
          "c_1": 2.3453578355239113,
          "c_2": 4.735984534536752,
          "cluster": "c_1",
          "x": 7.5953025554715765,
          "y": -9.56641607378144
         },
         {
          "c_0": 1.7599091803071418,
          "c_1": 11.103879300321482,
          "c_2": 11.345896905555046,
          "cluster": "c_0",
          "x": 9.160251717630127,
          "y": 1.8031519827565368
         },
         {
          "c_0": 6.763355367439464,
          "c_1": 12.677907260687782,
          "c_2": 8.481631045269342,
          "cluster": "c_0",
          "x": 1.8998976518940673,
          "y": 0.5421997056172665
         },
         {
          "c_0": 7.052074440371833,
          "c_1": 12.336156457865696,
          "c_2": 7.8373986403841975,
          "cluster": "c_0",
          "x": 1.6036409103782105,
          "y": -0.1652823691113734
         },
         {
          "c_0": 7.652037370029849,
          "c_1": 4.1809029140726945,
          "c_2": 3.1988383282714605,
          "cluster": "c_2",
          "x": 6.311508602220996,
          "y": -7.1671196943049456
         },
         {
          "c_0": 8.174275864158869,
          "c_1": 3.584381618981185,
          "c_2": 3.467601728418408,
          "cluster": "c_2",
          "x": 6.652014968909176,
          "y": -7.807502893821182
         },
         {
          "c_0": 5.973670256097489,
          "c_1": 11.283750193964451,
          "c_2": 7.266828981470127,
          "cluster": "c_0",
          "x": 2.718488973461807,
          "y": -0.5897074945309543
         },
         {
          "c_0": 2.408255214835825,
          "c_1": 11.792077957270257,
          "c_2": 11.895176720920873,
          "cluster": "c_0",
          "x": 9.083870655832985,
          "y": 2.4876861186805916
         },
         {
          "c_0": 7.417656567358067,
          "c_1": 12.025268794983083,
          "c_2": 7.201231542977289,
          "cluster": "c_2",
          "x": 1.3013857757728586,
          "y": -0.8909396079868098
         },
         {
          "c_0": 7.640606444379391,
          "c_1": 10.587967993400968,
          "c_2": 5.328130651690137,
          "cluster": "c_2",
          "x": 1.573624289789848,
          "y": -2.762814310118575
         },
         {
          "c_0": 5.0643532215178695,
          "c_1": 10.810633656118256,
          "c_2": 7.36516399250122,
          "cluster": "c_0",
          "x": 3.6222976801954774,
          "y": -0.48942803505844346
         },
         {
          "c_0": 1.4144470822210067,
          "c_1": 10.712777516631393,
          "c_2": 11.04832179739007,
          "cluster": "c_0",
          "x": 9.216352593939122,
          "y": 1.4149452616569058
         },
         {
          "c_0": 1.8219154391788541,
          "c_1": 10.867941994059544,
          "c_2": 11.477349409350506,
          "cluster": "c_0",
          "x": 9.722579322016236,
          "y": 1.5915659878623394
         },
         {
          "c_0": 9.672671056499091,
          "c_1": 3.7972490316044434,
          "c_2": 3.247425578346166,
          "cluster": "c_2",
          "x": 6.1255903967970085,
          "y": -9.218611873471827
         },
         {
          "c_0": 5.2082135236989675,
          "c_1": 11.133933307420829,
          "c_2": 7.632808639413984,
          "cluster": "c_0",
          "x": 3.4523879144931895,
          "y": -0.2134645962156263
         },
         {
          "c_0": 6.280500542983704,
          "c_1": 10.01803605872569,
          "c_2": 5.641959198544014,
          "cluster": "c_2",
          "x": 2.8178378727920954,
          "y": -2.2115466598706535
         },
         {
          "c_0": 9.446898570951756,
          "c_1": 4.0444511717706115,
          "c_2": 2.9148861021773254,
          "cluster": "c_2",
          "x": 5.89380619234881,
          "y": -8.917053870115367
         },
         {
          "c_0": 9.563693624988561,
          "c_1": 2.1363650828861247,
          "c_2": 4.8640302064974446,
          "cluster": "c_1",
          "x": 7.790118564675714,
          "y": -9.40612150001545
         },
         {
          "c_0": 9.692938016784616,
          "c_1": 3.4122148393898133,
          "c_2": 3.6460916989369068,
          "cluster": "c_1",
          "x": 6.510749968937679,
          "y": -9.335086964396591
         },
         {
          "c_0": 0.5797403908869538,
          "c_1": 9.221673260400106,
          "c_2": 9.112905726848588,
          "cluster": "c_0",
          "x": 8.178982272727657,
          "y": -0.21917220979430452
         },
         {
          "c_0": 7.1935058975906685,
          "c_1": 3.3765917891223745,
          "c_2": 4.3535400312049255,
          "cluster": "c_1",
          "x": 7.450801634008632,
          "y": -6.97400855971598
         },
         {
          "c_0": 2.253857453289537,
          "c_1": 11.650770484961773,
          "c_2": 11.738381194700173,
          "cluster": "c_0",
          "x": 9.023620353691621,
          "y": 2.3415108099900364
         },
         {
          "c_0": 4.096398794207206,
          "c_1": 13.365299787751688,
          "c_2": 13.574934560567755,
          "cluster": "c_0",
          "x": 9.662135450565465,
          "y": 4.088226556961257
         },
         {
          "c_0": 3.0533756456638734,
          "c_1": 12.294122539097835,
          "c_2": 12.61865198423122,
          "cluster": "c_0",
          "x": 9.614912742376006,
          "y": 3.0157376113480314
         },
         {
          "c_0": 6.610723540093312,
          "c_1": 10.799175284303848,
          "c_2": 6.261832147763683,
          "cluster": "c_2",
          "x": 2.2790737156465677,
          "y": -1.6455588260614444
         },
         {
          "c_0": 9.771565214857707,
          "c_1": 3.0972743057833356,
          "c_2": 3.9995000790662107,
          "cluster": "c_1",
          "x": 6.832118737142073,
          "y": -9.482142586593403
         },
         {
          "c_0": 5.363230605755101,
          "c_1": 9.870786114178184,
          "c_2": 6.163016935435203,
          "cluster": "c_0",
          "x": 3.6019653406165886,
          "y": -1.6927064084821364
         },
         {
          "c_0": 7.232623273671137,
          "c_1": 11.951047138326237,
          "c_2": 7.2284465442995645,
          "cluster": "c_2",
          "x": 1.4782209163464268,
          "y": -0.817416996984387
         },
         {
          "c_0": 2.9662121451732406,
          "c_1": 12.315703249422183,
          "c_2": 12.444736776337418,
          "cluster": "c_0",
          "x": 9.253579292756303,
          "y": 3.022989372537978
         },
         {
          "c_0": 4.374180573076429,
          "c_1": 13.357845934006447,
          "c_2": 13.992645021411164,
          "cluster": "c_0",
          "x": 10.527476230748617,
          "y": 4.069597576535264
         },
         {
          "c_0": 9.924610726990462,
          "c_1": 4.508841888234264,
          "c_2": 2.643805092113509,
          "cluster": "c_2",
          "x": 5.4135997881350875,
          "y": -9.263255327376733
         },
         {
          "c_0": 8.908208584727081,
          "c_1": 1.2803211438662505,
          "c_2": 5.633418791705134,
          "cluster": "c_1",
          "x": 8.7377696378861,
          "y": -8.788937871835321
         },
         {
          "c_0": 9.1903647316667,
          "c_1": 2.267879542283608,
          "c_2": 4.636409425784397,
          "cluster": "c_1",
          "x": 7.6689884879889405,
          "y": -9.019019342763745
         },
         {
          "c_0": 2.6850743881632235,
          "c_1": 11.073658725389725,
          "c_2": 12.241571980659808,
          "cluster": "c_0",
          "x": 10.769985363636707,
          "y": 1.7666374452026807
         },
         {
          "c_0": 5.8787921820676985,
          "c_1": 10.916678569270685,
          "c_2": 6.905462935351,
          "cluster": "c_0",
          "x": 2.8679566857916656,
          "y": -0.9433732820812278
         },
         {
          "c_0": 7.881729212412443,
          "c_1": 11.311348201690693,
          "c_2": 6.027884629915342,
          "cluster": "c_2",
          "x": 1.1113925273268717,
          "y": -2.181424819244159
         },
         {
          "c_0": 7.483539061026563,
          "c_1": 11.879552355012178,
          "c_2": 6.976299722405442,
          "cluster": "c_2",
          "x": 1.271830882283903,
          "y": -1.1326134544656408
         },
         {
          "c_0": 5.246467405408767,
          "c_1": 10.684951945104881,
          "c_2": 7.094642391435375,
          "cluster": "c_0",
          "x": 3.476458192805591,
          "y": -0.7529377551930778
         },
         {
          "c_0": 9.790861635040926,
          "c_1": 3.8978971463944947,
          "c_2": 3.198903069895119,
          "cluster": "c_2",
          "x": 6.024725114391347,
          "y": -9.313497554457825
         },
         {
          "c_0": 5.072505343112451,
          "c_1": 9.368848356771732,
          "c_2": 5.916438708130801,
          "cluster": "c_0",
          "x": 4.035066601200981,
          "y": -1.98658251679815
         },
         {
          "c_0": 7.102613974402849,
          "c_1": 11.341080157124908,
          "c_2": 6.565225320992726,
          "cluster": "c_2",
          "x": 1.7209058522631384,
          "y": -1.441586125748839
         },
         {
          "c_0": 9.608620386653234,
          "c_1": 2.5418390154599564,
          "c_2": 4.481353194749618,
          "cluster": "c_1",
          "x": 7.383991148863304,
          "y": -9.406015258933895
         },
         {
          "c_0": 5.658461395546502,
          "c_1": 9.224648623971369,
          "c_2": 5.344164604634768,
          "cluster": "c_2",
          "x": 3.6429963556237057,
          "y": -2.5171064592042676
         },
         {
          "c_0": 3.935260931838947,
          "c_1": 13.325468350503899,
          "c_2": 13.267475534663857,
          "cluster": "c_0",
          "x": 9.115463066748692,
          "y": 4.0264734383877245
         },
         {
          "c_0": 9.931395463715498,
          "c_1": 3.804019648960178,
          "c_2": 3.3684020153476877,
          "cluster": "c_2",
          "x": 6.124291515823368,
          "y": -9.486028528891996
         },
         {
          "c_0": 2.869184421002751,
          "c_1": 12.21697414318311,
          "c_2": 12.3579154924714,
          "cluster": "c_0",
          "x": 9.252476981947112,
          "y": 2.924052675403543
         },
         {
          "c_0": 8.597319209511133,
          "c_1": 3.015865561745432,
          "c_2": 3.9044066877803023,
          "cluster": "c_1",
          "x": 7.058334139744647,
          "y": -8.32986171780171
         },
         {
          "c_0": 7.081583936185823,
          "c_1": 3.839289558833512,
          "c_2": 3.9743564426870233,
          "cluster": "c_1",
          "x": 7.011945827064147,
          "y": -6.770693243725228
         },
         {
          "c_0": 10.138067685304307,
          "c_1": 2.5850505686444256,
          "c_2": 4.73423641145903,
          "cluster": "c_1",
          "x": 7.425850501606944,
          "y": -9.945052677600938
         },
         {
          "c_0": 4.704962210068089,
          "c_1": 9.514280431294502,
          "c_2": 6.320259301437776,
          "cluster": "c_0",
          "x": 4.276699691849821,
          "y": -1.61638656878842
         },
         {
          "c_0": 3.0646211294617176,
          "c_1": 12.506569989896452,
          "c_2": 12.364130273531401,
          "cluster": "c_0",
          "x": 8.787080209150151,
          "y": 3.180391552006896
         },
         {
          "c_0": 8.259450340685497,
          "c_1": 3.185502290440948,
          "c_2": 3.8310532212330632,
          "cluster": "c_1",
          "x": 7.013246021509598,
          "y": -7.976814350497841
         },
         {
          "c_0": 2.5510540752084796,
          "c_1": 11.24567594476296,
          "c_2": 12.180414516977079,
          "cluster": "c_0",
          "x": 10.415435917116989,
          "y": 1.9603256817990788
         },
         {
          "c_0": 4.458274988407528,
          "c_1": 9.642124970178493,
          "c_2": 6.617658007511601,
          "cluster": "c_0",
          "x": 4.438466167175794,
          "y": -1.3437917828449766
         },
         {
          "c_0": 8.965328253035239,
          "c_1": 2.3307434325503404,
          "c_2": 4.557795551927807,
          "cluster": "c_1",
          "x": 7.6426652813319444,
          "y": -8.789719941680783
         },
         {
          "c_0": 2.038562730707,
          "c_1": 11.170766807453141,
          "c_2": 11.6882688043067,
          "cluster": "c_0",
          "x": 9.654019479864784,
          "y": 1.89300335673759
         },
         {
          "c_0": 3.4365721003825445,
          "c_1": 12.222699549608755,
          "c_2": 13.09240481952844,
          "cluster": "c_0",
          "x": 10.630024254630046,
          "y": 2.927661892635763
         },
         {
          "c_0": 3.601603954152348,
          "c_1": 12.533567706966597,
          "c_2": 13.248365580853378,
          "cluster": "c_0",
          "x": 10.432050152882123,
          "y": 3.2486642687624268
         },
         {
          "c_0": 8.012259601891815,
          "c_1": 10.491322486517324,
          "c_2": 4.977718870532812,
          "cluster": "c_2",
          "x": 1.3617954112751927,
          "y": -3.2096043409870414
         },
         {
          "c_0": 7.415642232669588,
          "c_1": 2.7409610504747075,
          "c_2": 4.898903521197501,
          "cluster": "c_1",
          "x": 8.050321215459274,
          "y": -7.2725180584265985
         },
         {
          "c_0": 1.8959272469472246,
          "c_1": 10.355584585866554,
          "c_2": 11.39947771698053,
          "cluster": "c_0",
          "x": 10.287375804367706,
          "y": 1.0746135246416386
         },
         {
          "c_0": 8.522414074215265,
          "c_1": 3.1903258659080924,
          "c_2": 3.7450094945662107,
          "cluster": "c_1",
          "x": 6.9100065032984155,
          "y": -8.224062992250005
         },
         {
          "c_0": 5.8002526442518425,
          "c_1": 10.76192503733405,
          "c_2": 6.785732709103934,
          "cluster": "c_0",
          "x": 2.970630246615425,
          "y": -1.0592145982601764
         },
         {
          "c_0": 2.6417245942702126,
          "c_1": 12.027464356750926,
          "c_2": 12.103034589227095,
          "cluster": "c_0",
          "x": 9.088216882512624,
          "y": 2.7239611800607113
         },
         {
          "c_0": 2.3426586290516704,
          "c_1": 11.186463951605262,
          "c_2": 11.989423434368916,
          "cluster": "c_0",
          "x": 10.160610371933668,
          "y": 1.9093895954776934
         },
         {
          "c_0": 4.1434594903084365,
          "c_1": 13.233545191945089,
          "c_2": 13.73281287184142,
          "cluster": "c_0",
          "x": 10.213964695943538,
          "y": 3.9557951293026763
         },
         {
          "c_0": 10.38545759191312,
          "c_1": 2.9884011903315466,
          "c_2": 4.511183083473232,
          "cluster": "c_1",
          "x": 7.063528291483956,
          "y": -10.144731825242818
         },
         {
          "c_0": 8.703448826013773,
          "c_1": 1.4986614626229846,
          "c_2": 5.45832313780737,
          "cluster": "c_1",
          "x": 8.592119191782176,
          "y": -8.584418213042088
         },
         {
          "c_0": 6.582539920482694,
          "c_1": 9.41466890614628,
          "c_2": 4.816617859657132,
          "cluster": "c_2",
          "x": 2.872226924994261,
          "y": -3.035094351354702
         },
         {
          "c_0": 9.246005729873133,
          "c_1": 2.9024684958088653,
          "c_2": 4.01605692241364,
          "cluster": "c_1",
          "x": 7.034443564850889,
          "y": -8.984932049706774
         },
         {
          "c_0": 5.392726786807075,
          "c_1": 9.25881767735777,
          "c_2": 5.5774592634356575,
          "cluster": "c_0",
          "x": 3.831018296193718,
          "y": -2.3017026478794747
         },
         {
          "c_0": 1.2555394086580822,
          "c_1": 9.118794315989355,
          "c_2": 10.189860234181186,
          "cluster": "c_0",
          "x": 9.875108478943737,
          "y": -0.15586682630229198
         },
         {
          "c_0": 5.078849943028665,
          "c_1": 8.971094805094301,
          "c_2": 5.5831803359066425,
          "cluster": "c_0",
          "x": 4.213847173176068,
          "y": -2.354086649745567
         }
        ],
        "data-a633c9f961984ebdd7ddcdd674ef523c": [
         {
          "x": 7.043246572550799,
          "y": 1.092827193526848
         },
         {
          "x": 7.502707088852728,
          "y": -9.172280944204676
         },
         {
          "x": 3.864605985511717,
          "y": -5.078331439038779
         }
        ]
       },
       "layer": [
        {
         "data": {
          "name": "data-7745ae8f4e2485c759f717750b00859f"
         },
         "encoding": {
          "color": {
           "field": "cluster",
           "scale": {
            "scheme": "category10"
           },
           "type": "nominal"
          },
          "tooltip": [
           {
            "field": "x",
            "type": "quantitative"
           },
           {
            "field": "y",
            "type": "quantitative"
           },
           {
            "field": "cluster",
            "type": "nominal"
           }
          ],
          "x": {
           "field": "x",
           "type": "quantitative"
          },
          "y": {
           "field": "y",
           "type": "quantitative"
          }
         },
         "mark": {
          "opacity": 0.5,
          "size": 60,
          "type": "circle"
         },
         "selection": {
          "selector009": {
           "bind": "scales",
           "encodings": [
            "x",
            "y"
           ],
           "type": "interval"
          }
         }
        },
        {
         "data": {
          "name": "data-a633c9f961984ebdd7ddcdd674ef523c"
         },
         "encoding": {
          "x": {
           "field": "x",
           "type": "quantitative"
          },
          "y": {
           "field": "y",
           "type": "quantitative"
          }
         },
         "mark": {
          "color": "black",
          "opacity": 1,
          "size": 100,
          "type": "point"
         },
         "selection": {
          "selector010": {
           "bind": "scales",
           "encodings": [
            "x",
            "y"
           ],
           "type": "interval"
          }
         }
        }
       ]
      },
      "image/png": "[encoded data removed]",
      "text/plain": [
       "<VegaLite 3 object>\n",
       "\n",
       "If you see this message, it means the renderer has not been properly enabled\n",
       "for the frontend that you are using. For more information, see\n",
       "https://altair-viz.github.io/user_guide/troubleshooting.html\n"
      ]
     },
     "execution_count": 31,
     "metadata": {},
     "output_type": "execute_result"
    }
   ],
   "source": [
    "update_centroids()\n",
    "plot_result()"
   ]
  },
  {
   "cell_type": "markdown",
   "metadata": {},
   "source": [
    "## Iterate until convergence!"
   ]
  },
  {
   "cell_type": "markdown",
   "metadata": {},
   "source": [
    "Finally, all that is left is to iterate until the clusters no longer change. \n",
    "\n",
    "We simply define a function that does the assigment and centroid updates in one go. "
   ]
  },
  {
   "cell_type": "code",
   "execution_count": 32,
   "metadata": {},
   "outputs": [],
   "source": [
    "def iterate():\n",
    "    calc_distances()\n",
    "    assign()\n",
    "    update_centroids()"
   ]
  },
  {
   "cell_type": "markdown",
   "metadata": {},
   "source": [
    "Try executing the code block below until you think the result is stable."
   ]
  },
  {
   "cell_type": "code",
   "execution_count": 35,
   "metadata": {},
   "outputs": [
    {
     "data": {
      "application/vnd.vegalite.v3+json": {
       "$schema": "https://vega.github.io/schema/vega-lite/v3.4.0.json",
       "config": {
        "mark": {
         "tooltip": null
        },
        "view": {
         "height": 300,
         "width": 400
        }
       },
       "datasets": {
        "data-3068ba4355f50902a4ded5d76b469bd9": [
         {
          "x": 9.597451551261722,
          "y": 2.4154846221502466
         },
         {
          "x": 7.086434061237389,
          "y": -9.020405988056893
         },
         {
          "x": 2.915446437685232,
          "y": -1.1352370309025812
         }
        ],
        "data-3de2b427936c1ee07ca156a3277e432f": [
         {
          "c_0": 7.521285665545387,
          "c_1": 8.587644253342216,
          "c_2": 0.3371723696176483,
          "cluster": "c_2",
          "x": 3.1184292356694483,
          "y": -1.4044640550960652
         },
         {
          "c_0": 5.834647289130324,
          "c_1": 9.08196568722868,
          "c_2": 1.7322025239422938,
          "cluster": "c_2",
          "x": 4.449018261006421,
          "y": -0.32982840997319396
         },
         {
          "c_0": 1.9903531872163256,
          "c_1": 13.433040682861112,
          "c_2": 9.48527657434214,
          "cluster": "c_0",
          "x": 10.996788690994826,
          "y": 3.830886112620622
         },
         {
          "c_0": 8.625421088667915,
          "c_1": 9.576733886535877,
          "c_2": 1.1994829019562645,
          "cluster": "c_2",
          "x": 1.7167919163480028,
          "y": -1.0906660699163058
         },
         {
          "c_0": 12.094982890820273,
          "c_1": 0.4969087410158241,
          "c_2": 9.020542896881585,
          "cluster": "c_1",
          "x": 6.694588932640962,
          "y": -9.325980352317348
         },
         {
          "c_0": 1.4917770349294306,
          "c_1": 12.797306205927194,
          "c_2": 9.055447888966148,
          "cluster": "c_0",
          "x": 10.861699075124056,
          "y": 3.207366507503612
         },
         {
          "c_0": 10.85264075137193,
          "c_1": 0.9401751225389376,
          "c_2": 8.54650239360346,
          "cluster": "c_1",
          "x": 7.6375883868995365,
          "y": -8.258724840630354
         },
         {
          "c_0": 8.571788701918422,
          "c_1": 7.971428149188457,
          "c_2": 1.3789707689316832,
          "cluster": "c_2",
          "x": 2.550804822807194,
          "y": -2.4651230689777144
         },
         {
          "c_0": 7.242725259412375,
          "c_1": 9.531381995259338,
          "c_2": 0.6977340751096208,
          "cluster": "c_2",
          "x": 2.940503087068767,
          "y": -0.43795301137341647
         },
         {
          "c_0": 0.31908499233731585,
          "c_1": 11.452040295373266,
          "c_2": 7.549763526539682,
          "cluster": "c_0",
          "x": 9.725776709618689,
          "y": 2.1233410169360227
         },
         {
          "c_0": 2.576611396679362,
          "c_1": 9.933626608768844,
          "c_2": 8.050035086173644,
          "cluster": "c_0",
          "x": 10.859138914976187,
          "y": 0.16891584160040196
         },
         {
          "c_0": 1.1322325410917995,
          "c_1": 10.59355821625239,
          "c_2": 6.739604899940091,
          "cluster": "c_0",
          "x": 9.173952810116084,
          "y": 1.3654373168562168
         },
         {
          "c_0": 11.478686230955143,
          "c_1": 0.24762068559503478,
          "c_2": 8.806855408062873,
          "cluster": "c_1",
          "x": 7.225359968474287,
          "y": -8.815428925357283
         },
         {
          "c_0": 1.1634263799380602,
          "c_1": 12.416189468057842,
          "c_2": 7.364611767985443,
          "cluster": "c_0",
          "x": 8.813458714534855,
          "y": 3.275086956661234
         },
         {
          "c_0": 1.9466362777955228,
          "c_1": 12.124820431653367,
          "c_2": 9.265833819828877,
          "cluster": "c_0",
          "x": 11.537689594681805,
          "y": 2.2577851202644847
         },
         {
          "c_0": 12.709771624423439,
          "c_1": 1.2279146806168664,
          "c_2": 10.146600965915367,
          "cluster": "c_1",
          "x": 7.59905872988705,
          "y": -10.13619737176903
         },
         {
          "c_0": 0.8928680591456848,
          "c_1": 11.225202291847415,
          "c_2": 7.8456912784103645,
          "cluster": "c_0",
          "x": 10.206400779712279,
          "y": 1.7624959482729325
         },
         {
          "c_0": 0.5339463496975896,
          "c_1": 11.759732704491384,
          "c_2": 8.004205722915692,
          "cluster": "c_0",
          "x": 10.125994741621861,
          "y": 2.3397165531547506
         },
         {
          "c_0": 12.682359327053005,
          "c_1": 2.5782683114001106,
          "c_2": 8.225530720520265,
          "cluster": "c_1",
          "x": 4.514696695265249,
          "y": -9.203802841990255
         },
         {
          "c_0": 11.783722619357958,
          "c_1": 0.6846469733212329,
          "c_2": 8.53997456774992,
          "cluster": "c_1",
          "x": 6.407998599672391,
          "y": -8.928390757964191
         },
         {
          "c_0": 6.262248212215947,
          "c_1": 9.446448635974498,
          "c_2": 1.388073631335938,
          "cluster": "c_2",
          "x": 3.8782979253276157,
          "y": -0.1354043355205059
         },
         {
          "c_0": 13.249564076081512,
          "c_1": 1.8402823884174215,
          "c_2": 10.755404851922124,
          "cluster": "c_1",
          "x": 7.809142492170106,
          "y": -10.712839677445668
         },
         {
          "c_0": 9.527215046499371,
          "c_1": 8.97271523161213,
          "c_2": 1.9655943367967001,
          "cluster": "c_2",
          "x": 1.260732306947813,
          "y": -2.196124509566161
         },
         {
          "c_0": 11.644770661297807,
          "c_1": 0.7091151910060927,
          "c_2": 8.414468113493111,
          "cluster": "c_1",
          "x": 6.416993027291973,
          "y": -8.786540522060523
         },
         {
          "c_0": 5.716403041656675,
          "c_1": 10.718584652685294,
          "c_2": 2.616457735695336,
          "cluster": "c_2",
          "x": 4.00219603644745,
          "y": 1.2448525456197235
         },
         {
          "c_0": 1.4904433002023132,
          "c_1": 10.892976532168259,
          "c_2": 8.042929846991013,
          "cluster": "c_0",
          "x": 10.581961396836107,
          "y": 1.2964843562498922
         },
         {
          "c_0": 11.020944537167617,
          "c_1": 0.7268281031438452,
          "c_2": 8.25036719256159,
          "cluster": "c_1",
          "x": 7.010543685496742,
          "y": -8.297550717349386
         },
         {
          "c_0": 11.43690610779065,
          "c_1": 0.676255432374159,
          "c_2": 9.11965205725459,
          "cluster": "c_1",
          "x": 7.74587580387531,
          "y": -8.870546060517132
         },
         {
          "c_0": 6.5875601598604,
          "c_1": 9.9406321712222,
          "c_2": 1.42464916201715,
          "cluster": "c_2",
          "x": 3.3908538682632092,
          "y": 0.20774956984495163
         },
         {
          "c_0": 11.08235015638436,
          "c_1": 0.6708366153508399,
          "c_2": 8.612354489433265,
          "cluster": "c_1",
          "x": 7.450413364707344,
          "y": -8.456898373963794
         },
         {
          "c_0": 7.167404091185766,
          "c_1": 7.424902671344624,
          "c_2": 1.6187515770921093,
          "cluster": "c_2",
          "x": 4.124096104314129,
          "y": -2.2120483661401185
         },
         {
          "c_0": 1.5015244013966778,
          "c_1": 12.855928245610897,
          "c_2": 9.058571896304805,
          "cluster": "c_0",
          "x": 10.825234248421078,
          "y": 3.2798486522589445
         },
         {
          "c_0": 7.4708914287268575,
          "c_1": 9.688770728892962,
          "c_2": 0.779079987196479,
          "cluster": "c_2",
          "x": 2.6750246726329827,
          "y": -0.39418170143032993
         },
         {
          "c_0": 0.42724657277585637,
          "c_1": 12.110439213739994,
          "c_2": 7.725248175875372,
          "cluster": "c_0",
          "x": 9.540095979421103,
          "y": 2.838863852070127
         },
         {
          "c_0": 11.862116288172519,
          "c_1": 0.8570864179610683,
          "c_2": 9.579526145021235,
          "cluster": "c_1",
          "x": 7.88837865859423,
          "y": -9.32286588725596
         },
         {
          "c_0": 7.6577392370165835,
          "c_1": 8.067786043876664,
          "c_2": 0.8537118300552573,
          "cluster": "c_2",
          "x": 3.2772946262392884,
          "y": -1.908470357406583
         },
         {
          "c_0": 3.183801281680133,
          "c_1": 14.684364172641454,
          "c_2": 9.02418235842756,
          "cluster": "c_0",
          "x": 8.987708156523619,
          "y": 5.5403531943947355
         },
         {
          "c_0": 1.8283883300859327,
          "c_1": 9.893706975571153,
          "c_2": 6.357464242652916,
          "cluster": "c_0",
          "x": 9.006711803433014,
          "y": 0.6851579374084029
         },
         {
          "c_0": 12.252020741850874,
          "c_1": 0.707758129210241,
          "c_2": 9.628088395985664,
          "cluster": "c_1",
          "x": 7.4243605133514645,
          "y": -9.642279996538333
         },
         {
          "c_0": 1.55985713184483,
          "c_1": 11.485560826009934,
          "c_2": 8.60815122829106,
          "cluster": "c_0",
          "x": 11.018066838828814,
          "y": 1.7712746590963921
         },
         {
          "c_0": 12.423401575835738,
          "c_1": 0.72405059173104,
          "c_2": 9.548538700083741,
          "cluster": "c_1",
          "x": 7.047510826111793,
          "y": -9.74340961263524
         },
         {
          "c_0": 13.155431388837622,
          "c_1": 1.493586528094281,
          "c_2": 10.292893514854393,
          "cluster": "c_1",
          "x": 7.160048702278247,
          "y": -10.512177284713708
         },
         {
          "c_0": 6.506499165798891,
          "c_1": 9.487945798245727,
          "c_2": 1.1916935708961238,
          "cluster": "c_2",
          "x": 3.632548394013589,
          "y": -0.18345010561667574
         },
         {
          "c_0": 7.7174242026125395,
          "c_1": 9.155901405587862,
          "c_2": 0.2768854104787655,
          "cluster": "c_2",
          "x": 2.6755108428828875,
          "y": -0.9970471583256093
         },
         {
          "c_0": 6.255684619630703,
          "c_1": 9.489800171063408,
          "c_2": 1.4109156408192736,
          "cluster": "c_2",
          "x": 3.866921213259231,
          "y": -0.09342193360610374
         },
         {
          "c_0": 5.438047626028491,
          "c_1": 9.438004834315452,
          "c_2": 2.152303419596633,
          "cluster": "c_2",
          "x": 4.674961511060727,
          "y": 0.10432608430042656
         },
         {
          "c_0": 10.43023971731395,
          "c_1": 1.9800664492868498,
          "c_2": 6.952996700609692,
          "cluster": "c_1",
          "x": 5.990554802159361,
          "y": -7.371251115671033
         },
         {
          "c_0": 10.851056503599345,
          "c_1": 1.3799476647346496,
          "c_2": 7.558907065534328,
          "cluster": "c_1",
          "x": 6.265364693269934,
          "y": -7.911306961643049
         },
         {
          "c_0": 0.9535230810000416,
          "c_1": 10.767163410841187,
          "c_2": 7.114984561080863,
          "cluster": "c_0",
          "x": 9.53875129839647,
          "y": 1.4637700923077275
         },
         {
          "c_0": 12.08072881795349,
          "c_1": 1.4891773544329028,
          "c_2": 10.124625372212288,
          "cluster": "c_1",
          "x": 8.453508858075862,
          "y": -9.610961398501017
         },
         {
          "c_0": 9.48977881261205,
          "c_1": 9.539526674452748,
          "c_2": 1.9607202430681059,
          "cluster": "c_2",
          "x": 1.0247075702232746,
          "y": -1.654400210110937
         },
         {
          "c_0": 7.651993702651094,
          "c_1": 9.009835650777248,
          "c_2": 0.12299076407120295,
          "cluster": "c_2",
          "x": 2.798826138486089,
          "y": -1.0961674281208702
         },
         {
          "c_0": 7.633478584167218,
          "c_1": 9.908407591530692,
          "c_2": 0.9880445700966948,
          "cluster": "c_2",
          "x": 2.4496533957547175,
          "y": -0.263876649322904
         },
         {
          "c_0": 1.0560672939352311,
          "c_1": 12.257239641757764,
          "c_2": 7.264715685878637,
          "cluster": "c_0",
          "x": 8.806730437184834,
          "y": 3.1155119423833124
         },
         {
          "c_0": 8.657864171641345,
          "c_1": 9.78484268899085,
          "c_2": 1.3282624050415346,
          "cluster": "c_2",
          "x": 1.60563624582479,
          "y": -0.9146054874976681
         },
         {
          "c_0": 6.997277049698485,
          "c_1": 9.079503706959043,
          "c_2": 0.5878871490393066,
          "cluster": "c_2",
          "x": 3.353889745518,
          "y": -0.7436010189958306
         },
         {
          "c_0": 8.889174244931475,
          "c_1": 8.213450253922089,
          "c_2": 1.5172627606006757,
          "cluster": "c_2",
          "x": 2.1580076846380534,
          "y": -2.4499129681920406
         },
         {
          "c_0": 6.521302173828317,
          "c_1": 8.942745053825321,
          "c_2": 1.0464514915413075,
          "cluster": "c_2",
          "x": 3.8580414977404085,
          "y": -0.6807315007837443
         },
         {
          "c_0": 0.9986598728360832,
          "c_1": 12.422616087142549,
          "c_2": 7.5343508692613534,
          "cluster": "c_0",
          "x": 9.044298891614968,
          "y": 3.246955413422378
         },
         {
          "c_0": 13.573090169626163,
          "c_1": 1.971443106400157,
          "c_2": 10.795752322733987,
          "cluster": "c_1",
          "x": 7.362783008104983,
          "y": -10.972384261844251
         },
         {
          "c_0": 6.007797016863752,
          "c_1": 8.93696496054403,
          "c_2": 1.5651912381800936,
          "cluster": "c_2",
          "x": 4.351318265907579,
          "y": -0.5122637529899967
         },
         {
          "c_0": 11.66535531456721,
          "c_1": 2.2943191400406904,
          "c_2": 10.36656051260798,
          "cluster": "c_1",
          "x": 9.369472337415111,
          "y": -9.247642749749424
         },
         {
          "c_0": 0.1509317015669425,
          "c_1": 11.570109524334791,
          "c_2": 7.431565725309083,
          "cluster": "c_0",
          "x": 9.508894083416926,
          "y": 2.2932637015727506
         },
         {
          "c_0": 11.146724920348825,
          "c_1": 0.8383184369902782,
          "c_2": 8.910910965642202,
          "cluster": "c_1",
          "x": 7.803367239976834,
          "y": -8.585912467943672
         },
         {
          "c_0": 7.633135966137343,
          "c_1": 8.106683120387563,
          "c_2": 0.8139946037484895,
          "cluster": "c_2",
          "x": 3.277109952097115,
          "y": -1.8644741098247284
         },
         {
          "c_0": 8.79089122347677,
          "c_1": 9.649214189759197,
          "c_2": 1.3672563893761551,
          "cluster": "c_2",
          "x": 1.5482895496682854,
          "y": -1.1187422487658287
         },
         {
          "c_0": 8.433844663909577,
          "c_1": 9.026252805840851,
          "c_2": 0.8692581390336054,
          "cluster": "c_2",
          "x": 2.1191623657092253,
          "y": -1.4838648969624775
         },
         {
          "c_0": 10.55887899430241,
          "c_1": 1.1590674169574204,
          "c_2": 7.976376518331135,
          "cluster": "c_1",
          "x": 7.194896928383701,
          "y": -7.866424582876226
         },
         {
          "c_0": 1.903315082953976,
          "c_1": 13.521671203747514,
          "c_2": 9.256216509542456,
          "cluster": "c_0",
          "x": 10.590085660925835,
          "y": 4.039456860007604
         },
         {
          "c_0": 7.954793627327101,
          "c_1": 9.870652688745535,
          "c_2": 1.0017543972752898,
          "cluster": "c_2",
          "x": 2.1790460502715097,
          "y": -0.45610056311624647
         },
         {
          "c_0": 13.513492532630519,
          "c_1": 1.8196717694071065,
          "c_2": 10.500939071426481,
          "cluster": "c_1",
          "x": 6.940340017587297,
          "y": -10.834203628034174
         },
         {
          "c_0": 6.933815561308488,
          "c_1": 8.765532984809486,
          "c_2": 0.6600884728694982,
          "cluster": "c_2",
          "x": 3.560528146383494,
          "y": -0.9952856782184543
         },
         {
          "c_0": 7.424791662063141,
          "c_1": 8.842588317397965,
          "c_2": 0.16299141796470915,
          "cluster": "c_2",
          "x": 3.078408479045014,
          "y": -1.1383314461945517
         },
         {
          "c_0": 8.484304060776596,
          "c_1": 10.89412217622472,
          "c_2": 2.0711617817047143,
          "cluster": "c_2",
          "x": 1.3900126306656566,
          "y": 0.2657493453323958
         },
         {
          "c_0": 6.398057461814803,
          "c_1": 8.963719642094171,
          "c_2": 1.1693999768138035,
          "cluster": "c_2",
          "x": 3.964243930567099,
          "y": -0.6180135543502945
         },
         {
          "c_0": 11.683388902211046,
          "c_1": 0.46197437379278944,
          "c_2": 9.199750222062377,
          "cluster": "c_1",
          "x": 7.54373014544233,
          "y": -9.085985050356284
         },
         {
          "c_0": 0.6570696753562457,
          "c_1": 11.077263906294183,
          "c_2": 7.3172069529614205,
          "cluster": "c_0",
          "x": 9.635702798220894,
          "y": 1.7595292880162596
         },
         {
          "c_0": 12.446544866539416,
          "c_1": 1.1025303688078907,
          "c_2": 10.008926995190631,
          "cluster": "c_1",
          "x": 7.758456513027645,
          "y": -9.894453491590584
         },
         {
          "c_0": 11.883099282330996,
          "c_1": 0.872060649995067,
          "c_2": 9.602408092698942,
          "cluster": "c_1",
          "x": 7.89577695806855,
          "y": -9.34514257764723
         },
         {
          "c_0": 1.8821948914193587,
          "c_1": 10.945403808490083,
          "c_2": 5.740680320641687,
          "cluster": "c_0",
          "x": 7.786486516912291,
          "y": 1.9025876991248742
         },
         {
          "c_0": 12.65023277014624,
          "c_1": 1.0445545069326376,
          "c_2": 9.3786045000613,
          "cluster": "c_1",
          "x": 6.427932649721693,
          "y": -9.831251231605329
         },
         {
          "c_0": 0.17316918360025785,
          "c_1": 11.770214987830425,
          "c_2": 7.48417723736749,
          "cluster": "c_0",
          "x": 9.452105103678706,
          "y": 2.509622692683785
         },
         {
          "c_0": 8.414013026601324,
          "c_1": 8.474564432385844,
          "c_2": 0.9641694580612441,
          "cluster": "c_2",
          "x": 2.4073661963418544,
          "y": -1.954674162240043
         },
         {
          "c_0": 13.195234743639602,
          "c_1": 1.7029646094801123,
          "c_2": 10.605262932043113,
          "cluster": "c_1",
          "x": 7.634176633767193,
          "y": -10.632878169330166
         },
         {
          "c_0": 0.7445011922714737,
          "c_1": 12.266362257973439,
          "c_2": 7.5739455628043615,
          "cluster": "c_0",
          "x": 9.222319019562855,
          "y": 3.0585690714684093
         },
         {
          "c_0": 1.6316306219732597,
          "c_1": 10.776485490448968,
          "c_2": 5.936719030829631,
          "cluster": "c_0",
          "x": 8.128345441230831,
          "y": 1.7055932755127845
         },
         {
          "c_0": 1.5624049127142112,
          "c_1": 12.877939825697426,
          "c_2": 7.628786523991184,
          "cluster": "c_0",
          "x": 8.778270993357765,
          "y": 3.7459177564436104
         },
         {
          "c_0": 0.6578635227898216,
          "c_1": 11.730704385526153,
          "c_2": 8.081652544230812,
          "cluster": "c_0",
          "x": 10.240837479684103,
          "y": 2.2782295248842255
         },
         {
          "c_0": 7.550442573563036,
          "c_1": 8.365871902995995,
          "c_2": 0.5558737401455411,
          "cluster": "c_2",
          "x": 3.2081977703022555,
          "y": -1.6077751481316036
         },
         {
          "c_0": 2.008267993131801,
          "c_1": 9.70008017326412,
          "c_2": 6.441802088982732,
          "cluster": "c_0",
          "x": 9.157631574744888,
          "y": 0.4559697024585483
         },
         {
          "c_0": 12.770275397647294,
          "c_1": 1.235408978007817,
          "c_2": 9.366243609061819,
          "cluster": "c_1",
          "x": 6.218619601261139,
          "y": -9.899686037869493
         },
         {
          "c_0": 10.484919046620561,
          "c_1": 1.224122890038549,
          "c_2": 8.054358468813296,
          "cluster": "c_1",
          "x": 7.387626841793464,
          "y": -7.83391546603102
         },
         {
          "c_0": 1.0823062300479622,
          "c_1": 12.382522349878133,
          "c_2": 7.396204845969337,
          "cluster": "c_0",
          "x": 8.885563634531522,
          "y": 3.2307161043773305
         },
         {
          "c_0": 12.464327320797755,
          "c_1": 0.7711829669890452,
          "c_2": 9.41464933143023,
          "cluster": "c_1",
          "x": 6.7710832264937,
          "y": -9.724165193751913
         },
         {
          "c_0": 5.772404410106925,
          "c_1": 9.837982752246385,
          "c_2": 1.985327697389182,
          "cluster": "c_2",
          "x": 4.194710182849511,
          "y": 0.38298901825113174
         },
         {
          "c_0": 0.9957153846945315,
          "c_1": 12.621938442334768,
          "c_2": 8.478049814844464,
          "cluster": "c_0",
          "x": 10.19341454095769,
          "y": 3.2131545051407118
         },
         {
          "c_0": 11.727789533449522,
          "c_1": 0.8426523273236188,
          "c_2": 9.478952417026095,
          "cluster": "c_1",
          "x": 7.911735937396738,
          "y": -9.19052288301965
         },
         {
          "c_0": 2.8601960496743506,
          "c_1": 13.771959095877664,
          "c_2": 10.426597738634605,
          "cluster": "c_0",
          "x": 12.095626718281206,
          "y": 3.8082668296256053
         },
         {
          "c_0": 0.72701333411939,
          "c_1": 11.590143669427357,
          "c_2": 8.03970140961342,
          "cluster": "c_0",
          "x": 10.26417077147162,
          "y": 2.1255986628660892
         },
         {
          "c_0": 12.665738764931609,
          "c_1": 1.2268760546060684,
          "c_2": 10.147234212182251,
          "cluster": "c_1",
          "x": 7.665478907293002,
          "y": -10.1020399000725
         },
         {
          "c_0": 2.023177308149531,
          "c_1": 9.949858445435707,
          "c_2": 5.750726588545575,
          "cluster": "c_0",
          "x": 8.311248009985068,
          "y": 0.8537782250901029
         },
         {
          "c_0": 11.38569116754818,
          "c_1": 1.078127166452306,
          "c_2": 8.00266704404541,
          "cluster": "c_1",
          "x": 6.175458477541515,
          "y": -8.443793750107993
         },
         {
          "c_0": 10.000801366184703,
          "c_1": 1.8469121471153285,
          "c_2": 8.18205827157853,
          "cluster": "c_1",
          "x": 8.092240210853337,
          "y": -7.471393893669992
         },
         {
          "c_0": 1.5479789693842776,
          "c_1": 12.855193444746334,
          "c_2": 7.608741328237866,
          "cluster": "c_0",
          "x": 8.770413097707907,
          "y": 3.724012912253034
         },
         {
          "c_0": 11.240787357095627,
          "c_1": 1.838538577864169,
          "c_2": 7.397450069273427,
          "cluster": "c_1",
          "x": 5.51908023699478,
          "y": -8.059351311190447
         },
         {
          "c_0": 6.597875684338551,
          "c_1": 7.987288698539727,
          "c_2": 1.449774229248837,
          "cluster": "c_2",
          "x": 4.3101115489396555,
          "y": -1.5311594263840003
         },
         {
          "c_0": 12.47992785687107,
          "c_1": 1.4167330604048396,
          "c_2": 10.266016696874075,
          "cluster": "c_1",
          "x": 8.130591722648056,
          "y": -9.977937889646324
         },
         {
          "c_0": 10.367284797342158,
          "c_1": 1.5910153164571392,
          "c_2": 7.357937603375895,
          "cluster": "c_1",
          "x": 6.594485719178524,
          "y": -7.507357222832605
         },
         {
          "c_0": 11.572182271669641,
          "c_1": 1.1816769566371037,
          "c_2": 8.054615749556255,
          "cluster": "c_1",
          "x": 5.989888818245406,
          "y": -8.580009621224944
         },
         {
          "c_0": 2.595286421773513,
          "c_1": 13.412539901827254,
          "c_2": 7.417061664788232,
          "cluster": "c_0",
          "x": 7.887906089075845,
          "y": 4.368166348331357
         },
         {
          "c_0": 1.0474082724448774,
          "c_1": 11.186192748170845,
          "c_2": 6.5318971615352135,
          "cluster": "c_0",
          "x": 8.61174286504456,
          "y": 2.0613060300501607
         },
         {
          "c_0": 2.2388947332603237,
          "c_1": 9.499511333633645,
          "c_2": 6.660364410059737,
          "cluster": "c_0",
          "x": 9.44428824434386,
          "y": 0.18183500145437748
         },
         {
          "c_0": 1.6918286172726746,
          "c_1": 12.27363279642321,
          "c_2": 6.768563866361222,
          "cluster": "c_0",
          "x": 8.104293220610504,
          "y": 3.210948178719395
         },
         {
          "c_0": 12.256989249165596,
          "c_1": 1.1388405117109313,
          "c_2": 8.717676631519002,
          "cluster": "c_1",
          "x": 5.981435828118322,
          "y": -9.295971980003932
         },
         {
          "c_0": 8.631433997666472,
          "c_1": 8.724001604011445,
          "c_2": 1.0918931219844306,
          "cluster": "c_2",
          "x": 2.1003083998712286,
          "y": -1.8617221093079421
         },
         {
          "c_0": 1.1377026709035294,
          "c_1": 11.660573250761365,
          "c_2": 6.66920455311169,
          "cluster": "c_0",
          "x": 8.468703866352568,
          "y": 2.5579487621759016
         },
         {
          "c_0": 1.1067390025849178,
          "c_1": 10.61915466839247,
          "c_2": 6.755168486068557,
          "cluster": "c_0",
          "x": 9.18079731072357,
          "y": 1.3901698101611513
         },
         {
          "c_0": 0.4971166203308571,
          "c_1": 12.127380614320066,
          "c_2": 8.044851672464723,
          "cluster": "c_0",
          "x": 9.9524862775329,
          "y": 2.7634433515287795
         },
         {
          "c_0": 7.75660413563383,
          "c_1": 10.13720590136514,
          "c_2": 1.2201678479621805,
          "cluster": "c_2",
          "x": 2.2617613167343062,
          "y": -0.10494321851310917
         },
         {
          "c_0": 7.335562895340973,
          "c_1": 8.541109167722285,
          "c_2": 0.4527858455012406,
          "cluster": "c_2",
          "x": 3.308298424479892,
          "y": -1.3603644134169293
         },
         {
          "c_0": 7.383764829349368,
          "c_1": 8.74823905231486,
          "c_2": 0.25436478373613214,
          "cluster": "c_2",
          "x": 3.160778871428765,
          "y": -1.2024191725668976
         },
         {
          "c_0": 13.574448825786162,
          "c_1": 1.960563596459503,
          "c_2": 10.773760683774523,
          "cluster": "c_1",
          "x": 7.32157079128833,
          "y": -10.966818157650778
         },
         {
          "c_0": 7.568832725980652,
          "c_1": 9.522075508177952,
          "c_2": 0.6020408729173463,
          "cluster": "c_2",
          "x": 2.652502220350179,
          "y": -0.5936527334629889
         },
         {
          "c_0": 11.896689800402296,
          "c_1": 1.048712610898767,
          "c_2": 8.404739232542727,
          "cluster": "c_1",
          "x": 6.04102876034977,
          "y": -8.93718401298916
         },
         {
          "c_0": 1.7603452305615392,
          "c_1": 9.97635091256168,
          "c_2": 6.323516171951976,
          "cluster": "c_0",
          "x": 8.941315004673461,
          "y": 0.7819913828033587
         },
         {
          "c_0": 0.5765893735287667,
          "c_1": 12.166455845234285,
          "c_2": 8.132844262150904,
          "cluster": "c_0",
          "x": 10.043122686243615,
          "y": 2.781315929053096
         },
         {
          "c_0": 6.495615122415217,
          "c_1": 8.101085584023583,
          "c_2": 1.4486862074045257,
          "cluster": "c_2",
          "x": 4.339897870860586,
          "y": -1.3991117020038213
         },
         {
          "c_0": 12.148026378326305,
          "c_1": 0.7463740068739638,
          "c_2": 9.642916225720409,
          "cluster": "c_1",
          "x": 7.5953025554715765,
          "y": -9.56641607378144
         },
         {
          "c_0": 0.7523928201374345,
          "c_1": 11.020441316913095,
          "c_2": 6.901573949471254,
          "cluster": "c_0",
          "x": 9.160251717630127,
          "y": 1.8031519827565368
         },
         {
          "c_0": 7.92221764483785,
          "c_1": 10.87858389580801,
          "c_2": 1.960901155425297,
          "cluster": "c_2",
          "x": 1.8998976518940673,
          "y": 0.5421997056172665
         },
         {
          "c_0": 8.400081358266002,
          "c_1": 10.415096497004486,
          "c_2": 1.631455113511784,
          "cluster": "c_2",
          "x": 1.6036409103782105,
          "y": -0.1652823691113734
         },
         {
          "c_0": 10.130336941587686,
          "c_1": 2.0087756354656934,
          "c_2": 6.922199555809218,
          "cluster": "c_1",
          "x": 6.311508602220996,
          "y": -7.1671196943049456
         },
         {
          "c_0": 10.638847231367144,
          "c_1": 1.288353159574591,
          "c_2": 7.6472920785073955,
          "cluster": "c_1",
          "x": 6.652014968909176,
          "y": -7.807502893821182
         },
         {
          "c_0": 7.506750682214941,
          "c_1": 9.495031404822388,
          "c_2": 0.5799954463331276,
          "cluster": "c_2",
          "x": 2.718488973461807,
          "y": -0.5897074945309543
         },
         {
          "c_0": 0.5186312680996049,
          "c_1": 11.680151406834728,
          "c_2": 7.1536724472691215,
          "cluster": "c_0",
          "x": 9.083870655832985,
          "y": 2.4876861186805916
         },
         {
          "c_0": 8.9306857822272,
          "c_1": 9.977725556951638,
          "c_2": 1.6324438891356405,
          "cluster": "c_2",
          "x": 1.3013857757728586,
          "y": -0.8909396079868098
         },
         {
          "c_0": 9.549690243870513,
          "c_1": 8.339575839571841,
          "c_2": 2.1093824869858757,
          "cluster": "c_2",
          "x": 1.573624289789848,
          "y": -2.762814310118575
         },
         {
          "c_0": 6.643867949389812,
          "c_1": 9.207487480360959,
          "c_2": 0.9574486608437507,
          "cluster": "c_2",
          "x": 3.6222976801954774,
          "y": -0.48942803505844346
         },
         {
          "c_0": 1.0706612102662523,
          "c_1": 10.650498047549215,
          "c_2": 6.7974148111765365,
          "cluster": "c_0",
          "x": 9.216352593939122,
          "y": 1.4149452616569058
         },
         {
          "c_0": 0.8333659909912597,
          "c_1": 10.934496378600247,
          "c_2": 7.33297434934052,
          "cluster": "c_0",
          "x": 9.722579322016236,
          "y": 1.5915659878623394
         },
         {
          "c_0": 12.141088136790989,
          "c_1": 0.9810739628123543,
          "c_2": 8.697469349397169,
          "cluster": "c_1",
          "x": 6.1255903967970085,
          "y": -9.218611873471827
         },
         {
          "c_0": 6.683799899210137,
          "c_1": 9.52725081416425,
          "c_2": 1.0667570345985196,
          "cluster": "c_2",
          "x": 3.4523879144931895,
          "y": -0.2134645962156263
         },
         {
          "c_0": 8.20808017225054,
          "c_1": 8.036260247841557,
          "c_2": 1.0807265377281559,
          "cluster": "c_2",
          "x": 2.8178378727920954,
          "y": -2.2115466598706535
         },
         {
          "c_0": 11.922391438938707,
          "c_1": 1.197097696068584,
          "c_2": 8.332304612005935,
          "cluster": "c_1",
          "x": 5.89380619234881,
          "y": -8.917053870115367
         },
         {
          "c_0": 11.95896416216837,
          "c_1": 0.8024639160390287,
          "c_2": 9.600518644691565,
          "cluster": "c_1",
          "x": 7.790118564675714,
          "y": -9.40612150001545
         },
         {
          "c_0": 12.149224636530663,
          "c_1": 0.6560764368555287,
          "c_2": 8.953420933568243,
          "cluster": "c_1",
          "x": 6.510749968937679,
          "y": -9.335086964396591
         },
         {
          "c_0": 2.992235237453274,
          "c_1": 8.868786704733683,
          "c_2": 5.342657039643093,
          "cluster": "c_0",
          "x": 8.178982272727657,
          "y": -0.21917220979430452
         },
         {
          "c_0": 9.631754153816171,
          "c_1": 2.0785827293633306,
          "c_2": 7.393287477333721,
          "cluster": "c_1",
          "x": 7.450801634008632,
          "y": -6.97400855971598
         },
         {
          "c_0": 0.5785796126638496,
          "c_1": 11.525877149155008,
          "c_2": 7.02834006984098,
          "cluster": "c_0",
          "x": 9.023620353691621,
          "y": 2.3415108099900364
         },
         {
          "c_0": 1.6739921108847615,
          "c_1": 13.359284593394047,
          "c_2": 8.532431335220824,
          "cluster": "c_0",
          "x": 9.662135450565465,
          "y": 4.088226556961257
         },
         {
          "c_0": 0.600506906068536,
          "c_1": 12.298859995400738,
          "c_2": 7.881207981540308,
          "cluster": "c_0",
          "x": 9.614912742376006,
          "y": 3.0157376113480314
         },
         {
          "c_0": 8.369631296125668,
          "c_1": 8.80335641418382,
          "c_2": 0.8157196675139466,
          "cluster": "c_2",
          "x": 2.2790737156465677,
          "y": -1.6455588260614444
         },
         {
          "c_0": 12.214769697832379,
          "c_1": 0.527140370772123,
          "c_2": 9.22014936196561,
          "cluster": "c_1",
          "x": 6.832118737142073,
          "y": -9.482142586593403
         },
         {
          "c_0": 7.26794939760895,
          "c_1": 8.113981969014032,
          "c_2": 0.8843530465945205,
          "cluster": "c_2",
          "x": 3.6019653406165886,
          "y": -1.6927064084821364
         },
         {
          "c_0": 8.739196701182001,
          "c_1": 9.93685478741561,
          "c_2": 1.4719465931708806,
          "cluster": "c_2",
          "x": 1.4782209163464268,
          "y": -0.817416996984387
         },
         {
          "c_0": 0.6980760359110444,
          "c_1": 12.236825171019369,
          "c_2": 7.580420496964637,
          "cluster": "c_0",
          "x": 9.253579292756303,
          "y": 3.022989372537978
         },
         {
          "c_0": 1.897639473219039,
          "c_1": 13.534731786533115,
          "c_2": 9.221350273212012,
          "cluster": "c_0",
          "x": 10.527476230748617,
          "y": 4.069597576535264
         },
         {
          "c_0": 12.405546436352381,
          "c_1": 1.6903698728011536,
          "c_2": 8.503261232620247,
          "cluster": "c_1",
          "x": 5.4135997881350875,
          "y": -9.263255327376733
         },
         {
          "c_0": 11.237354511445963,
          "c_1": 1.6674791379603202,
          "c_2": 9.616578602085662,
          "cluster": "c_1",
          "x": 8.7377696378861,
          "y": -8.788937871835321
         },
         {
          "c_0": 11.595984249301187,
          "c_1": 0.5825560770543877,
          "c_2": 9.20598639825307,
          "cluster": "c_1",
          "x": 7.6689884879889405,
          "y": -9.019019342763745
         },
         {
          "c_0": 1.3400888777224595,
          "c_1": 11.398633963262274,
          "c_2": 8.37344954092148,
          "cluster": "c_0",
          "x": 10.769985363636707,
          "y": 1.7666374452026807
         },
         {
          "c_0": 7.5211719542373245,
          "c_1": 9.112299857914469,
          "c_2": 0.1976536734965881,
          "cluster": "c_2",
          "x": 2.8679566857916656,
          "y": -0.9433732820812278
         },
         {
          "c_0": 9.651154033072268,
          "c_1": 9.081452789027257,
          "c_2": 2.0854542430737557,
          "cluster": "c_2",
          "x": 1.1113925273268717,
          "y": -2.181424819244159
         },
         {
          "c_0": 9.050135882128844,
          "c_1": 9.799330649675715,
          "c_2": 1.6436176493061088,
          "cluster": "c_2",
          "x": 1.271830882283903,
          "y": -1.1326134544656408
         },
         {
          "c_0": 6.89242047872255,
          "c_1": 9.021250287630439,
          "c_2": 0.6788865336646742,
          "cluster": "c_2",
          "x": 3.476458192805591,
          "y": -0.7529377551930778
         },
         {
          "c_0": 12.261052038544749,
          "c_1": 1.101421152016014,
          "c_2": 8.749374782266527,
          "cluster": "c_1",
          "x": 6.024725114391347,
          "y": -9.313497554457825
         },
         {
          "c_0": 7.093540824473456,
          "c_1": 7.667171316789488,
          "c_2": 1.4065341968490475,
          "cluster": "c_2",
          "x": 4.035066601200981,
          "y": -1.98658251679815
         },
         {
          "c_0": 8.770231861399783,
          "c_1": 9.285871174349422,
          "c_2": 1.2331978665784655,
          "cluster": "c_2",
          "x": 1.7209058522631384,
          "y": -1.441586125748839
         },
         {
          "c_0": 12.026939194635439,
          "c_1": 0.4870674801120569,
          "c_2": 9.400726798129723,
          "cluster": "c_1",
          "x": 7.383991148863304,
          "y": -9.406015258933895
         },
         {
          "c_0": 7.73214015992459,
          "c_1": 7.358679772514687,
          "c_2": 1.561695232741366,
          "cluster": "c_2",
          "x": 3.6429963556237057,
          "y": -2.5171064592042676
         },
         {
          "c_0": 1.6815462721095122,
          "c_1": 13.203712412552388,
          "c_2": 8.067432129831932,
          "cluster": "c_0",
          "x": 9.115463066748692,
          "y": 4.0264734383877245
         },
         {
          "c_0": 12.397937567039028,
          "c_1": 1.068888501308489,
          "c_2": 8.946083242312449,
          "cluster": "c_1",
          "x": 6.124291515823368,
          "y": -9.486028528891996
         },
         {
          "c_0": 0.6145314623871169,
          "c_1": 12.139268293331018,
          "c_2": 7.52567532110115,
          "cluster": "c_0",
          "x": 9.252476981947112,
          "y": 2.924052675403543
         },
         {
          "c_0": 11.041267372679103,
          "c_1": 0.6911157607594846,
          "c_2": 8.302176997463588,
          "cluster": "c_1",
          "x": 7.058334139744647,
          "y": -8.32986171780171
         },
         {
          "c_0": 9.54309717195413,
          "c_1": 2.2509455633219035,
          "c_2": 6.967041981632032,
          "cluster": "c_1",
          "x": 7.011945827064147,
          "y": -6.770693243725228
         },
         {
          "c_0": 12.549849937644755,
          "c_1": 0.9849746293574773,
          "c_2": 9.897302488489107,
          "cluster": "c_1",
          "x": 7.425850501606944,
          "y": -9.945052677600938
         },
         {
          "c_0": 6.675805992519284,
          "c_1": 7.919224127868993,
          "c_2": 1.4437850601046678,
          "cluster": "c_2",
          "x": 4.276699691849821,
          "y": -1.61638656878842
         },
         {
          "c_0": 1.1143537694369925,
          "c_1": 12.318752288037823,
          "c_2": 7.287024990476746,
          "cluster": "c_0",
          "x": 8.787080209150151,
          "y": 3.180391552006896
         },
         {
          "c_0": 10.708781263846223,
          "c_1": 1.0461548619312449,
          "c_2": 7.9749069994070405,
          "cluster": "c_1",
          "x": 7.013246021509598,
          "y": -7.976814350497841
         },
         {
          "c_0": 0.9360919205747058,
          "c_1": 11.474263434392107,
          "c_2": 8.11371374278486,
          "cluster": "c_0",
          "x": 10.415435917116989,
          "y": 1.9603256817990788
         },
         {
          "c_0": 6.383360344079444,
          "c_1": 8.120476563825697,
          "c_2": 1.5372326372333043,
          "cluster": "c_2",
          "x": 4.438466167175794,
          "y": -1.3437917828449766
         },
         {
          "c_0": 11.374436191671467,
          "c_1": 0.6021704262088257,
          "c_2": 8.996538591431936,
          "cluster": "c_1",
          "x": 7.6426652813319444,
          "y": -8.789719941680783
         },
         {
          "c_0": 0.5255345880659542,
          "c_1": 11.21137807805069,
          "c_2": 7.387733515099478,
          "cluster": "c_0",
          "x": 9.654019479864784,
          "y": 1.89300335673759
         },
         {
          "c_0": 1.1526196007978358,
          "c_1": 12.462477985551192,
          "c_2": 8.719051471151323,
          "cluster": "c_0",
          "x": 10.630024254630046,
          "y": 2.927661892635763
         },
         {
          "c_0": 1.1792977356696344,
          "c_1": 12.717044939742907,
          "c_2": 8.7016045656256,
          "cluster": "c_0",
          "x": 10.432050152882123,
          "y": 3.2486642687624268
         },
         {
          "c_0": 9.973347376849297,
          "c_1": 8.15701559727764,
          "c_2": 2.591685021180623,
          "cluster": "c_2",
          "x": 1.3617954112751927,
          "y": -3.2096043409870414
         },
         {
          "c_0": 9.810759818425092,
          "c_1": 1.9960437521811094,
          "c_2": 8.002072068797323,
          "cluster": "c_1",
          "x": 8.050321215459274,
          "y": -7.2725180584265985
         },
         {
          "c_0": 1.5079558266599815,
          "c_1": 10.590346878392522,
          "c_2": 7.6960237827851445,
          "cluster": "c_0",
          "x": 10.287375804367706,
          "y": 1.0746135246416386
         },
         {
          "c_0": 10.973711055286293,
          "c_1": 0.8156524076903102,
          "c_2": 8.136827614498468,
          "cluster": "c_1",
          "x": 6.9100065032984155,
          "y": -8.224062992250005
         },
         {
          "c_0": 7.482532677912931,
          "c_1": 8.96216544064157,
          "c_2": 0.09393967762832184,
          "cluster": "c_2",
          "x": 2.970630246615425,
          "y": -1.0592145982601764
         },
         {
          "c_0": 0.5953803277202665,
          "c_1": 11.91374393896022,
          "c_2": 7.279869902411502,
          "cluster": "c_0",
          "x": 9.088216882512624,
          "y": 2.7239611800607113
         },
         {
          "c_0": 0.757152582590398,
          "c_1": 11.353897634165033,
          "c_2": 7.858889980665082,
          "cluster": "c_0",
          "x": 10.160610371933668,
          "y": 1.9093895954776934
         },
         {
          "c_0": 1.6591096757024948,
          "c_1": 13.347780463777083,
          "c_2": 8.898706491528648,
          "cluster": "c_0",
          "x": 10.213964695943538,
          "y": 3.9557951293026763
         },
         {
          "c_0": 12.813266729909515,
          "c_1": 1.1245591413757785,
          "c_2": 9.91854724821423,
          "cluster": "c_1",
          "x": 7.063528291483956,
          "y": -10.144731825242818
         },
         {
          "c_0": 11.045748301346048,
          "c_1": 1.5675372570711144,
          "c_2": 9.36562404976027,
          "cluster": "c_1",
          "x": 8.592119191782176,
          "y": -8.584418213042088
         },
         {
          "c_0": 8.656642387217378,
          "c_1": 7.320074943305237,
          "c_2": 1.9003488533300295,
          "cluster": "c_2",
          "x": 2.872226924994261,
          "y": -3.035094351354702
         },
         {
          "c_0": 11.684969415037475,
          "c_1": 0.06293974909850454,
          "c_2": 8.864753195765706,
          "cluster": "c_1",
          "x": 7.034443564850889,
          "y": -8.984932049706774
         },
         {
          "c_0": 7.450074377191454,
          "c_1": 7.46583594626925,
          "c_2": 1.4828735157396156,
          "cluster": "c_2",
          "x": 3.831018296193718,
          "y": -2.3017026478794747
         },
         {
          "c_0": 2.5862988305586003,
          "c_1": 9.292833774379632,
          "c_2": 7.028233186668846,
          "cluster": "c_0",
          "x": 9.875108478943737,
          "y": -0.15586682630229198
         },
         {
          "c_0": 7.192496521892581,
          "c_1": 7.258895849218764,
          "c_2": 1.780853408699558,
          "cluster": "c_2",
          "x": 4.213847173176068,
          "y": -2.354086649745567
         }
        ]
       },
       "layer": [
        {
         "data": {
          "name": "data-3de2b427936c1ee07ca156a3277e432f"
         },
         "encoding": {
          "color": {
           "field": "cluster",
           "scale": {
            "scheme": "category10"
           },
           "type": "nominal"
          },
          "tooltip": [
           {
            "field": "x",
            "type": "quantitative"
           },
           {
            "field": "y",
            "type": "quantitative"
           },
           {
            "field": "cluster",
            "type": "nominal"
           }
          ],
          "x": {
           "field": "x",
           "type": "quantitative"
          },
          "y": {
           "field": "y",
           "type": "quantitative"
          }
         },
         "mark": {
          "opacity": 0.5,
          "size": 60,
          "type": "circle"
         },
         "selection": {
          "selector015": {
           "bind": "scales",
           "encodings": [
            "x",
            "y"
           ],
           "type": "interval"
          }
         }
        },
        {
         "data": {
          "name": "data-3068ba4355f50902a4ded5d76b469bd9"
         },
         "encoding": {
          "x": {
           "field": "x",
           "type": "quantitative"
          },
          "y": {
           "field": "y",
           "type": "quantitative"
          }
         },
         "mark": {
          "color": "black",
          "opacity": 1,
          "size": 100,
          "type": "point"
         },
         "selection": {
          "selector016": {
           "bind": "scales",
           "encodings": [
            "x",
            "y"
           ],
           "type": "interval"
          }
         }
        }
       ]
      },
      "image/png": "[encoded data removed]",
      "text/plain": [
       "<VegaLite 3 object>\n",
       "\n",
       "If you see this message, it means the renderer has not been properly enabled\n",
       "for the frontend that you are using. For more information, see\n",
       "https://altair-viz.github.io/user_guide/troubleshooting.html\n"
      ]
     },
     "execution_count": 35,
     "metadata": {},
     "output_type": "execute_result"
    }
   ],
   "source": [
    "iterate()\n",
    "plot_result()"
   ]
  },
  {
   "cell_type": "markdown",
   "metadata": {},
   "source": [
    "Congratulations, you are now able to K-means clustering.\n",
    "\n",
    "Tip: You can play around with different datasets and k to see how the algorithm behaves."
   ]
  },
  {
   "cell_type": "markdown",
   "metadata": {},
   "source": [
    "## Epilogue\n",
    "\n",
    "There are several challenges with K-means in practice. Just to name a few: you need to provide k, the method does not guarantee a global optimum, and the algorithm relies on proper initialization.\n",
    "\n",
    "Still, due to it's simplicity and speed, the algorithm is still very useful in multiple scenarios.\n",
    "\n",
    "For more information on drawbacks and merrits of different clustering approaches, see https://scikit-learn.org/stable/modules/clustering.html.\n",
    "\n",
    "Scikit-learn also have handy more methods for generating different types of random data, and most importantly, proper implementations of not only multiple clustering algorithms but ML algorithms in general."
   ]
  },
  {
   "cell_type": "code",
   "execution_count": null,
   "metadata": {},
   "outputs": [],
   "source": []
  }
 ],
 "metadata": {
  "kernelspec": {
   "display_name": "Python 3",
   "language": "python",
   "name": "python3"
  },
  "language_info": {
   "codemirror_mode": {
    "name": "ipython",
    "version": 3
   },
   "file_extension": ".py",
   "mimetype": "text/x-python",
   "name": "python",
   "nbconvert_exporter": "python",
   "pygments_lexer": "ipython3",
   "version": "3.7.4"
  }
 },
 "nbformat": 4,
 "nbformat_minor": 4
}
