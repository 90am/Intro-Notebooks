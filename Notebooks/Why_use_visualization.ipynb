{
 "cells": [
  {
   "cell_type": "markdown",
   "metadata": {},
   "source": [
    "## Preface\n",
    "\n",
    "If this is your first encounter with clustering, data visualization, or Jupyter notebooks, I recommend going through my notebook named _An Introduction to K-means_ before proceeding. "
   ]
  },
  {
   "cell_type": "code",
   "execution_count": 6,
   "metadata": {},
   "outputs": [],
   "source": [
    "import pandas as pd\n",
    "import altair as alt\n",
    "from vega_datasets import data\n",
    "import numpy as np\n",
    "import math"
   ]
  },
  {
   "cell_type": "markdown",
   "metadata": {},
   "source": [
    "In Jupyter Notebook, you need to run the following command in order to enable rendering of the visualizations."
   ]
  },
  {
   "cell_type": "code",
   "execution_count": 25,
   "metadata": {},
   "outputs": [
    {
     "data": {
      "text/plain": [
       "RendererRegistry.enable('notebook')"
      ]
     },
     "execution_count": 25,
     "metadata": {},
     "output_type": "execute_result"
    }
   ],
   "source": [
    "alt.renderers.enable('notebook')"
   ]
  },
  {
   "cell_type": "markdown",
   "metadata": {},
   "source": [
    "If you are using JupyterLab, you should use '*jupyterlab*' instead of '_notebook_' as input to the command."
   ]
  },
  {
   "cell_type": "markdown",
   "metadata": {},
   "source": [
    "# Data Visualization?!\n",
    "\n",
    "Hardcore ML (or ignorant) practitioners may claim that automization and AI will eventually solve everything.\n",
    "\n",
    "Whether this is true or not, I won't entertain in this notebook. \n",
    "\n",
    "However, it remains a current need for humans to be involved in advanced computations on data in order to understand, steer, and correct. \n",
    "\n",
    "Enter data visualization.\n",
    "\n",
    "In the following, you will see a few examples of why visualization is both powerful and potentially deceiving. "
   ]
  },
  {
   "cell_type": "markdown",
   "metadata": {},
   "source": [
    "## Understand and adjust computations\n",
    "\n",
    "In the preceding notebook, visualizations were a key component in understanding how the K-means algorithm worked.\n",
    "\n",
    "In the first example, we will see how visualization may actually lead to insights that can improve our model.\n",
    "\n",
    "Let's load some data!"
   ]
  },
  {
   "cell_type": "code",
   "execution_count": 7,
   "metadata": {},
   "outputs": [
    {
     "data": {
      "text/html": [
       "<div>\n",
       "<style scoped>\n",
       "    .dataframe tbody tr th:only-of-type {\n",
       "        vertical-align: middle;\n",
       "    }\n",
       "\n",
       "    .dataframe tbody tr th {\n",
       "        vertical-align: top;\n",
       "    }\n",
       "\n",
       "    .dataframe thead th {\n",
       "        text-align: right;\n",
       "    }\n",
       "</style>\n",
       "<table border=\"1\" class=\"dataframe\">\n",
       "  <thead>\n",
       "    <tr style=\"text-align: right;\">\n",
       "      <th></th>\n",
       "      <th>petalLength</th>\n",
       "      <th>petalWidth</th>\n",
       "      <th>sepalLength</th>\n",
       "      <th>sepalWidth</th>\n",
       "      <th>species</th>\n",
       "    </tr>\n",
       "  </thead>\n",
       "  <tbody>\n",
       "    <tr>\n",
       "      <th>0</th>\n",
       "      <td>1.4</td>\n",
       "      <td>0.2</td>\n",
       "      <td>5.1</td>\n",
       "      <td>3.5</td>\n",
       "      <td>setosa</td>\n",
       "    </tr>\n",
       "    <tr>\n",
       "      <th>1</th>\n",
       "      <td>1.4</td>\n",
       "      <td>0.2</td>\n",
       "      <td>4.9</td>\n",
       "      <td>3.0</td>\n",
       "      <td>setosa</td>\n",
       "    </tr>\n",
       "    <tr>\n",
       "      <th>2</th>\n",
       "      <td>1.3</td>\n",
       "      <td>0.2</td>\n",
       "      <td>4.7</td>\n",
       "      <td>3.2</td>\n",
       "      <td>setosa</td>\n",
       "    </tr>\n",
       "    <tr>\n",
       "      <th>3</th>\n",
       "      <td>1.5</td>\n",
       "      <td>0.2</td>\n",
       "      <td>4.6</td>\n",
       "      <td>3.1</td>\n",
       "      <td>setosa</td>\n",
       "    </tr>\n",
       "    <tr>\n",
       "      <th>4</th>\n",
       "      <td>1.4</td>\n",
       "      <td>0.2</td>\n",
       "      <td>5.0</td>\n",
       "      <td>3.6</td>\n",
       "      <td>setosa</td>\n",
       "    </tr>\n",
       "  </tbody>\n",
       "</table>\n",
       "</div>"
      ],
      "text/plain": [
       "   petalLength  petalWidth  sepalLength  sepalWidth species\n",
       "0          1.4         0.2          5.1         3.5  setosa\n",
       "1          1.4         0.2          4.9         3.0  setosa\n",
       "2          1.3         0.2          4.7         3.2  setosa\n",
       "3          1.5         0.2          4.6         3.1  setosa\n",
       "4          1.4         0.2          5.0         3.6  setosa"
      ]
     },
     "execution_count": 7,
     "metadata": {},
     "output_type": "execute_result"
    }
   ],
   "source": [
    "iris = data.iris()\n",
    "iris.head()"
   ]
  },
  {
   "cell_type": "markdown",
   "metadata": {},
   "source": [
    "The iris dataset is a classic! It is used in many academic contexts for showcasing algorithms and visualizations.\n",
    "\n",
    "It contains 4 features that describe the width and length of the two different leaf types on an iris flower (see image). \n",
    "\n",
    "It also contains a class label describing the type of iris flower. But for now, let's ignore the class label. "
   ]
  },
  {
   "cell_type": "markdown",
   "metadata": {},
   "source": [
    "![](../Images/iris_petal_sepal.png)"
   ]
  },
  {
   "cell_type": "markdown",
   "metadata": {},
   "source": [
    "I have combined the code from the preceeding notebook in a single class that implements the basic version of the K-means algorithm."
   ]
  },
  {
   "cell_type": "code",
   "execution_count": 8,
   "metadata": {},
   "outputs": [],
   "source": [
    "class kmeans:\n",
    "    \n",
    "    def __init__(self, k, data):\n",
    "        self.k = k\n",
    "        self.data = data.copy()\n",
    "        self.features = data.columns\n",
    "        self.centroids = self.__random_centroids()\n",
    "        self.centroid_labels = []\n",
    "        for i in range(k):\n",
    "            label = 'c_%d' %i\n",
    "            self.centroid_labels.append(label)\n",
    "        \n",
    "    def __euclidean_distance(self, point, centroid):\n",
    "        return np.sqrt(np.sum((point - centroid)**2))\n",
    "    \n",
    "    def __random_centroids(self):   \n",
    "        return pd.DataFrame([np.random.random_sample((self.data.shape[1],)) * (self.data.max() - self.data.min()) + self.data.min() for i in range(self.k)], columns=self.features)\n",
    "    \n",
    "    def calc_distances(self):\n",
    "        for i in range(self.k):\n",
    "            self.data[self.centroid_labels[i]] = self.data[self.features].apply(self.__euclidean_distance, centroid=self.centroids.iloc[i], axis=1)\n",
    "    \n",
    "    def assign(self):\n",
    "        self.data['cluster'] = self.data[self.centroid_labels].idxmin(axis=1)\n",
    "        \n",
    "    def update_centroids(self):\n",
    "        for i in range(self.k):\n",
    "            temp = self.data.loc[self.data['cluster']==self.centroid_labels[i], self.features].mean()\n",
    "            if not temp.isnull().values.any():\n",
    "                self.centroids.iloc[i] = temp\n",
    "            \n",
    "    def plot(self, f1, f2):\n",
    "        if 'cluster' in self.data.columns:\n",
    "            data_marks = alt.Chart(self.data).mark_circle(size=60, opacity=0.5).encode(\n",
    "                x=f1,\n",
    "                y=f2,                \n",
    "                color=alt.Color('cluster', scale=alt.Scale(scheme='category10'))\n",
    "            ).interactive()\n",
    "        else:\n",
    "            data_marks = alt.Chart(self.data).mark_circle(size=60, opacity=0.5).encode(\n",
    "                x=f1,\n",
    "                y=f2\n",
    "            ).interactive()\n",
    "            \n",
    "        centroid_marks = alt.Chart(self.centroids).mark_point(size=100, opacity=1, color='black').encode(\n",
    "            x=f1,\n",
    "            y=f2        \n",
    "        ).interactive()\n",
    "\n",
    "        return data_marks + centroid_marks\n",
    "\n",
    "    def fit(self):\n",
    "        change = True\n",
    "        old_centroids = None\n",
    "        while change:\n",
    "            old_centroids = self.centroids.copy()\n",
    "            self.calc_distances()\n",
    "            self.assign()\n",
    "            self.update_centroids()    \n",
    "            change = not (old_centroids == self.centroids).values.all()\n",
    "            \n",
    "    def result(self):\n",
    "        return self.data['cluster']"
   ]
  },
  {
   "cell_type": "markdown",
   "metadata": {},
   "source": [
    "This implementation works for data with multiple dimensions, more than just 2.\n",
    "\n",
    "It also has a method called _fit_, that computes all the required iterations of the algorithm.\n",
    "\n",
    "Let's create an instance of the algorithm with the 4 features of our iris dataset and fit the model. "
   ]
  },
  {
   "cell_type": "code",
   "execution_count": 11,
   "metadata": {},
   "outputs": [],
   "source": [
    "test1 = kmeans(3, iris[['petalLength', 'petalWidth', 'sepalLength', 'sepalWidth']])\n",
    "test1.fit()"
   ]
  },
  {
   "cell_type": "markdown",
   "metadata": {},
   "source": [
    "Plotting different combinations of the features reveals that the resulting clusters do not seperate the data perfectly on all features. \n",
    "\n",
    "Try different combinations yourself."
   ]
  },
  {
   "cell_type": "code",
   "execution_count": 12,
   "metadata": {},
   "outputs": [
    {
     "data": {
      "application/vnd.vegalite.v3+json": {
       "$schema": "https://vega.github.io/schema/vega-lite/v3.4.0.json",
       "config": {
        "mark": {
         "tooltip": null
        },
        "view": {
         "height": 300,
         "width": 400
        }
       },
       "datasets": {
        "data-35579f99bba2cdf81176d515bf689112": [
         {
          "petalLength": 1.4620000000000002,
          "petalWidth": 0.2459999999999999,
          "sepalLength": 5.005999999999999,
          "sepalWidth": 3.428000000000001
         },
         {
          "petalLength": 4.388524590163935,
          "petalWidth": 1.4344262295081966,
          "sepalLength": 5.88360655737705,
          "sepalWidth": 2.740983606557377
         },
         {
          "petalLength": 5.715384615384615,
          "petalWidth": 2.053846153846153,
          "sepalLength": 6.853846153846153,
          "sepalWidth": 3.0769230769230766
         }
        ],
        "data-620240cc6feddf1f5bcc75ea8b87dd84": [
         {
          "c_0": 0.14135062787267683,
          "c_1": 3.412511166925509,
          "c_2": 5.031327891822354,
          "cluster": "c_0",
          "petalLength": 1.4,
          "petalWidth": 0.2,
          "sepalLength": 5.1,
          "sepalWidth": 3.5
         },
         {
          "c_0": 0.447638246802036,
          "c_1": 3.3896399062289038,
          "c_2": 5.087506451444667,
          "cluster": "c_0",
          "petalLength": 1.4,
          "petalWidth": 0.2,
          "sepalLength": 4.9,
          "sepalWidth": 3
         },
         {
          "c_0": 0.41710909843828603,
          "c_1": 3.5601141543860853,
          "c_2": 5.252291694806874,
          "cluster": "c_0",
          "petalLength": 1.3,
          "petalWidth": 0.2,
          "sepalLength": 4.7,
          "sepalWidth": 3.2
         },
         {
          "c_0": 0.5253379864430139,
          "c_1": 3.412319004574669,
          "c_2": 5.127042816998632,
          "cluster": "c_0",
          "petalLength": 1.5,
          "petalWidth": 0.2,
          "sepalLength": 4.6,
          "sepalWidth": 3.1
         },
         {
          "c_0": 0.18862661530123412,
          "c_1": 3.460311699046089,
          "c_2": 5.076381089951205,
          "cluster": "c_0",
          "petalLength": 1.4,
          "petalWidth": 0.2,
          "sepalLength": 5,
          "sepalWidth": 3.6
         },
         {
          "c_0": 0.6770376651265423,
          "c_1": 3.1425143434545406,
          "c_2": 4.652917898524987,
          "cluster": "c_0",
          "petalLength": 1.7000000000000002,
          "petalWidth": 0.4,
          "sepalLength": 5.4,
          "sepalWidth": 3.9
         },
         {
          "c_0": 0.4151867049894539,
          "c_1": 3.507157039138422,
          "c_2": 5.184855050383868,
          "cluster": "c_0",
          "petalLength": 1.4,
          "petalWidth": 0.30000000000000004,
          "sepalLength": 4.6,
          "sepalWidth": 3.4
         },
         {
          "c_0": 0.06618156843109733,
          "c_1": 3.3290307266748673,
          "c_2": 4.974669564715479,
          "cluster": "c_0",
          "petalLength": 1.5,
          "petalWidth": 0.2,
          "sepalLength": 5,
          "sepalWidth": 3.4
         },
         {
          "c_0": 0.8074527849973643,
          "c_1": 3.5611040384392054,
          "c_2": 5.30207060144637,
          "cluster": "c_0",
          "petalLength": 1.4,
          "petalWidth": 0.2,
          "sepalLength": 4.4,
          "sepalWidth": 2.9
         },
         {
          "c_0": 0.3762711788059248,
          "c_1": 3.349722719936214,
          "c_2": 5.040340225202938,
          "cluster": "c_0",
          "petalLength": 1.5,
          "petalWidth": 0.1,
          "sepalLength": 4.9,
          "sepalWidth": 3.1
         },
         {
          "c_0": 0.48247279716062796,
          "c_1": 3.3197846570687877,
          "c_2": 4.869097093802477,
          "cluster": "c_0",
          "petalLength": 1.5,
          "petalWidth": 0.2,
          "sepalLength": 5.4,
          "sepalWidth": 3.7
         },
         {
          "c_0": 0.2537321422287681,
          "c_1": 3.3027538939593164,
          "c_2": 4.96948677597275,
          "cluster": "c_0",
          "petalLength": 1.6,
          "petalWidth": 0.2,
          "sepalLength": 4.8,
          "sepalWidth": 3.4
         },
         {
          "c_0": 0.5007793925472578,
          "c_1": 3.4573494546077552,
          "c_2": 5.1637447995645145,
          "cluster": "c_0",
          "petalLength": 1.4,
          "petalWidth": 0.1,
          "sepalLength": 4.8,
          "sepalWidth": 3
         },
         {
          "c_0": 0.9132250544088243,
          "c_1": 3.894866693835869,
          "c_2": 5.625596615302816,
          "cluster": "c_0",
          "petalLength": 1.1,
          "petalWidth": 0.1,
          "sepalLength": 4.3,
          "sepalWidth": 3
         },
         {
          "c_0": 1.0140907257242815,
          "c_1": 3.64453145322847,
          "c_2": 5.078199140332696,
          "cluster": "c_0",
          "petalLength": 1.2,
          "petalWidth": 0.2,
          "sepalLength": 5.8,
          "sepalWidth": 4
         },
         {
          "c_0": 1.2048153385477793,
          "c_1": 3.4928009811467207,
          "c_2": 4.85660046198339,
          "cluster": "c_0",
          "petalLength": 1.5,
          "petalWidth": 0.4,
          "sepalLength": 5.7,
          "sepalWidth": 4.4
         },
         {
          "c_0": 0.6542018037272597,
          "c_1": 3.490876117960744,
          "c_2": 5.00219478456426,
          "cluster": "c_0",
          "petalLength": 1.3,
          "petalWidth": 0.4,
          "sepalLength": 5.4,
          "sepalWidth": 3.9
         },
         {
          "c_0": 0.1441526968183391,
          "c_1": 3.3776244934109623,
          "c_2": 4.995346947336125,
          "cluster": "c_0",
          "petalLength": 1.4,
          "petalWidth": 0.30000000000000004,
          "sepalLength": 5.1,
          "sepalWidth": 3.5
         },
         {
          "c_0": 0.8243664233822242,
          "c_1": 3.1097129178759264,
          "c_2": 4.5884083432341045,
          "cluster": "c_0",
          "petalLength": 1.7000000000000002,
          "petalWidth": 0.30000000000000004,
          "sepalLength": 5.7,
          "sepalWidth": 3.8
         },
         {
          "c_0": 0.3893327625566584,
          "c_1": 3.3713576102992167,
          "c_2": 4.944113707736664,
          "cluster": "c_0",
          "petalLength": 1.5,
          "petalWidth": 0.30000000000000004,
          "sepalLength": 5.1,
          "sepalWidth": 3.8
         },
         {
          "c_0": 0.4634436319553877,
          "c_1": 3.069226367861807,
          "c_2": 4.6667018877228195,
          "cluster": "c_0",
          "petalLength": 1.7000000000000002,
          "petalWidth": 0.2,
          "sepalLength": 5.4,
          "sepalWidth": 3.4
         },
         {
          "c_0": 0.32860310406324483,
          "c_1": 3.308680040731089,
          "c_2": 4.895801848486616,
          "cluster": "c_0",
          "petalLength": 1.5,
          "petalWidth": 0.4,
          "sepalLength": 5.1,
          "sepalWidth": 3.7
         },
         {
          "c_0": 0.6402968061766353,
          "c_1": 3.923195377825073,
          "c_2": 5.570011632465304,
          "cluster": "c_0",
          "petalLength": 1,
          "petalWidth": 0.2,
          "sepalLength": 4.6,
          "sepalWidth": 3.6
         },
         {
          "c_0": 0.38259639308284177,
          "c_1": 3.0046389825087085,
          "c_2": 4.654405560784356,
          "cluster": "c_0",
          "petalLength": 1.7000000000000002,
          "petalWidth": 0.5,
          "sepalLength": 5.1,
          "sepalWidth": 3.3
         },
         {
          "c_0": 0.48701129350354866,
          "c_1": 3.0536975177586054,
          "c_2": 4.72404149509054,
          "cluster": "c_0",
          "petalLength": 1.9,
          "petalWidth": 0.2,
          "sepalLength": 4.8,
          "sepalWidth": 3.4
         },
         {
          "c_0": 0.45208406297944265,
          "c_1": 3.18551841092757,
          "c_2": 4.880143319265126,
          "cluster": "c_0",
          "petalLength": 1.6,
          "petalWidth": 0.2,
          "sepalLength": 5,
          "sepalWidth": 3
         },
         {
          "c_0": 0.20875823337056684,
          "c_1": 3.171903240849148,
          "c_2": 4.817958270210641,
          "cluster": "c_0",
          "petalLength": 1.6,
          "petalWidth": 0.4,
          "sepalLength": 5,
          "sepalWidth": 3.4
         },
         {
          "c_0": 0.21536016344718953,
          "c_1": 3.3031509555094662,
          "c_2": 4.911253831882793,
          "cluster": "c_0",
          "petalLength": 1.5,
          "petalWidth": 0.2,
          "sepalLength": 5.2,
          "sepalWidth": 3.5
         },
         {
          "c_0": 0.21066561181170598,
          "c_1": 3.3699714945719292,
          "c_2": 4.9898773271138595,
          "cluster": "c_0",
          "petalLength": 1.4,
          "petalWidth": 0.2,
          "sepalLength": 5.2,
          "sepalWidth": 3.4
         },
         {
          "c_0": 0.40838707129388874,
          "c_1": 3.303225399236599,
          "c_2": 5.002732980892193,
          "cluster": "c_0",
          "petalLength": 1.6,
          "petalWidth": 0.2,
          "sepalLength": 4.7,
          "sepalWidth": 3.2
         },
         {
          "c_0": 0.4137390481934238,
          "c_1": 3.256190020253402,
          "c_2": 4.959027390801737,
          "cluster": "c_0",
          "petalLength": 1.6,
          "petalWidth": 0.2,
          "sepalLength": 4.8,
          "sepalWidth": 3.1
         },
         {
          "c_0": 0.4256524403782984,
          "c_1": 3.175183434298005,
          "c_2": 4.7668356268588825,
          "cluster": "c_0",
          "petalLength": 1.5,
          "petalWidth": 0.4,
          "sepalLength": 5.4,
          "sepalWidth": 3.4
         },
         {
          "c_0": 0.7155277772385911,
          "c_1": 3.526827349462387,
          "c_2": 5.036752499343695,
          "cluster": "c_0",
          "petalLength": 1.5,
          "petalWidth": 0.1,
          "sepalLength": 5.2,
          "sepalWidth": 4.1
         },
         {
          "c_0": 0.9197717108065455,
          "c_1": 3.568048509943402,
          "c_2": 5.01532562494803,
          "cluster": "c_0",
          "petalLength": 1.4,
          "petalWidth": 0.2,
          "sepalLength": 5.5,
          "sepalWidth": 4.2
         },
         {
          "c_0": 0.34982852942548903,
          "c_1": 3.311156452745057,
          "c_2": 5.002425447223533,
          "cluster": "c_0",
          "petalLength": 1.5,
          "petalWidth": 0.2,
          "sepalLength": 4.9,
          "sepalWidth": 3.1
         },
         {
          "c_0": 0.35039977168942393,
          "c_1": 3.5611730898492855,
          "c_2": 5.22277103443244,
          "cluster": "c_0",
          "petalLength": 1.2,
          "petalWidth": 0.2,
          "sepalLength": 5,
          "sepalWidth": 3.2
         },
         {
          "c_0": 0.5268586148104637,
          "c_1": 3.433082017156369,
          "c_2": 4.994422925126543,
          "cluster": "c_0",
          "petalLength": 1.3,
          "petalWidth": 0.2,
          "sepalLength": 5.5,
          "sepalWidth": 3.5
         },
         {
          "c_0": 0.25686572367678706,
          "c_1": 3.5238279770630516,
          "c_2": 5.150842982653678,
          "cluster": "c_0",
          "petalLength": 1.4,
          "petalWidth": 0.1,
          "sepalLength": 4.9,
          "sepalWidth": 3.6
         },
         {
          "c_0": 0.7607759197030355,
          "c_1": 3.6511601128010436,
          "c_2": 5.381416632301775,
          "cluster": "c_0",
          "petalLength": 1.3,
          "petalWidth": 0.2,
          "sepalLength": 4.4,
          "sepalWidth": 3
         },
         {
          "c_0": 0.11480418110852969,
          "c_1": 3.3038953172989585,
          "c_2": 4.938275817260238,
          "cluster": "c_0",
          "petalLength": 1.5,
          "petalWidth": 0.2,
          "sepalLength": 5.1,
          "sepalWidth": 3.4
         },
         {
          "c_0": 0.18541844568434915,
          "c_1": 3.4903829944574642,
          "c_2": 5.117356473620584,
          "cluster": "c_0",
          "petalLength": 1.3,
          "petalWidth": 0.30000000000000004,
          "sepalLength": 5,
          "sepalWidth": 3.5
         },
         {
          "c_0": 1.2480304483465143,
          "c_1": 3.596490047409086,
          "c_2": 5.358712421521426,
          "cluster": "c_0",
          "petalLength": 1.3,
          "petalWidth": 0.30000000000000004,
          "sepalLength": 4.5,
          "sepalWidth": 2.3
         },
         {
          "c_0": 0.6690142001482473,
          "c_1": 3.6707733145328354,
          "c_2": 5.382274216318317,
          "cluster": "c_0",
          "petalLength": 1.3,
          "petalWidth": 0.2,
          "sepalLength": 4.4,
          "sepalWidth": 3.2
         },
         {
          "c_0": 0.3867557368675997,
          "c_1": 3.1351240734928774,
          "c_2": 4.760861142332135,
          "cluster": "c_0",
          "petalLength": 1.6,
          "petalWidth": 0.6000000000000001,
          "sepalLength": 5,
          "sepalWidth": 3.5
         },
         {
          "c_0": 0.6023122113987056,
          "c_1": 2.9997245237670835,
          "c_2": 4.570687413502771,
          "cluster": "c_0",
          "petalLength": 1.9,
          "petalWidth": 0.4,
          "sepalLength": 5.1,
          "sepalWidth": 3.8
         },
         {
          "c_0": 0.4820580877861096,
          "c_1": 3.385187551594928,
          "c_2": 5.091436132712568,
          "cluster": "c_0",
          "petalLength": 1.4,
          "petalWidth": 0.30000000000000004,
          "sepalLength": 4.8,
          "sepalWidth": 3
         },
         {
          "c_0": 0.410341321341148,
          "c_1": 3.321932037894709,
          "c_2": 4.896116079375762,
          "cluster": "c_0",
          "petalLength": 1.6,
          "petalWidth": 0.2,
          "sepalLength": 5.1,
          "sepalWidth": 3.8
         },
         {
          "c_0": 0.4719957626928446,
          "c_1": 3.5090496128870527,
          "c_2": 5.210974990827491,
          "cluster": "c_0",
          "petalLength": 1.4,
          "petalWidth": 0.2,
          "sepalLength": 4.6,
          "sepalWidth": 3.2
         },
         {
          "c_0": 0.4049444406335268,
          "c_1": 3.3358194616592693,
          "c_2": 4.89988527821264,
          "cluster": "c_0",
          "petalLength": 1.5,
          "petalWidth": 0.2,
          "sepalLength": 5.3,
          "sepalWidth": 3.7
         },
         {
          "c_0": 0.14959946523968684,
          "c_1": 3.3982859235929013,
          "c_2": 5.054285193434184,
          "cluster": "c_0",
          "petalLength": 1.4,
          "petalWidth": 0.2,
          "sepalLength": 5,
          "sepalWidth": 3.3
         },
         {
          "c_0": 3.9804999685969102,
          "c_1": 1.247089597579617,
          "c_2": 1.222714024536733,
          "cluster": "c_2",
          "petalLength": 4.7,
          "petalWidth": 1.4,
          "sepalLength": 7,
          "sepalWidth": 3.2
         },
         {
          "c_0": 3.5773146353095644,
          "c_1": 0.702911746528457,
          "c_2": 1.4159906729208398,
          "cluster": "c_1",
          "petalLength": 4.5,
          "petalWidth": 1.5,
          "sepalLength": 6.4,
          "sepalWidth": 3.2
         },
         {
          "c_0": 4.13366423406643,
          "c_1": 1.1949290419146086,
          "c_2": 0.9870462780587258,
          "cluster": "c_2",
          "petalLength": 4.9,
          "petalWidth": 1.5,
          "sepalLength": 6.9,
          "sepalWidth": 3.1
         },
         {
          "c_0": 3.0114415152879856,
          "c_1": 0.7145924016226785,
          "c_2": 2.4387163176774993,
          "cluster": "c_1",
          "petalLength": 4,
          "petalWidth": 1.3,
          "sepalLength": 5.5,
          "sepalWidth": 2.3
         },
         {
          "c_0": 3.7477966860543543,
          "c_1": 0.6576059451870778,
          "c_2": 1.3239040348496267,
          "cluster": "c_1",
          "petalLength": 4.6,
          "petalWidth": 1.5,
          "sepalLength": 6.5,
          "sepalWidth": 2.8
         },
         {
          "c_0": 3.349086442598937,
          "c_1": 0.260175865108075,
          "c_2": 1.8583571035353643,
          "cluster": "c_1",
          "petalLength": 4.5,
          "petalWidth": 1.3,
          "sepalLength": 5.7,
          "sepalWidth": 2.8
         },
         {
          "c_0": 3.742830479730548,
          "c_1": 0.7812262358653902,
          "c_2": 1.2623355830603649,
          "cluster": "c_1",
          "petalLength": 4.7,
          "petalWidth": 1.6,
          "sepalLength": 6.3,
          "sepalWidth": 3.3
         },
         {
          "c_0": 2.239370447246279,
          "c_1": 1.5675980390177446,
          "c_2": 3.3496886722773835,
          "cluster": "c_1",
          "petalLength": 3.3,
          "petalWidth": 1,
          "sepalLength": 4.9,
          "sepalWidth": 2.4
         },
         {
          "c_0": 3.711816267004605,
          "c_1": 0.775434096594793,
          "c_2": 1.3813422851978931,
          "cluster": "c_1",
          "petalLength": 4.6,
          "petalWidth": 1.3,
          "sepalLength": 6.6,
          "sepalWidth": 2.9
         },
         {
          "c_0": 2.8005677995720797,
          "c_1": 0.8419257816270642,
          "c_2": 2.569127128264272,
          "cluster": "c_1",
          "petalLength": 3.9,
          "petalWidth": 1.4,
          "sepalLength": 5.2,
          "sepalWidth": 2.7
         },
         {
          "c_0": 2.6002269131750793,
          "c_1": 1.5192166894940289,
          "c_2": 3.2580714519173464,
          "cluster": "c_1",
          "petalLength": 3.5,
          "petalWidth": 1,
          "sepalLength": 5,
          "sepalWidth": 2
         },
         {
          "c_0": 3.170422684753565,
          "c_1": 0.3274136183881893,
          "c_2": 1.87586666361044,
          "cluster": "c_1",
          "petalLength": 4.2,
          "petalWidth": 1.5,
          "sepalLength": 5.9,
          "sepalWidth": 3
         },
         {
          "c_0": 3.0831769329702765,
          "c_1": 0.803671700445033,
          "c_2": 2.3560949539338725,
          "cluster": "c_1",
          "petalLength": 4,
          "petalWidth": 1,
          "sepalLength": 6,
          "sepalWidth": 2.2
         },
         {
          "c_0": 3.6458167809148065,
          "c_1": 0.4126916907382638,
          "c_2": 1.4346102289039124,
          "cluster": "c_1",
          "petalLength": 4.7,
          "petalWidth": 1.4,
          "sepalLength": 6.1,
          "sepalWidth": 2.9
         },
         {
          "c_0": 2.512683824121133,
          "c_1": 0.8634583564039164,
          "c_2": 2.5780938786896943,
          "cluster": "c_1",
          "petalLength": 3.6,
          "petalWidth": 1.3,
          "sepalLength": 5.6,
          "sepalWidth": 2.9
         },
         {
          "c_0": 3.597329565107985,
          "c_1": 0.8925849395028788,
          "c_2": 1.477143413051654,
          "cluster": "c_1",
          "petalLength": 4.4,
          "petalWidth": 1.4,
          "sepalLength": 6.7,
          "sepalWidth": 3.1
         },
         {
          "c_0": 3.3671917082340292,
          "c_1": 0.40527627346529427,
          "c_2": 1.8335628330444222,
          "cluster": "c_1",
          "petalLength": 4.5,
          "petalWidth": 1.5,
          "sepalLength": 5.6,
          "sepalWidth": 3
         },
         {
          "c_0": 2.9475379556504437,
          "c_1": 0.5297568314395454,
          "c_2": 2.2299600654476124,
          "cluster": "c_1",
          "petalLength": 4.1,
          "petalWidth": 1,
          "sepalLength": 5.8,
          "sepalWidth": 2.7
         },
         {
          "c_0": 3.706154341092665,
          "c_1": 0.6399177755565628,
          "c_2": 1.7263876161463354,
          "cluster": "c_1",
          "petalLength": 4.5,
          "petalWidth": 1.5,
          "sepalLength": 6.2,
          "sepalWidth": 2.2
         },
         {
          "c_0": 2.808412362884055,
          "c_1": 0.699287463204205,
          "c_2": 2.471925201373097,
          "cluster": "c_1",
          "petalLength": 3.9,
          "petalWidth": 1.1,
          "sepalLength": 5.6,
          "sepalWidth": 2.5
         },
         {
          "c_0": 3.7958371935582274,
          "c_1": 0.7168828279303782,
          "c_2": 1.3517903972534,
          "cluster": "c_1",
          "petalLength": 4.8,
          "petalWidth": 1.8,
          "sepalLength": 5.9,
          "sepalWidth": 3.2
         },
         {
          "c_0": 3.02383531297589,
          "c_1": 0.46832768981454675,
          "c_2": 2.038577645459707,
          "cluster": "c_1",
          "petalLength": 4,
          "petalWidth": 1.3,
          "sepalLength": 6.1,
          "sepalWidth": 2.8
         },
         {
          "c_0": 3.9909873465096335,
          "c_1": 0.7052401094182573,
          "c_2": 1.2693240058994626,
          "cluster": "c_1",
          "petalLength": 4.9,
          "petalWidth": 1.5,
          "sepalLength": 6.3,
          "sepalWidth": 2.5
         },
         {
          "c_0": 3.6036065268006165,
          "c_1": 0.44975731758267246,
          "c_2": 1.5508157807421268,
          "cluster": "c_1",
          "petalLength": 4.7,
          "petalWidth": 1.2,
          "sepalLength": 6.1,
          "sepalWidth": 2.8
         },
         {
          "c_0": 3.3744895910344725,
          "c_1": 0.5637866752690813,
          "c_2": 1.675970089125986,
          "cluster": "c_1",
          "petalLength": 4.3,
          "petalWidth": 1.3,
          "sepalLength": 6.4,
          "sepalWidth": 2.9
         },
         {
          "c_0": 3.5619629419745515,
          "c_1": 0.7626440237845191,
          "c_2": 1.4926843299491475,
          "cluster": "c_1",
          "petalLength": 4.4,
          "petalWidth": 1.4,
          "sepalLength": 6.6,
          "sepalWidth": 3
         },
         {
          "c_0": 4.010832831220967,
          "c_1": 1.0068550315488447,
          "c_2": 1.159754105747772,
          "cluster": "c_1",
          "petalLength": 4.8,
          "petalWidth": 1.4,
          "sepalLength": 6.8,
          "sepalWidth": 2.8
         },
         {
          "c_0": 4.205280014458015,
          "c_1": 1.0853659980104375,
          "c_2": 0.816436186935192,
          "cluster": "c_2",
          "petalLength": 5,
          "petalWidth": 1.7000000000000002,
          "sepalLength": 6.7,
          "sepalWidth": 3
         },
         {
          "c_0": 3.4740149683039654,
          "c_1": 0.23571239518479165,
          "c_2": 1.5950737772998405,
          "cluster": "c_1",
          "petalLength": 4.5,
          "petalWidth": 1.5,
          "sepalLength": 6,
          "sepalWidth": 2.9
         },
         {
          "c_0": 2.426763276465177,
          "c_1": 1.0157705653544375,
          "c_2": 2.752696365040376,
          "cluster": "c_1",
          "petalLength": 3.5,
          "petalWidth": 1,
          "sepalLength": 5.7,
          "sepalWidth": 2.6
         },
         {
          "c_0": 2.737951789203017,
          "c_1": 0.8494856720476484,
          "c_2": 2.6210007574234298,
          "cluster": "c_1",
          "petalLength": 3.8,
          "petalWidth": 1.1,
          "sepalLength": 5.5,
          "sepalWidth": 2.4
         },
         {
          "c_0": 2.622590322562791,
          "c_1": 0.9624012006168065,
          "c_2": 2.7319390776992716,
          "cluster": "c_1",
          "petalLength": 3.7,
          "petalWidth": 1,
          "sepalLength": 5.5,
          "sepalWidth": 2.4
         },
         {
          "c_0": 2.830968032316861,
          "c_1": 0.5498014593643438,
          "c_2": 2.2972455850662774,
          "cluster": "c_1",
          "petalLength": 3.9,
          "petalWidth": 1.2,
          "sepalLength": 5.8,
          "sepalWidth": 2.7
         },
         {
          "c_0": 4.072637965741615,
          "c_1": 0.7408367038479806,
          "c_2": 1.2065648828670772,
          "cluster": "c_1",
          "petalLength": 5.1,
          "petalWidth": 1.6,
          "sepalLength": 6,
          "sepalWidth": 2.7
         },
         {
          "c_0": 3.3377207792144628,
          "c_1": 0.5636412695897411,
          "c_2": 1.9757254678371556,
          "cluster": "c_1",
          "petalLength": 4.5,
          "petalWidth": 1.5,
          "sepalLength": 5.4,
          "sepalWidth": 3
         },
         {
          "c_0": 3.47153856380712,
          "c_1": 0.6983491109643764,
          "c_2": 1.5863694548677094,
          "cluster": "c_1",
          "petalLength": 4.5,
          "petalWidth": 1.6,
          "sepalLength": 6,
          "sepalWidth": 3.4
         },
         {
          "c_0": 3.877419244807041,
          "c_1": 0.9469466057953624,
          "c_2": 1.167027275911703,
          "cluster": "c_1",
          "petalLength": 4.7,
          "petalWidth": 1.5,
          "sepalLength": 6.7,
          "sepalWidth": 3.1
         },
         {
          "c_0": 3.562243674989122,
          "c_1": 0.6213309396146628,
          "c_2": 1.791333508770761,
          "cluster": "c_1",
          "petalLength": 4.4,
          "petalWidth": 1.3,
          "sepalLength": 6.3,
          "sepalWidth": 2.3
         },
         {
          "c_0": 2.9335950640809303,
          "c_1": 0.4988376707590785,
          "c_2": 2.1807794057556675,
          "cluster": "c_1",
          "petalLength": 4.1,
          "petalWidth": 1.3,
          "sepalLength": 5.6,
          "sepalWidth": 3
         },
         {
          "c_0": 2.9423765904452135,
          "c_1": 0.6117588232579212,
          "c_2": 2.382554941095225,
          "cluster": "c_1",
          "petalLength": 4,
          "petalWidth": 1.3,
          "sepalLength": 5.5,
          "sepalWidth": 2.5
         },
         {
          "c_0": 3.235982076588188,
          "c_1": 0.4712936561136087,
          "c_2": 2.125945664972224,
          "cluster": "c_1",
          "petalLength": 4.4,
          "petalWidth": 1.2,
          "sepalLength": 5.5,
          "sepalWidth": 2.6
         },
         {
          "c_0": 3.543836903696331,
          "c_1": 0.3997782239263641,
          "c_2": 1.498598951210111,
          "cluster": "c_1",
          "petalLength": 4.6,
          "petalWidth": 1.4,
          "sepalLength": 6.1,
          "sepalWidth": 3
         },
         {
          "c_0": 2.9440754066429755,
          "c_1": 0.48246600709050014,
          "c_2": 2.2382236193942275,
          "cluster": "c_1",
          "petalLength": 4,
          "petalWidth": 1.2,
          "sepalLength": 5.8,
          "sepalWidth": 2.6
         },
         {
          "c_0": 2.2845524725862614,
          "c_1": 1.5325922555488607,
          "c_2": 3.314367147103472,
          "cluster": "c_1",
          "petalLength": 3.3,
          "petalWidth": 1,
          "sepalLength": 5,
          "sepalWidth": 2.3
         },
         {
          "c_0": 3.080646036142419,
          "c_1": 0.36840774648476354,
          "c_2": 2.1398307735998574,
          "cluster": "c_1",
          "petalLength": 4.2,
          "petalWidth": 1.3,
          "sepalLength": 5.6,
          "sepalWidth": 2.7
         },
         {
          "c_0": 3.0119063730468123,
          "c_1": 0.43737631184345666,
          "c_2": 2.0887129753729012,
          "cluster": "c_1",
          "petalLength": 4.2,
          "petalWidth": 1.2,
          "sepalLength": 5.7,
          "sepalWidth": 3
         },
         {
          "c_0": 3.0607156026001507,
          "c_1": 0.33557341010816205,
          "c_2": 2.0560489483731903,
          "cluster": "c_1",
          "petalLength": 4.2,
          "petalWidth": 1.3,
          "sepalLength": 5.7,
          "sepalWidth": 2.9
         },
         {
          "c_0": 3.2969046088717824,
          "c_1": 0.3889704849494165,
          "c_2": 1.7408084906684673,
          "cluster": "c_1",
          "petalLength": 4.3,
          "petalWidth": 1.3,
          "sepalLength": 6.2,
          "sepalWidth": 2.9
         },
         {
          "c_0": 1.9911755321919766,
          "c_1": 1.6468010735564589,
          "c_2": 3.419349742673581,
          "cluster": "c_1",
          "petalLength": 3,
          "petalWidth": 1.1,
          "sepalLength": 5.1,
          "sepalWidth": 2.5
         },
         {
          "c_0": 2.990983115967056,
          "c_1": 0.37217086521634574,
          "c_2": 2.1414478318576995,
          "cluster": "c_1",
          "petalLength": 4.1,
          "petalWidth": 1.3,
          "sepalLength": 5.7,
          "sepalWidth": 2.8
         },
         {
          "c_0": 5.231135631963675,
          "c_1": 2.053821629076737,
          "c_2": 0.7978521462885702,
          "cluster": "c_2",
          "petalLength": 6,
          "petalWidth": 2.5,
          "sepalLength": 6.3,
          "sepalWidth": 3.3
         },
         {
          "c_0": 4.13898296686517,
          "c_1": 0.8553513354255328,
          "c_2": 1.2864795318227233,
          "cluster": "c_1",
          "petalLength": 5.1,
          "petalWidth": 1.9,
          "sepalLength": 5.8,
          "sepalWidth": 2.7
         },
         {
          "c_0": 5.263191047264008,
          "c_1": 2.0674256595664846,
          "c_2": 0.32050256393845766,
          "cluster": "c_2",
          "petalLength": 5.9,
          "petalWidth": 2.1,
          "sepalLength": 7.1,
          "sepalWidth": 3
         },
         {
          "c_0": 4.635858065126671,
          "c_1": 1.341635778723848,
          "c_2": 0.6448246401681977,
          "cluster": "c_2",
          "petalLength": 5.6,
          "petalWidth": 1.8,
          "sepalLength": 6.3,
          "sepalWidth": 2.9
         },
         {
          "c_0": 5.005155342244634,
          "c_1": 1.7393666660073488,
          "c_2": 0.39955596656063164,
          "cluster": "c_2",
          "petalLength": 5.8,
          "petalWidth": 2.2,
          "sepalLength": 6.5,
          "sepalWidth": 3
         },
         {
          "c_0": 6.06204420967053,
          "c_1": 2.8890669556497564,
          "c_2": 1.1607485852270125,
          "cluster": "c_2",
          "petalLength": 6.6,
          "petalWidth": 2.1,
          "sepalLength": 7.6,
          "sepalWidth": 3
         },
         {
          "c_0": 3.4951366210779233,
          "c_1": 1.0528585626359712,
          "c_2": 2.398483248532521,
          "cluster": "c_1",
          "petalLength": 4.5,
          "petalWidth": 1.7000000000000002,
          "sepalLength": 4.9,
          "sepalWidth": 2.5
         },
         {
          "c_0": 5.600212495968345,
          "c_1": 2.4122269838819763,
          "c_2": 0.7978521462885712,
          "cluster": "c_2",
          "petalLength": 6.3,
          "petalWidth": 1.8,
          "sepalLength": 7.3,
          "sepalWidth": 2.9
         },
         {
          "c_0": 4.996396701624081,
          "c_1": 1.6883359754594567,
          "c_2": 0.6542984860717154,
          "cluster": "c_2",
          "petalLength": 5.8,
          "petalWidth": 1.8,
          "sepalLength": 6.7,
          "sepalWidth": 2.5
         },
         {
          "c_0": 5.606672810143285,
          "c_1": 2.5564421368021453,
          "c_2": 0.8604732425726173,
          "cluster": "c_2",
          "petalLength": 6.1,
          "petalWidth": 2.5,
          "sepalLength": 7.2,
          "sepalWidth": 3.6
         },
         {
          "c_0": 4.312259268643294,
          "c_1": 1.190255381935892,
          "c_2": 0.7224629144266799,
          "cluster": "c_2",
          "petalLength": 5.1,
          "petalWidth": 2,
          "sepalLength": 6.5,
          "sepalWidth": 3.2
         },
         {
          "c_0": 4.465330894793801,
          "c_1": 1.1471217032626526,
          "c_2": 0.7377400321451882,
          "cluster": "c_2",
          "petalLength": 5.3,
          "petalWidth": 1.9,
          "sepalLength": 6.4,
          "sepalWidth": 2.7
         },
         {
          "c_0": 4.810860629866553,
          "c_1": 1.6078658104429269,
          "c_2": 0.23945203717343574,
          "cluster": "c_2",
          "petalLength": 5.5,
          "petalWidth": 2.1,
          "sepalLength": 6.8,
          "sepalWidth": 3
         },
         {
          "c_0": 4.115431933588503,
          "c_1": 0.886318415268323,
          "c_2": 1.4761015343278272,
          "cluster": "c_1",
          "petalLength": 5,
          "petalWidth": 2,
          "sepalLength": 5.7,
          "sepalWidth": 2.5
         },
         {
          "c_0": 4.347364718999315,
          "c_1": 1.2037453867801822,
          "c_2": 1.2983831547613536,
          "cluster": "c_1",
          "petalLength": 5.1,
          "petalWidth": 2.4,
          "sepalLength": 5.8,
          "sepalWidth": 2.8
         },
         {
          "c_0": 4.576503031791851,
          "c_1": 1.434351286098449,
          "c_2": 0.6739883938389327,
          "cluster": "c_2",
          "petalLength": 5.3,
          "petalWidth": 2.3,
          "sepalLength": 6.4,
          "sepalWidth": 3.2
         },
         {
          "c_0": 4.597344885909693,
          "c_1": 1.3476097864450371,
          "c_2": 0.4918868393460958,
          "cluster": "c_2",
          "petalLength": 5.5,
          "petalWidth": 1.8,
          "sepalLength": 6.5,
          "sepalWidth": 3
         },
         {
          "c_0": 6.216975148735918,
          "c_1": 3.2171140216544574,
          "c_2": 1.493199574877453,
          "cluster": "c_2",
          "petalLength": 6.7,
          "petalWidth": 2.2,
          "sepalLength": 7.7,
          "sepalWidth": 3.8
         },
         {
          "c_0": 6.4601842078999585,
          "c_1": 3.2211625544353093,
          "c_2": 1.5515596276348884,
          "cluster": "c_2",
          "petalLength": 6.9,
          "petalWidth": 2.3,
          "sepalLength": 7.7,
          "sepalWidth": 2.6
         },
         {
          "c_0": 4.072588857225831,
          "c_1": 0.8272924466354956,
          "c_2": 1.5220276105699506,
          "cluster": "c_1",
          "petalLength": 5,
          "petalWidth": 1.5,
          "sepalLength": 6,
          "sepalWidth": 2.2
         },
         {
          "c_0": 5.081218357835057,
          "c_1": 1.9268983840421057,
          "c_2": 0.2794754173013077,
          "cluster": "c_2",
          "petalLength": 5.7,
          "petalWidth": 2.3,
          "sepalLength": 6.9,
          "sepalWidth": 3.2
         },
         {
          "c_0": 3.9551965817137336,
          "c_1": 0.815718333015461,
          "c_2": 1.5220276105699508,
          "cluster": "c_1",
          "petalLength": 4.9,
          "petalWidth": 2,
          "sepalLength": 5.6,
          "sepalWidth": 2.8
         },
         {
          "c_0": 6.17779734209532,
          "c_1": 2.9942545538487115,
          "c_2": 1.3285441602742534,
          "cluster": "c_2",
          "petalLength": 6.7,
          "petalWidth": 2,
          "sepalLength": 7.7,
          "sepalWidth": 2.8
         },
         {
          "c_0": 4.054525866238863,
          "c_1": 0.755191652234323,
          "c_2": 1.0854061492712008,
          "cluster": "c_1",
          "petalLength": 4.9,
          "petalWidth": 1.8,
          "sepalLength": 6.3,
          "sepalWidth": 2.7
         },
         {
          "c_0": 4.927877839394966,
          "c_1": 1.7725557186917147,
          "c_2": 0.27531584874112675,
          "cluster": "c_2",
          "petalLength": 5.7,
          "petalWidth": 2.1,
          "sepalLength": 6.7,
          "sepalWidth": 3.3
         },
         {
          "c_0": 5.27958142280238,
          "c_1": 2.1619632104658217,
          "c_2": 0.5295415009075617,
          "cluster": "c_2",
          "petalLength": 6,
          "petalWidth": 1.8,
          "sepalLength": 7.2,
          "sepalWidth": 3.2
         },
         {
          "c_0": 3.9213747589334025,
          "c_1": 0.6376079828555538,
          "c_2": 1.1859882155136596,
          "cluster": "c_1",
          "petalLength": 4.8,
          "petalWidth": 1.8,
          "sepalLength": 6.2,
          "sepalWidth": 2.8
         },
         {
          "c_0": 3.951554124645138,
          "c_1": 0.713559311214422,
          "c_2": 1.1417053579012195,
          "cluster": "c_1",
          "petalLength": 4.9,
          "petalWidth": 1.8,
          "sepalLength": 6.1,
          "sepalWidth": 3
         },
         {
          "c_0": 4.785183382065937,
          "c_1": 1.4767553063670007,
          "c_2": 0.5459913084250866,
          "cluster": "c_2",
          "petalLength": 5.6,
          "petalWidth": 2.1,
          "sepalLength": 6.4,
          "sepalWidth": 2.8
         },
         {
          "c_0": 5.064422968117888,
          "c_1": 1.9543947129225168,
          "c_2": 0.5821303459234631,
          "cluster": "c_2",
          "petalLength": 5.8,
          "petalWidth": 1.6,
          "sepalLength": 7.2,
          "sepalWidth": 3
         },
         {
          "c_0": 5.511114224909515,
          "c_1": 2.3342748385244483,
          "c_2": 0.73930240587819,
          "cluster": "c_2",
          "petalLength": 6.1,
          "petalWidth": 1.9,
          "sepalLength": 7.4,
          "sepalWidth": 2.8
         },
         {
          "c_0": 5.997831274719223,
          "c_1": 3.090835688171815,
          "c_2": 1.4452943436009758,
          "cluster": "c_2",
          "petalLength": 6.4,
          "petalWidth": 2,
          "sepalLength": 7.9,
          "sepalWidth": 3.8
         },
         {
          "c_0": 4.824808804501998,
          "c_1": 1.5244412054852934,
          "c_2": 0.5633269726424499,
          "cluster": "c_2",
          "petalLength": 5.6,
          "petalWidth": 2.2,
          "sepalLength": 6.4,
          "sepalWidth": 2.8
         },
         {
          "c_0": 4.108087146105837,
          "c_1": 0.8290739484100766,
          "c_2": 1.0338644687022414,
          "cluster": "c_1",
          "petalLength": 5.1,
          "petalWidth": 1.5,
          "sepalLength": 6.3,
          "sepalWidth": 2.8
         },
         {
          "c_0": 4.50967626332534,
          "c_1": 1.239177280797122,
          "c_2": 1.1120108125990842,
          "cluster": "c_2",
          "petalLength": 5.6,
          "petalWidth": 1.4,
          "sepalLength": 6.1,
          "sepalWidth": 2.6
         },
         {
          "c_0": 5.759407955684335,
          "c_1": 2.6541930338829163,
          "c_2": 0.9645798055026006,
          "cluster": "c_2",
          "petalLength": 6.1,
          "petalWidth": 2.3,
          "sepalLength": 7.7,
          "sepalWidth": 3
         },
         {
          "c_0": 4.841278756692286,
          "c_1": 1.734269725499679,
          "c_2": 0.7377400321451894,
          "cluster": "c_2",
          "petalLength": 5.6,
          "petalWidth": 2.4,
          "sepalLength": 6.3,
          "sepalWidth": 3.4
         },
         {
          "c_0": 4.557541003655371,
          "c_1": 1.3283737149937789,
          "c_2": 0.5633269726424492,
          "cluster": "c_2",
          "petalLength": 5.5,
          "petalWidth": 1.8,
          "sepalLength": 6.4,
          "sepalWidth": 3.1
         },
         {
          "c_0": 3.837757157507494,
          "c_1": 0.6193489485976359,
          "c_2": 1.279584806922349,
          "cluster": "c_1",
          "petalLength": 4.8,
          "petalWidth": 1.8,
          "sepalLength": 6,
          "sepalWidth": 3
         },
         {
          "c_0": 4.758148799690906,
          "c_1": 1.6211166983401268,
          "c_2": 0.32289372095100477,
          "cluster": "c_2",
          "petalLength": 5.4,
          "petalWidth": 2.1,
          "sepalLength": 6.9,
          "sepalWidth": 3.1
         },
         {
          "c_0": 4.97393003569612,
          "c_1": 1.7875671732322451,
          "c_2": 0.3966576333647302,
          "cluster": "c_2",
          "petalLength": 5.6,
          "petalWidth": 2.4,
          "sepalLength": 6.7,
          "sepalWidth": 3.1
         },
         {
          "c_0": 4.598780273072415,
          "c_1": 1.5547873204822178,
          "c_2": 0.6647952035942298,
          "cluster": "c_2",
          "petalLength": 5.1,
          "petalWidth": 2.3,
          "sepalLength": 6.9,
          "sepalWidth": 3.1
         },
         {
          "c_0": 4.13898296686517,
          "c_1": 0.8553513354255328,
          "c_2": 1.2864795318227233,
          "cluster": "c_1",
          "petalLength": 5.1,
          "petalWidth": 1.9,
          "sepalLength": 5.8,
          "sepalWidth": 2.7
         },
         {
          "c_0": 5.213940927935414,
          "c_1": 2.020952463031705,
          "c_2": 0.3357408129660809,
          "cluster": "c_2",
          "petalLength": 5.9,
          "petalWidth": 2.3,
          "sepalLength": 6.8,
          "sepalWidth": 3.2
         },
         {
          "c_0": 5.091873918313374,
          "c_1": 1.9581656702792396,
          "c_2": 0.5222278176151902,
          "cluster": "c_2",
          "petalLength": 5.7,
          "petalWidth": 2.5,
          "sepalLength": 6.7,
          "sepalWidth": 3.3
         },
         {
          "c_0": 4.609162613751006,
          "c_1": 1.4633174768866062,
          "c_2": 0.5964887396825242,
          "cluster": "c_2",
          "petalLength": 5.2,
          "petalWidth": 2.3,
          "sepalLength": 6.7,
          "sepalWidth": 3
         },
         {
          "c_0": 4.21767471481621,
          "c_1": 0.9067070697270044,
          "c_2": 1.0839878162593959,
          "cluster": "c_1",
          "petalLength": 5,
          "petalWidth": 1.9,
          "sepalLength": 6.3,
          "sepalWidth": 2.5
         },
         {
          "c_0": 4.4118454188695235,
          "c_1": 1.193899660280344,
          "c_2": 0.6321747941939786,
          "cluster": "c_2",
          "petalLength": 5.2,
          "petalWidth": 2,
          "sepalLength": 6.5,
          "sepalWidth": 3
         },
         {
          "c_0": 4.599258635910792,
          "c_1": 1.518784999342355,
          "c_2": 0.8318369207494286,
          "cluster": "c_2",
          "petalLength": 5.4,
          "petalWidth": 2.3,
          "sepalLength": 6.2,
          "sepalWidth": 3.4
         },
         {
          "c_0": 4.0782815008285045,
          "c_1": 0.8409516499217096,
          "c_2": 1.1657082566598584,
          "cluster": "c_1",
          "petalLength": 5.1,
          "petalWidth": 1.8,
          "sepalLength": 5.9,
          "sepalWidth": 3
         }
        ]
       },
       "layer": [
        {
         "data": {
          "name": "data-620240cc6feddf1f5bcc75ea8b87dd84"
         },
         "encoding": {
          "color": {
           "field": "cluster",
           "scale": {
            "scheme": "category10"
           },
           "type": "nominal"
          },
          "x": {
           "field": "petalLength",
           "type": "quantitative"
          },
          "y": {
           "field": "petalWidth",
           "type": "quantitative"
          }
         },
         "mark": {
          "opacity": 0.5,
          "size": 60,
          "type": "circle"
         },
         "selection": {
          "selector003": {
           "bind": "scales",
           "encodings": [
            "x",
            "y"
           ],
           "type": "interval"
          }
         }
        },
        {
         "data": {
          "name": "data-35579f99bba2cdf81176d515bf689112"
         },
         "encoding": {
          "x": {
           "field": "petalLength",
           "type": "quantitative"
          },
          "y": {
           "field": "petalWidth",
           "type": "quantitative"
          }
         },
         "mark": {
          "color": "black",
          "opacity": 1,
          "size": 100,
          "type": "point"
         },
         "selection": {
          "selector004": {
           "bind": "scales",
           "encodings": [
            "x",
            "y"
           ],
           "type": "interval"
          }
         }
        }
       ]
      },
      "image/png": "[encoded data removed]",
      "text/plain": [
       "<VegaLite 3 object>\n",
       "\n",
       "If you see this message, it means the renderer has not been properly enabled\n",
       "for the frontend that you are using. For more information, see\n",
       "https://altair-viz.github.io/user_guide/troubleshooting.html\n"
      ]
     },
     "execution_count": 12,
     "metadata": {},
     "output_type": "execute_result"
    }
   ],
   "source": [
    "test1.plot('petalLength', 'petalWidth')"
   ]
  },
  {
   "cell_type": "markdown",
   "metadata": {},
   "source": [
    "And indeed, if we cheat and use the class labels to compute how well we are doing, we are not finding clusters that completely match the actual classes.\n",
    "\n",
    "Let's count the number of cluster labels that each original class got."
   ]
  },
  {
   "cell_type": "code",
   "execution_count": 13,
   "metadata": {},
   "outputs": [
    {
     "data": {
      "text/plain": [
       "species     result1\n",
       "setosa      c_0        50\n",
       "versicolor  c_1        47\n",
       "            c_2         3\n",
       "virginica   c_1        14\n",
       "            c_2        36\n",
       "dtype: int64"
      ]
     },
     "execution_count": 13,
     "metadata": {},
     "output_type": "execute_result"
    }
   ],
   "source": [
    "iris['result1'] = test1.result()\n",
    "iris.groupby(['species', 'result1']).size()"
   ]
  },
  {
   "cell_type": "markdown",
   "metadata": {},
   "source": [
    "Next, we are mapping the cluster labels to the class labels based on the best match in the result above, which we need to compute the accuracy of our clustering result.\n",
    "\n",
    "You need to update the map yourself. E.g., if the __setosa__ class has most __c_0__ labels, the map needs to have a mapping that looks like  \"c_0: setosa\"."
   ]
  },
  {
   "cell_type": "code",
   "execution_count": 14,
   "metadata": {},
   "outputs": [
    {
     "data": {
      "text/plain": [
       "0.8866666666666667"
      ]
     },
     "execution_count": 14,
     "metadata": {},
     "output_type": "execute_result"
    }
   ],
   "source": [
    "map1 = {'c_1': 'versicolor', \n",
    "        'c_0': 'setosa', \n",
    "        'c_2': 'virginica'}\n",
    "(iris['species'] == iris['result1'].apply(lambda x : map1[x])).sum() / iris['species'].count()"
   ]
  },
  {
   "cell_type": "markdown",
   "metadata": {},
   "source": [
    "As some of the features seem to contradict each other in the visualization above, we can instead try and use only a subset of the features."
   ]
  },
  {
   "cell_type": "code",
   "execution_count": 15,
   "metadata": {},
   "outputs": [],
   "source": [
    "test2 = kmeans(3, iris[['petalLength', 'petalWidth', 'sepalWidth']])\n",
    "test2.fit()"
   ]
  },
  {
   "cell_type": "code",
   "execution_count": 16,
   "metadata": {},
   "outputs": [
    {
     "data": {
      "application/vnd.vegalite.v3+json": {
       "$schema": "https://vega.github.io/schema/vega-lite/v3.4.0.json",
       "config": {
        "mark": {
         "tooltip": null
        },
        "view": {
         "height": 300,
         "width": 400
        }
       },
       "datasets": {
        "data-c80453efc14fb94b93609cda7ab2b747": [
         {
          "petalLength": 1.4620000000000002,
          "petalWidth": 0.2459999999999999,
          "sepalWidth": 3.428000000000001
         },
         {
          "petalLength": 4.258823529411765,
          "petalWidth": 1.3333333333333333,
          "sepalWidth": 2.747058823529412
         },
         {
          "petalLength": 5.579591836734692,
          "petalWidth": 2.0326530612244897,
          "sepalWidth": 3.00204081632653
         }
        ],
        "data-c8c75c7bb729df869bbd30fa99a247eb": [
         {
          "c_0": 0.10556514576317275,
          "c_1": 3.166107520598076,
          "c_2": 4.590813491432594,
          "cluster": "c_0",
          "petalLength": 1.4,
          "petalWidth": 0.2,
          "sepalWidth": 3.5
         },
         {
          "c_0": 0.4349068865860838,
          "c_1": 3.085659679147574,
          "c_2": 4.563727569591118,
          "cluster": "c_0",
          "petalLength": 1.4,
          "petalWidth": 0.2,
          "sepalWidth": 3
         },
         {
          "c_0": 0.28345017198795336,
          "c_1": 3.2006619365355817,
          "c_2": 4.659690050879176,
          "cluster": "c_0",
          "petalLength": 1.3,
          "petalWidth": 0.2,
          "sepalWidth": 3.2
         },
         {
          "c_0": 0.3333826630165409,
          "c_1": 3.0033513255909425,
          "c_2": 4.473397232398862,
          "cluster": "c_0",
          "petalLength": 1.5,
          "petalWidth": 0.2,
          "sepalWidth": 3.1
         },
         {
          "c_0": 0.18853116453255087,
          "c_1": 3.191367272389973,
          "c_2": 4.602734008158001,
          "cluster": "c_0",
          "petalLength": 1.4,
          "petalWidth": 0.2,
          "sepalWidth": 3.6
         },
         {
          "c_0": 0.5505851432794016,
          "c_1": 2.9576954410797223,
          "c_2": 4.3038493855533195,
          "cluster": "c_0",
          "petalLength": 1.7000000000000002,
          "petalWidth": 0.4,
          "sepalWidth": 3.9
         },
         {
          "c_0": 0.08685620300243443,
          "c_1": 3.1091770502862834,
          "c_2": 4.5419650003208885,
          "cluster": "c_0",
          "petalLength": 1.4,
          "petalWidth": 0.30000000000000004,
          "sepalWidth": 3.4
         },
         {
          "c_0": 0.06590902821313654,
          "c_1": 3.0531760333808506,
          "c_2": 4.489995357351485,
          "cluster": "c_0",
          "petalLength": 1.5,
          "petalWidth": 0.2,
          "sepalWidth": 3.4
         },
         {
          "c_0": 0.533614092767424,
          "c_1": 3.0790757412286878,
          "c_2": 4.564867740987832,
          "cluster": "c_0",
          "petalLength": 1.4,
          "petalWidth": 0.2,
          "sepalWidth": 2.9
         },
         {
          "c_0": 0.3610318545502605,
          "c_1": 3.042496647754199,
          "c_2": 4.515286636646526,
          "cluster": "c_0",
          "petalLength": 1.5,
          "petalWidth": 0.1,
          "sepalWidth": 3.1
         },
         {
          "c_0": 0.27846723326093437,
          "c_1": 3.131077865000099,
          "c_2": 4.526459302726797,
          "cluster": "c_0",
          "petalLength": 1.5,
          "petalWidth": 0.2,
          "sepalWidth": 3.7
         },
         {
          "c_0": 0.1481350734971297,
          "c_1": 2.963126589420181,
          "c_2": 4.3993340338841,
          "cluster": "c_0",
          "petalLength": 1.6,
          "petalWidth": 0.2,
          "sepalWidth": 3.4
         },
         {
          "c_0": 0.45644714918597173,
          "c_1": 3.1237737309516795,
          "c_2": 4.604795320281994,
          "cluster": "c_0",
          "petalLength": 1.4,
          "petalWidth": 0.1,
          "sepalWidth": 3
         },
         {
          "c_0": 0.5792615989343681,
          "c_1": 3.40047885448959,
          "c_2": 4.878718586240834,
          "cluster": "c_0",
          "petalLength": 1.1,
          "petalWidth": 0.1,
          "sepalWidth": 3
         },
         {
          "c_0": 0.6308280272784328,
          "c_1": 3.4943822658980785,
          "c_2": 4.851326048771291,
          "cluster": "c_0",
          "petalLength": 1.2,
          "petalWidth": 0.2,
          "sepalWidth": 4
         },
         {
          "c_0": 0.984857350076649,
          "c_1": 3.3487957403250306,
          "c_2": 4.611172893298953,
          "cluster": "c_0",
          "petalLength": 1.5,
          "petalWidth": 0.4,
          "sepalWidth": 4.4
         },
         {
          "c_0": 0.5222489827658827,
          "c_1": 3.309837027062388,
          "c_2": 4.667632483702572,
          "cluster": "c_0",
          "petalLength": 1.3,
          "petalWidth": 0.4,
          "sepalWidth": 3.9
         },
         {
          "c_0": 0.10928860873851369,
          "c_1": 3.1317040353968686,
          "c_2": 4.5518169889478886,
          "cluster": "c_0",
          "petalLength": 1.4,
          "petalWidth": 0.30000000000000004,
          "sepalWidth": 3.5
         },
         {
          "c_0": 0.44490897945534796,
          "c_1": 2.9536487187132328,
          "c_2": 4.323200007984581,
          "cluster": "c_0",
          "petalLength": 1.7000000000000002,
          "petalWidth": 0.30000000000000004,
          "sepalWidth": 3.8
         },
         {
          "c_0": 0.3778147694307348,
          "c_1": 3.128509256070857,
          "c_2": 4.5035424993810995,
          "cluster": "c_0",
          "petalLength": 1.5,
          "petalWidth": 0.30000000000000004,
          "sepalWidth": 3.8
         },
         {
          "c_0": 0.24401639289195312,
          "c_1": 2.8737352833979886,
          "c_2": 4.309085932578278,
          "cluster": "c_0",
          "petalLength": 1.7000000000000002,
          "petalWidth": 0.2,
          "sepalWidth": 3.4
         },
         {
          "c_0": 0.3148714023216457,
          "c_1": 3.0643621299318142,
          "c_2": 4.449244047560459,
          "cluster": "c_0",
          "petalLength": 1.5,
          "petalWidth": 0.4,
          "sepalWidth": 3.7
         },
         {
          "c_0": 0.4951201874292745,
          "c_1": 3.554136166610844,
          "c_2": 4.968785950233917,
          "cluster": "c_0",
          "petalLength": 1,
          "petalWidth": 0.2,
          "sepalWidth": 3.6
         },
         {
          "c_0": 0.37086924919707254,
          "c_1": 2.747319829170314,
          "c_2": 4.181989705974253,
          "cluster": "c_0",
          "petalLength": 1.7000000000000002,
          "petalWidth": 0.5,
          "sepalWidth": 3.3
         },
         {
          "c_0": 0.4412980851986555,
          "c_1": 2.697188363329824,
          "c_2": 4.129937631447977,
          "cluster": "c_0",
          "petalLength": 1.9,
          "petalWidth": 0.2,
          "sepalWidth": 3.4
         },
         {
          "c_0": 0.4520442456220416,
          "c_1": 2.9013386985583742,
          "c_2": 4.3812980490663005,
          "cluster": "c_0",
          "petalLength": 1.6,
          "petalWidth": 0.2,
          "sepalWidth": 3
         },
         {
          "c_0": 0.20867199141236004,
          "c_1": 2.8925396888539905,
          "c_2": 4.319847071043274,
          "cluster": "c_0",
          "petalLength": 1.6,
          "petalWidth": 0.4,
          "sepalWidth": 3.4
         },
         {
          "c_0": 0.09350935782048692,
          "c_1": 3.076113152357264,
          "c_2": 4.499961127140165,
          "cluster": "c_0",
          "petalLength": 1.5,
          "petalWidth": 0.2,
          "sepalWidth": 3.5
         },
         {
          "c_0": 0.08212186067059171,
          "c_1": 3.1438270621479134,
          "c_2": 4.581045369387301,
          "cluster": "c_0",
          "petalLength": 1.4,
          "petalWidth": 0.2,
          "sepalWidth": 3.4
         },
         {
          "c_0": 0.2704514743905092,
          "c_1": 2.925567075686462,
          "c_2": 4.385767466273327,
          "cluster": "c_0",
          "petalLength": 1.6,
          "petalWidth": 0.2,
          "sepalWidth": 3.2
         },
         {
          "c_0": 0.3588091414666026,
          "c_1": 2.9117614048967884,
          "c_2": 4.382392546484952,
          "cluster": "c_0",
          "petalLength": 1.6,
          "petalWidth": 0.2,
          "sepalWidth": 3.1
         },
         {
          "c_0": 0.1610714127336073,
          "c_1": 2.9847195106873765,
          "c_2": 4.412142006389651,
          "cluster": "c_0",
          "petalLength": 1.5,
          "petalWidth": 0.4,
          "sepalWidth": 3.4
         },
         {
          "c_0": 0.6887263607558508,
          "c_1": 3.310992027253571,
          "c_2": 4.645829503805068,
          "cluster": "c_0",
          "petalLength": 1.5,
          "petalWidth": 0.1,
          "sepalWidth": 4.1
         },
         {
          "c_0": 0.7758505010631874,
          "c_1": 3.401228377960898,
          "c_2": 4.718337776194322,
          "cluster": "c_0",
          "petalLength": 1.4,
          "petalWidth": 0.2,
          "sepalWidth": 4.2
         },
         {
          "c_0": 0.3333826630165409,
          "c_1": 3.0033513255909425,
          "c_2": 4.473397232398862,
          "cluster": "c_0",
          "petalLength": 1.5,
          "petalWidth": 0.2,
          "sepalWidth": 3.1
         },
         {
          "c_0": 0.35034839802687895,
          "c_1": 3.293326819170859,
          "c_2": 4.7516975637775305,
          "cluster": "c_0",
          "petalLength": 1.2,
          "petalWidth": 0.2,
          "sepalWidth": 3.2
         },
         {
          "c_0": 0.18315021157508915,
          "c_1": 3.256685667648944,
          "c_2": 4.6820387525592375,
          "cluster": "c_0",
          "petalLength": 1.3,
          "petalWidth": 0.2,
          "sepalWidth": 3.5
         },
         {
          "c_0": 0.23397435756937074,
          "c_1": 3.2282335315073603,
          "c_2": 4.643456790161734,
          "cluster": "c_0",
          "petalLength": 1.4,
          "petalWidth": 0.1,
          "sepalWidth": 3.6
         },
         {
          "c_0": 0.4599391264069635,
          "c_1": 3.178531164138471,
          "c_2": 4.655483615779675,
          "cluster": "c_0",
          "petalLength": 1.3,
          "petalWidth": 0.2,
          "sepalWidth": 3
         },
         {
          "c_0": 0.06590902821313654,
          "c_1": 3.0531760333808506,
          "c_2": 4.489995357351485,
          "cluster": "c_0",
          "petalLength": 1.5,
          "petalWidth": 0.2,
          "sepalWidth": 3.4
         },
         {
          "c_0": 0.18532134253776586,
          "c_1": 3.2232491171492446,
          "c_2": 4.643808379791479,
          "cluster": "c_0",
          "petalLength": 1.3,
          "petalWidth": 0.30000000000000004,
          "sepalWidth": 3.5
         },
         {
          "c_0": 1.140852312966057,
          "c_1": 3.165797853255001,
          "c_2": 4.670102164557562,
          "cluster": "c_0",
          "petalLength": 1.3,
          "petalWidth": 0.30000000000000004,
          "sepalWidth": 2.3
         },
         {
          "c_0": 0.28345017198795336,
          "c_1": 3.2006619365355817,
          "c_2": 4.659690050879176,
          "cluster": "c_0",
          "petalLength": 1.3,
          "petalWidth": 0.2,
          "sepalWidth": 3.2
         },
         {
          "c_0": 0.3867091930637285,
          "c_1": 2.8590279385756836,
          "c_2": 4.258827224653056,
          "cluster": "c_0",
          "petalLength": 1.6,
          "petalWidth": 0.6000000000000001,
          "sepalWidth": 3.5
         },
         {
          "c_0": 0.5949319288792618,
          "c_1": 2.7466060283784697,
          "c_2": 4.103862931689984,
          "cluster": "c_0",
          "petalLength": 1.9,
          "petalWidth": 0.4,
          "sepalWidth": 3.8
         },
         {
          "c_0": 0.435825653214678,
          "c_1": 3.0503489945988873,
          "c_2": 4.5244976204216485,
          "cluster": "c_0",
          "petalLength": 1.4,
          "petalWidth": 0.30000000000000004,
          "sepalWidth": 3
         },
         {
          "c_0": 0.399429593295238,
          "c_1": 3.076113152357264,
          "c_2": 4.453370329158549,
          "cluster": "c_0",
          "petalLength": 1.6,
          "petalWidth": 0.2,
          "sepalWidth": 3.8
         },
         {
          "c_0": 0.24071559982685029,
          "c_1": 3.1084517249115104,
          "c_2": 4.568018498530347,
          "cluster": "c_0",
          "petalLength": 1.4,
          "petalWidth": 0.2,
          "sepalWidth": 3.2
         },
         {
          "c_0": 0.27846723326093437,
          "c_1": 3.131077865000099,
          "c_2": 4.526459302726797,
          "cluster": "c_0",
          "petalLength": 1.5,
          "petalWidth": 0.2,
          "sepalWidth": 3.7
         },
         {
          "c_0": 0.1494790955284393,
          "c_1": 3.1245896308794636,
          "c_2": 4.573443433524694,
          "cluster": "c_0",
          "petalLength": 1.4,
          "petalWidth": 0.2,
          "sepalWidth": 3.3
         },
         {
          "c_0": 3.445046298672922,
          "c_1": 0.6357962189158544,
          "c_2": 1.1014170570350241,
          "cluster": "c_1",
          "petalLength": 4.7,
          "petalWidth": 1.4,
          "sepalWidth": 3.2
         },
         {
          "c_0": 3.294532440271305,
          "c_1": 0.5395364464850694,
          "c_2": 1.220010514699227,
          "cluster": "c_1",
          "petalLength": 4.5,
          "petalWidth": 1.5,
          "sepalWidth": 3.2
         },
         {
          "c_0": 3.6742269935321095,
          "c_1": 0.7506347435752005,
          "c_2": 0.8689996259229484,
          "cluster": "c_1",
          "petalLength": 4.9,
          "petalWidth": 1.5,
          "sepalWidth": 3.1
         },
         {
          "c_0": 2.9706470675595242,
          "c_1": 0.5176507724168641,
          "c_2": 1.8774323387512304,
          "cluster": "c_1",
          "petalLength": 4,
          "petalWidth": 1.3,
          "sepalWidth": 2.3
         },
         {
          "c_0": 3.4371418358863224,
          "c_1": 0.38338222445349823,
          "c_2": 1.1331989859203717,
          "cluster": "c_1",
          "petalLength": 4.6,
          "petalWidth": 1.5,
          "sepalWidth": 2.8
         },
         {
          "c_0": 3.276391917948767,
          "c_1": 0.2491585223158119,
          "c_2": 1.3202725224466698,
          "cluster": "c_1",
          "petalLength": 4.5,
          "petalWidth": 1.3,
          "sepalWidth": 2.8
         },
         {
          "c_0": 3.5120284736886744,
          "c_1": 0.7559707229440046,
          "c_2": 1.024524350990542,
          "cluster": "c_1",
          "petalLength": 4.7,
          "petalWidth": 1.6,
          "sepalWidth": 3.3
         },
         {
          "c_0": 2.236860299616407,
          "c_1": 1.072801705188039,
          "c_2": 2.573978327703416,
          "cluster": "c_1",
          "petalLength": 3.3,
          "petalWidth": 1,
          "sepalWidth": 2.4
         },
         {
          "c_0": 3.3521252959876064,
          "c_1": 0.3753711478714944,
          "c_2": 1.227514970546367,
          "cluster": "c_1",
          "petalLength": 4.6,
          "petalWidth": 1.3,
          "sepalWidth": 2.9
         },
         {
          "c_0": 2.7938403676659838,
          "c_1": 0.36798546516939007,
          "c_2": 1.8200294746596086,
          "cluster": "c_1",
          "petalLength": 3.9,
          "petalWidth": 1.4,
          "sepalWidth": 2.7
         },
         {
          "c_0": 2.6002199906930956,
          "c_1": 1.11580515580149,
          "c_2": 2.528865427391149,
          "cluster": "c_1",
          "petalLength": 3.5,
          "petalWidth": 1,
          "sepalWidth": 2
         },
         {
          "c_0": 3.0417665919659256,
          "c_1": 0.308572883035045,
          "c_2": 1.478849919548329,
          "cluster": "c_1",
          "petalLength": 4.2,
          "petalWidth": 1.5,
          "sepalWidth": 3
         },
         {
          "c_0": 2.9185516956189073,
          "c_1": 0.6909226345182636,
          "c_2": 2.0505492402253878,
          "cluster": "c_1",
          "petalLength": 4,
          "petalWidth": 1,
          "sepalWidth": 2.2
         },
         {
          "c_0": 3.4778073552167896,
          "c_1": 0.4716695094081704,
          "c_2": 1.0882757110785903,
          "cluster": "c_1",
          "petalLength": 4.7,
          "petalWidth": 1.4,
          "sepalWidth": 2.9
         },
         {
          "c_0": 2.4414634955288603,
          "c_1": 0.6771636120450454,
          "c_2": 2.113285753603812,
          "cluster": "c_1",
          "petalLength": 3.6,
          "petalWidth": 1.3,
          "sepalWidth": 2.9
         },
         {
          "c_0": 3.173506577904007,
          "c_1": 0.385930970952887,
          "c_2": 1.342118772252968,
          "cluster": "c_1",
          "petalLength": 4.4,
          "petalWidth": 1.4,
          "sepalWidth": 3.1
         },
         {
          "c_0": 3.3143844073975486,
          "c_1": 0.38719905281069683,
          "c_2": 1.203844667100903,
          "cluster": "c_1",
          "petalLength": 4.5,
          "petalWidth": 1.5,
          "sepalWidth": 3
         },
         {
          "c_0": 2.838581335808435,
          "c_1": 0.3722238002571749,
          "c_2": 1.8294242271587657,
          "cluster": "c_1",
          "petalLength": 4.1,
          "petalWidth": 1,
          "sepalWidth": 2.7
         },
         {
          "c_0": 3.50855297808085,
          "c_1": 0.6206587018197361,
          "c_2": 1.4465501334657338,
          "cluster": "c_1",
          "petalLength": 4.5,
          "petalWidth": 1.5,
          "sepalWidth": 2.2
         },
         {
          "c_0": 2.7448759534813227,
          "c_1": 0.49420322943875755,
          "c_2": 1.9856775800454203,
          "cluster": "c_1",
          "petalLength": 3.9,
          "petalWidth": 1.1,
          "sepalWidth": 2.5
         },
         {
          "c_0": 3.689057332164953,
          "c_1": 0.8460528703566209,
          "c_2": 0.8373044351973563,
          "cluster": "c_2",
          "petalLength": 4.8,
          "petalWidth": 1.8,
          "sepalWidth": 3.2
         },
         {
          "c_0": 2.8189969847447514,
          "c_1": 0.26627710876897326,
          "c_2": 1.7529151064048665,
          "cluster": "c_1",
          "petalLength": 4,
          "petalWidth": 1.3,
          "sepalWidth": 2.8
         },
         {
          "c_0": 3.77538660272031,
          "c_1": 0.7070524071789175,
          "c_2": 0.9988039494545765,
          "cluster": "c_1",
          "petalLength": 4.9,
          "petalWidth": 1.5,
          "sepalWidth": 2.5
         },
         {
          "c_0": 3.433532291969889,
          "c_1": 0.46391510445830486,
          "c_2": 1.2279305400057094,
          "cluster": "c_1",
          "petalLength": 4.7,
          "petalWidth": 1.2,
          "sepalWidth": 2.8
         },
         {
          "c_0": 3.0731000634538406,
          "c_1": 0.1618567771254029,
          "c_2": 1.478021686226648,
          "cluster": "c_1",
          "petalLength": 4.3,
          "petalWidth": 1.3,
          "sepalWidth": 2.9
         },
         {
          "c_0": 3.1853954228635417,
          "c_1": 0.29724481332147823,
          "c_2": 1.338540609058657,
          "cluster": "c_1",
          "petalLength": 4.4,
          "petalWidth": 1.4,
          "sepalWidth": 3
         },
         {
          "c_0": 3.587247412710754,
          "c_1": 0.5478313471579308,
          "c_2": 1.024125880564484,
          "cluster": "c_1",
          "petalLength": 4.8,
          "petalWidth": 1.4,
          "sepalWidth": 2.8
         },
         {
          "c_0": 3.848992595472223,
          "c_1": 0.8647347823190662,
          "c_2": 0.6682730888512544,
          "cluster": "c_2",
          "petalLength": 5,
          "petalWidth": 1.7000000000000002,
          "sepalWidth": 3
         },
         {
          "c_0": 3.3287751501115244,
          "c_1": 0.33065823927944576,
          "c_2": 1.2081598179763267,
          "cluster": "c_1",
          "petalLength": 4.5,
          "petalWidth": 1.5,
          "sepalWidth": 2.9
         },
         {
          "c_0": 2.325412651552408,
          "c_1": 0.8417544520095472,
          "c_2": 2.356419183902215,
          "cluster": "c_1",
          "petalLength": 3.5,
          "petalWidth": 1,
          "sepalWidth": 2.6
         },
         {
          "c_0": 2.6930176382638122,
          "c_1": 0.6208166416712206,
          "c_2": 2.0974370032273395,
          "cluster": "c_1",
          "petalLength": 3.8,
          "petalWidth": 1.1,
          "sepalWidth": 2.4
         },
         {
          "c_0": 2.5756443853917417,
          "c_1": 0.7374582531404419,
          "c_2": 2.2274853449796512,
          "cluster": "c_1",
          "petalLength": 3.7,
          "petalWidth": 1,
          "sepalWidth": 2.4
         },
         {
          "c_0": 2.7173413477147106,
          "c_1": 0.38567685425659876,
          "c_2": 1.8988334611333157,
          "cluster": "c_1",
          "petalLength": 3.9,
          "petalWidth": 1.2,
          "sepalWidth": 2.7
         },
         {
          "c_0": 3.949473889013573,
          "c_1": 0.8836874439836538,
          "c_2": 0.7130397295920293,
          "cluster": "c_2",
          "petalLength": 5.1,
          "petalWidth": 1.6,
          "sepalWidth": 2.7
         },
         {
          "c_0": 3.3143844073975486,
          "c_1": 0.38719905281069683,
          "c_2": 1.203844667100903,
          "cluster": "c_1",
          "petalLength": 4.5,
          "petalWidth": 1.5,
          "sepalWidth": 3
         },
         {
          "c_0": 3.326190613900532,
          "c_1": 0.7453920988361121,
          "c_2": 1.2292594181868863,
          "cluster": "c_1",
          "petalLength": 4.5,
          "petalWidth": 1.6,
          "sepalWidth": 3.4
         },
         {
          "c_0": 3.487799306152807,
          "c_1": 0.589051721011757,
          "c_2": 1.0329555094717784,
          "cluster": "c_1",
          "petalLength": 4.7,
          "petalWidth": 1.5,
          "sepalWidth": 3.1
         },
         {
          "c_0": 3.318907049014781,
          "c_1": 0.47000372195799084,
          "c_2": 1.5559815928220875,
          "cluster": "c_1",
          "petalLength": 4.4,
          "petalWidth": 1.3,
          "sepalWidth": 2.3
         },
         {
          "c_0": 2.872828571286494,
          "c_1": 0.30052497959445224,
          "c_2": 1.651053202166676,
          "cluster": "c_1",
          "petalLength": 4.1,
          "petalWidth": 1.3,
          "sepalWidth": 3
         },
         {
          "c_0": 2.9006109701233633,
          "c_1": 0.3593588634944336,
          "c_2": 1.812163309433866,
          "cluster": "c_1",
          "petalLength": 4,
          "petalWidth": 1.3,
          "sepalWidth": 2.5
         },
         {
          "c_0": 3.1980531577820908,
          "c_1": 0.24358750214939914,
          "c_2": 1.4987944621095115,
          "cluster": "c_1",
          "petalLength": 4.4,
          "petalWidth": 1.2,
          "sepalWidth": 2.6
         },
         {
          "c_0": 3.370748284876816,
          "c_1": 0.42991286010285185,
          "c_2": 1.1661278778098243,
          "cluster": "c_1",
          "petalLength": 4.6,
          "petalWidth": 1.4,
          "sepalWidth": 3
         },
         {
          "c_0": 2.834985714249721,
          "c_1": 0.3261804634443871,
          "c_2": 1.8303164505182963,
          "cluster": "c_1",
          "petalLength": 4,
          "petalWidth": 1.2,
          "sepalWidth": 2.6
         },
         {
          "c_0": 2.28454459356783,
          "c_1": 1.109195773234034,
          "c_2": 2.5991869103148737,
          "cluster": "c_1",
          "petalLength": 3.3,
          "petalWidth": 1,
          "sepalWidth": 2.3
         },
         {
          "c_0": 3.022837077978236,
          "c_1": 0.08237628053960781,
          "c_2": 1.5910005653153656,
          "cluster": "c_1",
          "petalLength": 4.2,
          "petalWidth": 1.3,
          "sepalWidth": 2.7
         },
         {
          "c_0": 2.9308606244582838,
          "c_1": 0.29191989336898494,
          "c_2": 1.6113934719002658,
          "cluster": "c_1",
          "petalLength": 4.2,
          "petalWidth": 1.2,
          "sepalWidth": 3
         },
         {
          "c_0": 2.980997148606486,
          "c_1": 0.16721938339730616,
          "c_2": 1.5653965862691797,
          "cluster": "c_1",
          "petalLength": 4.2,
          "petalWidth": 1.3,
          "sepalWidth": 2.9
         },
         {
          "c_0": 3.0731000634538406,
          "c_1": 0.1618567771254029,
          "c_2": 1.478021686226648,
          "cluster": "c_1",
          "petalLength": 4.3,
          "petalWidth": 1.3,
          "sepalWidth": 2.9
         },
         {
          "c_0": 1.9889555047813414,
          "c_1": 1.3038861855732937,
          "c_2": 2.78858041985837,
          "cluster": "c_1",
          "petalLength": 3,
          "petalWidth": 1.1,
          "sepalWidth": 2.5
         },
         {
          "c_0": 2.9093545675974246,
          "c_1": 0.1707008868518579,
          "c_2": 1.6633679697876376,
          "cluster": "c_1",
          "petalLength": 4.1,
          "petalWidth": 1.3,
          "sepalWidth": 2.8
         },
         {
          "c_0": 5.0685642937620905,
          "c_1": 2.1676140241006685,
          "c_2": 0.6956549863677476,
          "cluster": "c_2",
          "petalLength": 6,
          "petalWidth": 2.5,
          "sepalWidth": 3.3
         },
         {
          "c_0": 4.062110781354934,
          "c_1": 1.0153341807771288,
          "c_2": 0.5820943387819371,
          "cluster": "c_2",
          "petalLength": 5.1,
          "petalWidth": 1.9,
          "sepalWidth": 2.7
         },
         {
          "c_0": 4.8287000320997375,
          "c_1": 1.8289935003013436,
          "c_2": 0.3274158917657472,
          "cluster": "c_2",
          "petalLength": 5.9,
          "petalWidth": 2.1,
          "sepalWidth": 3
         },
         {
          "c_0": 4.451600161739597,
          "c_1": 1.4282587673448743,
          "c_2": 0.25486519617549636,
          "cluster": "c_2",
          "petalLength": 5.6,
          "petalWidth": 1.8,
          "sepalWidth": 2.9
         },
         {
          "c_0": 4.776980636343421,
          "c_1": 1.7861453645658985,
          "c_2": 0.2767470348220549,
          "cluster": "c_2",
          "petalLength": 5.8,
          "petalWidth": 2.2,
          "sepalWidth": 3
         },
         {
          "c_0": 5.479009399517398,
          "c_1": 2.476462049571543,
          "c_2": 1.022630233638821,
          "cluster": "c_2",
          "petalLength": 6.6,
          "petalWidth": 2.1,
          "sepalWidth": 3
         },
         {
          "c_0": 3.493528874934341,
          "c_1": 0.5036353807007405,
          "c_2": 1.236212592697558,
          "cluster": "c_1",
          "petalLength": 4.5,
          "petalWidth": 1.7000000000000002,
          "sepalWidth": 2.5
         },
         {
          "c_0": 5.108810429052931,
          "c_1": 2.099421388221295,
          "c_2": 0.7638898459810847,
          "cluster": "c_2",
          "petalLength": 6.3,
          "petalWidth": 1.8,
          "sepalWidth": 2.9
         },
         {
          "c_0": 4.700462104942448,
          "c_1": 1.6291226944451804,
          "c_2": 0.5956107676905459,
          "cluster": "c_2",
          "petalLength": 5.8,
          "petalWidth": 1.8,
          "sepalWidth": 2.5
         },
         {
          "c_0": 5.1595681989871975,
          "c_1": 2.340630376090572,
          "c_2": 0.9202135637532488,
          "cluster": "c_2",
          "petalLength": 6.1,
          "petalWidth": 2.5,
          "sepalWidth": 3.6
         },
         {
          "c_0": 4.045187758312338,
          "c_1": 1.1649798317817714,
          "c_2": 0.5198676664984587,
          "cluster": "c_2",
          "petalLength": 5.1,
          "petalWidth": 2,
          "sepalWidth": 3.2
         },
         {
          "c_0": 4.2421626560045995,
          "c_1": 1.1863279845344867,
          "c_2": 0.4324315952241504,
          "cluster": "c_2",
          "petalLength": 5.3,
          "petalWidth": 1.9,
          "sepalWidth": 2.7
         },
         {
          "c_0": 4.46384856373959,
          "c_1": 1.4806336642377045,
          "c_2": 0.10428152074319222,
          "cluster": "c_2",
          "petalLength": 5.5,
          "petalWidth": 2.1,
          "sepalWidth": 3
         },
         {
          "c_0": 4.0564940527504785,
          "c_1": 1.0270467697635854,
          "c_2": 0.7674880460793072,
          "cluster": "c_2",
          "petalLength": 5,
          "petalWidth": 2,
          "sepalWidth": 2.5
         },
         {
          "c_0": 4.274241921089633,
          "c_1": 1.3594698969139212,
          "c_2": 0.6370028216202694,
          "cluster": "c_2",
          "petalLength": 5.1,
          "petalWidth": 2.4,
          "sepalWidth": 2.8
         },
         {
          "c_0": 4.359030167365213,
          "c_1": 1.4911903287956163,
          "c_2": 0.43455013432512224,
          "cluster": "c_2",
          "petalLength": 5.3,
          "petalWidth": 2.3,
          "sepalWidth": 3.2
         },
         {
          "c_0": 4.347820603474803,
          "c_1": 1.349917052145787,
          "c_2": 0.24589931334431708,
          "cluster": "c_2",
          "petalLength": 5.5,
          "petalWidth": 1.8,
          "sepalWidth": 3
         },
         {
          "c_0": 5.602958504218998,
          "c_1": 2.7962723030441814,
          "c_2": 1.3856616863570654,
          "cluster": "c_2",
          "petalLength": 6.7,
          "petalWidth": 2.2,
          "sepalWidth": 3.8
         },
         {
          "c_0": 5.871655984473205,
          "c_1": 2.816360042823223,
          "c_2": 1.405912131423157,
          "cluster": "c_2",
          "petalLength": 6.9,
          "petalWidth": 2.3,
          "sepalWidth": 2.6
         },
         {
          "c_0": 3.9494232490326993,
          "c_1": 0.9361590114573461,
          "c_2": 1.1237951111724236,
          "cluster": "c_1",
          "petalLength": 5,
          "petalWidth": 1.5,
          "sepalWidth": 2.2
         },
         {
          "c_0": 4.715033828086496,
          "c_1": 1.7934853702119142,
          "c_2": 0.35378008685372353,
          "cluster": "c_2",
          "petalLength": 5.7,
          "petalWidth": 2.3,
          "sepalWidth": 3.2
         },
         {
          "c_0": 3.9103380927996496,
          "c_1": 0.9264742193102413,
          "c_2": 0.7097406416612005,
          "cluster": "c_2",
          "petalLength": 4.9,
          "petalWidth": 2,
          "sepalWidth": 2.8
         },
         {
          "c_0": 5.55945536900873,
          "c_1": 2.531124211326692,
          "c_2": 1.1389473939479218,
          "cluster": "c_2",
          "petalLength": 6.7,
          "petalWidth": 2,
          "sepalWidth": 2.8
         },
         {
          "c_0": 3.842491899796277,
          "c_1": 0.7944177598000544,
          "c_2": 0.7792311378408555,
          "cluster": "c_2",
          "petalLength": 4.9,
          "petalWidth": 1.8,
          "sepalWidth": 2.7
         },
         {
          "c_0": 4.627563505777094,
          "c_1": 1.7235171428772094,
          "c_2": 0.3283495257781226,
          "cluster": "c_2",
          "petalLength": 5.7,
          "petalWidth": 2.1,
          "sepalWidth": 3.3
         },
         {
          "c_0": 4.802118699074399,
          "c_1": 1.8586632263135896,
          "c_2": 0.5196713471396155,
          "cluster": "c_2",
          "petalLength": 6,
          "petalWidth": 1.8,
          "sepalWidth": 3.2
         },
         {
          "c_0": 3.7351765687849348,
          "c_1": 0.7165560119503616,
          "c_2": 0.8382788141557603,
          "cluster": "c_1",
          "petalLength": 4.8,
          "petalWidth": 1.8,
          "sepalWidth": 2.8
         },
         {
          "c_0": 3.79709678570352,
          "c_1": 0.8323846965004159,
          "c_2": 0.7183151650806465,
          "cluster": "c_2",
          "petalLength": 4.9,
          "petalWidth": 1.8,
          "sepalWidth": 3
         },
         {
          "c_0": 4.577635197348081,
          "c_1": 1.5457473503788977,
          "c_2": 0.2139453078526998,
          "cluster": "c_2",
          "petalLength": 5.6,
          "petalWidth": 2.1,
          "sepalWidth": 2.8
         },
         {
          "c_0": 4.564509174051466,
          "c_1": 1.584397444885672,
          "c_2": 0.4855642025028073,
          "cluster": "c_2",
          "petalLength": 5.8,
          "petalWidth": 1.6,
          "sepalWidth": 3
         },
         {
          "c_0": 4.963984689742707,
          "c_1": 1.927133797930219,
          "c_2": 0.5737961158001073,
          "cluster": "c_2",
          "petalLength": 6.1,
          "petalWidth": 1.9,
          "sepalWidth": 2.8
         },
         {
          "c_0": 5.253450675508432,
          "c_1": 2.47745156234232,
          "c_2": 1.144934336793389,
          "cluster": "c_2",
          "petalLength": 6.4,
          "petalWidth": 2,
          "sepalWidth": 3.8
         },
         {
          "c_0": 4.619041459004238,
          "c_1": 1.5977071710850885,
          "c_2": 0.26313871343321676,
          "cluster": "c_2",
          "petalLength": 5.6,
          "petalWidth": 2.2,
          "sepalWidth": 2.8
         },
         {
          "c_0": 3.8989670426922047,
          "c_1": 0.8591614520072158,
          "c_2": 0.7446798674304728,
          "cluster": "c_2",
          "petalLength": 5.1,
          "petalWidth": 1.5,
          "sepalWidth": 2.8
         },
         {
          "c_0": 4.374967885596419,
          "c_1": 1.350860861555258,
          "c_2": 0.7498687931879043,
          "cluster": "c_2",
          "petalLength": 5.6,
          "petalWidth": 1.4,
          "sepalWidth": 2.6
         },
         {
          "c_0": 5.0904954572222145,
          "c_1": 2.094839965020364,
          "c_2": 0.5850668397688303,
          "cluster": "c_2",
          "petalLength": 6.1,
          "petalWidth": 2.3,
          "sepalWidth": 3
         },
         {
          "c_0": 4.6651413697764825,
          "c_1": 1.8338114087790183,
          "c_2": 0.5419702744852862,
          "cluster": "c_2",
          "petalLength": 5.6,
          "petalWidth": 2.4,
          "sepalWidth": 3.4
         },
         {
          "c_0": 4.339117882703811,
          "c_1": 1.3721750190730369,
          "c_2": 0.2646853018924562,
          "cluster": "c_2",
          "petalLength": 5.5,
          "petalWidth": 1.8,
          "sepalWidth": 3.1
         },
         {
          "c_0": 3.706797000106696,
          "c_1": 0.7580428674227083,
          "c_2": 0.813569323248963,
          "cluster": "c_1",
          "petalLength": 4.8,
          "petalWidth": 1.8,
          "sepalWidth": 3
         },
         {
          "c_0": 4.3649449022868545,
          "c_1": 1.4193762675381194,
          "c_2": 0.21537139933181731,
          "cluster": "c_2",
          "petalLength": 5.4,
          "petalWidth": 2.1,
          "sepalWidth": 3.1
         },
         {
          "c_0": 4.676573959641823,
          "c_1": 1.7495998334149825,
          "c_2": 0.3807312283246208,
          "cluster": "c_2",
          "petalLength": 5.6,
          "petalWidth": 2.4,
          "sepalWidth": 3.1
         },
         {
          "c_0": 4.190649591650439,
          "c_1": 1.3291312099127635,
          "c_2": 0.5577443116708272,
          "cluster": "c_2",
          "petalLength": 5.1,
          "petalWidth": 2.3,
          "sepalWidth": 3.1
         },
         {
          "c_0": 4.062110781354934,
          "c_1": 1.0153341807771288,
          "c_2": 0.5820943387819371,
          "cluster": "c_2",
          "petalLength": 5.1,
          "petalWidth": 1.9,
          "sepalWidth": 2.7
         },
         {
          "c_0": 4.895584132664866,
          "c_1": 1.9578203087616244,
          "c_2": 0.4618696950010377,
          "cluster": "c_2",
          "petalLength": 5.9,
          "petalWidth": 2.3,
          "sepalWidth": 3.2
         },
         {
          "c_0": 4.8018271522411125,
          "c_1": 1.934901722342753,
          "c_2": 0.5671780691274357,
          "cluster": "c_2",
          "petalLength": 5.7,
          "petalWidth": 2.5,
          "sepalWidth": 3.3
         },
         {
          "c_0": 4.286577189320169,
          "c_1": 1.3726750642405132,
          "c_2": 0.46429356351292644,
          "cluster": "c_2",
          "petalLength": 5.2,
          "petalWidth": 2.3,
          "sepalWidth": 3
         },
         {
          "c_0": 4.014267554610679,
          "c_1": 0.9651381942232322,
          "c_2": 0.7781828275665884,
          "cluster": "c_2",
          "petalLength": 5,
          "petalWidth": 1.9,
          "sepalWidth": 2.5
         },
         {
          "c_0": 4.151185854668519,
          "c_1": 1.1807780621216237,
          "c_2": 0.38099914678936725,
          "cluster": "c_2",
          "petalLength": 5.2,
          "petalWidth": 2,
          "sepalWidth": 3
         },
         {
          "c_0": 4.441569992694025,
          "c_1": 1.6318885873120939,
          "c_2": 0.5119561752381067,
          "cluster": "c_2",
          "petalLength": 5.4,
          "petalWidth": 2.3,
          "sepalWidth": 3.4
         },
         {
          "c_0": 3.979088337797993,
          "c_1": 0.9946531411519206,
          "c_2": 0.5330477855605072,
          "cluster": "c_2",
          "petalLength": 5.1,
          "petalWidth": 1.8,
          "sepalWidth": 3
         }
        ]
       },
       "layer": [
        {
         "data": {
          "name": "data-c8c75c7bb729df869bbd30fa99a247eb"
         },
         "encoding": {
          "color": {
           "field": "cluster",
           "scale": {
            "scheme": "category10"
           },
           "type": "nominal"
          },
          "x": {
           "field": "petalLength",
           "type": "quantitative"
          },
          "y": {
           "field": "petalWidth",
           "type": "quantitative"
          }
         },
         "mark": {
          "opacity": 0.5,
          "size": 60,
          "type": "circle"
         },
         "selection": {
          "selector005": {
           "bind": "scales",
           "encodings": [
            "x",
            "y"
           ],
           "type": "interval"
          }
         }
        },
        {
         "data": {
          "name": "data-c80453efc14fb94b93609cda7ab2b747"
         },
         "encoding": {
          "x": {
           "field": "petalLength",
           "type": "quantitative"
          },
          "y": {
           "field": "petalWidth",
           "type": "quantitative"
          }
         },
         "mark": {
          "color": "black",
          "opacity": 1,
          "size": 100,
          "type": "point"
         },
         "selection": {
          "selector006": {
           "bind": "scales",
           "encodings": [
            "x",
            "y"
           ],
           "type": "interval"
          }
         }
        }
       ]
      },
      "image/png": "[encoded data removed]",
      "text/plain": [
       "<VegaLite 3 object>\n",
       "\n",
       "If you see this message, it means the renderer has not been properly enabled\n",
       "for the frontend that you are using. For more information, see\n",
       "https://altair-viz.github.io/user_guide/troubleshooting.html\n"
      ]
     },
     "execution_count": 16,
     "metadata": {},
     "output_type": "execute_result"
    }
   ],
   "source": [
    "test2.plot('petalLength', 'petalWidth')"
   ]
  },
  {
   "cell_type": "markdown",
   "metadata": {},
   "source": [
    "Now the result looks slightly better.\n",
    "\n",
    "Let's check to be sure!"
   ]
  },
  {
   "cell_type": "code",
   "execution_count": 17,
   "metadata": {},
   "outputs": [
    {
     "data": {
      "text/plain": [
       "species     result2\n",
       "setosa      c_0        50\n",
       "versicolor  c_1        47\n",
       "            c_2         3\n",
       "virginica   c_1         4\n",
       "            c_2        46\n",
       "dtype: int64"
      ]
     },
     "execution_count": 17,
     "metadata": {},
     "output_type": "execute_result"
    }
   ],
   "source": [
    "iris['result2'] = test2.result()\n",
    "iris.groupby(['species', 'result2']).size()"
   ]
  },
  {
   "cell_type": "code",
   "execution_count": 18,
   "metadata": {},
   "outputs": [
    {
     "data": {
      "text/plain": [
       "0.9533333333333334"
      ]
     },
     "execution_count": 18,
     "metadata": {},
     "output_type": "execute_result"
    }
   ],
   "source": [
    "map2 = {'c_1': 'versicolor', \n",
    "       'c_0': 'setosa', \n",
    "       'c_2': 'virginica'}\n",
    "(iris['species'] == iris['result2'].apply(lambda x : map2[x])).sum() / iris['species'].count()"
   ]
  },
  {
   "cell_type": "markdown",
   "metadata": {},
   "source": [
    "And indeed, the clustering result now better represents the actual undelying classes. \n",
    "\n",
    "In a real scenario, you would probably use supervised learning instead of clustering when you have the class labels. \n",
    "\n",
    "Still, this toy example shows how you can use visualization to get insights that might suggest what you should investigate next."
   ]
  },
  {
   "cell_type": "markdown",
   "metadata": {},
   "source": [
    "# Spot patterns or outliers "
   ]
  },
  {
   "cell_type": "markdown",
   "metadata": {},
   "source": [
    "Another important use of data visualization is to identify patterns or outliers that certain algorithms may find challenging. \n",
    "\n",
    "In this example, we are going to look at 3 different datasets, each with 2 features, __x__ and __y__."
   ]
  },
  {
   "cell_type": "code",
   "execution_count": 19,
   "metadata": {},
   "outputs": [],
   "source": [
    "df = pd.read_csv(\"../Data/random_data.csv\")\n",
    "dataset1 = df[df['dataset'] == 'dataset1'].reset_index(drop=True)\n",
    "dataset2 = df[df['dataset'] == 'dataset2'].reset_index(drop=True)\n",
    "dataset3 = df[df['dataset'] == 'dataset3'].reset_index(drop=True)"
   ]
  },
  {
   "cell_type": "code",
   "execution_count": 21,
   "metadata": {},
   "outputs": [
    {
     "data": {
      "text/html": [
       "<div>\n",
       "<style scoped>\n",
       "    .dataframe tbody tr th:only-of-type {\n",
       "        vertical-align: middle;\n",
       "    }\n",
       "\n",
       "    .dataframe tbody tr th {\n",
       "        vertical-align: top;\n",
       "    }\n",
       "\n",
       "    .dataframe thead th {\n",
       "        text-align: right;\n",
       "    }\n",
       "</style>\n",
       "<table border=\"1\" class=\"dataframe\">\n",
       "  <thead>\n",
       "    <tr style=\"text-align: right;\">\n",
       "      <th></th>\n",
       "      <th>dataset</th>\n",
       "      <th>x</th>\n",
       "      <th>y</th>\n",
       "    </tr>\n",
       "  </thead>\n",
       "  <tbody>\n",
       "    <tr>\n",
       "      <th>0</th>\n",
       "      <td>dataset1</td>\n",
       "      <td>32.331110</td>\n",
       "      <td>61.411101</td>\n",
       "    </tr>\n",
       "    <tr>\n",
       "      <th>1</th>\n",
       "      <td>dataset1</td>\n",
       "      <td>53.421463</td>\n",
       "      <td>26.186880</td>\n",
       "    </tr>\n",
       "    <tr>\n",
       "      <th>2</th>\n",
       "      <td>dataset1</td>\n",
       "      <td>63.920202</td>\n",
       "      <td>30.832194</td>\n",
       "    </tr>\n",
       "    <tr>\n",
       "      <th>3</th>\n",
       "      <td>dataset1</td>\n",
       "      <td>70.289506</td>\n",
       "      <td>82.533649</td>\n",
       "    </tr>\n",
       "    <tr>\n",
       "      <th>4</th>\n",
       "      <td>dataset1</td>\n",
       "      <td>34.118830</td>\n",
       "      <td>45.734551</td>\n",
       "    </tr>\n",
       "  </tbody>\n",
       "</table>\n",
       "</div>"
      ],
      "text/plain": [
       "    dataset          x          y\n",
       "0  dataset1  32.331110  61.411101\n",
       "1  dataset1  53.421463  26.186880\n",
       "2  dataset1  63.920202  30.832194\n",
       "3  dataset1  70.289506  82.533649\n",
       "4  dataset1  34.118830  45.734551"
      ]
     },
     "execution_count": 21,
     "metadata": {},
     "output_type": "execute_result"
    }
   ],
   "source": [
    "dataset1.head()"
   ]
  },
  {
   "cell_type": "markdown",
   "metadata": {},
   "source": [
    "One of the first things you may do when encountering new datasets is to compute a set of summary stastistics to get an idea of how similar the datasets are.\n",
    "\n",
    "Statistics which many algorithms also rely on. \n",
    "\n",
    "Try the __stats__ function on the 3 datasets."
   ]
  },
  {
   "cell_type": "code",
   "execution_count": 22,
   "metadata": {},
   "outputs": [],
   "source": [
    "def stats(df):\n",
    "    print(\"Mean x:\", df.x.mean()) \n",
    "    print(\"Mean y:\", df.y.mean()) \n",
    "    print(\"Std x:\", df.x.std()) \n",
    "    print(\"Std y:\", df.y.std())\n",
    "    print(\"Corr:\", df.x.corr(df.y))"
   ]
  },
  {
   "cell_type": "code",
   "execution_count": 23,
   "metadata": {},
   "outputs": [
    {
     "name": "stdout",
     "output_type": "stream",
     "text": [
      "Mean x: 54.26609978420493\n",
      "Mean y: 47.83472062488411\n",
      "Std x: 16.769824954157368\n",
      "Std y: 26.939743418883353\n",
      "Corr: -0.06412835215474486\n"
     ]
    }
   ],
   "source": [
    "stats(dataset1)"
   ]
  },
  {
   "cell_type": "markdown",
   "metadata": {},
   "source": [
    "Looks quite similar, eh?\n",
    "\n",
    "Now try and visualize the 3 datasets!"
   ]
  },
  {
   "cell_type": "code",
   "execution_count": 24,
   "metadata": {},
   "outputs": [
    {
     "data": {
      "application/vnd.vegalite.v3+json": {
       "$schema": "https://vega.github.io/schema/vega-lite/v3.4.0.json",
       "config": {
        "mark": {
         "tooltip": null
        },
        "view": {
         "height": 300,
         "width": 400
        }
       },
       "data": {
        "name": "data-9f5078c4498a0a46462c69bb3e026bcf"
       },
       "datasets": {
        "data-9f5078c4498a0a46462c69bb3e026bcf": [
         {
          "dataset": "dataset1",
          "x": 32.331110226599996,
          "y": 61.411101248
         },
         {
          "dataset": "dataset1",
          "x": 53.4214628807,
          "y": 26.1868803879
         },
         {
          "dataset": "dataset1",
          "x": 63.92020226,
          "y": 30.8321939163
         },
         {
          "dataset": "dataset1",
          "x": 70.2895057187,
          "y": 82.5336485877
         },
         {
          "dataset": "dataset1",
          "x": 34.1188302357,
          "y": 45.7345513203
         },
         {
          "dataset": "dataset1",
          "x": 67.6707164012,
          "y": 37.110947969
         },
         {
          "dataset": "dataset1",
          "x": 53.25912940550001,
          "y": 97.4757710964
         },
         {
          "dataset": "dataset1",
          "x": 63.5149808671,
          "y": 25.1000785788
         },
         {
          "dataset": "dataset1",
          "x": 67.9805388133,
          "y": 80.9571652197
         },
         {
          "dataset": "dataset1",
          "x": 67.3724659005,
          "y": 29.720400203
         },
         {
          "dataset": "dataset1",
          "x": 15.5607495229,
          "y": 80.0656402858
         },
         {
          "dataset": "dataset1",
          "x": 71.7907676942,
          "y": 71.0654666627
         },
         {
          "dataset": "dataset1",
          "x": 70.2425464362,
          "y": 24.1095975542
         },
         {
          "dataset": "dataset1",
          "x": 64.93743554439999,
          "y": 81.5542049945
         },
         {
          "dataset": "dataset1",
          "x": 62.2135245453,
          "y": 21.475838996900002
         },
         {
          "dataset": "dataset1",
          "x": 67.26940047720001,
          "y": 18.7089683725
         },
         {
          "dataset": "dataset1",
          "x": 40.5701970446,
          "y": 79.37296347520001
         },
         {
          "dataset": "dataset1",
          "x": 74.7411813341,
          "y": 21.1016372041
         },
         {
          "dataset": "dataset1",
          "x": 71.7683189223,
          "y": 20.011061842300002
         },
         {
          "dataset": "dataset1",
          "x": 76.1669198143,
          "y": 75.9361704048
         },
         {
          "dataset": "dataset1",
          "x": 65.6236574431,
          "y": 15.5828033531
         },
         {
          "dataset": "dataset1",
          "x": 50.850633639399994,
          "y": 13.9876016304
         },
         {
          "dataset": "dataset1",
          "x": 33.0240700249,
          "y": 24.4678303872
         },
         {
          "dataset": "dataset1",
          "x": 39.7063261674,
          "y": 84.2752871038
         },
         {
          "dataset": "dataset1",
          "x": 45.5964849542,
          "y": 9.76334884943
         },
         {
          "dataset": "dataset1",
          "x": 42.9680469104,
          "y": 17.945458396099998
         },
         {
          "dataset": "dataset1",
          "x": 52.4944067819,
          "y": 16.0511142003
         },
         {
          "dataset": "dataset1",
          "x": 46.0822757831,
          "y": 23.1104578154
         },
         {
          "dataset": "dataset1",
          "x": 74.2477082092,
          "y": 20.314187812
         },
         {
          "dataset": "dataset1",
          "x": 64.5682641863,
          "y": 83.6396338956
         },
         {
          "dataset": "dataset1",
          "x": 74.02169390579998,
          "y": 76.1282745076
         },
         {
          "dataset": "dataset1",
          "x": 62.3911805626,
          "y": 5.623070760730001
         },
         {
          "dataset": "dataset1",
          "x": 74.189036683,
          "y": 68.13358322229999
         },
         {
          "dataset": "dataset1",
          "x": 28.2367819396,
          "y": 56.1395964513
         },
         {
          "dataset": "dataset1",
          "x": 75.7719387944,
          "y": 69.8292300322
         },
         {
          "dataset": "dataset1",
          "x": 75.8552294691,
          "y": 62.5170442862
         },
         {
          "dataset": "dataset1",
          "x": 65.9708570175,
          "y": 72.7448559954
         },
         {
          "dataset": "dataset1",
          "x": 21.7780404779,
          "y": 6.6166253072800005
         },
         {
          "dataset": "dataset1",
          "x": 67.7597962473,
          "y": 72.4212015285
         },
         {
          "dataset": "dataset1",
          "x": 78.6171953363,
          "y": 52.5752573142
         },
         {
          "dataset": "dataset1",
          "x": 68.5077081898,
          "y": 15.4569189652
         },
         {
          "dataset": "dataset1",
          "x": 74.88502115979999,
          "y": 25.416606323099998
         },
         {
          "dataset": "dataset1",
          "x": 66.4549036599,
          "y": 19.836628654200002
         },
         {
          "dataset": "dataset1",
          "x": 77.31780209850001,
          "y": 48.398346435200004
         },
         {
          "dataset": "dataset1",
          "x": 58.9124603193,
          "y": 75.6677562173
         },
         {
          "dataset": "dataset1",
          "x": 57.617447817,
          "y": 8.194800603189996
         },
         {
          "dataset": "dataset1",
          "x": 76.0882257967,
          "y": 59.679930023500006
         },
         {
          "dataset": "dataset1",
          "x": 57.4660505497,
          "y": 1.50441817488
         },
         {
          "dataset": "dataset1",
          "x": 79.4283834934,
          "y": 45.2107942872
         },
         {
          "dataset": "dataset1",
          "x": 76.3565221496,
          "y": 10.4182411281
         },
         {
          "dataset": "dataset1",
          "x": 64.40507526319999,
          "y": 78.5841760758
         },
         {
          "dataset": "dataset1",
          "x": 40.635041809099995,
          "y": 73.3947503698
         },
         {
          "dataset": "dataset1",
          "x": 43.9498645857,
          "y": 75.9587156671
         },
         {
          "dataset": "dataset1",
          "x": 30.996220579099997,
          "y": 71.694404938
         },
         {
          "dataset": "dataset1",
          "x": 68.2307689907,
          "y": 80.87250166279999
         },
         {
          "dataset": "dataset1",
          "x": 72.0463894612,
          "y": 12.9180067349
         },
         {
          "dataset": "dataset1",
          "x": 46.5927679682,
          "y": 84.9723827774
         },
         {
          "dataset": "dataset1",
          "x": 49.2572183396,
          "y": 81.8814032306
         },
         {
          "dataset": "dataset1",
          "x": 42.7817612539,
          "y": 12.9911884302
         },
         {
          "dataset": "dataset1",
          "x": 65.475952195,
          "y": 14.2745856444
         },
         {
          "dataset": "dataset1",
          "x": 71.96508265439999,
          "y": 17.7102359443
         },
         {
          "dataset": "dataset1",
          "x": 32.1464623358,
          "y": 43.4817094425
         },
         {
          "dataset": "dataset1",
          "x": 31.8384976954,
          "y": 71.8121653901
         },
         {
          "dataset": "dataset1",
          "x": 31.005258257199998,
          "y": 40.682503007
         },
         {
          "dataset": "dataset1",
          "x": 80.47089431890001,
          "y": 49.502148346700004
         },
         {
          "dataset": "dataset1",
          "x": 71.9641671122,
          "y": 41.8742826668
         },
         {
          "dataset": "dataset1",
          "x": 78.0794214417,
          "y": 93.13331676520001
         },
         {
          "dataset": "dataset1",
          "x": 41.6775957748,
          "y": 30.201264084600002
         },
         {
          "dataset": "dataset1",
          "x": 65.953595185,
          "y": 31.147406083499998
         },
         {
          "dataset": "dataset1",
          "x": 62.934459373100005,
          "y": 31.9163906992
         },
         {
          "dataset": "dataset1",
          "x": 64.3737979844,
          "y": 28.8625834061
         },
         {
          "dataset": "dataset1",
          "x": 72.5093283599,
          "y": 39.5401302526
         },
         {
          "dataset": "dataset1",
          "x": 30.052289874099998,
          "y": 96.6175423534
         },
         {
          "dataset": "dataset1",
          "x": 28.0033242354,
          "y": 46.6721919544
         },
         {
          "dataset": "dataset1",
          "x": 75.4012268619,
          "y": 88.6390766207
         },
         {
          "dataset": "dataset1",
          "x": 38.9800154218,
          "y": 87.32216069100002
         },
         {
          "dataset": "dataset1",
          "x": 65.2199135479,
          "y": 84.6829549336
         },
         {
          "dataset": "dataset1",
          "x": 73.0539899616,
          "y": 29.3808085571
         },
         {
          "dataset": "dataset1",
          "x": 34.3983616372,
          "y": 59.5444469033
         },
         {
          "dataset": "dataset1",
          "x": 43.4904501336,
          "y": 40.782542065
         },
         {
          "dataset": "dataset1",
          "x": 55.138737967,
          "y": 30.7257603575
         },
         {
          "dataset": "dataset1",
          "x": 43.6843934333,
          "y": 32.8230098696
         },
         {
          "dataset": "dataset1",
          "x": 35.9036097344,
          "y": 91.11186308010001
         },
         {
          "dataset": "dataset1",
          "x": 45.3780188805,
          "y": 29.1692166544
         },
         {
          "dataset": "dataset1",
          "x": 39.7774828713,
          "y": 43.75581895
         },
         {
          "dataset": "dataset1",
          "x": 38.6644611569,
          "y": 33.3172384774
         },
         {
          "dataset": "dataset1",
          "x": 39.0440366877,
          "y": 84.6760108316
         },
         {
          "dataset": "dataset1",
          "x": 91.6399614428,
          "y": 79.4066030605
         },
         {
          "dataset": "dataset1",
          "x": 47.4881326771,
          "y": 85.3899333808
         },
         {
          "dataset": "dataset1",
          "x": 44.590212576899994,
          "y": 22.0340116412
         },
         {
          "dataset": "dataset1",
          "x": 39.089614547800004,
          "y": 70.4661940802
         },
         {
          "dataset": "dataset1",
          "x": 42.2293783752,
          "y": 19.9140684075
         },
         {
          "dataset": "dataset1",
          "x": 37.0003871448,
          "y": 60.264279248
         },
         {
          "dataset": "dataset1",
          "x": 39.0520864793,
          "y": 70.6525028457
         },
         {
          "dataset": "dataset1",
          "x": 37.4884147432,
          "y": 60.814404851099994
         },
         {
          "dataset": "dataset1",
          "x": 69.3595594592,
          "y": 65.52135459590001
         },
         {
          "dataset": "dataset1",
          "x": 43.542775926000004,
          "y": 62.4603112824
         },
         {
          "dataset": "dataset1",
          "x": 39.8112302539,
          "y": 65.3348328092
         },
         {
          "dataset": "dataset1",
          "x": 70.06892594039999,
          "y": 7.593465608989999
         },
         {
          "dataset": "dataset1",
          "x": 70.04054358239999,
          "y": 77.14380660239999
         },
         {
          "dataset": "dataset1",
          "x": 39.505789079,
          "y": 74.85162721729999
         },
         {
          "dataset": "dataset1",
          "x": 62.5168908529,
          "y": 66.4847322418
         },
         {
          "dataset": "dataset1",
          "x": 72.1399254065,
          "y": 0.015119325155200003
         },
         {
          "dataset": "dataset1",
          "x": 45.2515760666,
          "y": 70.0034213192
         },
         {
          "dataset": "dataset1",
          "x": 42.0633045627,
          "y": 2.33519661206
         },
         {
          "dataset": "dataset1",
          "x": 36.3556951539,
          "y": 6.0058486497
         },
         {
          "dataset": "dataset1",
          "x": 30.3918276596,
          "y": 42.75961287
         },
         {
          "dataset": "dataset1",
          "x": 36.449003854299995,
          "y": 50.5462690659
         },
         {
          "dataset": "dataset1",
          "x": 40.467576002,
          "y": 60.0275120878
         },
         {
          "dataset": "dataset1",
          "x": 81.72461680020001,
          "y": 6.03754484635
         },
         {
          "dataset": "dataset1",
          "x": 48.823197496400006,
          "y": 76.6353305783
         },
         {
          "dataset": "dataset1",
          "x": 35.6205617651,
          "y": 57.286015578900006
         },
         {
          "dataset": "dataset1",
          "x": 50.58396311479999,
          "y": 71.80661610140001
         },
         {
          "dataset": "dataset1",
          "x": 61.8564651063,
          "y": 71.7927431642
         },
         {
          "dataset": "dataset1",
          "x": 39.3237560262,
          "y": 59.3008196656
         },
         {
          "dataset": "dataset1",
          "x": 42.1856791429,
          "y": 66.0348978235
         },
         {
          "dataset": "dataset1",
          "x": 30.8469189898,
          "y": 37.3416401041
         },
         {
          "dataset": "dataset1",
          "x": 29.346200428099998,
          "y": 42.1487418312
         },
         {
          "dataset": "dataset1",
          "x": 82.1105579783,
          "y": 1.21055166293
         },
         {
          "dataset": "dataset1",
          "x": 38.302005808800004,
          "y": 60.0177857932
         },
         {
          "dataset": "dataset1",
          "x": 56.584153021800006,
          "y": 70.512514809
         },
         {
          "dataset": "dataset1",
          "x": 33.339374286500004,
          "y": 0.5091067352
         },
         {
          "dataset": "dataset1",
          "x": 78.7742390407,
          "y": 35.4841012146
         },
         {
          "dataset": "dataset1",
          "x": 27.9226442446,
          "y": 25.986878184400002
         },
         {
          "dataset": "dataset1",
          "x": 71.6978651182,
          "y": 10.868144511099999
         },
         {
          "dataset": "dataset1",
          "x": 74.1383313856,
          "y": 49.1739189791
         },
         {
          "dataset": "dataset1",
          "x": 32.579020066,
          "y": 1.80811559665
         },
         {
          "dataset": "dataset1",
          "x": 59.83218542,
          "y": 69.1525081443
         },
         {
          "dataset": "dataset1",
          "x": 35.030628545700004,
          "y": 12.5366493416
         },
         {
          "dataset": "dataset1",
          "x": 74.3001198284,
          "y": 42.4770945921
         },
         {
          "dataset": "dataset1",
          "x": 63.2501970628,
          "y": 65.95248619659999
         },
         {
          "dataset": "dataset1",
          "x": 34.1730737648,
          "y": 25.693674309200002
         },
         {
          "dataset": "dataset1",
          "x": 40.9138319319,
          "y": 38.559019550900004
         },
         {
          "dataset": "dataset1",
          "x": 62.833293087399994,
          "y": 62.51089422689999
         },
         {
          "dataset": "dataset1",
          "x": 42.476792380300004,
          "y": 56.7312899691
         },
         {
          "dataset": "dataset1",
          "x": 52.0334562787,
          "y": 64.5666620298
         },
         {
          "dataset": "dataset1",
          "x": 48.9070429644,
          "y": 74.2877488252
         },
         {
          "dataset": "dataset1",
          "x": 59.8518383854,
          "y": 72.9583909677
         },
         {
          "dataset": "dataset1",
          "x": 48.9604602016,
          "y": 72.6295257275
         },
         {
          "dataset": "dataset1",
          "x": 46.8448551673,
          "y": 36.7917136918
         },
         {
          "dataset": "dataset1",
          "x": 39.9630215796,
          "y": 42.9449148487
         },
         {
          "dataset": "dataset1",
          "x": 66.704943997,
          "y": 32.0150954299
         }
        ]
       },
       "encoding": {
        "x": {
         "field": "x",
         "type": "quantitative"
        },
        "y": {
         "field": "y",
         "type": "quantitative"
        }
       },
       "mark": {
        "size": 60,
        "type": "circle"
       },
       "selection": {
        "selector007": {
         "bind": "scales",
         "encodings": [
          "x",
          "y"
         ],
         "type": "interval"
        }
       }
      },
      "image/png": "[encoded data removed]",
      "text/plain": [
       "<VegaLite 3 object>\n",
       "\n",
       "If you see this message, it means the renderer has not been properly enabled\n",
       "for the frontend that you are using. For more information, see\n",
       "https://altair-viz.github.io/user_guide/troubleshooting.html\n"
      ]
     },
     "execution_count": 24,
     "metadata": {},
     "output_type": "execute_result"
    }
   ],
   "source": [
    "alt.Chart(dataset1).mark_circle(size=60).encode(\n",
    "    x='x',\n",
    "    y='y'\n",
    ").interactive()"
   ]
  },
  {
   "cell_type": "markdown",
   "metadata": {},
   "source": [
    "Did you spot the difference?\n",
    "\n",
    "Spotting interesting patterns and outliers can lead to smarter feature engineering or model design! "
   ]
  },
  {
   "cell_type": "markdown",
   "metadata": {},
   "source": [
    "# Visualization design is important"
   ]
  },
  {
   "cell_type": "markdown",
   "metadata": {},
   "source": [
    "While the concept of data visualization is powerful and important, _just_ visualizing your data is not enough.\n",
    "\n",
    "Data visualizations can also be quite deceiving, depending on which type of visualization is used and for what purpose.   \n",
    "\n",
    "This example shows how the box-plot actually hides a lot of information that the violin-plot maintains."
   ]
  },
  {
   "cell_type": "markdown",
   "metadata": {},
   "source": [
    "![](../Images/BoxViolinSmaller.gif)"
   ]
  },
  {
   "cell_type": "markdown",
   "metadata": {},
   "source": [
    "## Epilogue\n",
    "\n",
    "Note, this was just a small excerpt of examples illustrating that data visualization is a powerful tool, but also that data visualization can be deceiving. \n",
    "\n",
    "Data visualization is an important skill in data analytics, both for improving analysis results but also for communicating findings.\n",
    "\n",
    "Thus, learning data visualization will be a useful asset both in your studies and in your professional endeavours. "
   ]
  },
  {
   "cell_type": "markdown",
   "metadata": {},
   "source": [
    "Data and gif source: https://www.autodeskresearch.com/publications/samestats"
   ]
  }
 ],
 "metadata": {
  "kernelspec": {
   "display_name": "Python 3",
   "language": "python",
   "name": "python3"
  },
  "language_info": {
   "codemirror_mode": {
    "name": "ipython",
    "version": 3
   },
   "file_extension": ".py",
   "mimetype": "text/x-python",
   "name": "python",
   "nbconvert_exporter": "python",
   "pygments_lexer": "ipython3",
   "version": "3.7.4"
  }
 },
 "nbformat": 4,
 "nbformat_minor": 4
}
